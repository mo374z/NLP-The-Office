{
 "cells": [
  {
   "attachments": {},
   "cell_type": "markdown",
   "metadata": {},
   "source": [
    "# Analyis NLP\n",
    "That’s what the data said: An NLP Analysis of Character Relationships and Speaking Styles in the US TV-Show “The Office”\n",
    "That’s what the data said: An NLP Analysis of the Script of the US TV-Show “The Office”"
   ]
  },
  {
   "cell_type": "code",
   "execution_count": 1,
   "metadata": {},
   "outputs": [],
   "source": [
    "import pandas as pd\n",
    "import numpy as np\n",
    "import plotly.express as px\n",
    "import nltk\n",
    "\n",
    "from nltk.sentiment import SentimentIntensityAnalyzer\n",
    "\n",
    "from preprocessing_nlp import preprocess, extract_features\n",
    "\n",
    "PATH = \"../data/\"\n",
    "FILE = \"the-office-lines_scripts.csv\""
   ]
  },
  {
   "cell_type": "code",
   "execution_count": 43,
   "metadata": {},
   "outputs": [
    {
     "data": {
      "text/html": [
       "<div>\n",
       "<style scoped>\n",
       "    .dataframe tbody tr th:only-of-type {\n",
       "        vertical-align: middle;\n",
       "    }\n",
       "\n",
       "    .dataframe tbody tr th {\n",
       "        vertical-align: top;\n",
       "    }\n",
       "\n",
       "    .dataframe thead th {\n",
       "        text-align: right;\n",
       "    }\n",
       "</style>\n",
       "<table border=\"1\" class=\"dataframe\">\n",
       "  <thead>\n",
       "    <tr style=\"text-align: right;\">\n",
       "      <th></th>\n",
       "      <th>season</th>\n",
       "      <th>episode</th>\n",
       "      <th>scene</th>\n",
       "      <th>line_text</th>\n",
       "      <th>speaker</th>\n",
       "      <th>deleted</th>\n",
       "    </tr>\n",
       "    <tr>\n",
       "      <th>id</th>\n",
       "      <th></th>\n",
       "      <th></th>\n",
       "      <th></th>\n",
       "      <th></th>\n",
       "      <th></th>\n",
       "      <th></th>\n",
       "    </tr>\n",
       "  </thead>\n",
       "  <tbody>\n",
       "    <tr>\n",
       "      <th>1</th>\n",
       "      <td>1</td>\n",
       "      <td>1</td>\n",
       "      <td>1</td>\n",
       "      <td>All right Jim. Your quarterlies look very good...</td>\n",
       "      <td>Michael</td>\n",
       "      <td>False</td>\n",
       "    </tr>\n",
       "    <tr>\n",
       "      <th>2</th>\n",
       "      <td>1</td>\n",
       "      <td>1</td>\n",
       "      <td>1</td>\n",
       "      <td>Oh, I told you. I couldn't close it. So...</td>\n",
       "      <td>Jim</td>\n",
       "      <td>False</td>\n",
       "    </tr>\n",
       "    <tr>\n",
       "      <th>3</th>\n",
       "      <td>1</td>\n",
       "      <td>1</td>\n",
       "      <td>1</td>\n",
       "      <td>So you've come to the master for guidance? Is ...</td>\n",
       "      <td>Michael</td>\n",
       "      <td>False</td>\n",
       "    </tr>\n",
       "    <tr>\n",
       "      <th>4</th>\n",
       "      <td>1</td>\n",
       "      <td>1</td>\n",
       "      <td>1</td>\n",
       "      <td>Actually, you called me in here, but yeah.</td>\n",
       "      <td>Jim</td>\n",
       "      <td>False</td>\n",
       "    </tr>\n",
       "    <tr>\n",
       "      <th>5</th>\n",
       "      <td>1</td>\n",
       "      <td>1</td>\n",
       "      <td>1</td>\n",
       "      <td>All right. Well, let me show you how it's done.</td>\n",
       "      <td>Michael</td>\n",
       "      <td>False</td>\n",
       "    </tr>\n",
       "  </tbody>\n",
       "</table>\n",
       "</div>"
      ],
      "text/plain": [
       "    season  episode  scene                                          line_text  \\\n",
       "id                                                                              \n",
       "1        1        1      1  All right Jim. Your quarterlies look very good...   \n",
       "2        1        1      1         Oh, I told you. I couldn't close it. So...   \n",
       "3        1        1      1  So you've come to the master for guidance? Is ...   \n",
       "4        1        1      1         Actually, you called me in here, but yeah.   \n",
       "5        1        1      1    All right. Well, let me show you how it's done.   \n",
       "\n",
       "    speaker  deleted  \n",
       "id                    \n",
       "1   Michael    False  \n",
       "2       Jim    False  \n",
       "3   Michael    False  \n",
       "4       Jim    False  \n",
       "5   Michael    False  "
      ]
     },
     "execution_count": 43,
     "metadata": {},
     "output_type": "execute_result"
    }
   ],
   "source": [
    "df_raw = pd.read_csv(PATH+FILE, sep=\",\", index_col=\"id\")\n",
    "df_raw.head()"
   ]
  },
  {
   "cell_type": "code",
   "execution_count": 3,
   "metadata": {},
   "outputs": [
    {
     "data": {
      "text/html": [
       "<div>\n",
       "<style scoped>\n",
       "    .dataframe tbody tr th:only-of-type {\n",
       "        vertical-align: middle;\n",
       "    }\n",
       "\n",
       "    .dataframe tbody tr th {\n",
       "        vertical-align: top;\n",
       "    }\n",
       "\n",
       "    .dataframe thead th {\n",
       "        text-align: right;\n",
       "    }\n",
       "</style>\n",
       "<table border=\"1\" class=\"dataframe\">\n",
       "  <thead>\n",
       "    <tr style=\"text-align: right;\">\n",
       "      <th></th>\n",
       "      <th>season</th>\n",
       "      <th>episode</th>\n",
       "      <th>scene</th>\n",
       "      <th>line_text</th>\n",
       "      <th>speaker</th>\n",
       "      <th>season_episode</th>\n",
       "      <th>directionals</th>\n",
       "    </tr>\n",
       "    <tr>\n",
       "      <th>id</th>\n",
       "      <th></th>\n",
       "      <th></th>\n",
       "      <th></th>\n",
       "      <th></th>\n",
       "      <th></th>\n",
       "      <th></th>\n",
       "      <th></th>\n",
       "    </tr>\n",
       "  </thead>\n",
       "  <tbody>\n",
       "    <tr>\n",
       "      <th>1</th>\n",
       "      <td>1</td>\n",
       "      <td>1</td>\n",
       "      <td>1</td>\n",
       "      <td>All right Jim. Your quarterlies look very good...</td>\n",
       "      <td>Michael</td>\n",
       "      <td>101</td>\n",
       "      <td>NaN</td>\n",
       "    </tr>\n",
       "    <tr>\n",
       "      <th>2</th>\n",
       "      <td>1</td>\n",
       "      <td>1</td>\n",
       "      <td>1</td>\n",
       "      <td>Oh, I told you. I couldn't close it. So...</td>\n",
       "      <td>Jim</td>\n",
       "      <td>101</td>\n",
       "      <td>NaN</td>\n",
       "    </tr>\n",
       "    <tr>\n",
       "      <th>3</th>\n",
       "      <td>1</td>\n",
       "      <td>1</td>\n",
       "      <td>1</td>\n",
       "      <td>So you've come to the master for guidance? Is ...</td>\n",
       "      <td>Michael</td>\n",
       "      <td>101</td>\n",
       "      <td>NaN</td>\n",
       "    </tr>\n",
       "    <tr>\n",
       "      <th>4</th>\n",
       "      <td>1</td>\n",
       "      <td>1</td>\n",
       "      <td>1</td>\n",
       "      <td>Actually, you called me in here, but yeah.</td>\n",
       "      <td>Jim</td>\n",
       "      <td>101</td>\n",
       "      <td>NaN</td>\n",
       "    </tr>\n",
       "    <tr>\n",
       "      <th>5</th>\n",
       "      <td>1</td>\n",
       "      <td>1</td>\n",
       "      <td>1</td>\n",
       "      <td>All right. Well, let me show you how it's done.</td>\n",
       "      <td>Michael</td>\n",
       "      <td>101</td>\n",
       "      <td>NaN</td>\n",
       "    </tr>\n",
       "  </tbody>\n",
       "</table>\n",
       "</div>"
      ],
      "text/plain": [
       "    season  episode  scene                                          line_text  \\\n",
       "id                                                                              \n",
       "1        1        1      1  All right Jim. Your quarterlies look very good...   \n",
       "2        1        1      1         Oh, I told you. I couldn't close it. So...   \n",
       "3        1        1      1  So you've come to the master for guidance? Is ...   \n",
       "4        1        1      1         Actually, you called me in here, but yeah.   \n",
       "5        1        1      1    All right. Well, let me show you how it's done.   \n",
       "\n",
       "    speaker season_episode directionals  \n",
       "id                                       \n",
       "1   Michael            101          NaN  \n",
       "2       Jim            101          NaN  \n",
       "3   Michael            101          NaN  \n",
       "4       Jim            101          NaN  \n",
       "5   Michael            101          NaN  "
      ]
     },
     "execution_count": 3,
     "metadata": {},
     "output_type": "execute_result"
    }
   ],
   "source": [
    "param_dict = {\n",
    "    \"concat_scenes\": False,\n",
    "    \"extract_direc\": True, \n",
    "    \"remove_punct\": False, \n",
    "    \"rmv_stopwords\": False,\n",
    "    \"lwr\": False, \n",
    "    \"exp_contractions\": False,\n",
    "    \"conversion\": None\n",
    "}\n",
    "\n",
    "df = preprocess(df_raw, **param_dict)\n",
    "df.head()"
   ]
  },
  {
   "cell_type": "code",
   "execution_count": 4,
   "metadata": {},
   "outputs": [
    {
     "data": {
      "application/vnd.plotly.v1+json": {
       "config": {
        "plotlyServerURL": "https://plot.ly"
       },
       "data": [
        {
         "alignmentgroup": "True",
         "hovertemplate": "season=1<br>speaker=%{x}<br>counts=%{y}<extra></extra>",
         "legendgroup": "1",
         "marker": {
          "color": "rgb(95, 70, 144)",
          "pattern": {
           "shape": ""
          }
         },
         "name": "1",
         "offsetgroup": "1",
         "orientation": "v",
         "showlegend": true,
         "textposition": "auto",
         "type": "bar",
         "x": [
          "Pam",
          "Jan",
          "Kelly",
          "Kevin",
          "Meredith",
          "Michael",
          "Dwight",
          "Oscar",
          "Darryl",
          "Phyllis",
          "Ryan",
          "Jim",
          "Stanley",
          "Angela",
          "Toby"
         ],
         "xaxis": "x",
         "y": [
          58,
          6,
          2,
          15,
          5,
          135,
          72,
          17,
          7,
          7,
          18,
          76,
          13,
          12,
          4
         ],
         "yaxis": "y"
        },
        {
         "alignmentgroup": "True",
         "hovertemplate": "season=2<br>speaker=%{x}<br>counts=%{y}<extra></extra>",
         "legendgroup": "2",
         "marker": {
          "color": "rgb(29, 105, 150)",
          "pattern": {
           "shape": ""
          }
         },
         "name": "2",
         "offsetgroup": "2",
         "orientation": "v",
         "showlegend": true,
         "textposition": "auto",
         "type": "bar",
         "x": [
          "Dwight",
          "Meredith",
          "Oscar",
          "Jim",
          "Pam",
          "Kevin",
          "Darryl",
          "Toby",
          "Angela",
          "Kelly",
          "Phyllis",
          "Jan",
          "Creed",
          "Stanley",
          "Ryan",
          "Michael"
         ],
         "xaxis": "x",
         "y": [
          289,
          25,
          58,
          263,
          260,
          82,
          21,
          47,
          71,
          48,
          55,
          60,
          28,
          47,
          82,
          541
         ],
         "yaxis": "y"
        },
        {
         "alignmentgroup": "True",
         "hovertemplate": "season=3<br>speaker=%{x}<br>counts=%{y}<extra></extra>",
         "legendgroup": "3",
         "marker": {
          "color": "rgb(56, 166, 165)",
          "pattern": {
           "shape": ""
          }
         },
         "name": "3",
         "offsetgroup": "3",
         "orientation": "v",
         "showlegend": true,
         "textposition": "auto",
         "type": "bar",
         "x": [
          "Meredith",
          "Toby",
          "Kevin",
          "Jan",
          "Jim",
          "Kelly",
          "Andy",
          "Ryan",
          "Dwight",
          "Stanley",
          "Oscar",
          "Creed",
          "Darryl",
          "Pam",
          "Michael",
          "Angela",
          "Phyllis"
         ],
         "xaxis": "x",
         "y": [
          39,
          51,
          119,
          69,
          268,
          74,
          155,
          96,
          363,
          60,
          43,
          50,
          21,
          270,
          601,
          126,
          68
         ],
         "yaxis": "y"
        },
        {
         "alignmentgroup": "True",
         "hovertemplate": "season=4<br>speaker=%{x}<br>counts=%{y}<extra></extra>",
         "legendgroup": "4",
         "marker": {
          "color": "rgb(15, 133, 84)",
          "pattern": {
           "shape": ""
          }
         },
         "name": "4",
         "offsetgroup": "4",
         "orientation": "v",
         "showlegend": true,
         "textposition": "auto",
         "type": "bar",
         "x": [
          "Michael",
          "Jim",
          "Phyllis",
          "Kelly",
          "Pam",
          "Oscar",
          "Meredith",
          "Stanley",
          "Toby",
          "Ryan",
          "Kevin",
          "Jan",
          "Darryl",
          "Creed",
          "Andy",
          "Angela",
          "Dwight"
         ],
         "xaxis": "x",
         "y": [
          418,
          224,
          55,
          43,
          216,
          64,
          25,
          43,
          58,
          63,
          72,
          48,
          20,
          35,
          95,
          77,
          189
         ],
         "yaxis": "y"
        },
        {
         "alignmentgroup": "True",
         "hovertemplate": "season=5<br>speaker=%{x}<br>counts=%{y}<extra></extra>",
         "legendgroup": "5",
         "marker": {
          "color": "rgb(115, 175, 72)",
          "pattern": {
           "shape": ""
          }
         },
         "name": "5",
         "offsetgroup": "5",
         "orientation": "v",
         "showlegend": true,
         "textposition": "auto",
         "type": "bar",
         "x": [
          "Oscar",
          "Erin",
          "Phyllis",
          "Ryan",
          "Creed",
          "Kevin",
          "Angela",
          "Stanley",
          "Dwight",
          "Michael",
          "Kelly",
          "Andy",
          "Toby",
          "Pam",
          "Darryl",
          "Jim",
          "Jan",
          "Meredith"
         ],
         "xaxis": "x",
         "y": [
          98,
          20,
          98,
          66,
          37,
          94,
          95,
          71,
          306,
          506,
          69,
          171,
          25,
          255,
          36,
          276,
          21,
          55
         ],
         "yaxis": "y"
        },
        {
         "alignmentgroup": "True",
         "hovertemplate": "season=6<br>speaker=%{x}<br>counts=%{y}<extra></extra>",
         "legendgroup": "6",
         "marker": {
          "color": "rgb(237, 173, 8)",
          "pattern": {
           "shape": ""
          }
         },
         "name": "6",
         "offsetgroup": "6",
         "orientation": "v",
         "showlegend": true,
         "textposition": "auto",
         "type": "bar",
         "x": [
          "Michael",
          "Creed",
          "Pam",
          "Dwight",
          "Phyllis",
          "Meredith",
          "Darryl",
          "Kelly",
          "Jim",
          "Toby",
          "Andy",
          "Gabe",
          "Stanley",
          "Angela",
          "Kevin",
          "Ryan",
          "Oscar",
          "Erin"
         ],
         "xaxis": "x",
         "y": [
          478,
          31,
          225,
          273,
          83,
          52,
          30,
          54,
          273,
          36,
          194,
          33,
          48,
          66,
          106,
          48,
          88,
          122
         ],
         "yaxis": "y"
        },
        {
         "alignmentgroup": "True",
         "hovertemplate": "season=7<br>speaker=%{x}<br>counts=%{y}<extra></extra>",
         "legendgroup": "7",
         "marker": {
          "color": "rgb(225, 124, 5)",
          "pattern": {
           "shape": ""
          }
         },
         "name": "7",
         "offsetgroup": "7",
         "orientation": "v",
         "showlegend": true,
         "textposition": "auto",
         "type": "bar",
         "x": [
          "Stanley",
          "Andy",
          "Phyllis",
          "Creed",
          "Pam",
          "Toby",
          "Oscar",
          "Ryan",
          "Angela",
          "Jan",
          "Darryl",
          "Kelly",
          "Dwight",
          "Michael",
          "Gabe",
          "Nellie",
          "Meredith",
          "Kevin",
          "Jim",
          "Erin"
         ],
         "xaxis": "x",
         "y": [
          52,
          202,
          88,
          40,
          218,
          45,
          86,
          76,
          77,
          5,
          94,
          75,
          226,
          347,
          82,
          2,
          46,
          116,
          236,
          132
         ],
         "yaxis": "y"
        },
        {
         "alignmentgroup": "True",
         "hovertemplate": "season=8<br>speaker=%{x}<br>counts=%{y}<extra></extra>",
         "legendgroup": "8",
         "marker": {
          "color": "rgb(204, 80, 62)",
          "pattern": {
           "shape": ""
          }
         },
         "name": "8",
         "offsetgroup": "8",
         "orientation": "v",
         "showlegend": true,
         "textposition": "auto",
         "type": "bar",
         "x": [
          "Kelly",
          "Dwight",
          "Stanley",
          "Phyllis",
          "Toby",
          "Ryan",
          "Kevin",
          "Angela",
          "Meredith",
          "Gabe",
          "Pam",
          "Nellie",
          "Creed",
          "Jim",
          "Darryl",
          "Oscar",
          "Erin",
          "Andy"
         ],
         "xaxis": "x",
         "y": [
          64,
          315,
          68,
          88,
          44,
          85,
          137,
          80,
          52,
          63,
          173,
          83,
          29,
          291,
          125,
          118,
          180,
          342
         ],
         "yaxis": "y"
        },
        {
         "alignmentgroup": "True",
         "hovertemplate": "season=9<br>speaker=%{x}<br>counts=%{y}<extra></extra>",
         "legendgroup": "9",
         "marker": {
          "color": "rgb(148, 52, 110)",
          "pattern": {
           "shape": ""
          }
         },
         "name": "9",
         "offsetgroup": "9",
         "orientation": "v",
         "showlegend": true,
         "textposition": "auto",
         "type": "bar",
         "x": [
          "Stanley",
          "Gabe",
          "Kelly",
          "Jim",
          "Erin",
          "Dwight",
          "Ryan",
          "Kevin",
          "Jan",
          "Angela",
          "Phyllis",
          "Meredith",
          "Michael",
          "Pam",
          "Nellie",
          "Creed",
          "Darryl",
          "Oscar",
          "Andy",
          "Toby"
         ],
         "xaxis": "x",
         "y": [
          63,
          3,
          7,
          243,
          160,
          333,
          6,
          133,
          5,
          134,
          80,
          73,
          2,
          246,
          126,
          43,
          116,
          145,
          182,
          48
         ],
         "yaxis": "y"
        }
       ],
       "layout": {
        "barmode": "relative",
        "legend": {
         "title": {
          "text": "season"
         },
         "tracegroupgap": 0
        },
        "template": {
         "data": {
          "bar": [
           {
            "error_x": {
             "color": "#2a3f5f"
            },
            "error_y": {
             "color": "#2a3f5f"
            },
            "marker": {
             "line": {
              "color": "#E5ECF6",
              "width": 0.5
             },
             "pattern": {
              "fillmode": "overlay",
              "size": 10,
              "solidity": 0.2
             }
            },
            "type": "bar"
           }
          ],
          "barpolar": [
           {
            "marker": {
             "line": {
              "color": "#E5ECF6",
              "width": 0.5
             },
             "pattern": {
              "fillmode": "overlay",
              "size": 10,
              "solidity": 0.2
             }
            },
            "type": "barpolar"
           }
          ],
          "carpet": [
           {
            "aaxis": {
             "endlinecolor": "#2a3f5f",
             "gridcolor": "white",
             "linecolor": "white",
             "minorgridcolor": "white",
             "startlinecolor": "#2a3f5f"
            },
            "baxis": {
             "endlinecolor": "#2a3f5f",
             "gridcolor": "white",
             "linecolor": "white",
             "minorgridcolor": "white",
             "startlinecolor": "#2a3f5f"
            },
            "type": "carpet"
           }
          ],
          "choropleth": [
           {
            "colorbar": {
             "outlinewidth": 0,
             "ticks": ""
            },
            "type": "choropleth"
           }
          ],
          "contour": [
           {
            "colorbar": {
             "outlinewidth": 0,
             "ticks": ""
            },
            "colorscale": [
             [
              0,
              "#0d0887"
             ],
             [
              0.1111111111111111,
              "#46039f"
             ],
             [
              0.2222222222222222,
              "#7201a8"
             ],
             [
              0.3333333333333333,
              "#9c179e"
             ],
             [
              0.4444444444444444,
              "#bd3786"
             ],
             [
              0.5555555555555556,
              "#d8576b"
             ],
             [
              0.6666666666666666,
              "#ed7953"
             ],
             [
              0.7777777777777778,
              "#fb9f3a"
             ],
             [
              0.8888888888888888,
              "#fdca26"
             ],
             [
              1,
              "#f0f921"
             ]
            ],
            "type": "contour"
           }
          ],
          "contourcarpet": [
           {
            "colorbar": {
             "outlinewidth": 0,
             "ticks": ""
            },
            "type": "contourcarpet"
           }
          ],
          "heatmap": [
           {
            "colorbar": {
             "outlinewidth": 0,
             "ticks": ""
            },
            "colorscale": [
             [
              0,
              "#0d0887"
             ],
             [
              0.1111111111111111,
              "#46039f"
             ],
             [
              0.2222222222222222,
              "#7201a8"
             ],
             [
              0.3333333333333333,
              "#9c179e"
             ],
             [
              0.4444444444444444,
              "#bd3786"
             ],
             [
              0.5555555555555556,
              "#d8576b"
             ],
             [
              0.6666666666666666,
              "#ed7953"
             ],
             [
              0.7777777777777778,
              "#fb9f3a"
             ],
             [
              0.8888888888888888,
              "#fdca26"
             ],
             [
              1,
              "#f0f921"
             ]
            ],
            "type": "heatmap"
           }
          ],
          "heatmapgl": [
           {
            "colorbar": {
             "outlinewidth": 0,
             "ticks": ""
            },
            "colorscale": [
             [
              0,
              "#0d0887"
             ],
             [
              0.1111111111111111,
              "#46039f"
             ],
             [
              0.2222222222222222,
              "#7201a8"
             ],
             [
              0.3333333333333333,
              "#9c179e"
             ],
             [
              0.4444444444444444,
              "#bd3786"
             ],
             [
              0.5555555555555556,
              "#d8576b"
             ],
             [
              0.6666666666666666,
              "#ed7953"
             ],
             [
              0.7777777777777778,
              "#fb9f3a"
             ],
             [
              0.8888888888888888,
              "#fdca26"
             ],
             [
              1,
              "#f0f921"
             ]
            ],
            "type": "heatmapgl"
           }
          ],
          "histogram": [
           {
            "marker": {
             "pattern": {
              "fillmode": "overlay",
              "size": 10,
              "solidity": 0.2
             }
            },
            "type": "histogram"
           }
          ],
          "histogram2d": [
           {
            "colorbar": {
             "outlinewidth": 0,
             "ticks": ""
            },
            "colorscale": [
             [
              0,
              "#0d0887"
             ],
             [
              0.1111111111111111,
              "#46039f"
             ],
             [
              0.2222222222222222,
              "#7201a8"
             ],
             [
              0.3333333333333333,
              "#9c179e"
             ],
             [
              0.4444444444444444,
              "#bd3786"
             ],
             [
              0.5555555555555556,
              "#d8576b"
             ],
             [
              0.6666666666666666,
              "#ed7953"
             ],
             [
              0.7777777777777778,
              "#fb9f3a"
             ],
             [
              0.8888888888888888,
              "#fdca26"
             ],
             [
              1,
              "#f0f921"
             ]
            ],
            "type": "histogram2d"
           }
          ],
          "histogram2dcontour": [
           {
            "colorbar": {
             "outlinewidth": 0,
             "ticks": ""
            },
            "colorscale": [
             [
              0,
              "#0d0887"
             ],
             [
              0.1111111111111111,
              "#46039f"
             ],
             [
              0.2222222222222222,
              "#7201a8"
             ],
             [
              0.3333333333333333,
              "#9c179e"
             ],
             [
              0.4444444444444444,
              "#bd3786"
             ],
             [
              0.5555555555555556,
              "#d8576b"
             ],
             [
              0.6666666666666666,
              "#ed7953"
             ],
             [
              0.7777777777777778,
              "#fb9f3a"
             ],
             [
              0.8888888888888888,
              "#fdca26"
             ],
             [
              1,
              "#f0f921"
             ]
            ],
            "type": "histogram2dcontour"
           }
          ],
          "mesh3d": [
           {
            "colorbar": {
             "outlinewidth": 0,
             "ticks": ""
            },
            "type": "mesh3d"
           }
          ],
          "parcoords": [
           {
            "line": {
             "colorbar": {
              "outlinewidth": 0,
              "ticks": ""
             }
            },
            "type": "parcoords"
           }
          ],
          "pie": [
           {
            "automargin": true,
            "type": "pie"
           }
          ],
          "scatter": [
           {
            "fillpattern": {
             "fillmode": "overlay",
             "size": 10,
             "solidity": 0.2
            },
            "type": "scatter"
           }
          ],
          "scatter3d": [
           {
            "line": {
             "colorbar": {
              "outlinewidth": 0,
              "ticks": ""
             }
            },
            "marker": {
             "colorbar": {
              "outlinewidth": 0,
              "ticks": ""
             }
            },
            "type": "scatter3d"
           }
          ],
          "scattercarpet": [
           {
            "marker": {
             "colorbar": {
              "outlinewidth": 0,
              "ticks": ""
             }
            },
            "type": "scattercarpet"
           }
          ],
          "scattergeo": [
           {
            "marker": {
             "colorbar": {
              "outlinewidth": 0,
              "ticks": ""
             }
            },
            "type": "scattergeo"
           }
          ],
          "scattergl": [
           {
            "marker": {
             "colorbar": {
              "outlinewidth": 0,
              "ticks": ""
             }
            },
            "type": "scattergl"
           }
          ],
          "scattermapbox": [
           {
            "marker": {
             "colorbar": {
              "outlinewidth": 0,
              "ticks": ""
             }
            },
            "type": "scattermapbox"
           }
          ],
          "scatterpolar": [
           {
            "marker": {
             "colorbar": {
              "outlinewidth": 0,
              "ticks": ""
             }
            },
            "type": "scatterpolar"
           }
          ],
          "scatterpolargl": [
           {
            "marker": {
             "colorbar": {
              "outlinewidth": 0,
              "ticks": ""
             }
            },
            "type": "scatterpolargl"
           }
          ],
          "scatterternary": [
           {
            "marker": {
             "colorbar": {
              "outlinewidth": 0,
              "ticks": ""
             }
            },
            "type": "scatterternary"
           }
          ],
          "surface": [
           {
            "colorbar": {
             "outlinewidth": 0,
             "ticks": ""
            },
            "colorscale": [
             [
              0,
              "#0d0887"
             ],
             [
              0.1111111111111111,
              "#46039f"
             ],
             [
              0.2222222222222222,
              "#7201a8"
             ],
             [
              0.3333333333333333,
              "#9c179e"
             ],
             [
              0.4444444444444444,
              "#bd3786"
             ],
             [
              0.5555555555555556,
              "#d8576b"
             ],
             [
              0.6666666666666666,
              "#ed7953"
             ],
             [
              0.7777777777777778,
              "#fb9f3a"
             ],
             [
              0.8888888888888888,
              "#fdca26"
             ],
             [
              1,
              "#f0f921"
             ]
            ],
            "type": "surface"
           }
          ],
          "table": [
           {
            "cells": {
             "fill": {
              "color": "#EBF0F8"
             },
             "line": {
              "color": "white"
             }
            },
            "header": {
             "fill": {
              "color": "#C8D4E3"
             },
             "line": {
              "color": "white"
             }
            },
            "type": "table"
           }
          ]
         },
         "layout": {
          "annotationdefaults": {
           "arrowcolor": "#2a3f5f",
           "arrowhead": 0,
           "arrowwidth": 1
          },
          "autotypenumbers": "strict",
          "coloraxis": {
           "colorbar": {
            "outlinewidth": 0,
            "ticks": ""
           }
          },
          "colorscale": {
           "diverging": [
            [
             0,
             "#8e0152"
            ],
            [
             0.1,
             "#c51b7d"
            ],
            [
             0.2,
             "#de77ae"
            ],
            [
             0.3,
             "#f1b6da"
            ],
            [
             0.4,
             "#fde0ef"
            ],
            [
             0.5,
             "#f7f7f7"
            ],
            [
             0.6,
             "#e6f5d0"
            ],
            [
             0.7,
             "#b8e186"
            ],
            [
             0.8,
             "#7fbc41"
            ],
            [
             0.9,
             "#4d9221"
            ],
            [
             1,
             "#276419"
            ]
           ],
           "sequential": [
            [
             0,
             "#0d0887"
            ],
            [
             0.1111111111111111,
             "#46039f"
            ],
            [
             0.2222222222222222,
             "#7201a8"
            ],
            [
             0.3333333333333333,
             "#9c179e"
            ],
            [
             0.4444444444444444,
             "#bd3786"
            ],
            [
             0.5555555555555556,
             "#d8576b"
            ],
            [
             0.6666666666666666,
             "#ed7953"
            ],
            [
             0.7777777777777778,
             "#fb9f3a"
            ],
            [
             0.8888888888888888,
             "#fdca26"
            ],
            [
             1,
             "#f0f921"
            ]
           ],
           "sequentialminus": [
            [
             0,
             "#0d0887"
            ],
            [
             0.1111111111111111,
             "#46039f"
            ],
            [
             0.2222222222222222,
             "#7201a8"
            ],
            [
             0.3333333333333333,
             "#9c179e"
            ],
            [
             0.4444444444444444,
             "#bd3786"
            ],
            [
             0.5555555555555556,
             "#d8576b"
            ],
            [
             0.6666666666666666,
             "#ed7953"
            ],
            [
             0.7777777777777778,
             "#fb9f3a"
            ],
            [
             0.8888888888888888,
             "#fdca26"
            ],
            [
             1,
             "#f0f921"
            ]
           ]
          },
          "colorway": [
           "#636efa",
           "#EF553B",
           "#00cc96",
           "#ab63fa",
           "#FFA15A",
           "#19d3f3",
           "#FF6692",
           "#B6E880",
           "#FF97FF",
           "#FECB52"
          ],
          "font": {
           "color": "#2a3f5f"
          },
          "geo": {
           "bgcolor": "white",
           "lakecolor": "white",
           "landcolor": "#E5ECF6",
           "showlakes": true,
           "showland": true,
           "subunitcolor": "white"
          },
          "hoverlabel": {
           "align": "left"
          },
          "hovermode": "closest",
          "mapbox": {
           "style": "light"
          },
          "paper_bgcolor": "white",
          "plot_bgcolor": "#E5ECF6",
          "polar": {
           "angularaxis": {
            "gridcolor": "white",
            "linecolor": "white",
            "ticks": ""
           },
           "bgcolor": "#E5ECF6",
           "radialaxis": {
            "gridcolor": "white",
            "linecolor": "white",
            "ticks": ""
           }
          },
          "scene": {
           "xaxis": {
            "backgroundcolor": "#E5ECF6",
            "gridcolor": "white",
            "gridwidth": 2,
            "linecolor": "white",
            "showbackground": true,
            "ticks": "",
            "zerolinecolor": "white"
           },
           "yaxis": {
            "backgroundcolor": "#E5ECF6",
            "gridcolor": "white",
            "gridwidth": 2,
            "linecolor": "white",
            "showbackground": true,
            "ticks": "",
            "zerolinecolor": "white"
           },
           "zaxis": {
            "backgroundcolor": "#E5ECF6",
            "gridcolor": "white",
            "gridwidth": 2,
            "linecolor": "white",
            "showbackground": true,
            "ticks": "",
            "zerolinecolor": "white"
           }
          },
          "shapedefaults": {
           "line": {
            "color": "#2a3f5f"
           }
          },
          "ternary": {
           "aaxis": {
            "gridcolor": "white",
            "linecolor": "white",
            "ticks": ""
           },
           "baxis": {
            "gridcolor": "white",
            "linecolor": "white",
            "ticks": ""
           },
           "bgcolor": "#E5ECF6",
           "caxis": {
            "gridcolor": "white",
            "linecolor": "white",
            "ticks": ""
           }
          },
          "title": {
           "x": 0.05
          },
          "xaxis": {
           "automargin": true,
           "gridcolor": "white",
           "linecolor": "white",
           "ticks": "",
           "title": {
            "standoff": 15
           },
           "zerolinecolor": "white",
           "zerolinewidth": 2
          },
          "yaxis": {
           "automargin": true,
           "gridcolor": "white",
           "linecolor": "white",
           "ticks": "",
           "title": {
            "standoff": 15
           },
           "zerolinecolor": "white",
           "zerolinewidth": 2
          }
         }
        },
        "title": {
         "text": "Scene appearances per character"
        },
        "xaxis": {
         "anchor": "y",
         "categoryarray": [
          "Michael",
          "Dwight",
          "Jim",
          "Pam",
          "Andy",
          "Kevin",
          "Angela",
          "Oscar",
          "Phyllis",
          "Erin",
          "Ryan",
          "Darryl",
          "Stanley",
          "Kelly",
          "Meredith",
          "Toby",
          "Creed",
          "Jan",
          "Nellie",
          "Gabe"
         ],
         "categoryorder": "array",
         "domain": [
          0,
          1
         ],
         "title": {
          "text": "speaker"
         }
        },
        "yaxis": {
         "anchor": "x",
         "domain": [
          0,
          1
         ],
         "title": {
          "text": "counts"
         }
        }
       }
      }
     },
     "metadata": {},
     "output_type": "display_data"
    }
   ],
   "source": [
    "char_app = df.sort_values(['season','episode','scene']).drop_duplicates(['season','episode','scene','speaker'],keep='first')\n",
    "char_app_count = char_app.groupby(['speaker', 'season']).size().reset_index(name='counts')\n",
    "\n",
    "char_app_count['season'] = char_app_count['season'].astype(str)\n",
    "\n",
    "top_char = char_app.groupby(['speaker']).size().reset_index(name='counts').sort_values(by='counts', ascending=False)['speaker'].iloc[:20]\n",
    "\n",
    "#filter for top 20 characters\n",
    "char_app_count_sorted = char_app_count[char_app_count['speaker'].isin(top_char)].sort_values(by=['season'])\n",
    "\n",
    "fig = px.bar(char_app_count_sorted, x='speaker', y='counts', color='season', color_discrete_sequence=px.colors.qualitative.Prism, title='Scene appearances per character')\n",
    "fig.update_xaxes(categoryorder='array', categoryarray= top_char)\n"
   ]
  },
  {
   "cell_type": "code",
   "execution_count": 5,
   "metadata": {},
   "outputs": [
    {
     "data": {
      "application/vnd.plotly.v1+json": {
       "config": {
        "plotlyServerURL": "https://plot.ly"
       },
       "data": [
        {
         "alignmentgroup": "True",
         "hovertemplate": "season=1<br>speaker=%{x}<br>line_text=%{y}<extra></extra>",
         "legendgroup": "1",
         "marker": {
          "color": "rgb(95, 70, 144)",
          "pattern": {
           "shape": ""
          }
         },
         "name": "1",
         "offsetgroup": "1",
         "orientation": "v",
         "showlegend": true,
         "textposition": "auto",
         "type": "bar",
         "x": [
          "Michael",
          "Ryan",
          "Phyllis",
          "Jan",
          "Jim",
          "Dwight",
          "Stanley",
          "Pam",
          "Darryl",
          "Toby",
          "Kelly",
          "Meredith",
          "Oscar",
          "Kevin",
          "Angela"
         ],
         "xaxis": "x",
         "y": [
          509,
          37,
          11,
          38,
          231,
          222,
          24,
          170,
          15,
          13,
          2,
          13,
          42,
          24,
          23
         ],
         "yaxis": "y"
        },
        {
         "alignmentgroup": "True",
         "hovertemplate": "season=2<br>speaker=%{x}<br>line_text=%{y}<extra></extra>",
         "legendgroup": "2",
         "marker": {
          "color": "rgb(29, 105, 150)",
          "pattern": {
           "shape": ""
          }
         },
         "name": "2",
         "offsetgroup": "2",
         "orientation": "v",
         "showlegend": true,
         "textposition": "auto",
         "type": "bar",
         "x": [
          "Oscar",
          "Jim",
          "Michael",
          "Dwight",
          "Stanley",
          "Meredith",
          "Pam",
          "Kelly",
          "Darryl",
          "Angela",
          "Ryan",
          "Kevin",
          "Toby",
          "Phyllis",
          "Jan"
         ],
         "xaxis": "x",
         "y": [
          100,
          764,
          1894,
          856,
          82,
          32,
          625,
          96,
          63,
          138,
          164,
          126,
          111,
          94,
          234
         ],
         "yaxis": "y"
        },
        {
         "alignmentgroup": "True",
         "hovertemplate": "season=3<br>speaker=%{x}<br>line_text=%{y}<extra></extra>",
         "legendgroup": "3",
         "marker": {
          "color": "rgb(56, 166, 165)",
          "pattern": {
           "shape": ""
          }
         },
         "name": "3",
         "offsetgroup": "3",
         "orientation": "v",
         "showlegend": true,
         "textposition": "auto",
         "type": "bar",
         "x": [
          "Meredith",
          "Michael",
          "Kevin",
          "Jim",
          "Pam",
          "Kelly",
          "Oscar",
          "Jan",
          "Phyllis",
          "Andy",
          "Darryl",
          "Dwight",
          "Toby",
          "Angela",
          "Ryan",
          "Stanley"
         ],
         "xaxis": "x",
         "y": [
          60,
          1989,
          209,
          773,
          648,
          176,
          72,
          298,
          112,
          391,
          88,
          939,
          122,
          239,
          197,
          94
         ],
         "yaxis": "y"
        },
        {
         "alignmentgroup": "True",
         "hovertemplate": "season=4<br>speaker=%{x}<br>line_text=%{y}<extra></extra>",
         "legendgroup": "4",
         "marker": {
          "color": "rgb(15, 133, 84)",
          "pattern": {
           "shape": ""
          }
         },
         "name": "4",
         "offsetgroup": "4",
         "orientation": "v",
         "showlegend": true,
         "textposition": "auto",
         "type": "bar",
         "x": [
          "Michael",
          "Toby",
          "Kevin",
          "Meredith",
          "Andy",
          "Angela",
          "Oscar",
          "Kelly",
          "Phyllis",
          "Darryl",
          "Stanley",
          "Holly",
          "Jim",
          "Dwight",
          "Pam",
          "Ryan",
          "Jan"
         ],
         "xaxis": "x",
         "y": [
          1633,
          144,
          141,
          62,
          223,
          193,
          111,
          95,
          99,
          59,
          81,
          73,
          684,
          547,
          528,
          228,
          214
         ],
         "yaxis": "y"
        },
        {
         "alignmentgroup": "True",
         "hovertemplate": "season=5<br>speaker=%{x}<br>line_text=%{y}<extra></extra>",
         "legendgroup": "5",
         "marker": {
          "color": "rgb(115, 175, 72)",
          "pattern": {
           "shape": ""
          }
         },
         "name": "5",
         "offsetgroup": "5",
         "orientation": "v",
         "showlegend": true,
         "textposition": "auto",
         "type": "bar",
         "x": [
          "Meredith",
          "Erin",
          "Andy",
          "Toby",
          "Holly",
          "Michael",
          "Kevin",
          "Ryan",
          "Jim",
          "Phyllis",
          "Jan",
          "Oscar",
          "Kelly",
          "Pam",
          "Stanley",
          "Dwight",
          "Darryl",
          "Angela"
         ],
         "xaxis": "x",
         "y": [
          115,
          53,
          497,
          71,
          270,
          2163,
          187,
          169,
          875,
          180,
          64,
          216,
          156,
          706,
          113,
          1074,
          102,
          221
         ],
         "yaxis": "y"
        },
        {
         "alignmentgroup": "True",
         "hovertemplate": "season=6<br>speaker=%{x}<br>line_text=%{y}<extra></extra>",
         "legendgroup": "6",
         "marker": {
          "color": "rgb(237, 173, 8)",
          "pattern": {
           "shape": ""
          }
         },
         "name": "6",
         "offsetgroup": "6",
         "orientation": "v",
         "showlegend": true,
         "textposition": "auto",
         "type": "bar",
         "x": [
          "Stanley",
          "Pam",
          "Michael",
          "Toby",
          "Oscar",
          "Phyllis",
          "Ryan",
          "Kevin",
          "Gabe",
          "Kelly",
          "Jim",
          "Angela",
          "Dwight",
          "Darryl",
          "Andy",
          "Erin",
          "Meredith"
         ],
         "xaxis": "x",
         "y": [
          72,
          706,
          1983,
          100,
          177,
          138,
          125,
          228,
          86,
          120,
          928,
          136,
          811,
          84,
          538,
          298,
          82
         ],
         "yaxis": "y"
        },
        {
         "alignmentgroup": "True",
         "hovertemplate": "season=7<br>speaker=%{x}<br>line_text=%{y}<extra></extra>",
         "legendgroup": "7",
         "marker": {
          "color": "rgb(225, 124, 5)",
          "pattern": {
           "shape": ""
          }
         },
         "name": "7",
         "offsetgroup": "7",
         "orientation": "v",
         "showlegend": true,
         "textposition": "auto",
         "type": "bar",
         "x": [
          "Dwight",
          "Darryl",
          "Pam",
          "Holly",
          "Jan",
          "Jim",
          "Erin",
          "Gabe",
          "Ryan",
          "Oscar",
          "Nellie",
          "Meredith",
          "Toby",
          "Kevin",
          "Michael",
          "Andy",
          "Phyllis",
          "Stanley",
          "Kelly",
          "Angela"
         ],
         "xaxis": "x",
         "y": [
          703,
          227,
          612,
          265,
          17,
          687,
          311,
          211,
          176,
          197,
          9,
          70,
          97,
          240,
          1401,
          557,
          147,
          75,
          153,
          161
         ],
         "yaxis": "y"
        },
        {
         "alignmentgroup": "True",
         "hovertemplate": "season=8<br>speaker=%{x}<br>line_text=%{y}<extra></extra>",
         "legendgroup": "8",
         "marker": {
          "color": "rgb(204, 80, 62)",
          "pattern": {
           "shape": ""
          }
         },
         "name": "8",
         "offsetgroup": "8",
         "orientation": "v",
         "showlegend": true,
         "textposition": "auto",
         "type": "bar",
         "x": [
          "Andy",
          "Phyllis",
          "Stanley",
          "Ryan",
          "Dwight",
          "Darryl",
          "Angela",
          "Meredith",
          "Oscar",
          "Kevin",
          "Gabe",
          "Nellie",
          "Pam",
          "Toby",
          "Jim",
          "Erin",
          "Kelly"
         ],
         "xaxis": "x",
         "y": [
          1125,
          123,
          91,
          189,
          946,
          312,
          166,
          83,
          235,
          247,
          119,
          233,
          475,
          106,
          869,
          427,
          123
         ],
         "yaxis": "y"
        },
        {
         "alignmentgroup": "True",
         "hovertemplate": "season=9<br>speaker=%{x}<br>line_text=%{y}<extra></extra>",
         "legendgroup": "9",
         "marker": {
          "color": "rgb(148, 52, 110)",
          "pattern": {
           "shape": ""
          }
         },
         "name": "9",
         "offsetgroup": "9",
         "orientation": "v",
         "showlegend": true,
         "textposition": "auto",
         "type": "bar",
         "x": [
          "Kevin",
          "Michael",
          "Andy",
          "Nellie",
          "Stanley",
          "Kelly",
          "Phyllis",
          "Angela",
          "Oscar",
          "Darryl",
          "Ryan",
          "Jan",
          "Pam",
          "Gabe",
          "Dwight",
          "Meredith",
          "Erin",
          "Jim",
          "Toby"
         ],
         "xaxis": "x",
         "y": [
          267,
          2,
          637,
          287,
          100,
          14,
          127,
          381,
          295,
          278,
          16,
          33,
          735,
          20,
          1069,
          114,
          380,
          798,
          125
         ],
         "yaxis": "y"
        }
       ],
       "layout": {
        "barmode": "relative",
        "legend": {
         "title": {
          "text": "season"
         },
         "tracegroupgap": 0
        },
        "template": {
         "data": {
          "bar": [
           {
            "error_x": {
             "color": "#2a3f5f"
            },
            "error_y": {
             "color": "#2a3f5f"
            },
            "marker": {
             "line": {
              "color": "#E5ECF6",
              "width": 0.5
             },
             "pattern": {
              "fillmode": "overlay",
              "size": 10,
              "solidity": 0.2
             }
            },
            "type": "bar"
           }
          ],
          "barpolar": [
           {
            "marker": {
             "line": {
              "color": "#E5ECF6",
              "width": 0.5
             },
             "pattern": {
              "fillmode": "overlay",
              "size": 10,
              "solidity": 0.2
             }
            },
            "type": "barpolar"
           }
          ],
          "carpet": [
           {
            "aaxis": {
             "endlinecolor": "#2a3f5f",
             "gridcolor": "white",
             "linecolor": "white",
             "minorgridcolor": "white",
             "startlinecolor": "#2a3f5f"
            },
            "baxis": {
             "endlinecolor": "#2a3f5f",
             "gridcolor": "white",
             "linecolor": "white",
             "minorgridcolor": "white",
             "startlinecolor": "#2a3f5f"
            },
            "type": "carpet"
           }
          ],
          "choropleth": [
           {
            "colorbar": {
             "outlinewidth": 0,
             "ticks": ""
            },
            "type": "choropleth"
           }
          ],
          "contour": [
           {
            "colorbar": {
             "outlinewidth": 0,
             "ticks": ""
            },
            "colorscale": [
             [
              0,
              "#0d0887"
             ],
             [
              0.1111111111111111,
              "#46039f"
             ],
             [
              0.2222222222222222,
              "#7201a8"
             ],
             [
              0.3333333333333333,
              "#9c179e"
             ],
             [
              0.4444444444444444,
              "#bd3786"
             ],
             [
              0.5555555555555556,
              "#d8576b"
             ],
             [
              0.6666666666666666,
              "#ed7953"
             ],
             [
              0.7777777777777778,
              "#fb9f3a"
             ],
             [
              0.8888888888888888,
              "#fdca26"
             ],
             [
              1,
              "#f0f921"
             ]
            ],
            "type": "contour"
           }
          ],
          "contourcarpet": [
           {
            "colorbar": {
             "outlinewidth": 0,
             "ticks": ""
            },
            "type": "contourcarpet"
           }
          ],
          "heatmap": [
           {
            "colorbar": {
             "outlinewidth": 0,
             "ticks": ""
            },
            "colorscale": [
             [
              0,
              "#0d0887"
             ],
             [
              0.1111111111111111,
              "#46039f"
             ],
             [
              0.2222222222222222,
              "#7201a8"
             ],
             [
              0.3333333333333333,
              "#9c179e"
             ],
             [
              0.4444444444444444,
              "#bd3786"
             ],
             [
              0.5555555555555556,
              "#d8576b"
             ],
             [
              0.6666666666666666,
              "#ed7953"
             ],
             [
              0.7777777777777778,
              "#fb9f3a"
             ],
             [
              0.8888888888888888,
              "#fdca26"
             ],
             [
              1,
              "#f0f921"
             ]
            ],
            "type": "heatmap"
           }
          ],
          "heatmapgl": [
           {
            "colorbar": {
             "outlinewidth": 0,
             "ticks": ""
            },
            "colorscale": [
             [
              0,
              "#0d0887"
             ],
             [
              0.1111111111111111,
              "#46039f"
             ],
             [
              0.2222222222222222,
              "#7201a8"
             ],
             [
              0.3333333333333333,
              "#9c179e"
             ],
             [
              0.4444444444444444,
              "#bd3786"
             ],
             [
              0.5555555555555556,
              "#d8576b"
             ],
             [
              0.6666666666666666,
              "#ed7953"
             ],
             [
              0.7777777777777778,
              "#fb9f3a"
             ],
             [
              0.8888888888888888,
              "#fdca26"
             ],
             [
              1,
              "#f0f921"
             ]
            ],
            "type": "heatmapgl"
           }
          ],
          "histogram": [
           {
            "marker": {
             "pattern": {
              "fillmode": "overlay",
              "size": 10,
              "solidity": 0.2
             }
            },
            "type": "histogram"
           }
          ],
          "histogram2d": [
           {
            "colorbar": {
             "outlinewidth": 0,
             "ticks": ""
            },
            "colorscale": [
             [
              0,
              "#0d0887"
             ],
             [
              0.1111111111111111,
              "#46039f"
             ],
             [
              0.2222222222222222,
              "#7201a8"
             ],
             [
              0.3333333333333333,
              "#9c179e"
             ],
             [
              0.4444444444444444,
              "#bd3786"
             ],
             [
              0.5555555555555556,
              "#d8576b"
             ],
             [
              0.6666666666666666,
              "#ed7953"
             ],
             [
              0.7777777777777778,
              "#fb9f3a"
             ],
             [
              0.8888888888888888,
              "#fdca26"
             ],
             [
              1,
              "#f0f921"
             ]
            ],
            "type": "histogram2d"
           }
          ],
          "histogram2dcontour": [
           {
            "colorbar": {
             "outlinewidth": 0,
             "ticks": ""
            },
            "colorscale": [
             [
              0,
              "#0d0887"
             ],
             [
              0.1111111111111111,
              "#46039f"
             ],
             [
              0.2222222222222222,
              "#7201a8"
             ],
             [
              0.3333333333333333,
              "#9c179e"
             ],
             [
              0.4444444444444444,
              "#bd3786"
             ],
             [
              0.5555555555555556,
              "#d8576b"
             ],
             [
              0.6666666666666666,
              "#ed7953"
             ],
             [
              0.7777777777777778,
              "#fb9f3a"
             ],
             [
              0.8888888888888888,
              "#fdca26"
             ],
             [
              1,
              "#f0f921"
             ]
            ],
            "type": "histogram2dcontour"
           }
          ],
          "mesh3d": [
           {
            "colorbar": {
             "outlinewidth": 0,
             "ticks": ""
            },
            "type": "mesh3d"
           }
          ],
          "parcoords": [
           {
            "line": {
             "colorbar": {
              "outlinewidth": 0,
              "ticks": ""
             }
            },
            "type": "parcoords"
           }
          ],
          "pie": [
           {
            "automargin": true,
            "type": "pie"
           }
          ],
          "scatter": [
           {
            "fillpattern": {
             "fillmode": "overlay",
             "size": 10,
             "solidity": 0.2
            },
            "type": "scatter"
           }
          ],
          "scatter3d": [
           {
            "line": {
             "colorbar": {
              "outlinewidth": 0,
              "ticks": ""
             }
            },
            "marker": {
             "colorbar": {
              "outlinewidth": 0,
              "ticks": ""
             }
            },
            "type": "scatter3d"
           }
          ],
          "scattercarpet": [
           {
            "marker": {
             "colorbar": {
              "outlinewidth": 0,
              "ticks": ""
             }
            },
            "type": "scattercarpet"
           }
          ],
          "scattergeo": [
           {
            "marker": {
             "colorbar": {
              "outlinewidth": 0,
              "ticks": ""
             }
            },
            "type": "scattergeo"
           }
          ],
          "scattergl": [
           {
            "marker": {
             "colorbar": {
              "outlinewidth": 0,
              "ticks": ""
             }
            },
            "type": "scattergl"
           }
          ],
          "scattermapbox": [
           {
            "marker": {
             "colorbar": {
              "outlinewidth": 0,
              "ticks": ""
             }
            },
            "type": "scattermapbox"
           }
          ],
          "scatterpolar": [
           {
            "marker": {
             "colorbar": {
              "outlinewidth": 0,
              "ticks": ""
             }
            },
            "type": "scatterpolar"
           }
          ],
          "scatterpolargl": [
           {
            "marker": {
             "colorbar": {
              "outlinewidth": 0,
              "ticks": ""
             }
            },
            "type": "scatterpolargl"
           }
          ],
          "scatterternary": [
           {
            "marker": {
             "colorbar": {
              "outlinewidth": 0,
              "ticks": ""
             }
            },
            "type": "scatterternary"
           }
          ],
          "surface": [
           {
            "colorbar": {
             "outlinewidth": 0,
             "ticks": ""
            },
            "colorscale": [
             [
              0,
              "#0d0887"
             ],
             [
              0.1111111111111111,
              "#46039f"
             ],
             [
              0.2222222222222222,
              "#7201a8"
             ],
             [
              0.3333333333333333,
              "#9c179e"
             ],
             [
              0.4444444444444444,
              "#bd3786"
             ],
             [
              0.5555555555555556,
              "#d8576b"
             ],
             [
              0.6666666666666666,
              "#ed7953"
             ],
             [
              0.7777777777777778,
              "#fb9f3a"
             ],
             [
              0.8888888888888888,
              "#fdca26"
             ],
             [
              1,
              "#f0f921"
             ]
            ],
            "type": "surface"
           }
          ],
          "table": [
           {
            "cells": {
             "fill": {
              "color": "#EBF0F8"
             },
             "line": {
              "color": "white"
             }
            },
            "header": {
             "fill": {
              "color": "#C8D4E3"
             },
             "line": {
              "color": "white"
             }
            },
            "type": "table"
           }
          ]
         },
         "layout": {
          "annotationdefaults": {
           "arrowcolor": "#2a3f5f",
           "arrowhead": 0,
           "arrowwidth": 1
          },
          "autotypenumbers": "strict",
          "coloraxis": {
           "colorbar": {
            "outlinewidth": 0,
            "ticks": ""
           }
          },
          "colorscale": {
           "diverging": [
            [
             0,
             "#8e0152"
            ],
            [
             0.1,
             "#c51b7d"
            ],
            [
             0.2,
             "#de77ae"
            ],
            [
             0.3,
             "#f1b6da"
            ],
            [
             0.4,
             "#fde0ef"
            ],
            [
             0.5,
             "#f7f7f7"
            ],
            [
             0.6,
             "#e6f5d0"
            ],
            [
             0.7,
             "#b8e186"
            ],
            [
             0.8,
             "#7fbc41"
            ],
            [
             0.9,
             "#4d9221"
            ],
            [
             1,
             "#276419"
            ]
           ],
           "sequential": [
            [
             0,
             "#0d0887"
            ],
            [
             0.1111111111111111,
             "#46039f"
            ],
            [
             0.2222222222222222,
             "#7201a8"
            ],
            [
             0.3333333333333333,
             "#9c179e"
            ],
            [
             0.4444444444444444,
             "#bd3786"
            ],
            [
             0.5555555555555556,
             "#d8576b"
            ],
            [
             0.6666666666666666,
             "#ed7953"
            ],
            [
             0.7777777777777778,
             "#fb9f3a"
            ],
            [
             0.8888888888888888,
             "#fdca26"
            ],
            [
             1,
             "#f0f921"
            ]
           ],
           "sequentialminus": [
            [
             0,
             "#0d0887"
            ],
            [
             0.1111111111111111,
             "#46039f"
            ],
            [
             0.2222222222222222,
             "#7201a8"
            ],
            [
             0.3333333333333333,
             "#9c179e"
            ],
            [
             0.4444444444444444,
             "#bd3786"
            ],
            [
             0.5555555555555556,
             "#d8576b"
            ],
            [
             0.6666666666666666,
             "#ed7953"
            ],
            [
             0.7777777777777778,
             "#fb9f3a"
            ],
            [
             0.8888888888888888,
             "#fdca26"
            ],
            [
             1,
             "#f0f921"
            ]
           ]
          },
          "colorway": [
           "#636efa",
           "#EF553B",
           "#00cc96",
           "#ab63fa",
           "#FFA15A",
           "#19d3f3",
           "#FF6692",
           "#B6E880",
           "#FF97FF",
           "#FECB52"
          ],
          "font": {
           "color": "#2a3f5f"
          },
          "geo": {
           "bgcolor": "white",
           "lakecolor": "white",
           "landcolor": "#E5ECF6",
           "showlakes": true,
           "showland": true,
           "subunitcolor": "white"
          },
          "hoverlabel": {
           "align": "left"
          },
          "hovermode": "closest",
          "mapbox": {
           "style": "light"
          },
          "paper_bgcolor": "white",
          "plot_bgcolor": "#E5ECF6",
          "polar": {
           "angularaxis": {
            "gridcolor": "white",
            "linecolor": "white",
            "ticks": ""
           },
           "bgcolor": "#E5ECF6",
           "radialaxis": {
            "gridcolor": "white",
            "linecolor": "white",
            "ticks": ""
           }
          },
          "scene": {
           "xaxis": {
            "backgroundcolor": "#E5ECF6",
            "gridcolor": "white",
            "gridwidth": 2,
            "linecolor": "white",
            "showbackground": true,
            "ticks": "",
            "zerolinecolor": "white"
           },
           "yaxis": {
            "backgroundcolor": "#E5ECF6",
            "gridcolor": "white",
            "gridwidth": 2,
            "linecolor": "white",
            "showbackground": true,
            "ticks": "",
            "zerolinecolor": "white"
           },
           "zaxis": {
            "backgroundcolor": "#E5ECF6",
            "gridcolor": "white",
            "gridwidth": 2,
            "linecolor": "white",
            "showbackground": true,
            "ticks": "",
            "zerolinecolor": "white"
           }
          },
          "shapedefaults": {
           "line": {
            "color": "#2a3f5f"
           }
          },
          "ternary": {
           "aaxis": {
            "gridcolor": "white",
            "linecolor": "white",
            "ticks": ""
           },
           "baxis": {
            "gridcolor": "white",
            "linecolor": "white",
            "ticks": ""
           },
           "bgcolor": "#E5ECF6",
           "caxis": {
            "gridcolor": "white",
            "linecolor": "white",
            "ticks": ""
           }
          },
          "title": {
           "x": 0.05
          },
          "xaxis": {
           "automargin": true,
           "gridcolor": "white",
           "linecolor": "white",
           "ticks": "",
           "title": {
            "standoff": 15
           },
           "zerolinecolor": "white",
           "zerolinewidth": 2
          },
          "yaxis": {
           "automargin": true,
           "gridcolor": "white",
           "linecolor": "white",
           "ticks": "",
           "title": {
            "standoff": 15
           },
           "zerolinecolor": "white",
           "zerolinewidth": 2
          }
         }
        },
        "title": {
         "text": "Lines per character"
        },
        "xaxis": {
         "anchor": "y",
         "categoryarray": [
          "Michael",
          "Dwight",
          "Jim",
          "Pam",
          "Andy",
          "Kevin",
          "Angela",
          "Erin",
          "Oscar",
          "Ryan",
          "Darryl",
          "Phyllis",
          "Kelly",
          "Jan",
          "Toby",
          "Stanley",
          "Meredith",
          "Holly",
          "Nellie",
          "Gabe"
         ],
         "categoryorder": "array",
         "domain": [
          0,
          1
         ],
         "title": {
          "text": "speaker"
         }
        },
        "yaxis": {
         "anchor": "x",
         "domain": [
          0,
          1
         ],
         "title": {
          "text": "number of lines"
         }
        }
       }
      }
     },
     "metadata": {},
     "output_type": "display_data"
    }
   ],
   "source": [
    "top20_characters = df[\"speaker\"].value_counts().head(20).index.tolist()\n",
    "lines_per_character = df[[\"speaker\", \"season\", \"line_text\"]][df[\"speaker\"].isin(top20_characters)].groupby([\"speaker\", \"season\"]).count().reset_index(level=[0,1])\n",
    "lines_per_character['season'] = lines_per_character['season'].astype(str)\n",
    "fig = px.bar(lines_per_character.sort_values(\"season\"), x=\"speaker\", y=\"line_text\", color='season', color_discrete_sequence=px.colors.qualitative.Prism, title='Lines per character')\n",
    "fig.update_xaxes(categoryorder='array', categoryarray= top20_characters)\n",
    "fig.update_yaxes(title='number of lines')"
   ]
  },
  {
   "cell_type": "code",
   "execution_count": 6,
   "metadata": {},
   "outputs": [
    {
     "data": {
      "application/vnd.plotly.v1+json": {
       "config": {
        "plotlyServerURL": "https://plot.ly"
       },
       "data": [
        {
         "alignmentgroup": "True",
         "hovertemplate": "season=1<br>speaker=%{x}<br>word_count=%{y}<extra></extra>",
         "legendgroup": "1",
         "marker": {
          "color": "rgb(95, 70, 144)",
          "pattern": {
           "shape": ""
          }
         },
         "name": "1",
         "offsetgroup": "1",
         "orientation": "v",
         "showlegend": true,
         "textposition": "auto",
         "type": "bar",
         "x": [
          "Pam",
          "Jim",
          "Kelly",
          "Kevin",
          "Michael",
          "Dwight",
          "Oscar",
          "Darryl",
          "Phyllis",
          "Ryan",
          "Jan",
          "Angela",
          "Stanley",
          "Toby"
         ],
         "xaxis": "x",
         "y": [
          1179,
          2292,
          11,
          149,
          8887,
          2160,
          259,
          102,
          75,
          197,
          352,
          119,
          140,
          51
         ],
         "yaxis": "y"
        },
        {
         "alignmentgroup": "True",
         "hovertemplate": "season=2<br>speaker=%{x}<br>word_count=%{y}<extra></extra>",
         "legendgroup": "2",
         "marker": {
          "color": "rgb(29, 105, 150)",
          "pattern": {
           "shape": ""
          }
         },
         "name": "2",
         "offsetgroup": "2",
         "orientation": "v",
         "showlegend": true,
         "textposition": "auto",
         "type": "bar",
         "x": [
          "Michael",
          "Kevin",
          "Toby",
          "Dwight",
          "Stanley",
          "Ryan",
          "Oscar",
          "Jim",
          "Pam",
          "Darryl",
          "Angela",
          "Phyllis",
          "Jan",
          "Kelly"
         ],
         "xaxis": "x",
         "y": [
          27043,
          767,
          947,
          8477,
          634,
          1175,
          831,
          6993,
          5355,
          523,
          960,
          543,
          2187,
          1144
         ],
         "yaxis": "y"
        },
        {
         "alignmentgroup": "True",
         "hovertemplate": "season=3<br>speaker=%{x}<br>word_count=%{y}<extra></extra>",
         "legendgroup": "3",
         "marker": {
          "color": "rgb(56, 166, 165)",
          "pattern": {
           "shape": ""
          }
         },
         "name": "3",
         "offsetgroup": "3",
         "orientation": "v",
         "showlegend": true,
         "textposition": "auto",
         "type": "bar",
         "x": [
          "Jim",
          "Toby",
          "Jan",
          "Ryan",
          "Stanley",
          "Michael",
          "Oscar",
          "Pam",
          "Phyllis",
          "Kelly",
          "Andy",
          "Kevin",
          "Dwight",
          "Angela",
          "Darryl"
         ],
         "xaxis": "x",
         "y": [
          6071,
          1099,
          2959,
          1942,
          843,
          27897,
          662,
          5688,
          869,
          2072,
          4450,
          1600,
          9383,
          2252,
          884
         ],
         "yaxis": "y"
        },
        {
         "alignmentgroup": "True",
         "hovertemplate": "season=4<br>speaker=%{x}<br>word_count=%{y}<extra></extra>",
         "legendgroup": "4",
         "marker": {
          "color": "rgb(15, 133, 84)",
          "pattern": {
           "shape": ""
          }
         },
         "name": "4",
         "offsetgroup": "4",
         "orientation": "v",
         "showlegend": true,
         "textposition": "auto",
         "type": "bar",
         "x": [
          "Ryan",
          "Pam",
          "Oscar",
          "Phyllis",
          "Michael",
          "Kevin",
          "Angela",
          "Dwight",
          "Kelly",
          "Stanley",
          "Jim",
          "Darryl",
          "Holly",
          "Toby",
          "Andy",
          "Jan"
         ],
         "xaxis": "x",
         "y": [
          2413,
          4236,
          862,
          849,
          23672,
          1192,
          1745,
          5752,
          894,
          836,
          6056,
          402,
          588,
          1544,
          2786,
          2122
         ],
         "yaxis": "y"
        },
        {
         "alignmentgroup": "True",
         "hovertemplate": "season=5<br>speaker=%{x}<br>word_count=%{y}<extra></extra>",
         "legendgroup": "5",
         "marker": {
          "color": "rgb(115, 175, 72)",
          "pattern": {
           "shape": ""
          }
         },
         "name": "5",
         "offsetgroup": "5",
         "orientation": "v",
         "showlegend": true,
         "textposition": "auto",
         "type": "bar",
         "x": [
          "Angela",
          "Oscar",
          "Pam",
          "Michael",
          "Holly",
          "Phyllis",
          "Toby",
          "Erin",
          "Kevin",
          "Andy",
          "Dwight",
          "Darryl",
          "Ryan",
          "Kelly",
          "Jim",
          "Jan",
          "Stanley"
         ],
         "xaxis": "x",
         "y": [
          2058,
          1834,
          6063,
          27724,
          2448,
          1496,
          786,
          256,
          1449,
          5084,
          11030,
          775,
          1674,
          1505,
          7750,
          737,
          892
         ],
         "yaxis": "y"
        },
        {
         "alignmentgroup": "True",
         "hovertemplate": "season=6<br>speaker=%{x}<br>word_count=%{y}<extra></extra>",
         "legendgroup": "6",
         "marker": {
          "color": "rgb(237, 173, 8)",
          "pattern": {
           "shape": ""
          }
         },
         "name": "6",
         "offsetgroup": "6",
         "orientation": "v",
         "showlegend": true,
         "textposition": "auto",
         "type": "bar",
         "x": [
          "Oscar",
          "Erin",
          "Toby",
          "Gabe",
          "Darryl",
          "Pam",
          "Angela",
          "Jim",
          "Michael",
          "Phyllis",
          "Ryan",
          "Kevin",
          "Dwight",
          "Andy",
          "Kelly",
          "Stanley"
         ],
         "xaxis": "x",
         "y": [
          1566,
          2554,
          868,
          1318,
          951,
          5918,
          997,
          8193,
          24583,
          1128,
          1104,
          1691,
          8823,
          6086,
          1233,
          515
         ],
         "yaxis": "y"
        },
        {
         "alignmentgroup": "True",
         "hovertemplate": "season=7<br>speaker=%{x}<br>word_count=%{y}<extra></extra>",
         "legendgroup": "7",
         "marker": {
          "color": "rgb(225, 124, 5)",
          "pattern": {
           "shape": ""
          }
         },
         "name": "7",
         "offsetgroup": "7",
         "orientation": "v",
         "showlegend": true,
         "textposition": "auto",
         "type": "bar",
         "x": [
          "Andy",
          "Ryan",
          "Angela",
          "Pam",
          "Phyllis",
          "Robert",
          "Toby",
          "Stanley",
          "Gabe",
          "Nellie",
          "Kelly",
          "Dwight",
          "Michael",
          "Jim",
          "Jan",
          "Kevin",
          "Holly",
          "Darryl",
          "Oscar",
          "Erin"
         ],
         "xaxis": "x",
         "y": [
          5990,
          1913,
          1441,
          6084,
          1233,
          298,
          954,
          559,
          2741,
          199,
          1750,
          8490,
          18177,
          6126,
          272,
          1882,
          2064,
          2072,
          1538,
          2547
         ],
         "yaxis": "y"
        },
        {
         "alignmentgroup": "True",
         "hovertemplate": "season=8<br>speaker=%{x}<br>word_count=%{y}<extra></extra>",
         "legendgroup": "8",
         "marker": {
          "color": "rgb(204, 80, 62)",
          "pattern": {
           "shape": ""
          }
         },
         "name": "8",
         "offsetgroup": "8",
         "orientation": "v",
         "showlegend": true,
         "textposition": "auto",
         "type": "bar",
         "x": [
          "Erin",
          "Stanley",
          "Toby",
          "Jim",
          "Andy",
          "Ryan",
          "Dwight",
          "Gabe",
          "Oscar",
          "Kelly",
          "Robert",
          "Kevin",
          "Phyllis",
          "Nellie",
          "Pam",
          "Darryl",
          "Angela"
         ],
         "xaxis": "x",
         "y": [
          3823,
          1058,
          1213,
          8688,
          13896,
          2299,
          11863,
          1620,
          2095,
          1374,
          5571,
          2300,
          906,
          3157,
          4078,
          3064,
          1395
         ],
         "yaxis": "y"
        },
        {
         "alignmentgroup": "True",
         "hovertemplate": "season=9<br>speaker=%{x}<br>word_count=%{y}<extra></extra>",
         "legendgroup": "9",
         "marker": {
          "color": "rgb(148, 52, 110)",
          "pattern": {
           "shape": ""
          }
         },
         "name": "9",
         "offsetgroup": "9",
         "orientation": "v",
         "showlegend": true,
         "textposition": "auto",
         "type": "bar",
         "x": [
          "Angela",
          "Gabe",
          "Nellie",
          "Erin",
          "Pam",
          "Stanley",
          "Jan",
          "Michael",
          "Robert",
          "Jim",
          "Darryl",
          "Andy",
          "Ryan",
          "Kevin",
          "Phyllis",
          "Oscar",
          "Kelly",
          "Dwight",
          "Toby"
         ],
         "xaxis": "x",
         "y": [
          3395,
          233,
          3587,
          4037,
          8028,
          867,
          312,
          25,
          177,
          8735,
          2698,
          8769,
          215,
          2379,
          1122,
          3137,
          169,
          13977,
          1267
         ],
         "yaxis": "y"
        }
       ],
       "layout": {
        "barmode": "relative",
        "legend": {
         "title": {
          "text": "season"
         },
         "tracegroupgap": 0
        },
        "template": {
         "data": {
          "bar": [
           {
            "error_x": {
             "color": "#2a3f5f"
            },
            "error_y": {
             "color": "#2a3f5f"
            },
            "marker": {
             "line": {
              "color": "#E5ECF6",
              "width": 0.5
             },
             "pattern": {
              "fillmode": "overlay",
              "size": 10,
              "solidity": 0.2
             }
            },
            "type": "bar"
           }
          ],
          "barpolar": [
           {
            "marker": {
             "line": {
              "color": "#E5ECF6",
              "width": 0.5
             },
             "pattern": {
              "fillmode": "overlay",
              "size": 10,
              "solidity": 0.2
             }
            },
            "type": "barpolar"
           }
          ],
          "carpet": [
           {
            "aaxis": {
             "endlinecolor": "#2a3f5f",
             "gridcolor": "white",
             "linecolor": "white",
             "minorgridcolor": "white",
             "startlinecolor": "#2a3f5f"
            },
            "baxis": {
             "endlinecolor": "#2a3f5f",
             "gridcolor": "white",
             "linecolor": "white",
             "minorgridcolor": "white",
             "startlinecolor": "#2a3f5f"
            },
            "type": "carpet"
           }
          ],
          "choropleth": [
           {
            "colorbar": {
             "outlinewidth": 0,
             "ticks": ""
            },
            "type": "choropleth"
           }
          ],
          "contour": [
           {
            "colorbar": {
             "outlinewidth": 0,
             "ticks": ""
            },
            "colorscale": [
             [
              0,
              "#0d0887"
             ],
             [
              0.1111111111111111,
              "#46039f"
             ],
             [
              0.2222222222222222,
              "#7201a8"
             ],
             [
              0.3333333333333333,
              "#9c179e"
             ],
             [
              0.4444444444444444,
              "#bd3786"
             ],
             [
              0.5555555555555556,
              "#d8576b"
             ],
             [
              0.6666666666666666,
              "#ed7953"
             ],
             [
              0.7777777777777778,
              "#fb9f3a"
             ],
             [
              0.8888888888888888,
              "#fdca26"
             ],
             [
              1,
              "#f0f921"
             ]
            ],
            "type": "contour"
           }
          ],
          "contourcarpet": [
           {
            "colorbar": {
             "outlinewidth": 0,
             "ticks": ""
            },
            "type": "contourcarpet"
           }
          ],
          "heatmap": [
           {
            "colorbar": {
             "outlinewidth": 0,
             "ticks": ""
            },
            "colorscale": [
             [
              0,
              "#0d0887"
             ],
             [
              0.1111111111111111,
              "#46039f"
             ],
             [
              0.2222222222222222,
              "#7201a8"
             ],
             [
              0.3333333333333333,
              "#9c179e"
             ],
             [
              0.4444444444444444,
              "#bd3786"
             ],
             [
              0.5555555555555556,
              "#d8576b"
             ],
             [
              0.6666666666666666,
              "#ed7953"
             ],
             [
              0.7777777777777778,
              "#fb9f3a"
             ],
             [
              0.8888888888888888,
              "#fdca26"
             ],
             [
              1,
              "#f0f921"
             ]
            ],
            "type": "heatmap"
           }
          ],
          "heatmapgl": [
           {
            "colorbar": {
             "outlinewidth": 0,
             "ticks": ""
            },
            "colorscale": [
             [
              0,
              "#0d0887"
             ],
             [
              0.1111111111111111,
              "#46039f"
             ],
             [
              0.2222222222222222,
              "#7201a8"
             ],
             [
              0.3333333333333333,
              "#9c179e"
             ],
             [
              0.4444444444444444,
              "#bd3786"
             ],
             [
              0.5555555555555556,
              "#d8576b"
             ],
             [
              0.6666666666666666,
              "#ed7953"
             ],
             [
              0.7777777777777778,
              "#fb9f3a"
             ],
             [
              0.8888888888888888,
              "#fdca26"
             ],
             [
              1,
              "#f0f921"
             ]
            ],
            "type": "heatmapgl"
           }
          ],
          "histogram": [
           {
            "marker": {
             "pattern": {
              "fillmode": "overlay",
              "size": 10,
              "solidity": 0.2
             }
            },
            "type": "histogram"
           }
          ],
          "histogram2d": [
           {
            "colorbar": {
             "outlinewidth": 0,
             "ticks": ""
            },
            "colorscale": [
             [
              0,
              "#0d0887"
             ],
             [
              0.1111111111111111,
              "#46039f"
             ],
             [
              0.2222222222222222,
              "#7201a8"
             ],
             [
              0.3333333333333333,
              "#9c179e"
             ],
             [
              0.4444444444444444,
              "#bd3786"
             ],
             [
              0.5555555555555556,
              "#d8576b"
             ],
             [
              0.6666666666666666,
              "#ed7953"
             ],
             [
              0.7777777777777778,
              "#fb9f3a"
             ],
             [
              0.8888888888888888,
              "#fdca26"
             ],
             [
              1,
              "#f0f921"
             ]
            ],
            "type": "histogram2d"
           }
          ],
          "histogram2dcontour": [
           {
            "colorbar": {
             "outlinewidth": 0,
             "ticks": ""
            },
            "colorscale": [
             [
              0,
              "#0d0887"
             ],
             [
              0.1111111111111111,
              "#46039f"
             ],
             [
              0.2222222222222222,
              "#7201a8"
             ],
             [
              0.3333333333333333,
              "#9c179e"
             ],
             [
              0.4444444444444444,
              "#bd3786"
             ],
             [
              0.5555555555555556,
              "#d8576b"
             ],
             [
              0.6666666666666666,
              "#ed7953"
             ],
             [
              0.7777777777777778,
              "#fb9f3a"
             ],
             [
              0.8888888888888888,
              "#fdca26"
             ],
             [
              1,
              "#f0f921"
             ]
            ],
            "type": "histogram2dcontour"
           }
          ],
          "mesh3d": [
           {
            "colorbar": {
             "outlinewidth": 0,
             "ticks": ""
            },
            "type": "mesh3d"
           }
          ],
          "parcoords": [
           {
            "line": {
             "colorbar": {
              "outlinewidth": 0,
              "ticks": ""
             }
            },
            "type": "parcoords"
           }
          ],
          "pie": [
           {
            "automargin": true,
            "type": "pie"
           }
          ],
          "scatter": [
           {
            "fillpattern": {
             "fillmode": "overlay",
             "size": 10,
             "solidity": 0.2
            },
            "type": "scatter"
           }
          ],
          "scatter3d": [
           {
            "line": {
             "colorbar": {
              "outlinewidth": 0,
              "ticks": ""
             }
            },
            "marker": {
             "colorbar": {
              "outlinewidth": 0,
              "ticks": ""
             }
            },
            "type": "scatter3d"
           }
          ],
          "scattercarpet": [
           {
            "marker": {
             "colorbar": {
              "outlinewidth": 0,
              "ticks": ""
             }
            },
            "type": "scattercarpet"
           }
          ],
          "scattergeo": [
           {
            "marker": {
             "colorbar": {
              "outlinewidth": 0,
              "ticks": ""
             }
            },
            "type": "scattergeo"
           }
          ],
          "scattergl": [
           {
            "marker": {
             "colorbar": {
              "outlinewidth": 0,
              "ticks": ""
             }
            },
            "type": "scattergl"
           }
          ],
          "scattermapbox": [
           {
            "marker": {
             "colorbar": {
              "outlinewidth": 0,
              "ticks": ""
             }
            },
            "type": "scattermapbox"
           }
          ],
          "scatterpolar": [
           {
            "marker": {
             "colorbar": {
              "outlinewidth": 0,
              "ticks": ""
             }
            },
            "type": "scatterpolar"
           }
          ],
          "scatterpolargl": [
           {
            "marker": {
             "colorbar": {
              "outlinewidth": 0,
              "ticks": ""
             }
            },
            "type": "scatterpolargl"
           }
          ],
          "scatterternary": [
           {
            "marker": {
             "colorbar": {
              "outlinewidth": 0,
              "ticks": ""
             }
            },
            "type": "scatterternary"
           }
          ],
          "surface": [
           {
            "colorbar": {
             "outlinewidth": 0,
             "ticks": ""
            },
            "colorscale": [
             [
              0,
              "#0d0887"
             ],
             [
              0.1111111111111111,
              "#46039f"
             ],
             [
              0.2222222222222222,
              "#7201a8"
             ],
             [
              0.3333333333333333,
              "#9c179e"
             ],
             [
              0.4444444444444444,
              "#bd3786"
             ],
             [
              0.5555555555555556,
              "#d8576b"
             ],
             [
              0.6666666666666666,
              "#ed7953"
             ],
             [
              0.7777777777777778,
              "#fb9f3a"
             ],
             [
              0.8888888888888888,
              "#fdca26"
             ],
             [
              1,
              "#f0f921"
             ]
            ],
            "type": "surface"
           }
          ],
          "table": [
           {
            "cells": {
             "fill": {
              "color": "#EBF0F8"
             },
             "line": {
              "color": "white"
             }
            },
            "header": {
             "fill": {
              "color": "#C8D4E3"
             },
             "line": {
              "color": "white"
             }
            },
            "type": "table"
           }
          ]
         },
         "layout": {
          "annotationdefaults": {
           "arrowcolor": "#2a3f5f",
           "arrowhead": 0,
           "arrowwidth": 1
          },
          "autotypenumbers": "strict",
          "coloraxis": {
           "colorbar": {
            "outlinewidth": 0,
            "ticks": ""
           }
          },
          "colorscale": {
           "diverging": [
            [
             0,
             "#8e0152"
            ],
            [
             0.1,
             "#c51b7d"
            ],
            [
             0.2,
             "#de77ae"
            ],
            [
             0.3,
             "#f1b6da"
            ],
            [
             0.4,
             "#fde0ef"
            ],
            [
             0.5,
             "#f7f7f7"
            ],
            [
             0.6,
             "#e6f5d0"
            ],
            [
             0.7,
             "#b8e186"
            ],
            [
             0.8,
             "#7fbc41"
            ],
            [
             0.9,
             "#4d9221"
            ],
            [
             1,
             "#276419"
            ]
           ],
           "sequential": [
            [
             0,
             "#0d0887"
            ],
            [
             0.1111111111111111,
             "#46039f"
            ],
            [
             0.2222222222222222,
             "#7201a8"
            ],
            [
             0.3333333333333333,
             "#9c179e"
            ],
            [
             0.4444444444444444,
             "#bd3786"
            ],
            [
             0.5555555555555556,
             "#d8576b"
            ],
            [
             0.6666666666666666,
             "#ed7953"
            ],
            [
             0.7777777777777778,
             "#fb9f3a"
            ],
            [
             0.8888888888888888,
             "#fdca26"
            ],
            [
             1,
             "#f0f921"
            ]
           ],
           "sequentialminus": [
            [
             0,
             "#0d0887"
            ],
            [
             0.1111111111111111,
             "#46039f"
            ],
            [
             0.2222222222222222,
             "#7201a8"
            ],
            [
             0.3333333333333333,
             "#9c179e"
            ],
            [
             0.4444444444444444,
             "#bd3786"
            ],
            [
             0.5555555555555556,
             "#d8576b"
            ],
            [
             0.6666666666666666,
             "#ed7953"
            ],
            [
             0.7777777777777778,
             "#fb9f3a"
            ],
            [
             0.8888888888888888,
             "#fdca26"
            ],
            [
             1,
             "#f0f921"
            ]
           ]
          },
          "colorway": [
           "#636efa",
           "#EF553B",
           "#00cc96",
           "#ab63fa",
           "#FFA15A",
           "#19d3f3",
           "#FF6692",
           "#B6E880",
           "#FF97FF",
           "#FECB52"
          ],
          "font": {
           "color": "#2a3f5f"
          },
          "geo": {
           "bgcolor": "white",
           "lakecolor": "white",
           "landcolor": "#E5ECF6",
           "showlakes": true,
           "showland": true,
           "subunitcolor": "white"
          },
          "hoverlabel": {
           "align": "left"
          },
          "hovermode": "closest",
          "mapbox": {
           "style": "light"
          },
          "paper_bgcolor": "white",
          "plot_bgcolor": "#E5ECF6",
          "polar": {
           "angularaxis": {
            "gridcolor": "white",
            "linecolor": "white",
            "ticks": ""
           },
           "bgcolor": "#E5ECF6",
           "radialaxis": {
            "gridcolor": "white",
            "linecolor": "white",
            "ticks": ""
           }
          },
          "scene": {
           "xaxis": {
            "backgroundcolor": "#E5ECF6",
            "gridcolor": "white",
            "gridwidth": 2,
            "linecolor": "white",
            "showbackground": true,
            "ticks": "",
            "zerolinecolor": "white"
           },
           "yaxis": {
            "backgroundcolor": "#E5ECF6",
            "gridcolor": "white",
            "gridwidth": 2,
            "linecolor": "white",
            "showbackground": true,
            "ticks": "",
            "zerolinecolor": "white"
           },
           "zaxis": {
            "backgroundcolor": "#E5ECF6",
            "gridcolor": "white",
            "gridwidth": 2,
            "linecolor": "white",
            "showbackground": true,
            "ticks": "",
            "zerolinecolor": "white"
           }
          },
          "shapedefaults": {
           "line": {
            "color": "#2a3f5f"
           }
          },
          "ternary": {
           "aaxis": {
            "gridcolor": "white",
            "linecolor": "white",
            "ticks": ""
           },
           "baxis": {
            "gridcolor": "white",
            "linecolor": "white",
            "ticks": ""
           },
           "bgcolor": "#E5ECF6",
           "caxis": {
            "gridcolor": "white",
            "linecolor": "white",
            "ticks": ""
           }
          },
          "title": {
           "x": 0.05
          },
          "xaxis": {
           "automargin": true,
           "gridcolor": "white",
           "linecolor": "white",
           "ticks": "",
           "title": {
            "standoff": 15
           },
           "zerolinecolor": "white",
           "zerolinewidth": 2
          },
          "yaxis": {
           "automargin": true,
           "gridcolor": "white",
           "linecolor": "white",
           "ticks": "",
           "title": {
            "standoff": 15
           },
           "zerolinecolor": "white",
           "zerolinewidth": 2
          }
         }
        },
        "title": {
         "text": "Words per character"
        },
        "xaxis": {
         "anchor": "y",
         "categoryarray": [
          "Michael",
          "Dwight",
          "Jim",
          "Andy",
          "Pam",
          "Angela",
          "Kevin",
          "Erin",
          "Ryan",
          "Oscar",
          "Darryl",
          "Kelly",
          "Jan",
          "Toby",
          "Phyllis",
          "Nellie",
          "Stanley",
          "Robert",
          "Gabe",
          "Holly"
         ],
         "categoryorder": "array",
         "domain": [
          0,
          1
         ],
         "title": {
          "text": "speaker"
         }
        },
        "yaxis": {
         "anchor": "x",
         "domain": [
          0,
          1
         ],
         "title": {
          "text": "number of words"
         }
        }
       }
      }
     },
     "metadata": {},
     "output_type": "display_data"
    }
   ],
   "source": [
    "words_df = df.copy()\n",
    "words_df['word_count'] = words_df['line_text'].apply(lambda x: len(x.split()))\n",
    "top20_characters = words_df[[\"speaker\", \"word_count\"]].groupby(\"speaker\").sum().sort_values(\"word_count\", ascending=False).index[:20]\n",
    "words_per_character = words_df[[\"speaker\", \"season\", \"word_count\"]][words_df[\"speaker\"].isin(top20_characters)].groupby([\"speaker\", \"season\"]).sum().reset_index(level=[0,1])\n",
    "words_per_character['season'] = words_per_character['season'].astype(str)\n",
    "\n",
    "fig = px.bar(words_per_character.sort_values(\"season\"), x=\"speaker\", y=\"word_count\", color='season', color_discrete_sequence=px.colors.qualitative.Prism, title='Words per character')\n",
    "fig.update_xaxes(categoryorder='array', categoryarray= top20_characters)\n",
    "fig.update_yaxes(title='number of words')"
   ]
  },
  {
   "cell_type": "code",
   "execution_count": 7,
   "metadata": {},
   "outputs": [
    {
     "data": {
      "application/vnd.plotly.v1+json": {
       "config": {
        "plotlyServerURL": "https://plot.ly"
       },
       "data": [
        {
         "hovertemplate": "speaker=Andy<br>season_episode=%{x}<br>number of lines=%{y}<extra></extra>",
         "legendgroup": "Andy",
         "line": {
          "color": "#636efa",
          "dash": "solid"
         },
         "marker": {
          "symbol": "circle"
         },
         "mode": "lines",
         "name": "Andy",
         "orientation": "v",
         "showlegend": true,
         "type": "scatter",
         "x": [
          "101",
          "102",
          "103",
          "104",
          "105",
          "106",
          "201",
          "202",
          "203",
          "204",
          "205",
          "206",
          "207",
          "208",
          "209",
          "210",
          "211",
          "212",
          "213",
          "214",
          "215",
          "216",
          "217",
          "218",
          "219",
          "220",
          "221",
          "222",
          "301",
          "302",
          "303",
          "304",
          "305",
          "306",
          "307",
          "308",
          "309",
          "310",
          "311",
          "312",
          "313",
          "314",
          "315",
          "316",
          "317",
          "318",
          "319",
          "320",
          "321",
          "322",
          "323",
          "401",
          "402",
          "403",
          "404",
          "405",
          "406",
          "407",
          "408",
          "409",
          "410",
          "411",
          "412",
          "413",
          "414",
          "501",
          "502",
          "503",
          "504",
          "505",
          "506",
          "507",
          "508",
          "509",
          "510",
          "511",
          "512",
          "513",
          "514",
          "515",
          "516",
          "517",
          "518",
          "519",
          "520",
          "521",
          "522",
          "523",
          "524",
          "525",
          "526",
          "601",
          "602",
          "603",
          "604",
          "605",
          "606",
          "607",
          "608",
          "609",
          "610",
          "611",
          "612",
          "613",
          "614",
          "615",
          "616",
          "617",
          "618",
          "619",
          "620",
          "621",
          "622",
          "623",
          "624",
          "701",
          "702",
          "703",
          "704",
          "705",
          "706",
          "707",
          "708",
          "709",
          "710",
          "711",
          "712",
          "713",
          "714",
          "715",
          "716",
          "717",
          "718",
          "719",
          "720",
          "721",
          "722",
          "723",
          "724",
          "801",
          "802",
          "803",
          "804",
          "805",
          "806",
          "807",
          "808",
          "809",
          "810",
          "811",
          "812",
          "813",
          "814",
          "815",
          "816",
          "817",
          "818",
          "819",
          "820",
          "821",
          "822",
          "823",
          "824",
          "901",
          "902",
          "903",
          "904",
          "905",
          "906",
          "907",
          "908",
          "909",
          "910",
          "911",
          "912",
          "913",
          "914",
          "915",
          "916",
          "917",
          "918",
          "919",
          "920",
          "921",
          "922",
          "923"
         ],
         "xaxis": "x",
         "y": [
          0,
          0,
          0,
          0,
          0,
          0,
          0,
          0,
          0,
          0,
          0,
          0,
          0,
          0,
          0,
          0,
          0,
          0,
          0,
          0,
          0,
          0,
          0,
          0,
          0,
          0,
          0,
          0,
          8,
          0,
          10,
          4,
          8,
          18,
          5,
          55,
          17,
          28,
          10,
          29,
          40,
          0,
          0,
          0,
          0,
          2,
          34,
          56,
          16,
          21,
          30,
          10,
          14,
          47,
          25,
          21,
          12,
          7,
          6,
          14,
          14,
          4,
          23,
          14,
          12,
          31,
          12,
          13,
          7,
          44,
          29,
          69,
          6,
          18,
          8,
          65,
          5,
          23,
          27,
          0,
          0,
          12,
          6,
          14,
          16,
          18,
          31,
          3,
          12,
          16,
          12,
          38,
          7,
          3,
          33,
          57,
          9,
          37,
          28,
          24,
          14,
          22,
          16,
          1,
          10,
          24,
          25,
          24,
          15,
          35,
          25,
          3,
          30,
          41,
          17,
          16,
          13,
          49,
          40,
          38,
          16,
          25,
          27,
          10,
          23,
          28,
          21,
          51,
          14,
          37,
          2,
          29,
          17,
          12,
          4,
          24,
          9,
          26,
          26,
          52,
          86,
          63,
          66,
          34,
          54,
          43,
          58,
          59,
          88,
          44,
          44,
          47,
          45,
          22,
          20,
          28,
          20,
          33,
          48,
          53,
          41,
          28,
          49,
          33,
          33,
          44,
          40,
          50,
          54,
          9,
          0,
          0,
          0,
          0,
          0,
          0,
          0,
          62,
          83,
          5,
          11,
          31,
          39,
          68,
          44,
          31
         ],
         "yaxis": "y"
        },
        {
         "hovertemplate": "speaker=Michael<br>season_episode=%{x}<br>number of lines=%{y}<extra></extra>",
         "legendgroup": "Michael",
         "line": {
          "color": "#EF553B",
          "dash": "solid"
         },
         "marker": {
          "symbol": "circle"
         },
         "mode": "lines",
         "name": "Michael",
         "orientation": "v",
         "showlegend": true,
         "type": "scatter",
         "x": [
          "101",
          "102",
          "103",
          "104",
          "105",
          "106",
          "201",
          "202",
          "203",
          "204",
          "205",
          "206",
          "207",
          "208",
          "209",
          "210",
          "211",
          "212",
          "213",
          "214",
          "215",
          "216",
          "217",
          "218",
          "219",
          "220",
          "221",
          "222",
          "301",
          "302",
          "303",
          "304",
          "305",
          "306",
          "307",
          "308",
          "309",
          "310",
          "311",
          "312",
          "313",
          "314",
          "315",
          "316",
          "317",
          "318",
          "319",
          "320",
          "321",
          "322",
          "323",
          "401",
          "402",
          "403",
          "404",
          "405",
          "406",
          "407",
          "408",
          "409",
          "410",
          "411",
          "412",
          "413",
          "414",
          "501",
          "502",
          "503",
          "504",
          "505",
          "506",
          "507",
          "508",
          "509",
          "510",
          "511",
          "512",
          "513",
          "514",
          "515",
          "516",
          "517",
          "518",
          "519",
          "520",
          "521",
          "522",
          "523",
          "524",
          "525",
          "526",
          "601",
          "602",
          "603",
          "604",
          "605",
          "606",
          "607",
          "608",
          "609",
          "610",
          "611",
          "612",
          "613",
          "614",
          "615",
          "616",
          "617",
          "618",
          "619",
          "620",
          "621",
          "622",
          "623",
          "624",
          "701",
          "702",
          "703",
          "704",
          "705",
          "706",
          "707",
          "708",
          "709",
          "710",
          "711",
          "712",
          "713",
          "714",
          "715",
          "716",
          "717",
          "718",
          "719",
          "720",
          "721",
          "722",
          "723",
          "724",
          "801",
          "802",
          "803",
          "804",
          "805",
          "806",
          "807",
          "808",
          "809",
          "810",
          "811",
          "812",
          "813",
          "814",
          "815",
          "816",
          "817",
          "818",
          "819",
          "820",
          "821",
          "822",
          "823",
          "824",
          "901",
          "902",
          "903",
          "904",
          "905",
          "906",
          "907",
          "908",
          "909",
          "910",
          "911",
          "912",
          "913",
          "914",
          "915",
          "916",
          "917",
          "918",
          "919",
          "920",
          "921",
          "922",
          "923"
         ],
         "xaxis": "x",
         "y": [
          81,
          81,
          56,
          79,
          106,
          106,
          106,
          100,
          83,
          69,
          112,
          86,
          73,
          110,
          80,
          90,
          79,
          124,
          92,
          101,
          76,
          48,
          59,
          78,
          87,
          50,
          88,
          103,
          63,
          122,
          83,
          106,
          44,
          77,
          67,
          149,
          54,
          115,
          100,
          48,
          48,
          77,
          49,
          65,
          85,
          107,
          102,
          68,
          92,
          145,
          123,
          160,
          158,
          156,
          159,
          92,
          90,
          82,
          89,
          101,
          100,
          104,
          99,
          76,
          167,
          130,
          64,
          83,
          94,
          101,
          73,
          77,
          90,
          100,
          65,
          52,
          90,
          118,
          55,
          50,
          86,
          113,
          104,
          88,
          78,
          46,
          95,
          76,
          95,
          85,
          55,
          95,
          71,
          86,
          129,
          122,
          85,
          85,
          114,
          67,
          71,
          68,
          95,
          44,
          82,
          68,
          117,
          52,
          85,
          74,
          46,
          86,
          92,
          82,
          67,
          58,
          31,
          43,
          88,
          85,
          59,
          74,
          56,
          66,
          56,
          130,
          75,
          37,
          42,
          73,
          33,
          57,
          72,
          68,
          82,
          116,
          0,
          0,
          0,
          0,
          0,
          0,
          0,
          0,
          0,
          0,
          0,
          0,
          0,
          0,
          0,
          0,
          0,
          0,
          0,
          0,
          0,
          0,
          0,
          0,
          0,
          0,
          0,
          0,
          0,
          0,
          0,
          0,
          0,
          0,
          0,
          0,
          0,
          0,
          0,
          0,
          0,
          0,
          0,
          0,
          0,
          0,
          0,
          0,
          0,
          2
         ],
         "yaxis": "y"
        },
        {
         "hovertemplate": "speaker=Dwight<br>season_episode=%{x}<br>number of lines=%{y}<extra></extra>",
         "legendgroup": "Dwight",
         "line": {
          "color": "#00cc96",
          "dash": "solid"
         },
         "marker": {
          "symbol": "circle"
         },
         "mode": "lines",
         "name": "Dwight",
         "orientation": "v",
         "showlegend": true,
         "type": "scatter",
         "x": [
          "101",
          "102",
          "103",
          "104",
          "105",
          "106",
          "201",
          "202",
          "203",
          "204",
          "205",
          "206",
          "207",
          "208",
          "209",
          "210",
          "211",
          "212",
          "213",
          "214",
          "215",
          "216",
          "217",
          "218",
          "219",
          "220",
          "221",
          "222",
          "301",
          "302",
          "303",
          "304",
          "305",
          "306",
          "307",
          "308",
          "309",
          "310",
          "311",
          "312",
          "313",
          "314",
          "315",
          "316",
          "317",
          "318",
          "319",
          "320",
          "321",
          "322",
          "323",
          "401",
          "402",
          "403",
          "404",
          "405",
          "406",
          "407",
          "408",
          "409",
          "410",
          "411",
          "412",
          "413",
          "414",
          "501",
          "502",
          "503",
          "504",
          "505",
          "506",
          "507",
          "508",
          "509",
          "510",
          "511",
          "512",
          "513",
          "514",
          "515",
          "516",
          "517",
          "518",
          "519",
          "520",
          "521",
          "522",
          "523",
          "524",
          "525",
          "526",
          "601",
          "602",
          "603",
          "604",
          "605",
          "606",
          "607",
          "608",
          "609",
          "610",
          "611",
          "612",
          "613",
          "614",
          "615",
          "616",
          "617",
          "618",
          "619",
          "620",
          "621",
          "622",
          "623",
          "624",
          "701",
          "702",
          "703",
          "704",
          "705",
          "706",
          "707",
          "708",
          "709",
          "710",
          "711",
          "712",
          "713",
          "714",
          "715",
          "716",
          "717",
          "718",
          "719",
          "720",
          "721",
          "722",
          "723",
          "724",
          "801",
          "802",
          "803",
          "804",
          "805",
          "806",
          "807",
          "808",
          "809",
          "810",
          "811",
          "812",
          "813",
          "814",
          "815",
          "816",
          "817",
          "818",
          "819",
          "820",
          "821",
          "822",
          "823",
          "824",
          "901",
          "902",
          "903",
          "904",
          "905",
          "906",
          "907",
          "908",
          "909",
          "910",
          "911",
          "912",
          "913",
          "914",
          "915",
          "916",
          "917",
          "918",
          "919",
          "920",
          "921",
          "922",
          "923"
         ],
         "xaxis": "x",
         "y": [
          29,
          19,
          62,
          58,
          26,
          28,
          39,
          11,
          58,
          65,
          33,
          70,
          22,
          42,
          34,
          43,
          26,
          60,
          38,
          25,
          12,
          19,
          53,
          23,
          45,
          71,
          33,
          34,
          18,
          44,
          77,
          40,
          57,
          8,
          38,
          84,
          4,
          62,
          39,
          33,
          25,
          29,
          25,
          25,
          35,
          18,
          70,
          42,
          46,
          50,
          70,
          57,
          74,
          88,
          53,
          11,
          44,
          36,
          5,
          18,
          22,
          48,
          32,
          10,
          49,
          61,
          14,
          39,
          33,
          38,
          99,
          16,
          38,
          29,
          27,
          66,
          73,
          73,
          25,
          33,
          31,
          71,
          21,
          12,
          17,
          28,
          83,
          25,
          49,
          32,
          41,
          20,
          32,
          29,
          84,
          50,
          30,
          14,
          50,
          30,
          26,
          36,
          37,
          17,
          9,
          39,
          47,
          29,
          43,
          34,
          17,
          45,
          38,
          36,
          19,
          21,
          48,
          17,
          41,
          56,
          14,
          16,
          26,
          24,
          48,
          38,
          34,
          19,
          26,
          24,
          3,
          41,
          31,
          10,
          13,
          16,
          20,
          73,
          44,
          38,
          21,
          37,
          29,
          21,
          51,
          55,
          30,
          52,
          28,
          34,
          47,
          58,
          67,
          63,
          60,
          53,
          45,
          21,
          22,
          16,
          15,
          56,
          27,
          42,
          31,
          24,
          40,
          39,
          34,
          53,
          57,
          59,
          18,
          41,
          44,
          87,
          37,
          32,
          44,
          51,
          37,
          61,
          21,
          54,
          87,
          76
         ],
         "yaxis": "y"
        },
        {
         "hovertemplate": "speaker=Pam<br>season_episode=%{x}<br>number of lines=%{y}<extra></extra>",
         "legendgroup": "Pam",
         "line": {
          "color": "#ab63fa",
          "dash": "solid"
         },
         "marker": {
          "symbol": "circle"
         },
         "mode": "lines",
         "name": "Pam",
         "orientation": "v",
         "showlegend": true,
         "type": "scatter",
         "x": [
          "101",
          "102",
          "103",
          "104",
          "105",
          "106",
          "201",
          "202",
          "203",
          "204",
          "205",
          "206",
          "207",
          "208",
          "209",
          "210",
          "211",
          "212",
          "213",
          "214",
          "215",
          "216",
          "217",
          "218",
          "219",
          "220",
          "221",
          "222",
          "301",
          "302",
          "303",
          "304",
          "305",
          "306",
          "307",
          "308",
          "309",
          "310",
          "311",
          "312",
          "313",
          "314",
          "315",
          "316",
          "317",
          "318",
          "319",
          "320",
          "321",
          "322",
          "323",
          "401",
          "402",
          "403",
          "404",
          "405",
          "406",
          "407",
          "408",
          "409",
          "410",
          "411",
          "412",
          "413",
          "414",
          "501",
          "502",
          "503",
          "504",
          "505",
          "506",
          "507",
          "508",
          "509",
          "510",
          "511",
          "512",
          "513",
          "514",
          "515",
          "516",
          "517",
          "518",
          "519",
          "520",
          "521",
          "522",
          "523",
          "524",
          "525",
          "526",
          "601",
          "602",
          "603",
          "604",
          "605",
          "606",
          "607",
          "608",
          "609",
          "610",
          "611",
          "612",
          "613",
          "614",
          "615",
          "616",
          "617",
          "618",
          "619",
          "620",
          "621",
          "622",
          "623",
          "624",
          "701",
          "702",
          "703",
          "704",
          "705",
          "706",
          "707",
          "708",
          "709",
          "710",
          "711",
          "712",
          "713",
          "714",
          "715",
          "716",
          "717",
          "718",
          "719",
          "720",
          "721",
          "722",
          "723",
          "724",
          "801",
          "802",
          "803",
          "804",
          "805",
          "806",
          "807",
          "808",
          "809",
          "810",
          "811",
          "812",
          "813",
          "814",
          "815",
          "816",
          "817",
          "818",
          "819",
          "820",
          "821",
          "822",
          "823",
          "824",
          "901",
          "902",
          "903",
          "904",
          "905",
          "906",
          "907",
          "908",
          "909",
          "910",
          "911",
          "912",
          "913",
          "914",
          "915",
          "916",
          "917",
          "918",
          "919",
          "920",
          "921",
          "922",
          "923"
         ],
         "xaxis": "x",
         "y": [
          41,
          16,
          32,
          22,
          14,
          45,
          41,
          27,
          35,
          22,
          27,
          25,
          32,
          30,
          38,
          17,
          18,
          57,
          27,
          28,
          26,
          24,
          20,
          21,
          26,
          15,
          24,
          45,
          12,
          30,
          20,
          34,
          56,
          26,
          22,
          45,
          16,
          57,
          43,
          9,
          10,
          30,
          15,
          29,
          24,
          16,
          21,
          16,
          36,
          30,
          51,
          84,
          56,
          31,
          56,
          22,
          26,
          23,
          25,
          35,
          42,
          17,
          30,
          34,
          47,
          36,
          9,
          25,
          11,
          25,
          34,
          14,
          26,
          58,
          6,
          9,
          5,
          32,
          35,
          38,
          32,
          24,
          14,
          38,
          65,
          45,
          18,
          33,
          30,
          19,
          25,
          27,
          24,
          17,
          70,
          5,
          60,
          39,
          70,
          12,
          12,
          14,
          16,
          5,
          25,
          5,
          126,
          1,
          3,
          31,
          28,
          27,
          42,
          30,
          17,
          25,
          39,
          17,
          8,
          10,
          24,
          33,
          23,
          28,
          45,
          69,
          31,
          18,
          36,
          24,
          4,
          36,
          32,
          8,
          15,
          20,
          24,
          11,
          32,
          25,
          34,
          23,
          15,
          27,
          21,
          65,
          18,
          0,
          0,
          0,
          0,
          28,
          29,
          10,
          15,
          10,
          10,
          17,
          32,
          29,
          22,
          23,
          22,
          19,
          34,
          34,
          29,
          32,
          11,
          45,
          17,
          32,
          44,
          23,
          48,
          24,
          57,
          28,
          55,
          21,
          42,
          9,
          22,
          30,
          34,
          45
         ],
         "yaxis": "y"
        },
        {
         "hovertemplate": "speaker=Jim<br>season_episode=%{x}<br>number of lines=%{y}<extra></extra>",
         "legendgroup": "Jim",
         "line": {
          "color": "#FFA15A",
          "dash": "solid"
         },
         "marker": {
          "symbol": "circle"
         },
         "mode": "lines",
         "name": "Jim",
         "orientation": "v",
         "showlegend": true,
         "type": "scatter",
         "x": [
          "101",
          "102",
          "103",
          "104",
          "105",
          "106",
          "201",
          "202",
          "203",
          "204",
          "205",
          "206",
          "207",
          "208",
          "209",
          "210",
          "211",
          "212",
          "213",
          "214",
          "215",
          "216",
          "217",
          "218",
          "219",
          "220",
          "221",
          "222",
          "301",
          "302",
          "303",
          "304",
          "305",
          "306",
          "307",
          "308",
          "309",
          "310",
          "311",
          "312",
          "313",
          "314",
          "315",
          "316",
          "317",
          "318",
          "319",
          "320",
          "321",
          "322",
          "323",
          "401",
          "402",
          "403",
          "404",
          "405",
          "406",
          "407",
          "408",
          "409",
          "410",
          "411",
          "412",
          "413",
          "414",
          "501",
          "502",
          "503",
          "504",
          "505",
          "506",
          "507",
          "508",
          "509",
          "510",
          "511",
          "512",
          "513",
          "514",
          "515",
          "516",
          "517",
          "518",
          "519",
          "520",
          "521",
          "522",
          "523",
          "524",
          "525",
          "526",
          "601",
          "602",
          "603",
          "604",
          "605",
          "606",
          "607",
          "608",
          "609",
          "610",
          "611",
          "612",
          "613",
          "614",
          "615",
          "616",
          "617",
          "618",
          "619",
          "620",
          "621",
          "622",
          "623",
          "624",
          "701",
          "702",
          "703",
          "704",
          "705",
          "706",
          "707",
          "708",
          "709",
          "710",
          "711",
          "712",
          "713",
          "714",
          "715",
          "716",
          "717",
          "718",
          "719",
          "720",
          "721",
          "722",
          "723",
          "724",
          "801",
          "802",
          "803",
          "804",
          "805",
          "806",
          "807",
          "808",
          "809",
          "810",
          "811",
          "812",
          "813",
          "814",
          "815",
          "816",
          "817",
          "818",
          "819",
          "820",
          "821",
          "822",
          "823",
          "824",
          "901",
          "902",
          "903",
          "904",
          "905",
          "906",
          "907",
          "908",
          "909",
          "910",
          "911",
          "912",
          "913",
          "914",
          "915",
          "916",
          "917",
          "918",
          "919",
          "920",
          "921",
          "922",
          "923"
         ],
         "xaxis": "x",
         "y": [
          36,
          27,
          42,
          49,
          22,
          55,
          33,
          16,
          56,
          51,
          30,
          49,
          40,
          26,
          53,
          27,
          31,
          55,
          50,
          33,
          22,
          17,
          35,
          18,
          22,
          20,
          28,
          52,
          13,
          32,
          17,
          19,
          47,
          20,
          21,
          81,
          31,
          45,
          33,
          29,
          25,
          25,
          19,
          20,
          22,
          41,
          31,
          74,
          33,
          30,
          65,
          53,
          48,
          70,
          52,
          47,
          78,
          69,
          27,
          42,
          26,
          43,
          31,
          21,
          77,
          68,
          29,
          28,
          36,
          25,
          111,
          22,
          31,
          31,
          26,
          34,
          13,
          35,
          34,
          33,
          35,
          39,
          30,
          26,
          35,
          28,
          27,
          29,
          29,
          17,
          24,
          42,
          19,
          91,
          56,
          14,
          60,
          49,
          26,
          47,
          37,
          38,
          39,
          0,
          26,
          33,
          134,
          40,
          51,
          33,
          8,
          37,
          14,
          21,
          13,
          22,
          34,
          19,
          4,
          59,
          27,
          38,
          18,
          24,
          27,
          50,
          8,
          24,
          32,
          23,
          6,
          38,
          24,
          10,
          24,
          18,
          40,
          28,
          90,
          38,
          42,
          52,
          23,
          29,
          44,
          40,
          25,
          29,
          44,
          19,
          22,
          73,
          30,
          32,
          55,
          28,
          45,
          38,
          39,
          19,
          24,
          48,
          31,
          21,
          39,
          19,
          60,
          35,
          9,
          22,
          29,
          58,
          28,
          18,
          37,
          45,
          30,
          26,
          28,
          6,
          31,
          15,
          17,
          63,
          89,
          73
         ],
         "yaxis": "y"
        }
       ],
       "layout": {
        "annotations": [
         {
          "align": "left",
          "showarrow": false,
          "text": "Andy is introduced",
          "x": 17,
          "y": 170
         },
         {
          "align": "left",
          "showarrow": false,
          "text": "Birth of Jim and Pam's daughter",
          "x": 87.5,
          "y": 170
         },
         {
          "align": "left",
          "showarrow": false,
          "text": "Michael leaves",
          "x": 126.5,
          "y": 170
         },
         {
          "font": {
           "color": "Blue",
           "size": 11
          },
          "showarrow": false,
          "text": "Andy is on a boat trip",
          "x": "176",
          "xanchor": "right",
          "xref": "x",
          "y": 1,
          "yanchor": "top",
          "yref": "y domain"
         }
        ],
        "legend": {
         "title": {
          "text": "speaker"
         },
         "tracegroupgap": 0
        },
        "shapes": [
         {
          "line": {
           "color": "Black",
           "dash": "dot",
           "width": 1
          },
          "type": "line",
          "x0": 28,
          "x1": 28,
          "xref": "x",
          "y0": 0,
          "y1": 1,
          "yref": "paper"
         },
         {
          "line": {
           "color": "Black",
           "dash": "dot",
           "width": 1
          },
          "type": "line",
          "x0": 106,
          "x1": 106,
          "xref": "x",
          "y0": 0,
          "y1": 1,
          "yref": "paper"
         },
         {
          "line": {
           "color": "Black",
           "dash": "dot",
           "width": 1
          },
          "type": "line",
          "x0": 135,
          "x1": 135,
          "xref": "x",
          "y0": 0,
          "y1": 1,
          "yref": "paper"
         },
         {
          "fillcolor": "blue",
          "line": {
           "width": 0
          },
          "opacity": 0.25,
          "type": "rect",
          "x0": "170",
          "x1": "176",
          "xref": "x",
          "y0": 0,
          "y1": 1,
          "yref": "y domain"
         }
        ],
        "template": {
         "data": {
          "bar": [
           {
            "error_x": {
             "color": "#2a3f5f"
            },
            "error_y": {
             "color": "#2a3f5f"
            },
            "marker": {
             "line": {
              "color": "#E5ECF6",
              "width": 0.5
             },
             "pattern": {
              "fillmode": "overlay",
              "size": 10,
              "solidity": 0.2
             }
            },
            "type": "bar"
           }
          ],
          "barpolar": [
           {
            "marker": {
             "line": {
              "color": "#E5ECF6",
              "width": 0.5
             },
             "pattern": {
              "fillmode": "overlay",
              "size": 10,
              "solidity": 0.2
             }
            },
            "type": "barpolar"
           }
          ],
          "carpet": [
           {
            "aaxis": {
             "endlinecolor": "#2a3f5f",
             "gridcolor": "white",
             "linecolor": "white",
             "minorgridcolor": "white",
             "startlinecolor": "#2a3f5f"
            },
            "baxis": {
             "endlinecolor": "#2a3f5f",
             "gridcolor": "white",
             "linecolor": "white",
             "minorgridcolor": "white",
             "startlinecolor": "#2a3f5f"
            },
            "type": "carpet"
           }
          ],
          "choropleth": [
           {
            "colorbar": {
             "outlinewidth": 0,
             "ticks": ""
            },
            "type": "choropleth"
           }
          ],
          "contour": [
           {
            "colorbar": {
             "outlinewidth": 0,
             "ticks": ""
            },
            "colorscale": [
             [
              0,
              "#0d0887"
             ],
             [
              0.1111111111111111,
              "#46039f"
             ],
             [
              0.2222222222222222,
              "#7201a8"
             ],
             [
              0.3333333333333333,
              "#9c179e"
             ],
             [
              0.4444444444444444,
              "#bd3786"
             ],
             [
              0.5555555555555556,
              "#d8576b"
             ],
             [
              0.6666666666666666,
              "#ed7953"
             ],
             [
              0.7777777777777778,
              "#fb9f3a"
             ],
             [
              0.8888888888888888,
              "#fdca26"
             ],
             [
              1,
              "#f0f921"
             ]
            ],
            "type": "contour"
           }
          ],
          "contourcarpet": [
           {
            "colorbar": {
             "outlinewidth": 0,
             "ticks": ""
            },
            "type": "contourcarpet"
           }
          ],
          "heatmap": [
           {
            "colorbar": {
             "outlinewidth": 0,
             "ticks": ""
            },
            "colorscale": [
             [
              0,
              "#0d0887"
             ],
             [
              0.1111111111111111,
              "#46039f"
             ],
             [
              0.2222222222222222,
              "#7201a8"
             ],
             [
              0.3333333333333333,
              "#9c179e"
             ],
             [
              0.4444444444444444,
              "#bd3786"
             ],
             [
              0.5555555555555556,
              "#d8576b"
             ],
             [
              0.6666666666666666,
              "#ed7953"
             ],
             [
              0.7777777777777778,
              "#fb9f3a"
             ],
             [
              0.8888888888888888,
              "#fdca26"
             ],
             [
              1,
              "#f0f921"
             ]
            ],
            "type": "heatmap"
           }
          ],
          "heatmapgl": [
           {
            "colorbar": {
             "outlinewidth": 0,
             "ticks": ""
            },
            "colorscale": [
             [
              0,
              "#0d0887"
             ],
             [
              0.1111111111111111,
              "#46039f"
             ],
             [
              0.2222222222222222,
              "#7201a8"
             ],
             [
              0.3333333333333333,
              "#9c179e"
             ],
             [
              0.4444444444444444,
              "#bd3786"
             ],
             [
              0.5555555555555556,
              "#d8576b"
             ],
             [
              0.6666666666666666,
              "#ed7953"
             ],
             [
              0.7777777777777778,
              "#fb9f3a"
             ],
             [
              0.8888888888888888,
              "#fdca26"
             ],
             [
              1,
              "#f0f921"
             ]
            ],
            "type": "heatmapgl"
           }
          ],
          "histogram": [
           {
            "marker": {
             "pattern": {
              "fillmode": "overlay",
              "size": 10,
              "solidity": 0.2
             }
            },
            "type": "histogram"
           }
          ],
          "histogram2d": [
           {
            "colorbar": {
             "outlinewidth": 0,
             "ticks": ""
            },
            "colorscale": [
             [
              0,
              "#0d0887"
             ],
             [
              0.1111111111111111,
              "#46039f"
             ],
             [
              0.2222222222222222,
              "#7201a8"
             ],
             [
              0.3333333333333333,
              "#9c179e"
             ],
             [
              0.4444444444444444,
              "#bd3786"
             ],
             [
              0.5555555555555556,
              "#d8576b"
             ],
             [
              0.6666666666666666,
              "#ed7953"
             ],
             [
              0.7777777777777778,
              "#fb9f3a"
             ],
             [
              0.8888888888888888,
              "#fdca26"
             ],
             [
              1,
              "#f0f921"
             ]
            ],
            "type": "histogram2d"
           }
          ],
          "histogram2dcontour": [
           {
            "colorbar": {
             "outlinewidth": 0,
             "ticks": ""
            },
            "colorscale": [
             [
              0,
              "#0d0887"
             ],
             [
              0.1111111111111111,
              "#46039f"
             ],
             [
              0.2222222222222222,
              "#7201a8"
             ],
             [
              0.3333333333333333,
              "#9c179e"
             ],
             [
              0.4444444444444444,
              "#bd3786"
             ],
             [
              0.5555555555555556,
              "#d8576b"
             ],
             [
              0.6666666666666666,
              "#ed7953"
             ],
             [
              0.7777777777777778,
              "#fb9f3a"
             ],
             [
              0.8888888888888888,
              "#fdca26"
             ],
             [
              1,
              "#f0f921"
             ]
            ],
            "type": "histogram2dcontour"
           }
          ],
          "mesh3d": [
           {
            "colorbar": {
             "outlinewidth": 0,
             "ticks": ""
            },
            "type": "mesh3d"
           }
          ],
          "parcoords": [
           {
            "line": {
             "colorbar": {
              "outlinewidth": 0,
              "ticks": ""
             }
            },
            "type": "parcoords"
           }
          ],
          "pie": [
           {
            "automargin": true,
            "type": "pie"
           }
          ],
          "scatter": [
           {
            "fillpattern": {
             "fillmode": "overlay",
             "size": 10,
             "solidity": 0.2
            },
            "type": "scatter"
           }
          ],
          "scatter3d": [
           {
            "line": {
             "colorbar": {
              "outlinewidth": 0,
              "ticks": ""
             }
            },
            "marker": {
             "colorbar": {
              "outlinewidth": 0,
              "ticks": ""
             }
            },
            "type": "scatter3d"
           }
          ],
          "scattercarpet": [
           {
            "marker": {
             "colorbar": {
              "outlinewidth": 0,
              "ticks": ""
             }
            },
            "type": "scattercarpet"
           }
          ],
          "scattergeo": [
           {
            "marker": {
             "colorbar": {
              "outlinewidth": 0,
              "ticks": ""
             }
            },
            "type": "scattergeo"
           }
          ],
          "scattergl": [
           {
            "marker": {
             "colorbar": {
              "outlinewidth": 0,
              "ticks": ""
             }
            },
            "type": "scattergl"
           }
          ],
          "scattermapbox": [
           {
            "marker": {
             "colorbar": {
              "outlinewidth": 0,
              "ticks": ""
             }
            },
            "type": "scattermapbox"
           }
          ],
          "scatterpolar": [
           {
            "marker": {
             "colorbar": {
              "outlinewidth": 0,
              "ticks": ""
             }
            },
            "type": "scatterpolar"
           }
          ],
          "scatterpolargl": [
           {
            "marker": {
             "colorbar": {
              "outlinewidth": 0,
              "ticks": ""
             }
            },
            "type": "scatterpolargl"
           }
          ],
          "scatterternary": [
           {
            "marker": {
             "colorbar": {
              "outlinewidth": 0,
              "ticks": ""
             }
            },
            "type": "scatterternary"
           }
          ],
          "surface": [
           {
            "colorbar": {
             "outlinewidth": 0,
             "ticks": ""
            },
            "colorscale": [
             [
              0,
              "#0d0887"
             ],
             [
              0.1111111111111111,
              "#46039f"
             ],
             [
              0.2222222222222222,
              "#7201a8"
             ],
             [
              0.3333333333333333,
              "#9c179e"
             ],
             [
              0.4444444444444444,
              "#bd3786"
             ],
             [
              0.5555555555555556,
              "#d8576b"
             ],
             [
              0.6666666666666666,
              "#ed7953"
             ],
             [
              0.7777777777777778,
              "#fb9f3a"
             ],
             [
              0.8888888888888888,
              "#fdca26"
             ],
             [
              1,
              "#f0f921"
             ]
            ],
            "type": "surface"
           }
          ],
          "table": [
           {
            "cells": {
             "fill": {
              "color": "#EBF0F8"
             },
             "line": {
              "color": "white"
             }
            },
            "header": {
             "fill": {
              "color": "#C8D4E3"
             },
             "line": {
              "color": "white"
             }
            },
            "type": "table"
           }
          ]
         },
         "layout": {
          "annotationdefaults": {
           "arrowcolor": "#2a3f5f",
           "arrowhead": 0,
           "arrowwidth": 1
          },
          "autotypenumbers": "strict",
          "coloraxis": {
           "colorbar": {
            "outlinewidth": 0,
            "ticks": ""
           }
          },
          "colorscale": {
           "diverging": [
            [
             0,
             "#8e0152"
            ],
            [
             0.1,
             "#c51b7d"
            ],
            [
             0.2,
             "#de77ae"
            ],
            [
             0.3,
             "#f1b6da"
            ],
            [
             0.4,
             "#fde0ef"
            ],
            [
             0.5,
             "#f7f7f7"
            ],
            [
             0.6,
             "#e6f5d0"
            ],
            [
             0.7,
             "#b8e186"
            ],
            [
             0.8,
             "#7fbc41"
            ],
            [
             0.9,
             "#4d9221"
            ],
            [
             1,
             "#276419"
            ]
           ],
           "sequential": [
            [
             0,
             "#0d0887"
            ],
            [
             0.1111111111111111,
             "#46039f"
            ],
            [
             0.2222222222222222,
             "#7201a8"
            ],
            [
             0.3333333333333333,
             "#9c179e"
            ],
            [
             0.4444444444444444,
             "#bd3786"
            ],
            [
             0.5555555555555556,
             "#d8576b"
            ],
            [
             0.6666666666666666,
             "#ed7953"
            ],
            [
             0.7777777777777778,
             "#fb9f3a"
            ],
            [
             0.8888888888888888,
             "#fdca26"
            ],
            [
             1,
             "#f0f921"
            ]
           ],
           "sequentialminus": [
            [
             0,
             "#0d0887"
            ],
            [
             0.1111111111111111,
             "#46039f"
            ],
            [
             0.2222222222222222,
             "#7201a8"
            ],
            [
             0.3333333333333333,
             "#9c179e"
            ],
            [
             0.4444444444444444,
             "#bd3786"
            ],
            [
             0.5555555555555556,
             "#d8576b"
            ],
            [
             0.6666666666666666,
             "#ed7953"
            ],
            [
             0.7777777777777778,
             "#fb9f3a"
            ],
            [
             0.8888888888888888,
             "#fdca26"
            ],
            [
             1,
             "#f0f921"
            ]
           ]
          },
          "colorway": [
           "#636efa",
           "#EF553B",
           "#00cc96",
           "#ab63fa",
           "#FFA15A",
           "#19d3f3",
           "#FF6692",
           "#B6E880",
           "#FF97FF",
           "#FECB52"
          ],
          "font": {
           "color": "#2a3f5f"
          },
          "geo": {
           "bgcolor": "white",
           "lakecolor": "white",
           "landcolor": "#E5ECF6",
           "showlakes": true,
           "showland": true,
           "subunitcolor": "white"
          },
          "hoverlabel": {
           "align": "left"
          },
          "hovermode": "closest",
          "mapbox": {
           "style": "light"
          },
          "paper_bgcolor": "white",
          "plot_bgcolor": "#E5ECF6",
          "polar": {
           "angularaxis": {
            "gridcolor": "white",
            "linecolor": "white",
            "ticks": ""
           },
           "bgcolor": "#E5ECF6",
           "radialaxis": {
            "gridcolor": "white",
            "linecolor": "white",
            "ticks": ""
           }
          },
          "scene": {
           "xaxis": {
            "backgroundcolor": "#E5ECF6",
            "gridcolor": "white",
            "gridwidth": 2,
            "linecolor": "white",
            "showbackground": true,
            "ticks": "",
            "zerolinecolor": "white"
           },
           "yaxis": {
            "backgroundcolor": "#E5ECF6",
            "gridcolor": "white",
            "gridwidth": 2,
            "linecolor": "white",
            "showbackground": true,
            "ticks": "",
            "zerolinecolor": "white"
           },
           "zaxis": {
            "backgroundcolor": "#E5ECF6",
            "gridcolor": "white",
            "gridwidth": 2,
            "linecolor": "white",
            "showbackground": true,
            "ticks": "",
            "zerolinecolor": "white"
           }
          },
          "shapedefaults": {
           "line": {
            "color": "#2a3f5f"
           }
          },
          "ternary": {
           "aaxis": {
            "gridcolor": "white",
            "linecolor": "white",
            "ticks": ""
           },
           "baxis": {
            "gridcolor": "white",
            "linecolor": "white",
            "ticks": ""
           },
           "bgcolor": "#E5ECF6",
           "caxis": {
            "gridcolor": "white",
            "linecolor": "white",
            "ticks": ""
           }
          },
          "title": {
           "x": 0.05
          },
          "xaxis": {
           "automargin": true,
           "gridcolor": "white",
           "linecolor": "white",
           "ticks": "",
           "title": {
            "standoff": 15
           },
           "zerolinecolor": "white",
           "zerolinewidth": 2
          },
          "yaxis": {
           "automargin": true,
           "gridcolor": "white",
           "linecolor": "white",
           "ticks": "",
           "title": {
            "standoff": 15
           },
           "zerolinecolor": "white",
           "zerolinewidth": 2
          }
         }
        },
        "title": {
         "text": "Lines per speaker and episode"
        },
        "xaxis": {
         "anchor": "y",
         "domain": [
          0,
          1
         ],
         "title": {
          "text": "season_episode"
         }
        },
        "yaxis": {
         "anchor": "x",
         "domain": [
          0,
          1
         ],
         "title": {
          "text": "number of lines"
         }
        }
       }
      }
     },
     "metadata": {},
     "output_type": "display_data"
    }
   ],
   "source": [
    "speaker_list = [\"Michael\", \"Dwight\", \"Jim\", \"Pam\", \"Andy\"]\n",
    "\n",
    "lines_per_speaker_episode = df.loc[df[\"speaker\"].isin(speaker_list)].groupby([\"speaker\", \"season_episode\"]).count()[\"line_text\"].unstack(fill_value=0).stack().reset_index(level=['speaker', 'season_episode']).sort_values(\"season_episode\")\n",
    "lines_per_speaker_episode.sort_values([\"season_episode\"], inplace=True)\n",
    "lines_per_speaker_episode.rename(columns={0: \"number of lines\"}, inplace=True)\n",
    "\n",
    "fig = px.line(lines_per_speaker_episode, x=\"season_episode\", y=\"number of lines\", color=\"speaker\", title=\"Lines per speaker and episode\")\n",
    "\n",
    "fig.add_annotation(\n",
    "    x=17\n",
    "    , y=170\n",
    "    , text=f'Andy is introduced'\n",
    "    , showarrow=False\n",
    "    , align=\"left\")\n",
    "\n",
    "fig.add_annotation(\n",
    "    x=87.5\n",
    "    , y=170\n",
    "    , text=f'Birth of Jim and Pam\\'s daughter'\n",
    "    , showarrow=False\n",
    "    , align=\"left\")\n",
    "\n",
    "fig.add_annotation(\n",
    "    x=126.5\n",
    "    , y=170\n",
    "    , text=f'Michael leaves'\n",
    "    , showarrow=False\n",
    "    , align=\"left\")\n",
    "\n",
    "fig.update_layout(shapes=\n",
    "                  [dict(type= 'line',\n",
    "                        yref= 'paper', y0= 0, y1= 1,\n",
    "                        xref= 'x', x0=28, x1=28,\n",
    "                        line=dict(color=\"Black\",\n",
    "                                  width=1,\n",
    "                                  dash=\"dot\")\n",
    "                        ),\n",
    "                    dict(type= 'line',\n",
    "                        yref= 'paper', y0= 0, y1= 1,\n",
    "                        xref= 'x', x0=106, x1=106,\n",
    "                        line=dict(color=\"Black\",\n",
    "                                  width=1,\n",
    "                                  dash=\"dot\")\n",
    "                        ),\n",
    "                    dict(type= 'line',\n",
    "                        yref= 'paper', y0= 0, y1= 1,\n",
    "                        xref= 'x', x0=135, x1=135,\n",
    "                        line=dict(color=\"Black\",\n",
    "                                  width=1,\n",
    "                                  dash=\"dot\")\n",
    "                        ),\n",
    "                  ]                \n",
    "                  )\n",
    "\n",
    "fig.add_vrect(x0=\"170\", x1=\"176\", \n",
    "              annotation_text=\"Andy is on a boat trip\", annotation_position=\"top right\",  \n",
    "              annotation_font_size=11,\n",
    "              annotation_font_color=\"Blue\",\n",
    "              fillcolor=\"blue\", opacity=0.25, line_width=0)"
   ]
  },
  {
   "cell_type": "code",
   "execution_count": 8,
   "metadata": {},
   "outputs": [
    {
     "data": {
      "text/html": [
       "<div>\n",
       "<style scoped>\n",
       "    .dataframe tbody tr th:only-of-type {\n",
       "        vertical-align: middle;\n",
       "    }\n",
       "\n",
       "    .dataframe tbody tr th {\n",
       "        vertical-align: top;\n",
       "    }\n",
       "\n",
       "    .dataframe thead th {\n",
       "        text-align: right;\n",
       "    }\n",
       "</style>\n",
       "<table border=\"1\" class=\"dataframe\">\n",
       "  <thead>\n",
       "    <tr style=\"text-align: right;\">\n",
       "      <th></th>\n",
       "      <th>season</th>\n",
       "      <th>episode</th>\n",
       "      <th>scene</th>\n",
       "      <th>line_text</th>\n",
       "      <th>speaker</th>\n",
       "      <th>season_episode</th>\n",
       "      <th>directionals</th>\n",
       "    </tr>\n",
       "    <tr>\n",
       "      <th>id</th>\n",
       "      <th></th>\n",
       "      <th></th>\n",
       "      <th></th>\n",
       "      <th></th>\n",
       "      <th></th>\n",
       "      <th></th>\n",
       "      <th></th>\n",
       "    </tr>\n",
       "  </thead>\n",
       "  <tbody>\n",
       "    <tr>\n",
       "      <th>1</th>\n",
       "      <td>1</td>\n",
       "      <td>1</td>\n",
       "      <td>1</td>\n",
       "      <td>[all, right, jim, your, quarterlies, look, ver...</td>\n",
       "      <td>Michael</td>\n",
       "      <td>101</td>\n",
       "      <td>NaN</td>\n",
       "    </tr>\n",
       "    <tr>\n",
       "      <th>2</th>\n",
       "      <td>1</td>\n",
       "      <td>1</td>\n",
       "      <td>1</td>\n",
       "      <td>[oh, i, told, you, i, could, not, close, it, so]</td>\n",
       "      <td>Jim</td>\n",
       "      <td>101</td>\n",
       "      <td>NaN</td>\n",
       "    </tr>\n",
       "    <tr>\n",
       "      <th>3</th>\n",
       "      <td>1</td>\n",
       "      <td>1</td>\n",
       "      <td>1</td>\n",
       "      <td>[so, you, have, come, to, the, master, for, gu...</td>\n",
       "      <td>Michael</td>\n",
       "      <td>101</td>\n",
       "      <td>NaN</td>\n",
       "    </tr>\n",
       "    <tr>\n",
       "      <th>4</th>\n",
       "      <td>1</td>\n",
       "      <td>1</td>\n",
       "      <td>1</td>\n",
       "      <td>[actually, you, called, me, in, here, but, yeah]</td>\n",
       "      <td>Jim</td>\n",
       "      <td>101</td>\n",
       "      <td>NaN</td>\n",
       "    </tr>\n",
       "    <tr>\n",
       "      <th>5</th>\n",
       "      <td>1</td>\n",
       "      <td>1</td>\n",
       "      <td>1</td>\n",
       "      <td>[all, right, well, let, me, show, you, how, it...</td>\n",
       "      <td>Michael</td>\n",
       "      <td>101</td>\n",
       "      <td>NaN</td>\n",
       "    </tr>\n",
       "  </tbody>\n",
       "</table>\n",
       "</div>"
      ],
      "text/plain": [
       "    season  episode  scene                                          line_text  \\\n",
       "id                                                                              \n",
       "1        1        1      1  [all, right, jim, your, quarterlies, look, ver...   \n",
       "2        1        1      1   [oh, i, told, you, i, could, not, close, it, so]   \n",
       "3        1        1      1  [so, you, have, come, to, the, master, for, gu...   \n",
       "4        1        1      1   [actually, you, called, me, in, here, but, yeah]   \n",
       "5        1        1      1  [all, right, well, let, me, show, you, how, it...   \n",
       "\n",
       "    speaker season_episode directionals  \n",
       "id                                       \n",
       "1   Michael            101          NaN  \n",
       "2       Jim            101          NaN  \n",
       "3   Michael            101          NaN  \n",
       "4       Jim            101          NaN  \n",
       "5   Michael            101          NaN  "
      ]
     },
     "execution_count": 8,
     "metadata": {},
     "output_type": "execute_result"
    }
   ],
   "source": [
    "param_dict_tokens = {\n",
    "    \"concat_scenes\": False,\n",
    "    \"extract_direc\": True, \n",
    "    \"remove_punct\": True, \n",
    "    \"rmv_stopwords\": False,\n",
    "    \"lwr\": True, \n",
    "    \"exp_contractions\": True,\n",
    "    \"conversion\": \"tokenize\",\n",
    "    \"tokenizer\": (\"TreeBankWord\", True)\n",
    "}\n",
    "\n",
    "df_tokens = preprocess(df_raw, **param_dict_tokens)\n",
    "df_tokens.head()"
   ]
  },
  {
   "cell_type": "code",
   "execution_count": 9,
   "metadata": {},
   "outputs": [
    {
     "data": {
      "application/vnd.plotly.v1+json": {
       "config": {
        "plotlyServerURL": "https://plot.ly"
       },
       "data": [
        {
         "alignmentgroup": "True",
         "hovertemplate": "x=%{x}<br>y=%{y}<extra></extra>",
         "legendgroup": "",
         "marker": {
          "color": "#636efa",
          "pattern": {
           "shape": ""
          }
         },
         "name": "",
         "offsetgroup": "",
         "orientation": "h",
         "showlegend": false,
         "textposition": "auto",
         "type": "bar",
         "x": [
          28500,
          23662,
          17182,
          16387,
          15476,
          13769,
          13068,
          11201,
          10757,
          9476,
          7805,
          7078,
          6888,
          6321,
          5854,
          5803
         ],
         "xaxis": "x",
         "y": [
          "i",
          "you",
          "is",
          "to",
          "the",
          "a",
          "it",
          "not",
          "that",
          "and",
          "do",
          "are",
          "of",
          "what",
          "we",
          "have"
         ],
         "yaxis": "y"
        }
       ],
       "layout": {
        "barmode": "relative",
        "legend": {
         "tracegroupgap": 0
        },
        "template": {
         "data": {
          "bar": [
           {
            "error_x": {
             "color": "#2a3f5f"
            },
            "error_y": {
             "color": "#2a3f5f"
            },
            "marker": {
             "line": {
              "color": "#E5ECF6",
              "width": 0.5
             },
             "pattern": {
              "fillmode": "overlay",
              "size": 10,
              "solidity": 0.2
             }
            },
            "type": "bar"
           }
          ],
          "barpolar": [
           {
            "marker": {
             "line": {
              "color": "#E5ECF6",
              "width": 0.5
             },
             "pattern": {
              "fillmode": "overlay",
              "size": 10,
              "solidity": 0.2
             }
            },
            "type": "barpolar"
           }
          ],
          "carpet": [
           {
            "aaxis": {
             "endlinecolor": "#2a3f5f",
             "gridcolor": "white",
             "linecolor": "white",
             "minorgridcolor": "white",
             "startlinecolor": "#2a3f5f"
            },
            "baxis": {
             "endlinecolor": "#2a3f5f",
             "gridcolor": "white",
             "linecolor": "white",
             "minorgridcolor": "white",
             "startlinecolor": "#2a3f5f"
            },
            "type": "carpet"
           }
          ],
          "choropleth": [
           {
            "colorbar": {
             "outlinewidth": 0,
             "ticks": ""
            },
            "type": "choropleth"
           }
          ],
          "contour": [
           {
            "colorbar": {
             "outlinewidth": 0,
             "ticks": ""
            },
            "colorscale": [
             [
              0,
              "#0d0887"
             ],
             [
              0.1111111111111111,
              "#46039f"
             ],
             [
              0.2222222222222222,
              "#7201a8"
             ],
             [
              0.3333333333333333,
              "#9c179e"
             ],
             [
              0.4444444444444444,
              "#bd3786"
             ],
             [
              0.5555555555555556,
              "#d8576b"
             ],
             [
              0.6666666666666666,
              "#ed7953"
             ],
             [
              0.7777777777777778,
              "#fb9f3a"
             ],
             [
              0.8888888888888888,
              "#fdca26"
             ],
             [
              1,
              "#f0f921"
             ]
            ],
            "type": "contour"
           }
          ],
          "contourcarpet": [
           {
            "colorbar": {
             "outlinewidth": 0,
             "ticks": ""
            },
            "type": "contourcarpet"
           }
          ],
          "heatmap": [
           {
            "colorbar": {
             "outlinewidth": 0,
             "ticks": ""
            },
            "colorscale": [
             [
              0,
              "#0d0887"
             ],
             [
              0.1111111111111111,
              "#46039f"
             ],
             [
              0.2222222222222222,
              "#7201a8"
             ],
             [
              0.3333333333333333,
              "#9c179e"
             ],
             [
              0.4444444444444444,
              "#bd3786"
             ],
             [
              0.5555555555555556,
              "#d8576b"
             ],
             [
              0.6666666666666666,
              "#ed7953"
             ],
             [
              0.7777777777777778,
              "#fb9f3a"
             ],
             [
              0.8888888888888888,
              "#fdca26"
             ],
             [
              1,
              "#f0f921"
             ]
            ],
            "type": "heatmap"
           }
          ],
          "heatmapgl": [
           {
            "colorbar": {
             "outlinewidth": 0,
             "ticks": ""
            },
            "colorscale": [
             [
              0,
              "#0d0887"
             ],
             [
              0.1111111111111111,
              "#46039f"
             ],
             [
              0.2222222222222222,
              "#7201a8"
             ],
             [
              0.3333333333333333,
              "#9c179e"
             ],
             [
              0.4444444444444444,
              "#bd3786"
             ],
             [
              0.5555555555555556,
              "#d8576b"
             ],
             [
              0.6666666666666666,
              "#ed7953"
             ],
             [
              0.7777777777777778,
              "#fb9f3a"
             ],
             [
              0.8888888888888888,
              "#fdca26"
             ],
             [
              1,
              "#f0f921"
             ]
            ],
            "type": "heatmapgl"
           }
          ],
          "histogram": [
           {
            "marker": {
             "pattern": {
              "fillmode": "overlay",
              "size": 10,
              "solidity": 0.2
             }
            },
            "type": "histogram"
           }
          ],
          "histogram2d": [
           {
            "colorbar": {
             "outlinewidth": 0,
             "ticks": ""
            },
            "colorscale": [
             [
              0,
              "#0d0887"
             ],
             [
              0.1111111111111111,
              "#46039f"
             ],
             [
              0.2222222222222222,
              "#7201a8"
             ],
             [
              0.3333333333333333,
              "#9c179e"
             ],
             [
              0.4444444444444444,
              "#bd3786"
             ],
             [
              0.5555555555555556,
              "#d8576b"
             ],
             [
              0.6666666666666666,
              "#ed7953"
             ],
             [
              0.7777777777777778,
              "#fb9f3a"
             ],
             [
              0.8888888888888888,
              "#fdca26"
             ],
             [
              1,
              "#f0f921"
             ]
            ],
            "type": "histogram2d"
           }
          ],
          "histogram2dcontour": [
           {
            "colorbar": {
             "outlinewidth": 0,
             "ticks": ""
            },
            "colorscale": [
             [
              0,
              "#0d0887"
             ],
             [
              0.1111111111111111,
              "#46039f"
             ],
             [
              0.2222222222222222,
              "#7201a8"
             ],
             [
              0.3333333333333333,
              "#9c179e"
             ],
             [
              0.4444444444444444,
              "#bd3786"
             ],
             [
              0.5555555555555556,
              "#d8576b"
             ],
             [
              0.6666666666666666,
              "#ed7953"
             ],
             [
              0.7777777777777778,
              "#fb9f3a"
             ],
             [
              0.8888888888888888,
              "#fdca26"
             ],
             [
              1,
              "#f0f921"
             ]
            ],
            "type": "histogram2dcontour"
           }
          ],
          "mesh3d": [
           {
            "colorbar": {
             "outlinewidth": 0,
             "ticks": ""
            },
            "type": "mesh3d"
           }
          ],
          "parcoords": [
           {
            "line": {
             "colorbar": {
              "outlinewidth": 0,
              "ticks": ""
             }
            },
            "type": "parcoords"
           }
          ],
          "pie": [
           {
            "automargin": true,
            "type": "pie"
           }
          ],
          "scatter": [
           {
            "fillpattern": {
             "fillmode": "overlay",
             "size": 10,
             "solidity": 0.2
            },
            "type": "scatter"
           }
          ],
          "scatter3d": [
           {
            "line": {
             "colorbar": {
              "outlinewidth": 0,
              "ticks": ""
             }
            },
            "marker": {
             "colorbar": {
              "outlinewidth": 0,
              "ticks": ""
             }
            },
            "type": "scatter3d"
           }
          ],
          "scattercarpet": [
           {
            "marker": {
             "colorbar": {
              "outlinewidth": 0,
              "ticks": ""
             }
            },
            "type": "scattercarpet"
           }
          ],
          "scattergeo": [
           {
            "marker": {
             "colorbar": {
              "outlinewidth": 0,
              "ticks": ""
             }
            },
            "type": "scattergeo"
           }
          ],
          "scattergl": [
           {
            "marker": {
             "colorbar": {
              "outlinewidth": 0,
              "ticks": ""
             }
            },
            "type": "scattergl"
           }
          ],
          "scattermapbox": [
           {
            "marker": {
             "colorbar": {
              "outlinewidth": 0,
              "ticks": ""
             }
            },
            "type": "scattermapbox"
           }
          ],
          "scatterpolar": [
           {
            "marker": {
             "colorbar": {
              "outlinewidth": 0,
              "ticks": ""
             }
            },
            "type": "scatterpolar"
           }
          ],
          "scatterpolargl": [
           {
            "marker": {
             "colorbar": {
              "outlinewidth": 0,
              "ticks": ""
             }
            },
            "type": "scatterpolargl"
           }
          ],
          "scatterternary": [
           {
            "marker": {
             "colorbar": {
              "outlinewidth": 0,
              "ticks": ""
             }
            },
            "type": "scatterternary"
           }
          ],
          "surface": [
           {
            "colorbar": {
             "outlinewidth": 0,
             "ticks": ""
            },
            "colorscale": [
             [
              0,
              "#0d0887"
             ],
             [
              0.1111111111111111,
              "#46039f"
             ],
             [
              0.2222222222222222,
              "#7201a8"
             ],
             [
              0.3333333333333333,
              "#9c179e"
             ],
             [
              0.4444444444444444,
              "#bd3786"
             ],
             [
              0.5555555555555556,
              "#d8576b"
             ],
             [
              0.6666666666666666,
              "#ed7953"
             ],
             [
              0.7777777777777778,
              "#fb9f3a"
             ],
             [
              0.8888888888888888,
              "#fdca26"
             ],
             [
              1,
              "#f0f921"
             ]
            ],
            "type": "surface"
           }
          ],
          "table": [
           {
            "cells": {
             "fill": {
              "color": "#EBF0F8"
             },
             "line": {
              "color": "white"
             }
            },
            "header": {
             "fill": {
              "color": "#C8D4E3"
             },
             "line": {
              "color": "white"
             }
            },
            "type": "table"
           }
          ]
         },
         "layout": {
          "annotationdefaults": {
           "arrowcolor": "#2a3f5f",
           "arrowhead": 0,
           "arrowwidth": 1
          },
          "autotypenumbers": "strict",
          "coloraxis": {
           "colorbar": {
            "outlinewidth": 0,
            "ticks": ""
           }
          },
          "colorscale": {
           "diverging": [
            [
             0,
             "#8e0152"
            ],
            [
             0.1,
             "#c51b7d"
            ],
            [
             0.2,
             "#de77ae"
            ],
            [
             0.3,
             "#f1b6da"
            ],
            [
             0.4,
             "#fde0ef"
            ],
            [
             0.5,
             "#f7f7f7"
            ],
            [
             0.6,
             "#e6f5d0"
            ],
            [
             0.7,
             "#b8e186"
            ],
            [
             0.8,
             "#7fbc41"
            ],
            [
             0.9,
             "#4d9221"
            ],
            [
             1,
             "#276419"
            ]
           ],
           "sequential": [
            [
             0,
             "#0d0887"
            ],
            [
             0.1111111111111111,
             "#46039f"
            ],
            [
             0.2222222222222222,
             "#7201a8"
            ],
            [
             0.3333333333333333,
             "#9c179e"
            ],
            [
             0.4444444444444444,
             "#bd3786"
            ],
            [
             0.5555555555555556,
             "#d8576b"
            ],
            [
             0.6666666666666666,
             "#ed7953"
            ],
            [
             0.7777777777777778,
             "#fb9f3a"
            ],
            [
             0.8888888888888888,
             "#fdca26"
            ],
            [
             1,
             "#f0f921"
            ]
           ],
           "sequentialminus": [
            [
             0,
             "#0d0887"
            ],
            [
             0.1111111111111111,
             "#46039f"
            ],
            [
             0.2222222222222222,
             "#7201a8"
            ],
            [
             0.3333333333333333,
             "#9c179e"
            ],
            [
             0.4444444444444444,
             "#bd3786"
            ],
            [
             0.5555555555555556,
             "#d8576b"
            ],
            [
             0.6666666666666666,
             "#ed7953"
            ],
            [
             0.7777777777777778,
             "#fb9f3a"
            ],
            [
             0.8888888888888888,
             "#fdca26"
            ],
            [
             1,
             "#f0f921"
            ]
           ]
          },
          "colorway": [
           "#636efa",
           "#EF553B",
           "#00cc96",
           "#ab63fa",
           "#FFA15A",
           "#19d3f3",
           "#FF6692",
           "#B6E880",
           "#FF97FF",
           "#FECB52"
          ],
          "font": {
           "color": "#2a3f5f"
          },
          "geo": {
           "bgcolor": "white",
           "lakecolor": "white",
           "landcolor": "#E5ECF6",
           "showlakes": true,
           "showland": true,
           "subunitcolor": "white"
          },
          "hoverlabel": {
           "align": "left"
          },
          "hovermode": "closest",
          "mapbox": {
           "style": "light"
          },
          "paper_bgcolor": "white",
          "plot_bgcolor": "#E5ECF6",
          "polar": {
           "angularaxis": {
            "gridcolor": "white",
            "linecolor": "white",
            "ticks": ""
           },
           "bgcolor": "#E5ECF6",
           "radialaxis": {
            "gridcolor": "white",
            "linecolor": "white",
            "ticks": ""
           }
          },
          "scene": {
           "xaxis": {
            "backgroundcolor": "#E5ECF6",
            "gridcolor": "white",
            "gridwidth": 2,
            "linecolor": "white",
            "showbackground": true,
            "ticks": "",
            "zerolinecolor": "white"
           },
           "yaxis": {
            "backgroundcolor": "#E5ECF6",
            "gridcolor": "white",
            "gridwidth": 2,
            "linecolor": "white",
            "showbackground": true,
            "ticks": "",
            "zerolinecolor": "white"
           },
           "zaxis": {
            "backgroundcolor": "#E5ECF6",
            "gridcolor": "white",
            "gridwidth": 2,
            "linecolor": "white",
            "showbackground": true,
            "ticks": "",
            "zerolinecolor": "white"
           }
          },
          "shapedefaults": {
           "line": {
            "color": "#2a3f5f"
           }
          },
          "ternary": {
           "aaxis": {
            "gridcolor": "white",
            "linecolor": "white",
            "ticks": ""
           },
           "baxis": {
            "gridcolor": "white",
            "linecolor": "white",
            "ticks": ""
           },
           "bgcolor": "#E5ECF6",
           "caxis": {
            "gridcolor": "white",
            "linecolor": "white",
            "ticks": ""
           }
          },
          "title": {
           "x": 0.05
          },
          "xaxis": {
           "automargin": true,
           "gridcolor": "white",
           "linecolor": "white",
           "ticks": "",
           "title": {
            "standoff": 15
           },
           "zerolinecolor": "white",
           "zerolinewidth": 2
          },
          "yaxis": {
           "automargin": true,
           "gridcolor": "white",
           "linecolor": "white",
           "ticks": "",
           "title": {
            "standoff": 15
           },
           "zerolinecolor": "white",
           "zerolinewidth": 2
          }
         }
        },
        "title": {
         "text": "Most common words"
        },
        "xaxis": {
         "anchor": "y",
         "domain": [
          0,
          1
         ],
         "title": {
          "text": "Frequency"
         }
        },
        "yaxis": {
         "anchor": "x",
         "domain": [
          0,
          1
         ],
         "title": {
          "text": "Word"
         }
        }
       }
      }
     },
     "metadata": {},
     "output_type": "display_data"
    }
   ],
   "source": [
    "all_words =  [item for sublist in df_tokens[\"line_text\"].tolist() for item in sublist]\n",
    "all_words_freq = nltk.FreqDist(all_words)\n",
    "df_all_words_freq = pd.Series(dict(all_words_freq)).sort_values(ascending=False)\n",
    "\n",
    "fig = px.bar(y=df_all_words_freq[:16].index, x=df_all_words_freq[:16].values, orientation='h', title='Most common words')\n",
    "fig.update_layout(yaxis_title='Word', xaxis_title='Frequency')\n",
    "\n",
    "fig.show()\n"
   ]
  },
  {
   "cell_type": "code",
   "execution_count": 10,
   "metadata": {},
   "outputs": [
    {
     "data": {
      "text/html": [
       "<div>\n",
       "<style scoped>\n",
       "    .dataframe tbody tr th:only-of-type {\n",
       "        vertical-align: middle;\n",
       "    }\n",
       "\n",
       "    .dataframe tbody tr th {\n",
       "        vertical-align: top;\n",
       "    }\n",
       "\n",
       "    .dataframe thead th {\n",
       "        text-align: right;\n",
       "    }\n",
       "</style>\n",
       "<table border=\"1\" class=\"dataframe\">\n",
       "  <thead>\n",
       "    <tr style=\"text-align: right;\">\n",
       "      <th></th>\n",
       "      <th>season</th>\n",
       "      <th>episode</th>\n",
       "      <th>scene</th>\n",
       "      <th>line_text</th>\n",
       "      <th>speaker</th>\n",
       "      <th>season_episode</th>\n",
       "      <th>directionals</th>\n",
       "    </tr>\n",
       "    <tr>\n",
       "      <th>id</th>\n",
       "      <th></th>\n",
       "      <th></th>\n",
       "      <th></th>\n",
       "      <th></th>\n",
       "      <th></th>\n",
       "      <th></th>\n",
       "      <th></th>\n",
       "    </tr>\n",
       "  </thead>\n",
       "  <tbody>\n",
       "    <tr>\n",
       "      <th>1</th>\n",
       "      <td>1</td>\n",
       "      <td>1</td>\n",
       "      <td>1</td>\n",
       "      <td>[right, jim, quarterlies, look, good, things, ...</td>\n",
       "      <td>Michael</td>\n",
       "      <td>101</td>\n",
       "      <td>NaN</td>\n",
       "    </tr>\n",
       "    <tr>\n",
       "      <th>2</th>\n",
       "      <td>1</td>\n",
       "      <td>1</td>\n",
       "      <td>1</td>\n",
       "      <td>[oh, told, could, close]</td>\n",
       "      <td>Jim</td>\n",
       "      <td>101</td>\n",
       "      <td>NaN</td>\n",
       "    </tr>\n",
       "    <tr>\n",
       "      <th>3</th>\n",
       "      <td>1</td>\n",
       "      <td>1</td>\n",
       "      <td>1</td>\n",
       "      <td>[come, master, guidance, saying, grasshopper]</td>\n",
       "      <td>Michael</td>\n",
       "      <td>101</td>\n",
       "      <td>NaN</td>\n",
       "    </tr>\n",
       "    <tr>\n",
       "      <th>4</th>\n",
       "      <td>1</td>\n",
       "      <td>1</td>\n",
       "      <td>1</td>\n",
       "      <td>[actually, called, yeah]</td>\n",
       "      <td>Jim</td>\n",
       "      <td>101</td>\n",
       "      <td>NaN</td>\n",
       "    </tr>\n",
       "    <tr>\n",
       "      <th>5</th>\n",
       "      <td>1</td>\n",
       "      <td>1</td>\n",
       "      <td>1</td>\n",
       "      <td>[right, well, let, show, done]</td>\n",
       "      <td>Michael</td>\n",
       "      <td>101</td>\n",
       "      <td>NaN</td>\n",
       "    </tr>\n",
       "  </tbody>\n",
       "</table>\n",
       "</div>"
      ],
      "text/plain": [
       "    season  episode  scene                                          line_text  \\\n",
       "id                                                                              \n",
       "1        1        1      1  [right, jim, quarterlies, look, good, things, ...   \n",
       "2        1        1      1                           [oh, told, could, close]   \n",
       "3        1        1      1      [come, master, guidance, saying, grasshopper]   \n",
       "4        1        1      1                           [actually, called, yeah]   \n",
       "5        1        1      1                     [right, well, let, show, done]   \n",
       "\n",
       "    speaker season_episode directionals  \n",
       "id                                       \n",
       "1   Michael            101          NaN  \n",
       "2       Jim            101          NaN  \n",
       "3   Michael            101          NaN  \n",
       "4       Jim            101          NaN  \n",
       "5   Michael            101          NaN  "
      ]
     },
     "execution_count": 10,
     "metadata": {},
     "output_type": "execute_result"
    }
   ],
   "source": [
    "param_dict_tokens_nostopwords = {\n",
    "    \"concat_scenes\": False,\n",
    "    \"extract_direc\": True, \n",
    "    \"remove_punct\": True, \n",
    "    \"rmv_stopwords\": True,\n",
    "    \"lwr\": True, \n",
    "    \"exp_contractions\": True,\n",
    "    \"conversion\": \"tokenize\",\n",
    "    \"tokenizer\": (\"TreeBankWord\", True)\n",
    "}\n",
    "\n",
    "df_tokens_nostopwords = preprocess(df_raw, **param_dict_tokens_nostopwords)\n",
    "df_tokens_nostopwords.head()"
   ]
  },
  {
   "cell_type": "code",
   "execution_count": 11,
   "metadata": {},
   "outputs": [
    {
     "data": {
      "application/vnd.plotly.v1+json": {
       "config": {
        "plotlyServerURL": "https://plot.ly"
       },
       "data": [
        {
         "alignmentgroup": "True",
         "hovertemplate": "x=%{x}<br>y=%{y}<extra></extra>",
         "legendgroup": "",
         "marker": {
          "color": "#636efa",
          "pattern": {
           "shape": ""
          }
         },
         "name": "",
         "offsetgroup": "",
         "orientation": "h",
         "showlegend": false,
         "textposition": "auto",
         "type": "bar",
         "x": [
          4232,
          4095,
          3450,
          3187,
          3082,
          2807,
          2560,
          2482,
          2393,
          2371,
          2337,
          2288,
          2180,
          2120,
          2091,
          1952
         ],
         "xaxis": "x",
         "y": [
          "know",
          "oh",
          "going",
          "like",
          "yeah",
          "okay",
          "right",
          "get",
          "well",
          "would",
          "hey",
          "go",
          "think",
          "want",
          "good",
          "one"
         ],
         "yaxis": "y"
        }
       ],
       "layout": {
        "barmode": "relative",
        "legend": {
         "tracegroupgap": 0
        },
        "template": {
         "data": {
          "bar": [
           {
            "error_x": {
             "color": "#2a3f5f"
            },
            "error_y": {
             "color": "#2a3f5f"
            },
            "marker": {
             "line": {
              "color": "#E5ECF6",
              "width": 0.5
             },
             "pattern": {
              "fillmode": "overlay",
              "size": 10,
              "solidity": 0.2
             }
            },
            "type": "bar"
           }
          ],
          "barpolar": [
           {
            "marker": {
             "line": {
              "color": "#E5ECF6",
              "width": 0.5
             },
             "pattern": {
              "fillmode": "overlay",
              "size": 10,
              "solidity": 0.2
             }
            },
            "type": "barpolar"
           }
          ],
          "carpet": [
           {
            "aaxis": {
             "endlinecolor": "#2a3f5f",
             "gridcolor": "white",
             "linecolor": "white",
             "minorgridcolor": "white",
             "startlinecolor": "#2a3f5f"
            },
            "baxis": {
             "endlinecolor": "#2a3f5f",
             "gridcolor": "white",
             "linecolor": "white",
             "minorgridcolor": "white",
             "startlinecolor": "#2a3f5f"
            },
            "type": "carpet"
           }
          ],
          "choropleth": [
           {
            "colorbar": {
             "outlinewidth": 0,
             "ticks": ""
            },
            "type": "choropleth"
           }
          ],
          "contour": [
           {
            "colorbar": {
             "outlinewidth": 0,
             "ticks": ""
            },
            "colorscale": [
             [
              0,
              "#0d0887"
             ],
             [
              0.1111111111111111,
              "#46039f"
             ],
             [
              0.2222222222222222,
              "#7201a8"
             ],
             [
              0.3333333333333333,
              "#9c179e"
             ],
             [
              0.4444444444444444,
              "#bd3786"
             ],
             [
              0.5555555555555556,
              "#d8576b"
             ],
             [
              0.6666666666666666,
              "#ed7953"
             ],
             [
              0.7777777777777778,
              "#fb9f3a"
             ],
             [
              0.8888888888888888,
              "#fdca26"
             ],
             [
              1,
              "#f0f921"
             ]
            ],
            "type": "contour"
           }
          ],
          "contourcarpet": [
           {
            "colorbar": {
             "outlinewidth": 0,
             "ticks": ""
            },
            "type": "contourcarpet"
           }
          ],
          "heatmap": [
           {
            "colorbar": {
             "outlinewidth": 0,
             "ticks": ""
            },
            "colorscale": [
             [
              0,
              "#0d0887"
             ],
             [
              0.1111111111111111,
              "#46039f"
             ],
             [
              0.2222222222222222,
              "#7201a8"
             ],
             [
              0.3333333333333333,
              "#9c179e"
             ],
             [
              0.4444444444444444,
              "#bd3786"
             ],
             [
              0.5555555555555556,
              "#d8576b"
             ],
             [
              0.6666666666666666,
              "#ed7953"
             ],
             [
              0.7777777777777778,
              "#fb9f3a"
             ],
             [
              0.8888888888888888,
              "#fdca26"
             ],
             [
              1,
              "#f0f921"
             ]
            ],
            "type": "heatmap"
           }
          ],
          "heatmapgl": [
           {
            "colorbar": {
             "outlinewidth": 0,
             "ticks": ""
            },
            "colorscale": [
             [
              0,
              "#0d0887"
             ],
             [
              0.1111111111111111,
              "#46039f"
             ],
             [
              0.2222222222222222,
              "#7201a8"
             ],
             [
              0.3333333333333333,
              "#9c179e"
             ],
             [
              0.4444444444444444,
              "#bd3786"
             ],
             [
              0.5555555555555556,
              "#d8576b"
             ],
             [
              0.6666666666666666,
              "#ed7953"
             ],
             [
              0.7777777777777778,
              "#fb9f3a"
             ],
             [
              0.8888888888888888,
              "#fdca26"
             ],
             [
              1,
              "#f0f921"
             ]
            ],
            "type": "heatmapgl"
           }
          ],
          "histogram": [
           {
            "marker": {
             "pattern": {
              "fillmode": "overlay",
              "size": 10,
              "solidity": 0.2
             }
            },
            "type": "histogram"
           }
          ],
          "histogram2d": [
           {
            "colorbar": {
             "outlinewidth": 0,
             "ticks": ""
            },
            "colorscale": [
             [
              0,
              "#0d0887"
             ],
             [
              0.1111111111111111,
              "#46039f"
             ],
             [
              0.2222222222222222,
              "#7201a8"
             ],
             [
              0.3333333333333333,
              "#9c179e"
             ],
             [
              0.4444444444444444,
              "#bd3786"
             ],
             [
              0.5555555555555556,
              "#d8576b"
             ],
             [
              0.6666666666666666,
              "#ed7953"
             ],
             [
              0.7777777777777778,
              "#fb9f3a"
             ],
             [
              0.8888888888888888,
              "#fdca26"
             ],
             [
              1,
              "#f0f921"
             ]
            ],
            "type": "histogram2d"
           }
          ],
          "histogram2dcontour": [
           {
            "colorbar": {
             "outlinewidth": 0,
             "ticks": ""
            },
            "colorscale": [
             [
              0,
              "#0d0887"
             ],
             [
              0.1111111111111111,
              "#46039f"
             ],
             [
              0.2222222222222222,
              "#7201a8"
             ],
             [
              0.3333333333333333,
              "#9c179e"
             ],
             [
              0.4444444444444444,
              "#bd3786"
             ],
             [
              0.5555555555555556,
              "#d8576b"
             ],
             [
              0.6666666666666666,
              "#ed7953"
             ],
             [
              0.7777777777777778,
              "#fb9f3a"
             ],
             [
              0.8888888888888888,
              "#fdca26"
             ],
             [
              1,
              "#f0f921"
             ]
            ],
            "type": "histogram2dcontour"
           }
          ],
          "mesh3d": [
           {
            "colorbar": {
             "outlinewidth": 0,
             "ticks": ""
            },
            "type": "mesh3d"
           }
          ],
          "parcoords": [
           {
            "line": {
             "colorbar": {
              "outlinewidth": 0,
              "ticks": ""
             }
            },
            "type": "parcoords"
           }
          ],
          "pie": [
           {
            "automargin": true,
            "type": "pie"
           }
          ],
          "scatter": [
           {
            "fillpattern": {
             "fillmode": "overlay",
             "size": 10,
             "solidity": 0.2
            },
            "type": "scatter"
           }
          ],
          "scatter3d": [
           {
            "line": {
             "colorbar": {
              "outlinewidth": 0,
              "ticks": ""
             }
            },
            "marker": {
             "colorbar": {
              "outlinewidth": 0,
              "ticks": ""
             }
            },
            "type": "scatter3d"
           }
          ],
          "scattercarpet": [
           {
            "marker": {
             "colorbar": {
              "outlinewidth": 0,
              "ticks": ""
             }
            },
            "type": "scattercarpet"
           }
          ],
          "scattergeo": [
           {
            "marker": {
             "colorbar": {
              "outlinewidth": 0,
              "ticks": ""
             }
            },
            "type": "scattergeo"
           }
          ],
          "scattergl": [
           {
            "marker": {
             "colorbar": {
              "outlinewidth": 0,
              "ticks": ""
             }
            },
            "type": "scattergl"
           }
          ],
          "scattermapbox": [
           {
            "marker": {
             "colorbar": {
              "outlinewidth": 0,
              "ticks": ""
             }
            },
            "type": "scattermapbox"
           }
          ],
          "scatterpolar": [
           {
            "marker": {
             "colorbar": {
              "outlinewidth": 0,
              "ticks": ""
             }
            },
            "type": "scatterpolar"
           }
          ],
          "scatterpolargl": [
           {
            "marker": {
             "colorbar": {
              "outlinewidth": 0,
              "ticks": ""
             }
            },
            "type": "scatterpolargl"
           }
          ],
          "scatterternary": [
           {
            "marker": {
             "colorbar": {
              "outlinewidth": 0,
              "ticks": ""
             }
            },
            "type": "scatterternary"
           }
          ],
          "surface": [
           {
            "colorbar": {
             "outlinewidth": 0,
             "ticks": ""
            },
            "colorscale": [
             [
              0,
              "#0d0887"
             ],
             [
              0.1111111111111111,
              "#46039f"
             ],
             [
              0.2222222222222222,
              "#7201a8"
             ],
             [
              0.3333333333333333,
              "#9c179e"
             ],
             [
              0.4444444444444444,
              "#bd3786"
             ],
             [
              0.5555555555555556,
              "#d8576b"
             ],
             [
              0.6666666666666666,
              "#ed7953"
             ],
             [
              0.7777777777777778,
              "#fb9f3a"
             ],
             [
              0.8888888888888888,
              "#fdca26"
             ],
             [
              1,
              "#f0f921"
             ]
            ],
            "type": "surface"
           }
          ],
          "table": [
           {
            "cells": {
             "fill": {
              "color": "#EBF0F8"
             },
             "line": {
              "color": "white"
             }
            },
            "header": {
             "fill": {
              "color": "#C8D4E3"
             },
             "line": {
              "color": "white"
             }
            },
            "type": "table"
           }
          ]
         },
         "layout": {
          "annotationdefaults": {
           "arrowcolor": "#2a3f5f",
           "arrowhead": 0,
           "arrowwidth": 1
          },
          "autotypenumbers": "strict",
          "coloraxis": {
           "colorbar": {
            "outlinewidth": 0,
            "ticks": ""
           }
          },
          "colorscale": {
           "diverging": [
            [
             0,
             "#8e0152"
            ],
            [
             0.1,
             "#c51b7d"
            ],
            [
             0.2,
             "#de77ae"
            ],
            [
             0.3,
             "#f1b6da"
            ],
            [
             0.4,
             "#fde0ef"
            ],
            [
             0.5,
             "#f7f7f7"
            ],
            [
             0.6,
             "#e6f5d0"
            ],
            [
             0.7,
             "#b8e186"
            ],
            [
             0.8,
             "#7fbc41"
            ],
            [
             0.9,
             "#4d9221"
            ],
            [
             1,
             "#276419"
            ]
           ],
           "sequential": [
            [
             0,
             "#0d0887"
            ],
            [
             0.1111111111111111,
             "#46039f"
            ],
            [
             0.2222222222222222,
             "#7201a8"
            ],
            [
             0.3333333333333333,
             "#9c179e"
            ],
            [
             0.4444444444444444,
             "#bd3786"
            ],
            [
             0.5555555555555556,
             "#d8576b"
            ],
            [
             0.6666666666666666,
             "#ed7953"
            ],
            [
             0.7777777777777778,
             "#fb9f3a"
            ],
            [
             0.8888888888888888,
             "#fdca26"
            ],
            [
             1,
             "#f0f921"
            ]
           ],
           "sequentialminus": [
            [
             0,
             "#0d0887"
            ],
            [
             0.1111111111111111,
             "#46039f"
            ],
            [
             0.2222222222222222,
             "#7201a8"
            ],
            [
             0.3333333333333333,
             "#9c179e"
            ],
            [
             0.4444444444444444,
             "#bd3786"
            ],
            [
             0.5555555555555556,
             "#d8576b"
            ],
            [
             0.6666666666666666,
             "#ed7953"
            ],
            [
             0.7777777777777778,
             "#fb9f3a"
            ],
            [
             0.8888888888888888,
             "#fdca26"
            ],
            [
             1,
             "#f0f921"
            ]
           ]
          },
          "colorway": [
           "#636efa",
           "#EF553B",
           "#00cc96",
           "#ab63fa",
           "#FFA15A",
           "#19d3f3",
           "#FF6692",
           "#B6E880",
           "#FF97FF",
           "#FECB52"
          ],
          "font": {
           "color": "#2a3f5f"
          },
          "geo": {
           "bgcolor": "white",
           "lakecolor": "white",
           "landcolor": "#E5ECF6",
           "showlakes": true,
           "showland": true,
           "subunitcolor": "white"
          },
          "hoverlabel": {
           "align": "left"
          },
          "hovermode": "closest",
          "mapbox": {
           "style": "light"
          },
          "paper_bgcolor": "white",
          "plot_bgcolor": "#E5ECF6",
          "polar": {
           "angularaxis": {
            "gridcolor": "white",
            "linecolor": "white",
            "ticks": ""
           },
           "bgcolor": "#E5ECF6",
           "radialaxis": {
            "gridcolor": "white",
            "linecolor": "white",
            "ticks": ""
           }
          },
          "scene": {
           "xaxis": {
            "backgroundcolor": "#E5ECF6",
            "gridcolor": "white",
            "gridwidth": 2,
            "linecolor": "white",
            "showbackground": true,
            "ticks": "",
            "zerolinecolor": "white"
           },
           "yaxis": {
            "backgroundcolor": "#E5ECF6",
            "gridcolor": "white",
            "gridwidth": 2,
            "linecolor": "white",
            "showbackground": true,
            "ticks": "",
            "zerolinecolor": "white"
           },
           "zaxis": {
            "backgroundcolor": "#E5ECF6",
            "gridcolor": "white",
            "gridwidth": 2,
            "linecolor": "white",
            "showbackground": true,
            "ticks": "",
            "zerolinecolor": "white"
           }
          },
          "shapedefaults": {
           "line": {
            "color": "#2a3f5f"
           }
          },
          "ternary": {
           "aaxis": {
            "gridcolor": "white",
            "linecolor": "white",
            "ticks": ""
           },
           "baxis": {
            "gridcolor": "white",
            "linecolor": "white",
            "ticks": ""
           },
           "bgcolor": "#E5ECF6",
           "caxis": {
            "gridcolor": "white",
            "linecolor": "white",
            "ticks": ""
           }
          },
          "title": {
           "x": 0.05
          },
          "xaxis": {
           "automargin": true,
           "gridcolor": "white",
           "linecolor": "white",
           "ticks": "",
           "title": {
            "standoff": 15
           },
           "zerolinecolor": "white",
           "zerolinewidth": 2
          },
          "yaxis": {
           "automargin": true,
           "gridcolor": "white",
           "linecolor": "white",
           "ticks": "",
           "title": {
            "standoff": 15
           },
           "zerolinecolor": "white",
           "zerolinewidth": 2
          }
         }
        },
        "title": {
         "text": "Most common words (after stopword removal)"
        },
        "xaxis": {
         "anchor": "y",
         "domain": [
          0,
          1
         ],
         "title": {
          "text": "x"
         }
        },
        "yaxis": {
         "anchor": "x",
         "domain": [
          0,
          1
         ],
         "title": {
          "text": "y"
         }
        }
       }
      }
     },
     "metadata": {},
     "output_type": "display_data"
    }
   ],
   "source": [
    "all_words =  [item for sublist in df_tokens_nostopwords[\"line_text\"].tolist() for item in sublist]\n",
    "all_words_freq = nltk.FreqDist(all_words)\n",
    "df_all_words_freq = pd.Series(dict(all_words_freq)).sort_values(ascending=False)\n",
    "\n",
    "fig2 = px.bar(y=df_all_words_freq[:16].index, x=df_all_words_freq[:16].values, orientation='h', title='Most common words (after stopword removal)')\n",
    "fig2.show()"
   ]
  },
  {
   "cell_type": "code",
   "execution_count": 12,
   "metadata": {},
   "outputs": [
    {
     "data": {
      "image/png": "[encoded data removed]",
      "text/plain": [
       "<PIL.Image.Image image mode=RGB size=800x400>"
      ]
     },
     "execution_count": 12,
     "metadata": {},
     "output_type": "execute_result"
    }
   ],
   "source": [
    "# create a wordcloud from all_words\n",
    "from matplotlib import pyplot as plt\n",
    "from wordcloud import WordCloud\n",
    "\n",
    "wordcloud = WordCloud(width=800, height=400, background_color=\"white\", max_words=100, contour_width=3, contour_color='steelblue').generate(\" \".join(all_words))\n",
    "wordcloud.to_image()\n"
   ]
  },
  {
   "cell_type": "code",
   "execution_count": 13,
   "metadata": {},
   "outputs": [
    {
     "data": {
      "text/html": [
       "<div>\n",
       "<style scoped>\n",
       "    .dataframe tbody tr th:only-of-type {\n",
       "        vertical-align: middle;\n",
       "    }\n",
       "\n",
       "    .dataframe tbody tr th {\n",
       "        vertical-align: top;\n",
       "    }\n",
       "\n",
       "    .dataframe thead th {\n",
       "        text-align: right;\n",
       "    }\n",
       "</style>\n",
       "<table border=\"1\" class=\"dataframe\">\n",
       "  <thead>\n",
       "    <tr style=\"text-align: right;\">\n",
       "      <th></th>\n",
       "      <th>season</th>\n",
       "      <th>episode</th>\n",
       "      <th>scene</th>\n",
       "      <th>line_text</th>\n",
       "      <th>speaker</th>\n",
       "      <th>season_episode</th>\n",
       "      <th>directionals</th>\n",
       "    </tr>\n",
       "    <tr>\n",
       "      <th>id</th>\n",
       "      <th></th>\n",
       "      <th></th>\n",
       "      <th></th>\n",
       "      <th></th>\n",
       "      <th></th>\n",
       "      <th></th>\n",
       "      <th></th>\n",
       "    </tr>\n",
       "  </thead>\n",
       "  <tbody>\n",
       "    <tr>\n",
       "      <th>1</th>\n",
       "      <td>1</td>\n",
       "      <td>1</td>\n",
       "      <td>1</td>\n",
       "      <td>[(right, RB), (jim, NN), (quarterly, JJ), (loo...</td>\n",
       "      <td>Michael</td>\n",
       "      <td>101</td>\n",
       "      <td>NaN</td>\n",
       "    </tr>\n",
       "    <tr>\n",
       "      <th>2</th>\n",
       "      <td>1</td>\n",
       "      <td>1</td>\n",
       "      <td>1</td>\n",
       "      <td>[(oh, UH), (told, NN), (could, MD), (close, VB)]</td>\n",
       "      <td>Jim</td>\n",
       "      <td>101</td>\n",
       "      <td>NaN</td>\n",
       "    </tr>\n",
       "    <tr>\n",
       "      <th>3</th>\n",
       "      <td>1</td>\n",
       "      <td>1</td>\n",
       "      <td>1</td>\n",
       "      <td>[(come, VBN), (master, NN), (guidance, NN), (s...</td>\n",
       "      <td>Michael</td>\n",
       "      <td>101</td>\n",
       "      <td>NaN</td>\n",
       "    </tr>\n",
       "    <tr>\n",
       "      <th>4</th>\n",
       "      <td>1</td>\n",
       "      <td>1</td>\n",
       "      <td>1</td>\n",
       "      <td>[(actually, RB), (called, VBN), (yeah, NN)]</td>\n",
       "      <td>Jim</td>\n",
       "      <td>101</td>\n",
       "      <td>NaN</td>\n",
       "    </tr>\n",
       "    <tr>\n",
       "      <th>5</th>\n",
       "      <td>1</td>\n",
       "      <td>1</td>\n",
       "      <td>1</td>\n",
       "      <td>[(right, RB), (well, RB), (let, VB), (show, VB...</td>\n",
       "      <td>Michael</td>\n",
       "      <td>101</td>\n",
       "      <td>NaN</td>\n",
       "    </tr>\n",
       "  </tbody>\n",
       "</table>\n",
       "</div>"
      ],
      "text/plain": [
       "    season  episode  scene                                          line_text  \\\n",
       "id                                                                              \n",
       "1        1        1      1  [(right, RB), (jim, NN), (quarterly, JJ), (loo...   \n",
       "2        1        1      1   [(oh, UH), (told, NN), (could, MD), (close, VB)]   \n",
       "3        1        1      1  [(come, VBN), (master, NN), (guidance, NN), (s...   \n",
       "4        1        1      1        [(actually, RB), (called, VBN), (yeah, NN)]   \n",
       "5        1        1      1  [(right, RB), (well, RB), (let, VB), (show, VB...   \n",
       "\n",
       "    speaker season_episode directionals  \n",
       "id                                       \n",
       "1   Michael            101          NaN  \n",
       "2       Jim            101          NaN  \n",
       "3   Michael            101          NaN  \n",
       "4       Jim            101          NaN  \n",
       "5   Michael            101          NaN  "
      ]
     },
     "execution_count": 13,
     "metadata": {},
     "output_type": "execute_result"
    }
   ],
   "source": [
    "param_dict_tokens_nostopwords = {\n",
    "    \"concat_scenes\": False,\n",
    "    \"extract_direc\": True, \n",
    "    \"remove_punct\": True, \n",
    "    \"rmv_stopwords\": True,\n",
    "    \"lwr\": True, \n",
    "    \"exp_contractions\": True,\n",
    "    \"normalize\": \"lemmatize\",\n",
    "    \"conversion\": \"pos_tag\"\n",
    "}\n",
    "\n",
    "df_tokens_tagged = preprocess(df_raw, **param_dict_tokens_nostopwords)\n",
    "df_tokens_tagged.head()"
   ]
  },
  {
   "cell_type": "code",
   "execution_count": 14,
   "metadata": {},
   "outputs": [],
   "source": [
    "# filter words by POS tag\n",
    "all_words_tagged =  [item for sublist in df_tokens_tagged[\"line_text\"].tolist() for item in sublist]\n",
    "all_words_tagged_filtered = [item[0] for item in all_words_tagged if item[1] in [\"NN\"]]"
   ]
  },
  {
   "cell_type": "code",
   "execution_count": 15,
   "metadata": {},
   "outputs": [
    {
     "data": {
      "text/html": [
       "<div>\n",
       "<style scoped>\n",
       "    .dataframe tbody tr th:only-of-type {\n",
       "        vertical-align: middle;\n",
       "    }\n",
       "\n",
       "    .dataframe tbody tr th {\n",
       "        vertical-align: top;\n",
       "    }\n",
       "\n",
       "    .dataframe thead th {\n",
       "        text-align: right;\n",
       "    }\n",
       "</style>\n",
       "<table border=\"1\" class=\"dataframe\">\n",
       "  <thead>\n",
       "    <tr style=\"text-align: right;\">\n",
       "      <th></th>\n",
       "      <th>season</th>\n",
       "      <th>episode</th>\n",
       "      <th>scene</th>\n",
       "      <th>line_text</th>\n",
       "      <th>season_episode</th>\n",
       "      <th>directionals</th>\n",
       "    </tr>\n",
       "  </thead>\n",
       "  <tbody>\n",
       "    <tr>\n",
       "      <th>0</th>\n",
       "      <td>1</td>\n",
       "      <td>1</td>\n",
       "      <td>1</td>\n",
       "      <td>michael: all right jim. your quarterlies look ...</td>\n",
       "      <td>101</td>\n",
       "      <td></td>\n",
       "    </tr>\n",
       "    <tr>\n",
       "      <th>1</th>\n",
       "      <td>1</td>\n",
       "      <td>1</td>\n",
       "      <td>2</td>\n",
       "      <td>michael: yes, i would like to speak to your of...</td>\n",
       "      <td>101</td>\n",
       "      <td>on the phone, quick cut scene, hangs up, Clear...</td>\n",
       "    </tr>\n",
       "    <tr>\n",
       "      <th>2</th>\n",
       "      <td>1</td>\n",
       "      <td>1</td>\n",
       "      <td>3</td>\n",
       "      <td>michael: i have, uh, i have been at dunder mif...</td>\n",
       "      <td>101</td>\n",
       "      <td>growls</td>\n",
       "    </tr>\n",
       "    <tr>\n",
       "      <th>3</th>\n",
       "      <td>1</td>\n",
       "      <td>1</td>\n",
       "      <td>4</td>\n",
       "      <td>michael: people say i am the best boss. they g...</td>\n",
       "      <td>101</td>\n",
       "      <td>shows the camera his WORLD'S BEST BOSS mug</td>\n",
       "    </tr>\n",
       "    <tr>\n",
       "      <th>4</th>\n",
       "      <td>1</td>\n",
       "      <td>1</td>\n",
       "      <td>5</td>\n",
       "      <td>dwight: shall i play for you? pa rum pump um p...</td>\n",
       "      <td>101</td>\n",
       "      <td>singing, Imitates heavy drumming, Imitates hea...</td>\n",
       "    </tr>\n",
       "  </tbody>\n",
       "</table>\n",
       "</div>"
      ],
      "text/plain": [
       "   season  episode  scene                                          line_text  \\\n",
       "0       1        1      1  michael: all right jim. your quarterlies look ...   \n",
       "1       1        1      2  michael: yes, i would like to speak to your of...   \n",
       "2       1        1      3  michael: i have, uh, i have been at dunder mif...   \n",
       "3       1        1      4  michael: people say i am the best boss. they g...   \n",
       "4       1        1      5  dwight: shall i play for you? pa rum pump um p...   \n",
       "\n",
       "  season_episode                                       directionals  \n",
       "0            101                                                     \n",
       "1            101  on the phone, quick cut scene, hangs up, Clear...  \n",
       "2            101                                       growls        \n",
       "3            101         shows the camera his WORLD'S BEST BOSS mug  \n",
       "4            101  singing, Imitates heavy drumming, Imitates hea...  "
      ]
     },
     "execution_count": 15,
     "metadata": {},
     "output_type": "execute_result"
    }
   ],
   "source": [
    "param_dict_tokens_nostopwords = {\n",
    "    \"concat_scenes\": True,\n",
    "    \"extract_direc\": True, \n",
    "    \"remove_punct\": False, \n",
    "    \"rmv_stopwords\": False,\n",
    "    \"lwr\": True, \n",
    "    \"exp_contractions\": True,\n",
    "}\n",
    "\n",
    "df_concat_scenes = preprocess(df_raw, **param_dict_tokens_nostopwords)\n",
    "df_concat_scenes.head()"
   ]
  },
  {
   "cell_type": "code",
   "execution_count": 16,
   "metadata": {},
   "outputs": [],
   "source": [
    "pd.set_option('display.max_rows', None)\n",
    "features_tfidf_agg = extract_features(df_concat_scenes, \"tfidf\").mean(axis=0).sort_values(ascending=False)\n",
    "\n",
    "# filter features_tfidf_agg by all_words_tagged_filtered\n",
    "features_tfidf_agg = features_tfidf_agg[features_tfidf_agg.index.isin(all_words_tagged_filtered)]"
   ]
  },
  {
   "cell_type": "code",
   "execution_count": 17,
   "metadata": {},
   "outputs": [
    {
     "name": "stderr",
     "output_type": "stream",
     "text": [
      "c:\\Users\\schla\\anaconda3\\lib\\site-packages\\IPython\\core\\interactiveshell.py:3433: FutureWarning:\n",
      "\n",
      "arrays to stack must be passed as a \"sequence\" type such as list or tuple. Support for non-sequence iterables such as generators is deprecated as of NumPy 1.16 and will raise an error in the future.\n",
      "\n",
      "*c* argument looks like a single numeric RGB or RGBA sequence, which should be avoided as value-mapping will have precedence in case its length matches with *x* & *y*.  Please use the *color* keyword-argument or provide a 2D array with a single row if you intend to specify the same RGB or RGBA value for all points.\n"
     ]
    },
    {
     "data": {
      "image/png": "[encoded data removed]",
      "text/plain": [
       "<Figure size 800x550 with 1 Axes>"
      ]
     },
     "metadata": {},
     "output_type": "display_data"
    },
    {
     "data": {
      "text/plain": [
       "<AxesSubplot: title={'center': 'Lexical Dispersion Plot'}, xlabel='Word Offset'>"
      ]
     },
     "execution_count": 17,
     "metadata": {},
     "output_type": "execute_result"
    }
   ],
   "source": [
    "from yellowbrick.text import DispersionPlot\n",
    "\n",
    "target_words = ['meeting', 'birthday', 'party', 'wedding', 'baby', 'family', 'scranton', 'stamford', 'philly', 'dundie', 'farm', 'dinner', 'boat', 'friend']\n",
    "visualizer = DispersionPlot(target_words)\n",
    "visualizer.fit([all_words])\n",
    "visualizer.show()"
   ]
  },
  {
   "cell_type": "code",
   "execution_count": 18,
   "metadata": {},
   "outputs": [
    {
     "name": "stdout",
     "output_type": "stream",
     "text": [
      "Displaying 5 of 16 matches:\n",
      " halpert jim_halpert take tour past dundie winners got fat jim_halpert jim sho\n",
      "d say go lame stanley manly stanley dundie allstar stan ah show bling know thi\n",
      "hink peering stalls pervert pervert dundie award longest engagement goes pam b\n",
      " time kind isthat kind like dundies dundie waitress tripped cord alright alrig\n",
      "right joke landed thank coming 2005 dundie awards host michael_scott want tell\n"
     ]
    }
   ],
   "source": [
    "nltk.Text(all_words).concordance('dundie', lines=5)"
   ]
  },
  {
   "cell_type": "code",
   "execution_count": 19,
   "metadata": {},
   "outputs": [
    {
     "data": {
      "text/plain": [
       "[(('let', 'us', 'go'), 203),\n",
       " (('let', 'us', 'get'), 107),\n",
       " (('hey', 'hey', 'hey'), 78),\n",
       " (('whoa', 'whoa', 'whoa'), 63),\n",
       " (('oh', 'god', 'oh'), 59),\n",
       " (('na', 'na', 'na'), 55),\n",
       " (('let', 'us', 'see'), 52),\n",
       " (('go', 'go', 'go'), 49),\n",
       " (('one', 'two', 'three'), 45),\n",
       " (('stop', 'stop', 'stop'), 44),\n",
       " (('god', 'oh', 'god'), 41),\n",
       " (('come', 'let', 'us'), 39),\n",
       " (('blah', 'blah', 'blah'), 37),\n",
       " (('ha', 'ha', 'ha'), 35),\n",
       " (('okay', 'let', 'us'), 34),\n",
       " (('yes', 'yes', 'yes'), 33),\n",
       " (('wait', 'wait', 'wait'), 32),\n",
       " (('get', 'back', 'work'), 31),\n",
       " (('yeah', 'yeah', 'yeah'), 28),\n",
       " (('oh', 'oh', 'oh'), 28)]"
      ]
     },
     "execution_count": 19,
     "metadata": {},
     "output_type": "execute_result"
    }
   ],
   "source": [
    "#find n-grams\n",
    "finder_2 = nltk.collocations.BigramCollocationFinder.from_words(all_words)\n",
    "finder_3 = nltk.collocations.TrigramCollocationFinder.from_words(all_words)\n",
    "finder_4 = nltk.collocations.QuadgramCollocationFinder.from_words(all_words)\n",
    "\n",
    "finder_3.ngram_fd.most_common(20)"
   ]
  },
  {
   "cell_type": "code",
   "execution_count": 20,
   "metadata": {},
   "outputs": [],
   "source": [
    "# TODO: Document clustering/ Topic Modeling\n",
    "# TODO: Sentiment Analysis (show how it evolves over time)\n",
    "# TODO: also include network analysis"
   ]
  },
  {
   "attachments": {},
   "cell_type": "markdown",
   "metadata": {},
   "source": [
    "## Sentiment Analysis"
   ]
  },
  {
   "cell_type": "code",
   "execution_count": 21,
   "metadata": {},
   "outputs": [
    {
     "data": {
      "text/plain": [
       "{'neg': 0.0, 'neu': 0.803, 'pos': 0.197, 'compound': 0.4927}"
      ]
     },
     "execution_count": 21,
     "metadata": {},
     "output_type": "execute_result"
    }
   ],
   "source": [
    "sia = SentimentIntensityAnalyzer()\n",
    "sia.polarity_scores(\"All right Jim. Your quarterlies look very good. How are things at the library?\")"
   ]
  },
  {
   "cell_type": "code",
   "execution_count": 51,
   "metadata": {},
   "outputs": [],
   "source": [
    "# calculate sentiment scores for each line\n",
    "df_sentiment = df_raw.copy()\n",
    "df_sentiment[\"sentiment\"] = df_raw[\"line_text\"].apply(lambda x: sia.polarity_scores(x))"
   ]
  },
  {
   "cell_type": "code",
   "execution_count": 69,
   "metadata": {},
   "outputs": [],
   "source": [
    "# visualize sentiment scores over time\n",
    "\n",
    "# set id as column \n",
    "df_sentiment['id'] = df_sentiment.index\n",
    "\n",
    "# set new row as numerical\n",
    "df_sentiment['neg'] = df_sentiment['sentiment'].apply(lambda x: x['neg'])\n",
    "df_sentiment['neu'] = df_sentiment['sentiment'].apply(lambda x: x['neu'])\n",
    "df_sentiment['pos'] = df_sentiment['sentiment'].apply(lambda x: x['pos'])\n"
   ]
  },
  {
   "cell_type": "code",
   "execution_count": null,
   "metadata": {},
   "outputs": [],
   "source": [
    "df_rolling = df_sentiment.rolling(5).mean()"
   ]
  },
  {
   "cell_type": "code",
   "execution_count": 79,
   "metadata": {},
   "outputs": [
    {
     "data": {
      "application/vnd.plotly.v1+json": {
       "config": {
        "plotlyServerURL": "https://plot.ly"
       },
       "data": [
        {
         "hovertemplate": "variable=neg<br>id=%{x}<br>value=%{y}<extra></extra>",
         "legendgroup": "neg",
         "line": {
          "color": "rgb(102, 197, 204)",
          "dash": "solid"
         },
         "marker": {
          "symbol": "circle"
         },
         "mode": "lines",
         "name": "neg",
         "orientation": "v",
         "showlegend": true,
         "type": "scatter",
         "x": [
          27572.5,
          27573.5,
          27574.5,
          27575.5,
          27576.5,
          27577.5,
          27578.5,
          27579.5,
          27580.5,
          27581.5,
          27582.5,
          27583.5,
          27584.5,
          27585.5,
          27586.5,
          27587.5,
          27588.5,
          27589.5,
          27590.5,
          27591.5,
          27592.5,
          27593.5,
          27594.5,
          27595.5,
          27596.5,
          27597.5,
          27598.5,
          27599.5,
          27600.5,
          27601.5,
          27602.5,
          27603.5,
          27604.5,
          27605.5,
          27606.5,
          27607.5,
          27608.5,
          27609.5,
          27610.5,
          27611.5,
          27612.5,
          27613.5,
          27614.5,
          27615.5,
          27616.5,
          27617.5,
          27618.5,
          27619.5,
          27620.5,
          27621.5,
          27622.5,
          27623.5,
          27624.5,
          27625.5,
          27626.5,
          27627.5,
          27628.5,
          27629.5,
          27630.5,
          27631.5,
          27632.5,
          27633.5,
          27634.5,
          27635.5,
          27636.5,
          27637.5,
          27638.5,
          27639.5,
          27640.5,
          27641.5,
          27642.5,
          27643.5,
          27644.5,
          27645.5,
          27646.5,
          27647.5,
          27648.5,
          27649.5,
          27650.5,
          27651.5,
          27652.5,
          27653.5,
          27654.5,
          27655.5,
          27656.5,
          27657.5,
          27658.5,
          27659.5,
          27660.5,
          27661.5,
          27662.5,
          27663.5,
          27664.5,
          27665.5,
          27666.5,
          27667.5,
          27668.5,
          27669.5,
          27670.5,
          27671.5,
          27672.5,
          27673.5,
          27674.5,
          27675.5,
          27676.5,
          27677.5,
          27678.5,
          27679.5,
          27680.5,
          27681.5,
          27682.5,
          27683.5,
          27684.5,
          27685.5,
          27686.5,
          27687.5,
          27688.5,
          27689.5,
          27690.5,
          27691.5,
          27692.5,
          27693.5,
          27694.5,
          27695.5,
          27696.5,
          27697.5,
          27698.5,
          27699.5,
          27700.5,
          27701.5,
          27702.5,
          27703.5,
          27704.5,
          27705.5,
          27706.5,
          27707.5,
          27708.5,
          27709.5,
          27710.5,
          27711.5,
          27712.5,
          27713.5,
          27714.5,
          27715.5,
          27716.5,
          27717.5,
          27718.5,
          27719.5,
          27720.5,
          27721.5,
          27722.5,
          27723.5,
          27724.5,
          27725.5,
          27726.5,
          27727.5,
          27728.5,
          27729.5,
          27730.5,
          27731.5,
          27732.5,
          27733.5,
          27734.5,
          27735.5,
          27736.5,
          27737.5,
          27738.5,
          27739.5,
          27740.5,
          27741.5,
          27742.5,
          27743.5,
          27744.5,
          27745.5,
          27746.5,
          27747.5,
          27748.5,
          27749.5,
          27750.5,
          27751.5,
          27752.5,
          27753.5,
          27754.5,
          27755.5,
          27756.5,
          27757.5,
          27758.5,
          27759.5,
          27760.5,
          27761.5,
          27762.5,
          27763.5,
          27764.5,
          27765.5,
          27766.5,
          27767.5,
          27768.5,
          27769.5,
          27770.5,
          27771.5,
          27772.5,
          27773.5,
          27774.5,
          27775.5,
          27776.5,
          27777.5,
          27778.5,
          27779.5,
          27780.5,
          27781.5,
          27782.5,
          27783.5,
          27784.5,
          27785.5,
          27786.5,
          27787.5,
          27788.5,
          27789.5,
          27790.5,
          27791.5,
          27792.5,
          27793.5,
          27794.5,
          27795.5,
          27796.5,
          27797.5,
          27798.5,
          27799.5,
          27800.5,
          27801.5,
          27802.5,
          27803.5,
          27804.5,
          27805.5,
          27806.5,
          27807.5,
          27808.5,
          27809.5,
          27810.5,
          27811.5,
          27812.5,
          27813.5,
          27814.5,
          27815.5,
          27816.5,
          27817.5,
          27818.5,
          27819.5,
          27820.5,
          27821.5,
          27822.5,
          27823.5,
          27824.5,
          27825.5,
          27826.5,
          27827.5,
          27828.5,
          27829.5,
          27830.5,
          27831.5,
          27832.5,
          27833.5,
          27834.5,
          27835.5,
          27836.5,
          27837.5,
          27838.5,
          27839.5,
          27840.5,
          27841.5,
          27842.5,
          27843.5,
          27844.5,
          27845.5,
          27846.5,
          27847.5,
          27848.5,
          27849.5,
          27850.5,
          27851.5,
          27852.5,
          27853.5,
          27854.5,
          27855.5,
          27856.5,
          27857.5,
          27858.5,
          27859.5,
          27860.5,
          27861.5,
          27862.5
         ],
         "xaxis": "x",
         "y": [
          0.11780000000000065,
          0.13430000000000067,
          0.13430000000000067,
          0.13430000000000067,
          0.11650000000000067,
          0.11650000000000067,
          0.016500000000000667,
          0.016500000000000667,
          0.016500000000000667,
          0.016500000000000667,
          0.016500000000000667,
          0,
          0,
          0,
          0,
          0,
          0,
          0,
          0,
          0,
          0,
          0,
          0.061500000000000665,
          0.061500000000000665,
          0.061500000000000665,
          0.061500000000000665,
          0.07680000000000067,
          0.07680000000000067,
          0.07680000000000067,
          0.07680000000000067,
          0.07880000000000068,
          0.08320000000000066,
          0.021700000000000667,
          0.021700000000000667,
          0.021700000000000667,
          0.021700000000000667,
          0.0064000000000006664,
          0.021500000000000664,
          0.06090000000000066,
          0.07040000000000066,
          0.06840000000000065,
          0.09200000000000066,
          0.09200000000000066,
          0.09200000000000066,
          0.09200000000000066,
          0.09200000000000066,
          0.09200000000000066,
          0.07690000000000066,
          0.037500000000000665,
          0.02800000000000067,
          0.05210000000000067,
          0.024100000000000666,
          0.024100000000000666,
          0.07150000000000066,
          0.07150000000000066,
          0.07150000000000066,
          0.07150000000000066,
          0.07150000000000066,
          0.07150000000000066,
          0.07150000000000066,
          0.06520000000000066,
          0.06520000000000066,
          0.10960000000000067,
          0.062200000000000664,
          0.08260000000000066,
          0.08260000000000066,
          0.08260000000000066,
          0.08260000000000066,
          0.08260000000000066,
          0.08260000000000066,
          0.09640000000000067,
          0.09640000000000067,
          0.05200000000000067,
          0.05200000000000067,
          0.03160000000000067,
          0.03160000000000067,
          0.09240000000000068,
          0.09240000000000068,
          0.15110000000000068,
          0.16710000000000066,
          0.13550000000000068,
          0.13550000000000068,
          0.13550000000000068,
          0.13550000000000068,
          0.13550000000000068,
          0.13550000000000068,
          0.07470000000000067,
          0.07470000000000067,
          0.07060000000000068,
          0.06740000000000067,
          0.08940000000000067,
          0.08940000000000067,
          0.08940000000000067,
          0.08940000000000067,
          0.12000000000000069,
          0.12000000000000069,
          0.12000000000000069,
          0.12000000000000069,
          0.06540000000000067,
          0.05260000000000067,
          0.030600000000000672,
          0.04250000000000067,
          0.04250000000000067,
          0.04250000000000067,
          0.011900000000000665,
          0.011900000000000665,
          0.011900000000000665,
          0.011900000000000665,
          0.023400000000000663,
          0.023400000000000663,
          0.023400000000000663,
          0.03940000000000067,
          0.03940000000000067,
          0.03940000000000067,
          0.03940000000000067,
          0.03940000000000067,
          0.07380000000000067,
          0.07380000000000067,
          0.06230000000000067,
          0.08160000000000067,
          0.08160000000000067,
          0.058600000000000665,
          0.058600000000000665,
          0.058600000000000665,
          0.058600000000000665,
          0.06730000000000066,
          0.032900000000000665,
          0.08530000000000067,
          0.08530000000000067,
          0.06600000000000066,
          0.06600000000000066,
          0.06110000000000067,
          0.14840000000000067,
          0.14840000000000067,
          0.14840000000000067,
          0.13970000000000066,
          0.13970000000000066,
          0.08730000000000067,
          0.08730000000000067,
          0.08730000000000067,
          0.11410000000000067,
          0.11410000000000067,
          0.026800000000000667,
          0.038500000000000666,
          0.038500000000000666,
          0.09160000000000067,
          0.09160000000000067,
          0.12300000000000066,
          0.12300000000000066,
          0.20020000000000068,
          0.17340000000000066,
          0.17340000000000066,
          0.17340000000000066,
          0.16170000000000068,
          0.18290000000000067,
          0.12980000000000066,
          0.1434000000000007,
          0.11200000000000068,
          0.11200000000000068,
          0.034800000000000664,
          0.034800000000000664,
          0.034800000000000664,
          0.034800000000000664,
          0.05580000000000067,
          0.03460000000000067,
          0.034600000000000665,
          0.03810000000000067,
          0.03810000000000067,
          0.08040000000000067,
          0.08040000000000067,
          0.08040000000000067,
          0.11820000000000067,
          0.11820000000000067,
          0.19720000000000065,
          0.19720000000000065,
          0.21440000000000067,
          0.20120000000000066,
          0.20120000000000066,
          0.21130000000000065,
          0.21130000000000065,
          0.21130000000000065,
          0.17350000000000065,
          0.17350000000000065,
          0.12030000000000067,
          0.17680000000000068,
          0.19900000000000068,
          0.19510000000000066,
          0.19510000000000066,
          0.14270000000000066,
          0.14270000000000066,
          0.14270000000000066,
          0.14270000000000066,
          0.14270000000000066,
          0.09590000000000067,
          0.03940000000000067,
          0,
          0,
          0,
          0,
          0,
          0.010600000000000666,
          0.010600000000000666,
          0.010600000000000666,
          0.010600000000000666,
          0.010600000000000666,
          0.010600000000000666,
          0.010600000000000666,
          0.010600000000000666,
          0.024700000000000666,
          0.024700000000000662,
          0.014100000000000662,
          0.014100000000000662,
          0.014100000000000662,
          0.014100000000000662,
          0.020500000000000664,
          0.020500000000000664,
          0.020500000000000664,
          0.020500000000000664,
          0.0064000000000006664,
          0.020100000000000666,
          0.020100000000000666,
          0.08890000000000067,
          0.08890000000000067,
          0.08890000000000067,
          0.08250000000000066,
          0.08250000000000066,
          0.08250000000000066,
          0.08250000000000066,
          0.08250000000000066,
          0.06880000000000067,
          0.06880000000000067,
          0,
          0,
          0.012900000000000666,
          0.012900000000000666,
          0.012900000000000666,
          0.012900000000000666,
          0.05480000000000067,
          0.05480000000000067,
          0.05480000000000067,
          0.05480000000000067,
          0.05480000000000067,
          0.05480000000000067,
          0.041900000000000666,
          0.041900000000000666,
          0.06840000000000065,
          0.07410000000000067,
          0.032200000000000666,
          0.032200000000000666,
          0.032200000000000666,
          0.032200000000000666,
          0.04570000000000067,
          0.04570000000000067,
          0.04570000000000067,
          0.04570000000000067,
          0.019200000000000668,
          0.013500000000000668,
          0.013500000000000668,
          0.013500000000000668,
          0.013500000000000668,
          0.032400000000000664,
          0.018900000000000666,
          0.018900000000000666,
          0.04150000000000067,
          0.04150000000000067,
          0.04150000000000067,
          0.04150000000000067,
          0.04150000000000067,
          0.04150000000000067,
          0.04150000000000067,
          0.022600000000000668,
          0.022600000000000668,
          0.022600000000000668,
          0,
          0,
          0,
          0.029500000000000665,
          0.029500000000000665,
          0.029500000000000665,
          0.029500000000000665,
          0.029500000000000665,
          0.029500000000000665,
          0.029500000000000665,
          0.029500000000000665,
          0.029500000000000665,
          0.029500000000000665,
          0,
          0,
          0.009100000000000667,
          0.009100000000000667,
          0.10910000000000067
         ],
         "yaxis": "y"
        },
        {
         "hovertemplate": "variable=neu<br>id=%{x}<br>value=%{y}<extra></extra>",
         "legendgroup": "neu",
         "line": {
          "color": "rgb(246, 207, 113)",
          "dash": "solid"
         },
         "marker": {
          "symbol": "circle"
         },
         "mode": "lines",
         "name": "neu",
         "orientation": "v",
         "showlegend": true,
         "type": "scatter",
         "x": [
          27572.5,
          27573.5,
          27574.5,
          27575.5,
          27576.5,
          27577.5,
          27578.5,
          27579.5,
          27580.5,
          27581.5,
          27582.5,
          27583.5,
          27584.5,
          27585.5,
          27586.5,
          27587.5,
          27588.5,
          27589.5,
          27590.5,
          27591.5,
          27592.5,
          27593.5,
          27594.5,
          27595.5,
          27596.5,
          27597.5,
          27598.5,
          27599.5,
          27600.5,
          27601.5,
          27602.5,
          27603.5,
          27604.5,
          27605.5,
          27606.5,
          27607.5,
          27608.5,
          27609.5,
          27610.5,
          27611.5,
          27612.5,
          27613.5,
          27614.5,
          27615.5,
          27616.5,
          27617.5,
          27618.5,
          27619.5,
          27620.5,
          27621.5,
          27622.5,
          27623.5,
          27624.5,
          27625.5,
          27626.5,
          27627.5,
          27628.5,
          27629.5,
          27630.5,
          27631.5,
          27632.5,
          27633.5,
          27634.5,
          27635.5,
          27636.5,
          27637.5,
          27638.5,
          27639.5,
          27640.5,
          27641.5,
          27642.5,
          27643.5,
          27644.5,
          27645.5,
          27646.5,
          27647.5,
          27648.5,
          27649.5,
          27650.5,
          27651.5,
          27652.5,
          27653.5,
          27654.5,
          27655.5,
          27656.5,
          27657.5,
          27658.5,
          27659.5,
          27660.5,
          27661.5,
          27662.5,
          27663.5,
          27664.5,
          27665.5,
          27666.5,
          27667.5,
          27668.5,
          27669.5,
          27670.5,
          27671.5,
          27672.5,
          27673.5,
          27674.5,
          27675.5,
          27676.5,
          27677.5,
          27678.5,
          27679.5,
          27680.5,
          27681.5,
          27682.5,
          27683.5,
          27684.5,
          27685.5,
          27686.5,
          27687.5,
          27688.5,
          27689.5,
          27690.5,
          27691.5,
          27692.5,
          27693.5,
          27694.5,
          27695.5,
          27696.5,
          27697.5,
          27698.5,
          27699.5,
          27700.5,
          27701.5,
          27702.5,
          27703.5,
          27704.5,
          27705.5,
          27706.5,
          27707.5,
          27708.5,
          27709.5,
          27710.5,
          27711.5,
          27712.5,
          27713.5,
          27714.5,
          27715.5,
          27716.5,
          27717.5,
          27718.5,
          27719.5,
          27720.5,
          27721.5,
          27722.5,
          27723.5,
          27724.5,
          27725.5,
          27726.5,
          27727.5,
          27728.5,
          27729.5,
          27730.5,
          27731.5,
          27732.5,
          27733.5,
          27734.5,
          27735.5,
          27736.5,
          27737.5,
          27738.5,
          27739.5,
          27740.5,
          27741.5,
          27742.5,
          27743.5,
          27744.5,
          27745.5,
          27746.5,
          27747.5,
          27748.5,
          27749.5,
          27750.5,
          27751.5,
          27752.5,
          27753.5,
          27754.5,
          27755.5,
          27756.5,
          27757.5,
          27758.5,
          27759.5,
          27760.5,
          27761.5,
          27762.5,
          27763.5,
          27764.5,
          27765.5,
          27766.5,
          27767.5,
          27768.5,
          27769.5,
          27770.5,
          27771.5,
          27772.5,
          27773.5,
          27774.5,
          27775.5,
          27776.5,
          27777.5,
          27778.5,
          27779.5,
          27780.5,
          27781.5,
          27782.5,
          27783.5,
          27784.5,
          27785.5,
          27786.5,
          27787.5,
          27788.5,
          27789.5,
          27790.5,
          27791.5,
          27792.5,
          27793.5,
          27794.5,
          27795.5,
          27796.5,
          27797.5,
          27798.5,
          27799.5,
          27800.5,
          27801.5,
          27802.5,
          27803.5,
          27804.5,
          27805.5,
          27806.5,
          27807.5,
          27808.5,
          27809.5,
          27810.5,
          27811.5,
          27812.5,
          27813.5,
          27814.5,
          27815.5,
          27816.5,
          27817.5,
          27818.5,
          27819.5,
          27820.5,
          27821.5,
          27822.5,
          27823.5,
          27824.5,
          27825.5,
          27826.5,
          27827.5,
          27828.5,
          27829.5,
          27830.5,
          27831.5,
          27832.5,
          27833.5,
          27834.5,
          27835.5,
          27836.5,
          27837.5,
          27838.5,
          27839.5,
          27840.5,
          27841.5,
          27842.5,
          27843.5,
          27844.5,
          27845.5,
          27846.5,
          27847.5,
          27848.5,
          27849.5,
          27850.5,
          27851.5,
          27852.5,
          27853.5,
          27854.5,
          27855.5,
          27856.5,
          27857.5,
          27858.5,
          27859.5,
          27860.5,
          27861.5,
          27862.5
         ],
         "xaxis": "x",
         "y": [
          0.6381999999999997,
          0.6216999999999997,
          0.6867999999999996,
          0.7004999999999997,
          0.6495999999999997,
          0.6046999999999998,
          0.6794999999999998,
          0.6869999999999997,
          0.6869999999999997,
          0.7446999999999997,
          0.8446999999999998,
          0.8611999999999999,
          0.8611999999999999,
          0.8611999999999999,
          0.9298999999999997,
          0.9747999999999998,
          0.9693999999999997,
          0.9693999999999997,
          0.9693999999999997,
          0.9101999999999999,
          0.8859999999999998,
          0.8719999999999997,
          0.8104999999999997,
          0.8017999999999997,
          0.8017999999999997,
          0.8017999999999997,
          0.7864999999999998,
          0.7864999999999998,
          0.7476999999999998,
          0.7974999999999997,
          0.7924999999999998,
          0.7819999999999998,
          0.8434999999999997,
          0.8521999999999998,
          0.8521999999999998,
          0.8521999999999998,
          0.8506999999999998,
          0.8209999999999997,
          0.8203999999999997,
          0.7917999999999997,
          0.8209999999999997,
          0.7777999999999997,
          0.7777999999999997,
          0.7491999999999998,
          0.7138999999999998,
          0.7138999999999998,
          0.7612999999999998,
          0.7909999999999997,
          0.8150999999999998,
          0.7907999999999997,
          0.7531999999999998,
          0.7824999999999998,
          0.7691999999999998,
          0.7503999999999997,
          0.7856999999999997,
          0.7856999999999997,
          0.7856999999999997,
          0.7614999999999996,
          0.7767999999999997,
          0.7735999999999997,
          0.7933999999999998,
          0.7571999999999998,
          0.7260999999999997,
          0.7210999999999997,
          0.6793999999999997,
          0.6132999999999996,
          0.5743999999999998,
          0.5717999999999996,
          0.47179999999999966,
          0.5372999999999998,
          0.5234999999999996,
          0.5592999999999997,
          0.5636999999999998,
          0.5701999999999997,
          0.5374999999999998,
          0.5601999999999998,
          0.5382999999999998,
          0.5650999999999998,
          0.5783999999999998,
          0.5623999999999997,
          0.5939999999999998,
          0.6327999999999998,
          0.6727999999999997,
          0.7186999999999998,
          0.7930999999999997,
          0.8364999999999997,
          0.8972999999999998,
          0.8650999999999998,
          0.8971999999999998,
          0.9003999999999998,
          0.8506999999999998,
          0.8506999999999998,
          0.8506999999999998,
          0.8506999999999998,
          0.8200999999999997,
          0.8200999999999997,
          0.7450999999999997,
          0.7772999999999998,
          0.8318999999999998,
          0.8446999999999998,
          0.8943999999999998,
          0.8636999999999997,
          0.8041999999999998,
          0.7937999999999998,
          0.8243999999999998,
          0.8086999999999998,
          0.8836999999999998,
          0.8723999999999998,
          0.8608999999999998,
          0.8608999999999998,
          0.8608999999999998,
          0.8494999999999997,
          0.8089999999999998,
          0.7906999999999997,
          0.7906999999999997,
          0.8063999999999997,
          0.7596999999999997,
          0.7709999999999997,
          0.7300999999999997,
          0.6873999999999997,
          0.6642999999999997,
          0.6879999999999997,
          0.7879999999999997,
          0.8005999999999996,
          0.8005999999999996,
          0.7578999999999997,
          0.7690999999999997,
          0.7166999999999997,
          0.6813999999999998,
          0.6878999999999997,
          0.7109999999999996,
          0.7031999999999996,
          0.6158999999999997,
          0.6319999999999998,
          0.6023999999999997,
          0.5720999999999996,
          0.6075999999999997,
          0.6599999999999998,
          0.7346999999999997,
          0.7446999999999997,
          0.7178999999999998,
          0.7201999999999996,
          0.8074999999999998,
          0.7885999999999997,
          0.8051999999999998,
          0.8250999999999997,
          0.8012999999999998,
          0.7698999999999998,
          0.7828999999999998,
          0.7318999999999998,
          0.7586999999999997,
          0.7313999999999996,
          0.7129999999999997,
          0.6962999999999997,
          0.6762999999999998,
          0.7025999999999997,
          0.7127999999999997,
          0.7441999999999996,
          0.7441999999999996,
          0.7842999999999998,
          0.7842999999999998,
          0.8354999999999997,
          0.8538999999999998,
          0.8633999999999997,
          0.8963999999999996,
          0.8903999999999999,
          0.8786999999999997,
          0.8786999999999997,
          0.8363999999999997,
          0.8734999999999997,
          0.8349999999999997,
          0.7715999999999997,
          0.7715999999999997,
          0.6976999999999998,
          0.6976999999999998,
          0.6944999999999998,
          0.6973999999999997,
          0.6973999999999997,
          0.6872999999999997,
          0.6872999999999998,
          0.7257999999999998,
          0.7891999999999997,
          0.7770999999999997,
          0.8302999999999997,
          0.7737999999999997,
          0.7703999999999998,
          0.7927999999999997,
          0.7927999999999997,
          0.8451999999999998,
          0.8268999999999999,
          0.8167999999999997,
          0.7853999999999998,
          0.7974999999999997,
          0.8243999999999996,
          0.8808999999999998,
          0.9202999999999998,
          0.9202999999999998,
          0.9202999999999998,
          0.8430999999999997,
          0.8057999999999998,
          0.8052999999999997,
          0.8366999999999998,
          0.8254999999999997,
          0.8453999999999997,
          0.8453999999999997,
          0.8109999999999997,
          0.8109999999999997,
          0.8109999999999997,
          0.8610999999999998,
          0.9166999999999996,
          0.9020999999999997,
          0.8896999999999997,
          0.8802999999999997,
          0.8368999999999998,
          0.8304999999999998,
          0.8648999999999998,
          0.8648999999999998,
          0.8648999999999998,
          0.8817999999999998,
          0.8536999999999997,
          0.8788999999999998,
          0.8224999999999998,
          0.8430999999999997,
          0.8864999999999996,
          0.8928999999999997,
          0.8790999999999997,
          0.8419999999999999,
          0.8309999999999997,
          0.7935999999999999,
          0.8216999999999997,
          0.8216999999999997,
          0.8904999999999997,
          0.8904999999999997,
          0.8775999999999998,
          0.8387999999999998,
          0.8525999999999998,
          0.8896999999999997,
          0.8436999999999999,
          0.8681999999999999,
          0.8175999999999999,
          0.8175999999999999,
          0.7792999999999998,
          0.7433999999999997,
          0.7562999999999998,
          0.6950999999999998,
          0.6685999999999998,
          0.6628999999999998,
          0.7198999999999998,
          0.6752999999999998,
          0.6258999999999998,
          0.6105999999999997,
          0.6353999999999997,
          0.5966999999999997,
          0.5966999999999997,
          0.6966999999999997,
          0.7231999999999997,
          0.6473999999999998,
          0.6473999999999998,
          0.7150999999999997,
          0.7756999999999997,
          0.7495999999999998,
          0.7630999999999998,
          0.7995999999999998,
          0.7574999999999997,
          0.7574999999999997,
          0.7574999999999997,
          0.8083999999999998,
          0.7386999999999997,
          0.7386999999999997,
          0.7036999999999998,
          0.7181999999999997,
          0.6811999999999997,
          0.6597999999999997,
          0.7018999999999997,
          0.6706999999999997,
          0.6706999999999997,
          0.6209999999999998,
          0.6906999999999998,
          0.6162999999999997,
          0.6906999999999998,
          0.7175999999999998,
          0.7208999999999998,
          0.7803999999999998,
          0.7803999999999998,
          0.8115999999999998,
          0.7621999999999998,
          0.8329999999999999,
          0.8103999999999998,
          0.8756999999999998,
          0.8756999999999998,
          0.7756999999999998
         ],
         "yaxis": "y"
        },
        {
         "hovertemplate": "variable=pos<br>id=%{x}<br>value=%{y}<extra></extra>",
         "legendgroup": "pos",
         "line": {
          "color": "rgb(248, 156, 116)",
          "dash": "solid"
         },
         "marker": {
          "symbol": "circle"
         },
         "mode": "lines",
         "name": "pos",
         "orientation": "v",
         "showlegend": true,
         "type": "scatter",
         "x": [
          27572.5,
          27573.5,
          27574.5,
          27575.5,
          27576.5,
          27577.5,
          27578.5,
          27579.5,
          27580.5,
          27581.5,
          27582.5,
          27583.5,
          27584.5,
          27585.5,
          27586.5,
          27587.5,
          27588.5,
          27589.5,
          27590.5,
          27591.5,
          27592.5,
          27593.5,
          27594.5,
          27595.5,
          27596.5,
          27597.5,
          27598.5,
          27599.5,
          27600.5,
          27601.5,
          27602.5,
          27603.5,
          27604.5,
          27605.5,
          27606.5,
          27607.5,
          27608.5,
          27609.5,
          27610.5,
          27611.5,
          27612.5,
          27613.5,
          27614.5,
          27615.5,
          27616.5,
          27617.5,
          27618.5,
          27619.5,
          27620.5,
          27621.5,
          27622.5,
          27623.5,
          27624.5,
          27625.5,
          27626.5,
          27627.5,
          27628.5,
          27629.5,
          27630.5,
          27631.5,
          27632.5,
          27633.5,
          27634.5,
          27635.5,
          27636.5,
          27637.5,
          27638.5,
          27639.5,
          27640.5,
          27641.5,
          27642.5,
          27643.5,
          27644.5,
          27645.5,
          27646.5,
          27647.5,
          27648.5,
          27649.5,
          27650.5,
          27651.5,
          27652.5,
          27653.5,
          27654.5,
          27655.5,
          27656.5,
          27657.5,
          27658.5,
          27659.5,
          27660.5,
          27661.5,
          27662.5,
          27663.5,
          27664.5,
          27665.5,
          27666.5,
          27667.5,
          27668.5,
          27669.5,
          27670.5,
          27671.5,
          27672.5,
          27673.5,
          27674.5,
          27675.5,
          27676.5,
          27677.5,
          27678.5,
          27679.5,
          27680.5,
          27681.5,
          27682.5,
          27683.5,
          27684.5,
          27685.5,
          27686.5,
          27687.5,
          27688.5,
          27689.5,
          27690.5,
          27691.5,
          27692.5,
          27693.5,
          27694.5,
          27695.5,
          27696.5,
          27697.5,
          27698.5,
          27699.5,
          27700.5,
          27701.5,
          27702.5,
          27703.5,
          27704.5,
          27705.5,
          27706.5,
          27707.5,
          27708.5,
          27709.5,
          27710.5,
          27711.5,
          27712.5,
          27713.5,
          27714.5,
          27715.5,
          27716.5,
          27717.5,
          27718.5,
          27719.5,
          27720.5,
          27721.5,
          27722.5,
          27723.5,
          27724.5,
          27725.5,
          27726.5,
          27727.5,
          27728.5,
          27729.5,
          27730.5,
          27731.5,
          27732.5,
          27733.5,
          27734.5,
          27735.5,
          27736.5,
          27737.5,
          27738.5,
          27739.5,
          27740.5,
          27741.5,
          27742.5,
          27743.5,
          27744.5,
          27745.5,
          27746.5,
          27747.5,
          27748.5,
          27749.5,
          27750.5,
          27751.5,
          27752.5,
          27753.5,
          27754.5,
          27755.5,
          27756.5,
          27757.5,
          27758.5,
          27759.5,
          27760.5,
          27761.5,
          27762.5,
          27763.5,
          27764.5,
          27765.5,
          27766.5,
          27767.5,
          27768.5,
          27769.5,
          27770.5,
          27771.5,
          27772.5,
          27773.5,
          27774.5,
          27775.5,
          27776.5,
          27777.5,
          27778.5,
          27779.5,
          27780.5,
          27781.5,
          27782.5,
          27783.5,
          27784.5,
          27785.5,
          27786.5,
          27787.5,
          27788.5,
          27789.5,
          27790.5,
          27791.5,
          27792.5,
          27793.5,
          27794.5,
          27795.5,
          27796.5,
          27797.5,
          27798.5,
          27799.5,
          27800.5,
          27801.5,
          27802.5,
          27803.5,
          27804.5,
          27805.5,
          27806.5,
          27807.5,
          27808.5,
          27809.5,
          27810.5,
          27811.5,
          27812.5,
          27813.5,
          27814.5,
          27815.5,
          27816.5,
          27817.5,
          27818.5,
          27819.5,
          27820.5,
          27821.5,
          27822.5,
          27823.5,
          27824.5,
          27825.5,
          27826.5,
          27827.5,
          27828.5,
          27829.5,
          27830.5,
          27831.5,
          27832.5,
          27833.5,
          27834.5,
          27835.5,
          27836.5,
          27837.5,
          27838.5,
          27839.5,
          27840.5,
          27841.5,
          27842.5,
          27843.5,
          27844.5,
          27845.5,
          27846.5,
          27847.5,
          27848.5,
          27849.5,
          27850.5,
          27851.5,
          27852.5,
          27853.5,
          27854.5,
          27855.5,
          27856.5,
          27857.5,
          27858.5,
          27859.5,
          27860.5,
          27861.5,
          27862.5
         ],
         "xaxis": "x",
         "y": [
          0.2440000000000011,
          0.2440000000000011,
          0.1789000000000011,
          0.16520000000000112,
          0.2339000000000011,
          0.27880000000000116,
          0.3040000000000011,
          0.2965000000000011,
          0.2965000000000011,
          0.23880000000000115,
          0.13880000000000114,
          0.13880000000000114,
          0.13880000000000114,
          0.13880000000000114,
          0.07010000000000113,
          0.02520000000000113,
          0.030600000000001133,
          0.030600000000001133,
          0.030600000000001133,
          0.08980000000000113,
          0.11400000000000113,
          0.12800000000000114,
          0.12800000000000114,
          0.13670000000000113,
          0.13670000000000113,
          0.13670000000000113,
          0.13670000000000113,
          0.13670000000000113,
          0.17550000000000116,
          0.12570000000000114,
          0.12870000000000115,
          0.13480000000000114,
          0.13480000000000114,
          0.12610000000000116,
          0.12610000000000116,
          0.12610000000000116,
          0.14290000000000114,
          0.15750000000000114,
          0.11870000000000114,
          0.13780000000000114,
          0.11060000000000114,
          0.13020000000000115,
          0.13020000000000115,
          0.15880000000000113,
          0.19410000000000113,
          0.19410000000000113,
          0.14670000000000114,
          0.13210000000000116,
          0.14740000000000114,
          0.18120000000000114,
          0.19480000000000114,
          0.19350000000000112,
          0.20680000000000112,
          0.17820000000000116,
          0.14290000000000114,
          0.14290000000000114,
          0.14290000000000114,
          0.16710000000000114,
          0.15180000000000113,
          0.15500000000000114,
          0.14140000000000114,
          0.17760000000000115,
          0.16430000000000114,
          0.21670000000000114,
          0.23810000000000114,
          0.30420000000000114,
          0.3431000000000012,
          0.3457000000000011,
          0.44570000000000115,
          0.3802000000000011,
          0.3802000000000011,
          0.34440000000000115,
          0.3844000000000012,
          0.3779000000000011,
          0.43090000000000117,
          0.4082000000000011,
          0.3693000000000012,
          0.34250000000000114,
          0.27050000000000113,
          0.2705000000000012,
          0.2705000000000012,
          0.23170000000000113,
          0.19170000000000115,
          0.14580000000000112,
          0.07140000000000113,
          0.028000000000001135,
          0.028000000000001135,
          0.06020000000000114,
          0.03220000000000113,
          0.03220000000000113,
          0.059800000000001144,
          0.059800000000001144,
          0.059800000000001144,
          0.059800000000001144,
          0.059800000000001144,
          0.059800000000001144,
          0.13480000000000114,
          0.10260000000000113,
          0.10260000000000113,
          0.10260000000000113,
          0.07500000000000114,
          0.09380000000000113,
          0.15330000000000113,
          0.16370000000000112,
          0.16370000000000112,
          0.17940000000000111,
          0.10440000000000112,
          0.11570000000000114,
          0.11570000000000114,
          0.11570000000000114,
          0.11570000000000114,
          0.11110000000000113,
          0.15160000000000112,
          0.1699000000000011,
          0.1699000000000011,
          0.15420000000000114,
          0.16650000000000115,
          0.15520000000000111,
          0.20760000000000112,
          0.23100000000000112,
          0.2541000000000011,
          0.25330000000000114,
          0.15330000000000113,
          0.14070000000000113,
          0.14070000000000113,
          0.17470000000000113,
          0.19790000000000113,
          0.19790000000000113,
          0.23320000000000113,
          0.24600000000000116,
          0.22290000000000115,
          0.23570000000000113,
          0.23570000000000113,
          0.21960000000000113,
          0.24920000000000112,
          0.2882000000000011,
          0.25270000000000115,
          0.25270000000000115,
          0.17800000000000113,
          0.16800000000000112,
          0.16800000000000112,
          0.16570000000000112,
          0.16570000000000112,
          0.1729000000000011,
          0.15630000000000113,
          0.08330000000000112,
          0.10710000000000112,
          0.10710000000000112,
          0.09410000000000114,
          0.06790000000000114,
          0.06790000000000114,
          0.09520000000000114,
          0.11360000000000114,
          0.14200000000000113,
          0.14070000000000113,
          0.16750000000000115,
          0.14370000000000113,
          0.14370000000000113,
          0.14370000000000113,
          0.18080000000000113,
          0.18080000000000113,
          0.12960000000000113,
          0.11120000000000115,
          0.08060000000000114,
          0.06890000000000114,
          0.07490000000000115,
          0.08300000000000114,
          0.08300000000000114,
          0.08300000000000114,
          0.04590000000000115,
          0.08440000000000114,
          0.11000000000000114,
          0.11000000000000114,
          0.10500000000000113,
          0.10500000000000113,
          0.09100000000000115,
          0.10140000000000116,
          0.10140000000000116,
          0.10140000000000116,
          0.10140000000000116,
          0.06290000000000115,
          0.037300000000001145,
          0.049400000000001144,
          0.049400000000001144,
          0.049400000000001144,
          0.030600000000001144,
          0.012100000000001143,
          0.012100000000001143,
          0.012100000000001143,
          0.03040000000000114,
          0.040500000000001146,
          0.07190000000000114,
          0.059800000000001144,
          0.07970000000000114,
          0.07970000000000114,
          0.07970000000000114,
          0.07970000000000114,
          0.07970000000000114,
          0.15690000000000115,
          0.19420000000000115,
          0.18410000000000115,
          0.15270000000000117,
          0.16390000000000118,
          0.14400000000000118,
          0.14400000000000118,
          0.17840000000000117,
          0.17840000000000117,
          0.17840000000000117,
          0.11420000000000115,
          0.05860000000000115,
          0.08380000000000115,
          0.09620000000000115,
          0.10560000000000117,
          0.14900000000000116,
          0.14900000000000116,
          0.11460000000000115,
          0.11460000000000115,
          0.11460000000000115,
          0.11180000000000116,
          0.12620000000000114,
          0.10100000000000116,
          0.08860000000000115,
          0.06800000000000116,
          0.024600000000001156,
          0.024600000000001156,
          0.038400000000001155,
          0.07550000000000115,
          0.08650000000000116,
          0.12390000000000115,
          0.10950000000000112,
          0.10950000000000112,
          0.10950000000000112,
          0.10950000000000112,
          0.10950000000000112,
          0.14830000000000115,
          0.13450000000000115,
          0.09740000000000115,
          0.10150000000000114,
          0.07700000000000115,
          0.12760000000000116,
          0.12760000000000116,
          0.16590000000000116,
          0.20180000000000115,
          0.20180000000000115,
          0.2630000000000011,
          0.2630000000000011,
          0.2630000000000011,
          0.24790000000000117,
          0.29250000000000115,
          0.3419000000000011,
          0.3572000000000011,
          0.3189000000000012,
          0.3576000000000012,
          0.3576000000000012,
          0.2576000000000012,
          0.2576000000000012,
          0.3391000000000012,
          0.3391000000000012,
          0.2714000000000011,
          0.21080000000000115,
          0.21800000000000117,
          0.21800000000000117,
          0.18150000000000116,
          0.20100000000000112,
          0.20100000000000112,
          0.20100000000000112,
          0.15010000000000115,
          0.21980000000000116,
          0.21980000000000116,
          0.25480000000000114,
          0.2592000000000011,
          0.29620000000000113,
          0.31760000000000116,
          0.29810000000000114,
          0.32930000000000115,
          0.32930000000000115,
          0.34950000000000114,
          0.27980000000000116,
          0.3542000000000011,
          0.27980000000000116,
          0.2529000000000011,
          0.24960000000000115,
          0.19010000000000116,
          0.19010000000000116,
          0.15890000000000115,
          0.20830000000000118,
          0.16700000000000115,
          0.18960000000000116,
          0.11520000000000116,
          0.11520000000000116,
          0.11520000000000116
         ],
         "yaxis": "y"
        }
       ],
       "layout": {
        "legend": {
         "title": {
          "text": "variable"
         },
         "tracegroupgap": 0
        },
        "template": {
         "data": {
          "bar": [
           {
            "error_x": {
             "color": "#2a3f5f"
            },
            "error_y": {
             "color": "#2a3f5f"
            },
            "marker": {
             "line": {
              "color": "#E5ECF6",
              "width": 0.5
             },
             "pattern": {
              "fillmode": "overlay",
              "size": 10,
              "solidity": 0.2
             }
            },
            "type": "bar"
           }
          ],
          "barpolar": [
           {
            "marker": {
             "line": {
              "color": "#E5ECF6",
              "width": 0.5
             },
             "pattern": {
              "fillmode": "overlay",
              "size": 10,
              "solidity": 0.2
             }
            },
            "type": "barpolar"
           }
          ],
          "carpet": [
           {
            "aaxis": {
             "endlinecolor": "#2a3f5f",
             "gridcolor": "white",
             "linecolor": "white",
             "minorgridcolor": "white",
             "startlinecolor": "#2a3f5f"
            },
            "baxis": {
             "endlinecolor": "#2a3f5f",
             "gridcolor": "white",
             "linecolor": "white",
             "minorgridcolor": "white",
             "startlinecolor": "#2a3f5f"
            },
            "type": "carpet"
           }
          ],
          "choropleth": [
           {
            "colorbar": {
             "outlinewidth": 0,
             "ticks": ""
            },
            "type": "choropleth"
           }
          ],
          "contour": [
           {
            "colorbar": {
             "outlinewidth": 0,
             "ticks": ""
            },
            "colorscale": [
             [
              0,
              "#0d0887"
             ],
             [
              0.1111111111111111,
              "#46039f"
             ],
             [
              0.2222222222222222,
              "#7201a8"
             ],
             [
              0.3333333333333333,
              "#9c179e"
             ],
             [
              0.4444444444444444,
              "#bd3786"
             ],
             [
              0.5555555555555556,
              "#d8576b"
             ],
             [
              0.6666666666666666,
              "#ed7953"
             ],
             [
              0.7777777777777778,
              "#fb9f3a"
             ],
             [
              0.8888888888888888,
              "#fdca26"
             ],
             [
              1,
              "#f0f921"
             ]
            ],
            "type": "contour"
           }
          ],
          "contourcarpet": [
           {
            "colorbar": {
             "outlinewidth": 0,
             "ticks": ""
            },
            "type": "contourcarpet"
           }
          ],
          "heatmap": [
           {
            "colorbar": {
             "outlinewidth": 0,
             "ticks": ""
            },
            "colorscale": [
             [
              0,
              "#0d0887"
             ],
             [
              0.1111111111111111,
              "#46039f"
             ],
             [
              0.2222222222222222,
              "#7201a8"
             ],
             [
              0.3333333333333333,
              "#9c179e"
             ],
             [
              0.4444444444444444,
              "#bd3786"
             ],
             [
              0.5555555555555556,
              "#d8576b"
             ],
             [
              0.6666666666666666,
              "#ed7953"
             ],
             [
              0.7777777777777778,
              "#fb9f3a"
             ],
             [
              0.8888888888888888,
              "#fdca26"
             ],
             [
              1,
              "#f0f921"
             ]
            ],
            "type": "heatmap"
           }
          ],
          "heatmapgl": [
           {
            "colorbar": {
             "outlinewidth": 0,
             "ticks": ""
            },
            "colorscale": [
             [
              0,
              "#0d0887"
             ],
             [
              0.1111111111111111,
              "#46039f"
             ],
             [
              0.2222222222222222,
              "#7201a8"
             ],
             [
              0.3333333333333333,
              "#9c179e"
             ],
             [
              0.4444444444444444,
              "#bd3786"
             ],
             [
              0.5555555555555556,
              "#d8576b"
             ],
             [
              0.6666666666666666,
              "#ed7953"
             ],
             [
              0.7777777777777778,
              "#fb9f3a"
             ],
             [
              0.8888888888888888,
              "#fdca26"
             ],
             [
              1,
              "#f0f921"
             ]
            ],
            "type": "heatmapgl"
           }
          ],
          "histogram": [
           {
            "marker": {
             "pattern": {
              "fillmode": "overlay",
              "size": 10,
              "solidity": 0.2
             }
            },
            "type": "histogram"
           }
          ],
          "histogram2d": [
           {
            "colorbar": {
             "outlinewidth": 0,
             "ticks": ""
            },
            "colorscale": [
             [
              0,
              "#0d0887"
             ],
             [
              0.1111111111111111,
              "#46039f"
             ],
             [
              0.2222222222222222,
              "#7201a8"
             ],
             [
              0.3333333333333333,
              "#9c179e"
             ],
             [
              0.4444444444444444,
              "#bd3786"
             ],
             [
              0.5555555555555556,
              "#d8576b"
             ],
             [
              0.6666666666666666,
              "#ed7953"
             ],
             [
              0.7777777777777778,
              "#fb9f3a"
             ],
             [
              0.8888888888888888,
              "#fdca26"
             ],
             [
              1,
              "#f0f921"
             ]
            ],
            "type": "histogram2d"
           }
          ],
          "histogram2dcontour": [
           {
            "colorbar": {
             "outlinewidth": 0,
             "ticks": ""
            },
            "colorscale": [
             [
              0,
              "#0d0887"
             ],
             [
              0.1111111111111111,
              "#46039f"
             ],
             [
              0.2222222222222222,
              "#7201a8"
             ],
             [
              0.3333333333333333,
              "#9c179e"
             ],
             [
              0.4444444444444444,
              "#bd3786"
             ],
             [
              0.5555555555555556,
              "#d8576b"
             ],
             [
              0.6666666666666666,
              "#ed7953"
             ],
             [
              0.7777777777777778,
              "#fb9f3a"
             ],
             [
              0.8888888888888888,
              "#fdca26"
             ],
             [
              1,
              "#f0f921"
             ]
            ],
            "type": "histogram2dcontour"
           }
          ],
          "mesh3d": [
           {
            "colorbar": {
             "outlinewidth": 0,
             "ticks": ""
            },
            "type": "mesh3d"
           }
          ],
          "parcoords": [
           {
            "line": {
             "colorbar": {
              "outlinewidth": 0,
              "ticks": ""
             }
            },
            "type": "parcoords"
           }
          ],
          "pie": [
           {
            "automargin": true,
            "type": "pie"
           }
          ],
          "scatter": [
           {
            "fillpattern": {
             "fillmode": "overlay",
             "size": 10,
             "solidity": 0.2
            },
            "type": "scatter"
           }
          ],
          "scatter3d": [
           {
            "line": {
             "colorbar": {
              "outlinewidth": 0,
              "ticks": ""
             }
            },
            "marker": {
             "colorbar": {
              "outlinewidth": 0,
              "ticks": ""
             }
            },
            "type": "scatter3d"
           }
          ],
          "scattercarpet": [
           {
            "marker": {
             "colorbar": {
              "outlinewidth": 0,
              "ticks": ""
             }
            },
            "type": "scattercarpet"
           }
          ],
          "scattergeo": [
           {
            "marker": {
             "colorbar": {
              "outlinewidth": 0,
              "ticks": ""
             }
            },
            "type": "scattergeo"
           }
          ],
          "scattergl": [
           {
            "marker": {
             "colorbar": {
              "outlinewidth": 0,
              "ticks": ""
             }
            },
            "type": "scattergl"
           }
          ],
          "scattermapbox": [
           {
            "marker": {
             "colorbar": {
              "outlinewidth": 0,
              "ticks": ""
             }
            },
            "type": "scattermapbox"
           }
          ],
          "scatterpolar": [
           {
            "marker": {
             "colorbar": {
              "outlinewidth": 0,
              "ticks": ""
             }
            },
            "type": "scatterpolar"
           }
          ],
          "scatterpolargl": [
           {
            "marker": {
             "colorbar": {
              "outlinewidth": 0,
              "ticks": ""
             }
            },
            "type": "scatterpolargl"
           }
          ],
          "scatterternary": [
           {
            "marker": {
             "colorbar": {
              "outlinewidth": 0,
              "ticks": ""
             }
            },
            "type": "scatterternary"
           }
          ],
          "surface": [
           {
            "colorbar": {
             "outlinewidth": 0,
             "ticks": ""
            },
            "colorscale": [
             [
              0,
              "#0d0887"
             ],
             [
              0.1111111111111111,
              "#46039f"
             ],
             [
              0.2222222222222222,
              "#7201a8"
             ],
             [
              0.3333333333333333,
              "#9c179e"
             ],
             [
              0.4444444444444444,
              "#bd3786"
             ],
             [
              0.5555555555555556,
              "#d8576b"
             ],
             [
              0.6666666666666666,
              "#ed7953"
             ],
             [
              0.7777777777777778,
              "#fb9f3a"
             ],
             [
              0.8888888888888888,
              "#fdca26"
             ],
             [
              1,
              "#f0f921"
             ]
            ],
            "type": "surface"
           }
          ],
          "table": [
           {
            "cells": {
             "fill": {
              "color": "#EBF0F8"
             },
             "line": {
              "color": "white"
             }
            },
            "header": {
             "fill": {
              "color": "#C8D4E3"
             },
             "line": {
              "color": "white"
             }
            },
            "type": "table"
           }
          ]
         },
         "layout": {
          "annotationdefaults": {
           "arrowcolor": "#2a3f5f",
           "arrowhead": 0,
           "arrowwidth": 1
          },
          "autotypenumbers": "strict",
          "coloraxis": {
           "colorbar": {
            "outlinewidth": 0,
            "ticks": ""
           }
          },
          "colorscale": {
           "diverging": [
            [
             0,
             "#8e0152"
            ],
            [
             0.1,
             "#c51b7d"
            ],
            [
             0.2,
             "#de77ae"
            ],
            [
             0.3,
             "#f1b6da"
            ],
            [
             0.4,
             "#fde0ef"
            ],
            [
             0.5,
             "#f7f7f7"
            ],
            [
             0.6,
             "#e6f5d0"
            ],
            [
             0.7,
             "#b8e186"
            ],
            [
             0.8,
             "#7fbc41"
            ],
            [
             0.9,
             "#4d9221"
            ],
            [
             1,
             "#276419"
            ]
           ],
           "sequential": [
            [
             0,
             "#0d0887"
            ],
            [
             0.1111111111111111,
             "#46039f"
            ],
            [
             0.2222222222222222,
             "#7201a8"
            ],
            [
             0.3333333333333333,
             "#9c179e"
            ],
            [
             0.4444444444444444,
             "#bd3786"
            ],
            [
             0.5555555555555556,
             "#d8576b"
            ],
            [
             0.6666666666666666,
             "#ed7953"
            ],
            [
             0.7777777777777778,
             "#fb9f3a"
            ],
            [
             0.8888888888888888,
             "#fdca26"
            ],
            [
             1,
             "#f0f921"
            ]
           ],
           "sequentialminus": [
            [
             0,
             "#0d0887"
            ],
            [
             0.1111111111111111,
             "#46039f"
            ],
            [
             0.2222222222222222,
             "#7201a8"
            ],
            [
             0.3333333333333333,
             "#9c179e"
            ],
            [
             0.4444444444444444,
             "#bd3786"
            ],
            [
             0.5555555555555556,
             "#d8576b"
            ],
            [
             0.6666666666666666,
             "#ed7953"
            ],
            [
             0.7777777777777778,
             "#fb9f3a"
            ],
            [
             0.8888888888888888,
             "#fdca26"
            ],
            [
             1,
             "#f0f921"
            ]
           ]
          },
          "colorway": [
           "#636efa",
           "#EF553B",
           "#00cc96",
           "#ab63fa",
           "#FFA15A",
           "#19d3f3",
           "#FF6692",
           "#B6E880",
           "#FF97FF",
           "#FECB52"
          ],
          "font": {
           "color": "#2a3f5f"
          },
          "geo": {
           "bgcolor": "white",
           "lakecolor": "white",
           "landcolor": "#E5ECF6",
           "showlakes": true,
           "showland": true,
           "subunitcolor": "white"
          },
          "hoverlabel": {
           "align": "left"
          },
          "hovermode": "closest",
          "mapbox": {
           "style": "light"
          },
          "paper_bgcolor": "white",
          "plot_bgcolor": "#E5ECF6",
          "polar": {
           "angularaxis": {
            "gridcolor": "white",
            "linecolor": "white",
            "ticks": ""
           },
           "bgcolor": "#E5ECF6",
           "radialaxis": {
            "gridcolor": "white",
            "linecolor": "white",
            "ticks": ""
           }
          },
          "scene": {
           "xaxis": {
            "backgroundcolor": "#E5ECF6",
            "gridcolor": "white",
            "gridwidth": 2,
            "linecolor": "white",
            "showbackground": true,
            "ticks": "",
            "zerolinecolor": "white"
           },
           "yaxis": {
            "backgroundcolor": "#E5ECF6",
            "gridcolor": "white",
            "gridwidth": 2,
            "linecolor": "white",
            "showbackground": true,
            "ticks": "",
            "zerolinecolor": "white"
           },
           "zaxis": {
            "backgroundcolor": "#E5ECF6",
            "gridcolor": "white",
            "gridwidth": 2,
            "linecolor": "white",
            "showbackground": true,
            "ticks": "",
            "zerolinecolor": "white"
           }
          },
          "shapedefaults": {
           "line": {
            "color": "#2a3f5f"
           }
          },
          "ternary": {
           "aaxis": {
            "gridcolor": "white",
            "linecolor": "white",
            "ticks": ""
           },
           "baxis": {
            "gridcolor": "white",
            "linecolor": "white",
            "ticks": ""
           },
           "bgcolor": "#E5ECF6",
           "caxis": {
            "gridcolor": "white",
            "linecolor": "white",
            "ticks": ""
           }
          },
          "title": {
           "x": 0.05
          },
          "xaxis": {
           "automargin": true,
           "gridcolor": "white",
           "linecolor": "white",
           "ticks": "",
           "title": {
            "standoff": 15
           },
           "zerolinecolor": "white",
           "zerolinewidth": 2
          },
          "yaxis": {
           "automargin": true,
           "gridcolor": "white",
           "linecolor": "white",
           "ticks": "",
           "title": {
            "standoff": 15
           },
           "zerolinecolor": "white",
           "zerolinewidth": 2
          }
         }
        },
        "title": {
         "text": "Sentiment over time"
        },
        "xaxis": {
         "anchor": "y",
         "domain": [
          0,
          1
         ],
         "title": {
          "text": "id"
         }
        },
        "yaxis": {
         "anchor": "x",
         "domain": [
          0,
          1
         ],
         "title": {
          "text": "value"
         }
        }
       }
      }
     },
     "metadata": {},
     "output_type": "display_data"
    }
   ],
   "source": [
    "# display sentiment over time for a given season and episode\n",
    "px.line(df_rolling[(df_rolling[\"season\"] == 5) & (df_rolling['episode'] == 16)], x=\"id\", y=[\"neg\", \"neu\", \"pos\"], title=\"Sentiment over time\", color_discrete_sequence=px.colors.qualitative.Pastel)"
   ]
  },
  {
   "cell_type": "code",
   "execution_count": 25,
   "metadata": {},
   "outputs": [
    {
     "name": "stderr",
     "output_type": "stream",
     "text": [
      "c:\\Users\\schla\\anaconda3\\lib\\site-packages\\paramiko\\transport.py:219: CryptographyDeprecationWarning:\n",
      "\n",
      "Blowfish has been deprecated\n",
      "\n"
     ]
    },
    {
     "name": "stdout",
     "output_type": "stream",
     "text": [
      "2023-02-26 22:02:58,516 loading file C:\\Users\\schla\\.flair\\models\\sentiment-en-mix-distillbert_4.pt\n",
      "Sentiment:  ['Sentence: \"All right Jim . Your quarterlies look very good . How are things at the library ?\"'/'POSITIVE' (0.9984)]\n"
     ]
    }
   ],
   "source": [
    "from flair.models import TextClassifier\n",
    "from flair.data import Sentence\n",
    "\n",
    "classifier = TextClassifier.load('en-sentiment')\n",
    "\n",
    "sentence = Sentence('All right Jim. Your quarterlies look very good. How are things at the library?')\n",
    "classifier.predict(sentence)\n",
    "\n",
    "print('Sentiment: ', sentence.labels)"
   ]
  },
  {
   "cell_type": "code",
   "execution_count": 26,
   "metadata": {},
   "outputs": [
    {
     "data": {
      "text/plain": [
       "{'neg': 0.0, 'neu': 0.803, 'pos': 0.197, 'compound': 0.4927}"
      ]
     },
     "execution_count": 26,
     "metadata": {},
     "output_type": "execute_result"
    }
   ],
   "source": [
    "from vaderSentiment.vaderSentiment import SentimentIntensityAnalyzer\n",
    "\n",
    "analyzer = SentimentIntensityAnalyzer()\n",
    "analyzer.polarity_scores(\"All right Jim. Your quarterlies look very good. How are things at the library?\")"
   ]
  },
  {
   "cell_type": "code",
   "execution_count": 27,
   "metadata": {},
   "outputs": [
    {
     "name": "stdout",
     "output_type": "stream",
     "text": [
      "0.5978571428571429\n",
      "0.6578571428571429\n",
      "[(['right'], 0.2857142857142857, 0.5357142857142857, None), (['very', 'good'], 0.9099999999999999, 0.7800000000000001, None)]\n",
      "[WordList(['All', 'right', 'Jim']), WordList(['right', 'Jim', 'Your']), WordList(['Jim', 'Your', 'quarterlies']), WordList(['Your', 'quarterlies', 'look']), WordList(['quarterlies', 'look', 'very']), WordList(['look', 'very', 'good']), WordList(['very', 'good', 'How']), WordList(['good', 'How', 'are']), WordList(['How', 'are', 'things']), WordList(['are', 'things', 'at']), WordList(['things', 'at', 'the']), WordList(['at', 'the', 'library'])]\n"
     ]
    }
   ],
   "source": [
    "import spacy\n",
    "from spacytextblob.spacytextblob import SpacyTextBlob\n",
    "\n",
    "nlp = spacy.load('en_core_web_sm')\n",
    "nlp.add_pipe('spacytextblob')\n",
    "text = \"All right Jim. Your quarterlies look very good. How are things at the library?\"\n",
    "doc = nlp(text)\n",
    "print(doc._.polarity)\n",
    "print(doc._.subjectivity)\n",
    "print(doc._.blob.sentiment_assessments.assessments)\n",
    "print(doc._.blob.ngrams())"
   ]
  },
  {
   "cell_type": "code",
   "execution_count": 28,
   "metadata": {},
   "outputs": [
    {
     "ename": "OSError",
     "evalue": "Can't load tokenizer for 'cardiffnlp/twitter-roberta-base-sentiment'. If you were trying to load it from 'https://huggingface.co/models', make sure you don't have a local directory with the same name. Otherwise, make sure 'cardiffnlp/twitter-roberta-base-sentiment' is the correct path to a directory containing all relevant files for a RobertaTokenizerFast tokenizer.",
     "output_type": "error",
     "traceback": [
      "\u001b[1;31m---------------------------------------------------------------------------\u001b[0m",
      "\u001b[1;31mOSError\u001b[0m                                   Traceback (most recent call last)",
      "Cell \u001b[1;32mIn [28], line 3\u001b[0m\n\u001b[0;32m      1\u001b[0m \u001b[39mfrom\u001b[39;00m \u001b[39mtransformers\u001b[39;00m \u001b[39mimport\u001b[39;00m AutoTokenizer, AutoModelForSequenceClassification\n\u001b[1;32m----> 3\u001b[0m tokenizer \u001b[39m=\u001b[39m AutoTokenizer\u001b[39m.\u001b[39;49mfrom_pretrained(\u001b[39m\"\u001b[39;49m\u001b[39mcardiffnlp/twitter-roberta-base-sentiment\u001b[39;49m\u001b[39m\"\u001b[39;49m)\n\u001b[0;32m      5\u001b[0m model \u001b[39m=\u001b[39m AutoModelForSequenceClassification\u001b[39m.\u001b[39mfrom_pretrained(\u001b[39m\"\u001b[39m\u001b[39mcardiffnlp/twitter-roberta-base-sentiment\u001b[39m\u001b[39m\"\u001b[39m)\n",
      "File \u001b[1;32mc:\\Users\\schla\\anaconda3\\lib\\site-packages\\transformers\\models\\auto\\tokenization_auto.py:628\u001b[0m, in \u001b[0;36mAutoTokenizer.from_pretrained\u001b[1;34m(cls, pretrained_model_name_or_path, *inputs, **kwargs)\u001b[0m\n\u001b[0;32m    626\u001b[0m tokenizer_class_py, tokenizer_class_fast \u001b[39m=\u001b[39m TOKENIZER_MAPPING[\u001b[39mtype\u001b[39m(config)]\n\u001b[0;32m    627\u001b[0m \u001b[39mif\u001b[39;00m tokenizer_class_fast \u001b[39mand\u001b[39;00m (use_fast \u001b[39mor\u001b[39;00m tokenizer_class_py \u001b[39mis\u001b[39;00m \u001b[39mNone\u001b[39;00m):\n\u001b[1;32m--> 628\u001b[0m     \u001b[39mreturn\u001b[39;00m tokenizer_class_fast\u001b[39m.\u001b[39mfrom_pretrained(pretrained_model_name_or_path, \u001b[39m*\u001b[39minputs, \u001b[39m*\u001b[39m\u001b[39m*\u001b[39mkwargs)\n\u001b[0;32m    629\u001b[0m \u001b[39melse\u001b[39;00m:\n\u001b[0;32m    630\u001b[0m     \u001b[39mif\u001b[39;00m tokenizer_class_py \u001b[39mis\u001b[39;00m \u001b[39mnot\u001b[39;00m \u001b[39mNone\u001b[39;00m:\n",
      "File \u001b[1;32mc:\\Users\\schla\\anaconda3\\lib\\site-packages\\transformers\\tokenization_utils_base.py:1759\u001b[0m, in \u001b[0;36mPreTrainedTokenizerBase.from_pretrained\u001b[1;34m(cls, pretrained_model_name_or_path, *init_inputs, **kwargs)\u001b[0m\n\u001b[0;32m   1753\u001b[0m     logger\u001b[39m.\u001b[39minfo(\n\u001b[0;32m   1754\u001b[0m         \u001b[39mf\u001b[39m\u001b[39m\"\u001b[39m\u001b[39mCan\u001b[39m\u001b[39m'\u001b[39m\u001b[39mt load following files from cache: \u001b[39m\u001b[39m{\u001b[39;00munresolved_files\u001b[39m}\u001b[39;00m\u001b[39m and cannot check if these \u001b[39m\u001b[39m\"\u001b[39m\n\u001b[0;32m   1755\u001b[0m         \u001b[39m\"\u001b[39m\u001b[39mfiles are necessary for the tokenizer to operate.\u001b[39m\u001b[39m\"\u001b[39m\n\u001b[0;32m   1756\u001b[0m     )\n\u001b[0;32m   1758\u001b[0m \u001b[39mif\u001b[39;00m \u001b[39mall\u001b[39m(full_file_name \u001b[39mis\u001b[39;00m \u001b[39mNone\u001b[39;00m \u001b[39mfor\u001b[39;00m full_file_name \u001b[39min\u001b[39;00m resolved_vocab_files\u001b[39m.\u001b[39mvalues()):\n\u001b[1;32m-> 1759\u001b[0m     \u001b[39mraise\u001b[39;00m \u001b[39mEnvironmentError\u001b[39;00m(\n\u001b[0;32m   1760\u001b[0m         \u001b[39mf\u001b[39m\u001b[39m\"\u001b[39m\u001b[39mCan\u001b[39m\u001b[39m'\u001b[39m\u001b[39mt load tokenizer for \u001b[39m\u001b[39m'\u001b[39m\u001b[39m{\u001b[39;00mpretrained_model_name_or_path\u001b[39m}\u001b[39;00m\u001b[39m'\u001b[39m\u001b[39m. If you were trying to load it from \u001b[39m\u001b[39m\"\u001b[39m\n\u001b[0;32m   1761\u001b[0m         \u001b[39m\"\u001b[39m\u001b[39m'\u001b[39m\u001b[39mhttps://huggingface.co/models\u001b[39m\u001b[39m'\u001b[39m\u001b[39m, make sure you don\u001b[39m\u001b[39m'\u001b[39m\u001b[39mt have a local directory with the same name. \u001b[39m\u001b[39m\"\u001b[39m\n\u001b[0;32m   1762\u001b[0m         \u001b[39mf\u001b[39m\u001b[39m\"\u001b[39m\u001b[39mOtherwise, make sure \u001b[39m\u001b[39m'\u001b[39m\u001b[39m{\u001b[39;00mpretrained_model_name_or_path\u001b[39m}\u001b[39;00m\u001b[39m'\u001b[39m\u001b[39m is the correct path to a directory \u001b[39m\u001b[39m\"\u001b[39m\n\u001b[0;32m   1763\u001b[0m         \u001b[39mf\u001b[39m\u001b[39m\"\u001b[39m\u001b[39mcontaining all relevant files for a \u001b[39m\u001b[39m{\u001b[39;00m\u001b[39mcls\u001b[39m\u001b[39m.\u001b[39m\u001b[39m__name__\u001b[39m\u001b[39m}\u001b[39;00m\u001b[39m tokenizer.\u001b[39m\u001b[39m\"\u001b[39m\n\u001b[0;32m   1764\u001b[0m     )\n\u001b[0;32m   1766\u001b[0m \u001b[39mfor\u001b[39;00m file_id, file_path \u001b[39min\u001b[39;00m vocab_files\u001b[39m.\u001b[39mitems():\n\u001b[0;32m   1767\u001b[0m     \u001b[39mif\u001b[39;00m file_id \u001b[39mnot\u001b[39;00m \u001b[39min\u001b[39;00m resolved_vocab_files:\n",
      "\u001b[1;31mOSError\u001b[0m: Can't load tokenizer for 'cardiffnlp/twitter-roberta-base-sentiment'. If you were trying to load it from 'https://huggingface.co/models', make sure you don't have a local directory with the same name. Otherwise, make sure 'cardiffnlp/twitter-roberta-base-sentiment' is the correct path to a directory containing all relevant files for a RobertaTokenizerFast tokenizer."
     ]
    }
   ],
   "source": [
    "from transformers import AutoTokenizer, AutoModelForSequenceClassification\n",
    "\n",
    "tokenizer = AutoTokenizer.from_pretrained(\"cardiffnlp/twitter-roberta-base-sentiment\")\n",
    "\n",
    "model = AutoModelForSequenceClassification.from_pretrained(\"cardiffnlp/twitter-roberta-base-sentiment\")"
   ]
  },
  {
   "cell_type": "code",
   "execution_count": null,
   "metadata": {},
   "outputs": [],
   "source": [
    "import torch\n",
    "\n",
    "task='sentiment'\n",
    "MODEL = f\"cardiffnlp/twitter-roberta-base-{task}\"\n",
    "\n",
    "tokenizer = AutoTokenizer.from_pretrained(\"roberta-base\")\n",
    "\n",
    "model = AutoModelForSequenceClassification.from_pretrained(MODEL)\n",
    "model.save_pretrained(MODEL)\n",
    "\n",
    "text = \"You are the worst person ever!\"\n",
    "encoded_input = tokenizer(text, return_tensors='pt')\n",
    "output = model(**encoded_input)\n",
    "scores = torch.softmax(output.logits, axis=1)"
   ]
  },
  {
   "cell_type": "code",
   "execution_count": null,
   "metadata": {},
   "outputs": [
    {
     "ename": "KeyError",
     "evalue": "'sentiment'",
     "output_type": "error",
     "traceback": [
      "\u001b[1;31m---------------------------------------------------------------------------\u001b[0m",
      "\u001b[1;31mKeyError\u001b[0m                                  Traceback (most recent call last)",
      "File \u001b[1;32mc:\\Users\\schla\\anaconda3\\lib\\site-packages\\pandas\\core\\indexes\\base.py:3803\u001b[0m, in \u001b[0;36mIndex.get_loc\u001b[1;34m(self, key, method, tolerance)\u001b[0m\n\u001b[0;32m   3802\u001b[0m \u001b[39mtry\u001b[39;00m:\n\u001b[1;32m-> 3803\u001b[0m     \u001b[39mreturn\u001b[39;00m \u001b[39mself\u001b[39;49m\u001b[39m.\u001b[39;49m_engine\u001b[39m.\u001b[39;49mget_loc(casted_key)\n\u001b[0;32m   3804\u001b[0m \u001b[39mexcept\u001b[39;00m \u001b[39mKeyError\u001b[39;00m \u001b[39mas\u001b[39;00m err:\n",
      "File \u001b[1;32mc:\\Users\\schla\\anaconda3\\lib\\site-packages\\pandas\\_libs\\index.pyx:138\u001b[0m, in \u001b[0;36mpandas._libs.index.IndexEngine.get_loc\u001b[1;34m()\u001b[0m\n",
      "File \u001b[1;32mc:\\Users\\schla\\anaconda3\\lib\\site-packages\\pandas\\_libs\\index.pyx:165\u001b[0m, in \u001b[0;36mpandas._libs.index.IndexEngine.get_loc\u001b[1;34m()\u001b[0m\n",
      "File \u001b[1;32mpandas\\_libs\\hashtable_class_helper.pxi:5745\u001b[0m, in \u001b[0;36mpandas._libs.hashtable.PyObjectHashTable.get_item\u001b[1;34m()\u001b[0m\n",
      "File \u001b[1;32mpandas\\_libs\\hashtable_class_helper.pxi:5753\u001b[0m, in \u001b[0;36mpandas._libs.hashtable.PyObjectHashTable.get_item\u001b[1;34m()\u001b[0m\n",
      "\u001b[1;31mKeyError\u001b[0m: 'sentiment'",
      "\nThe above exception was the direct cause of the following exception:\n",
      "\u001b[1;31mKeyError\u001b[0m                                  Traceback (most recent call last)",
      "Cell \u001b[1;32mIn [30], line 14\u001b[0m\n\u001b[0;32m     12\u001b[0m input_ids \u001b[39m=\u001b[39m encoded_data[\u001b[39m'\u001b[39m\u001b[39minput_ids\u001b[39m\u001b[39m'\u001b[39m]\n\u001b[0;32m     13\u001b[0m attention_masks \u001b[39m=\u001b[39m encoded_data[\u001b[39m'\u001b[39m\u001b[39mattention_mask\u001b[39m\u001b[39m'\u001b[39m]\n\u001b[1;32m---> 14\u001b[0m labels \u001b[39m=\u001b[39m df[\u001b[39m'\u001b[39;49m\u001b[39msentiment\u001b[39;49m\u001b[39m'\u001b[39;49m]\u001b[39m.\u001b[39mvalues\n",
      "File \u001b[1;32mc:\\Users\\schla\\anaconda3\\lib\\site-packages\\pandas\\core\\frame.py:3804\u001b[0m, in \u001b[0;36mDataFrame.__getitem__\u001b[1;34m(self, key)\u001b[0m\n\u001b[0;32m   3802\u001b[0m \u001b[39mif\u001b[39;00m \u001b[39mself\u001b[39m\u001b[39m.\u001b[39mcolumns\u001b[39m.\u001b[39mnlevels \u001b[39m>\u001b[39m \u001b[39m1\u001b[39m:\n\u001b[0;32m   3803\u001b[0m     \u001b[39mreturn\u001b[39;00m \u001b[39mself\u001b[39m\u001b[39m.\u001b[39m_getitem_multilevel(key)\n\u001b[1;32m-> 3804\u001b[0m indexer \u001b[39m=\u001b[39m \u001b[39mself\u001b[39;49m\u001b[39m.\u001b[39;49mcolumns\u001b[39m.\u001b[39;49mget_loc(key)\n\u001b[0;32m   3805\u001b[0m \u001b[39mif\u001b[39;00m is_integer(indexer):\n\u001b[0;32m   3806\u001b[0m     indexer \u001b[39m=\u001b[39m [indexer]\n",
      "File \u001b[1;32mc:\\Users\\schla\\anaconda3\\lib\\site-packages\\pandas\\core\\indexes\\base.py:3805\u001b[0m, in \u001b[0;36mIndex.get_loc\u001b[1;34m(self, key, method, tolerance)\u001b[0m\n\u001b[0;32m   3803\u001b[0m     \u001b[39mreturn\u001b[39;00m \u001b[39mself\u001b[39m\u001b[39m.\u001b[39m_engine\u001b[39m.\u001b[39mget_loc(casted_key)\n\u001b[0;32m   3804\u001b[0m \u001b[39mexcept\u001b[39;00m \u001b[39mKeyError\u001b[39;00m \u001b[39mas\u001b[39;00m err:\n\u001b[1;32m-> 3805\u001b[0m     \u001b[39mraise\u001b[39;00m \u001b[39mKeyError\u001b[39;00m(key) \u001b[39mfrom\u001b[39;00m \u001b[39merr\u001b[39;00m\n\u001b[0;32m   3806\u001b[0m \u001b[39mexcept\u001b[39;00m \u001b[39mTypeError\u001b[39;00m:\n\u001b[0;32m   3807\u001b[0m     \u001b[39m# If we have a listlike key, _check_indexing_error will raise\u001b[39;00m\n\u001b[0;32m   3808\u001b[0m     \u001b[39m#  InvalidIndexError. Otherwise we fall through and re-raise\u001b[39;00m\n\u001b[0;32m   3809\u001b[0m     \u001b[39m#  the TypeError.\u001b[39;00m\n\u001b[0;32m   3810\u001b[0m     \u001b[39mself\u001b[39m\u001b[39m.\u001b[39m_check_indexing_error(key)\n",
      "\u001b[1;31mKeyError\u001b[0m: 'sentiment'"
     ]
    }
   ],
   "source": [
    "# Tokenize the text and encode it as input features\n",
    "encoded_data = tokenizer.batch_encode_plus(\n",
    "    df_raw['line_text'].values.astype('str'),\n",
    "    add_special_tokens=True,\n",
    "    return_attention_mask=True,\n",
    "    padding=True,\n",
    "    truncation=True,\n",
    "    max_length=512,\n",
    "    return_tensors='pt'\n",
    ")\n",
    "\n",
    "input_ids = encoded_data['input_ids']\n",
    "attention_masks = encoded_data['attention_mask']\n",
    "labels = df['sentiment'].values"
   ]
  },
  {
   "attachments": {},
   "cell_type": "markdown",
   "metadata": {},
   "source": [
    "## Network Analysis"
   ]
  },
  {
   "cell_type": "code",
   "execution_count": null,
   "metadata": {},
   "outputs": [],
   "source": [
    "# create a list of the most important characters in the tv show the office\n",
    "important_characters = [\"Michael\", \"Dwight\", \"Jim\", \"Pam\", \"Ryan\", \"Andy\", \"Kevin\", \"Angela\", \"Phyllis\", \"Stanley\", \"Meredith\", \"Toby\", \"Oscar\", \"Kelly\", \"Creed\"]"
   ]
  },
  {
   "cell_type": "code",
   "execution_count": null,
   "metadata": {},
   "outputs": [
    {
     "ename": "TypeError",
     "evalue": "'list' object is not callable",
     "output_type": "error",
     "traceback": [
      "\u001b[1;31m---------------------------------------------------------------------------\u001b[0m",
      "\u001b[1;31mTypeError\u001b[0m                                 Traceback (most recent call last)",
      "Cell \u001b[1;32mIn [27], line 5\u001b[0m\n\u001b[0;32m      3\u001b[0m character_edges \u001b[39m=\u001b[39m {}\n\u001b[0;32m      4\u001b[0m \u001b[39mfor\u001b[39;00m c \u001b[39min\u001b[39;00m speaker[\u001b[39m'\u001b[39m\u001b[39mspeakers\u001b[39m\u001b[39m'\u001b[39m]:\n\u001b[1;32m----> 5\u001b[0m     c \u001b[39m=\u001b[39m \u001b[39mlist\u001b[39;49m(c)\n\u001b[0;32m      6\u001b[0m     \u001b[39mfor\u001b[39;00m i \u001b[39min\u001b[39;00m \u001b[39mrange\u001b[39m(\u001b[39mlen\u001b[39m(c)):\n\u001b[0;32m      7\u001b[0m         \u001b[39mfor\u001b[39;00m j \u001b[39min\u001b[39;00m \u001b[39mrange\u001b[39m(i\u001b[39m+\u001b[39m\u001b[39m1\u001b[39m, \u001b[39mlen\u001b[39m(c)):\n",
      "\u001b[1;31mTypeError\u001b[0m: 'list' object is not callable"
     ]
    }
   ],
   "source": [
    "speaker = df.groupby(['season', 'episode', 'scene'])['speaker'].apply(set).reset_index(name='speakers')\n",
    "\n",
    "character_edges = {}\n",
    "for c in speaker['speakers']:\n",
    "    c = list(c)\n",
    "    for i in range(len(c)):\n",
    "        for j in range(i+1, len(c)):\n",
    "            character_tuple = (c[i], c[j])\n",
    "            character_tuple_inv = (c[j], c[i])\n",
    "            if character_tuple in character_edges:\n",
    "                character_edges[character_tuple] += 1\n",
    "            elif character_tuple_inv in character_edges:\n",
    "                character_edges[character_tuple_inv] += 1\n",
    "            else:\n",
    "                character_edges[character_tuple] = 1\n",
    "\n",
    "# only keep edges between important characters\n",
    "character_edges = {k: v for k, v in character_edges.items() if k[0] in important_characters and k[1] in important_characters}"
   ]
  },
  {
   "cell_type": "code",
   "execution_count": null,
   "metadata": {},
   "outputs": [],
   "source": [
    "#pos = nx.spectral_layout(graph, weight='weight', scale=2, center=(0, 0))\n",
    "#nx.draw(graph, pos, with_labels=True, node_size=[w/total_weights*30000 for w in node_weights], font_size=20,\n",
    "#            edgelist=[(u, v) for (u, v, d) in graph.edges(data=True)],\n",
    "#            width=[0.01*d['weight'] for (u, v, d) in graph.edges(data=True)])\n",
    "\n"
   ]
  },
  {
   "cell_type": "code",
   "execution_count": null,
   "metadata": {},
   "outputs": [
    {
     "name": "stderr",
     "output_type": "stream",
     "text": [
      "C:\\Users\\schla\\AppData\\Local\\Temp\\ipykernel_18844\\864791407.py:16: DeprecationWarning:\n",
      "\n",
      "Argument `titlefont_size` is deprecated and will be removed in 0.6.0.\n",
      "\n"
     ]
    },
    {
     "data": {
      "application/vnd.jupyter.widget-view+json": {
       "model_id": "daa6e118e9ca4525959f1b2a39794b13",
       "version_major": 2,
       "version_minor": 0
      },
      "text/plain": [
       "FigureWidget({\n",
       "    'data': [{'hoverinfo': 'text',\n",
       "              'line': {'color': '#888', 'width': 1},\n",
       "              'mode': 'lines',\n",
       "              'text': [],\n",
       "              'type': 'scatter',\n",
       "              'uid': 'd998af2f-647b-4a3c-9688-083703689d99',\n",
       "              'x': [0.5158489346504211, 0.8027080297470093, None, ...,\n",
       "                    0.933087944984436, 0.37822648882865906, None],\n",
       "              'y': [0.5060888528823853, 0.7763158082962036, None, ...,\n",
       "                    0.10320699959993362, 0.32585400342941284, None]},\n",
       "             {'hoverinfo': 'text',\n",
       "              'hovertext': [Node: Michael<br>Degree: 14, Node: Jim<br>Degree: 14,\n",
       "                            Node: Pam<br>Degree: 14, Node: Dwight<br>Degree: 14,\n",
       "                            Node: Phyllis<br>Degree: 14, Node: Stanley<br>Degree:\n",
       "                            14, Node: Kevin<br>Degree: 14, Node: Angela<br>Degree:\n",
       "                            14, Node: Ryan<br>Degree: 14, Node: Oscar<br>Degree:\n",
       "                            14, Node: Toby<br>Degree: 14, Node: Kelly<br>Degree:\n",
       "                            14, Node: Meredith<br>Degree: 14, Node:\n",
       "                            Creed<br>Degree: 14, Node: Andy<br>Degree: 14],\n",
       "              'marker': {'color': [14, 14, 14, 14, 14, 14, 14, 14, 14, 14, 14, 14,\n",
       "                                   14, 14, 14],\n",
       "                         'colorbar': {'thickness': 15, 'title': {'side': 'right'}, 'xanchor': 'left'},\n",
       "                         'colorscale': [[0.0, 'rgb(255,255,217)'], [0.125,\n",
       "                                        'rgb(237,248,177)'], [0.25,\n",
       "                                        'rgb(199,233,180)'], [0.375,\n",
       "                                        'rgb(127,205,187)'], [0.5,\n",
       "                                        'rgb(65,182,196)'], [0.625,\n",
       "                                        'rgb(29,145,192)'], [0.75,\n",
       "                                        'rgb(34,94,168)'], [0.875,\n",
       "                                        'rgb(37,52,148)'], [1.0, 'rgb(8,29,88)']],\n",
       "                         'line': {'width': 0},\n",
       "                         'opacity': 0.8,\n",
       "                         'reversescale': True,\n",
       "                         'showscale': True,\n",
       "                         'size': [118.23122210001941, 102.54253736171313,\n",
       "                                  65.79543249013392, 62.52830432813612,\n",
       "                                  35.67962735330271, 20.152681632917123,\n",
       "                                  33.15649867374005, 20.41146406159022,\n",
       "                                  10.96590541502232, 14.62120722002976,\n",
       "                                  4.011127644432944, 5.563822216471502,\n",
       "                                  4.496344698194992, 1.8438248042957883, 0.0]},\n",
       "              'mode': 'markers',\n",
       "              'text': [],\n",
       "              'textposition': 'bottom center',\n",
       "              'type': 'scatter',\n",
       "              'uid': 'd3af073f-e893-453d-ba4d-ddcd8d4e7f36',\n",
       "              'x': [0.5158489346504211, 0.8027080297470093, 0.834813117980957,\n",
       "                    0.9070091843605042, 0.9174235463142395, 0.9535439014434814,\n",
       "                    0.6210066080093384, 0.6939707398414612, 0.994949996471405,\n",
       "                    0.8495029807090759, 0.47038230299949646, 0.9507836699485779,\n",
       "                    0.034811701625585556, 0.933087944984436, 0.37822648882865906],\n",
       "              'y': [0.5060888528823853, 0.7763158082962036, 0.8960165977478027,\n",
       "                    0.7326357960700989, 0.38552597165107727, 0.5107077360153198,\n",
       "                    0.5936452746391296, 0.5310685634613037, 0.9603205919265747,\n",
       "                    0.2333686351776123, 0.5564810633659363, 0.8388355374336243,\n",
       "                    0.7001874446868896, 0.10320699959993362, 0.32585400342941284]},\n",
       "             {'hoverinfo': 'text',\n",
       "              'marker': {'opacity': 0},\n",
       "              'mode': 'markers',\n",
       "              'text': [],\n",
       "              'textposition': 'middle center',\n",
       "              'type': 'scatter',\n",
       "              'uid': 'e4f61967-8210-4ab3-ae29-01d47c83fe32',\n",
       "              'x': [],\n",
       "              'y': []}],\n",
       "    'layout': {'annotations': [{'showarrow': False,\n",
       "                                'text': '',\n",
       "                                'x': 0.005,\n",
       "                                'xref': 'paper',\n",
       "                                'y': -0.002,\n",
       "                                'yref': 'paper'}],\n",
       "               'hovermode': 'closest',\n",
       "               'margin': {'b': 20, 'l': 5, 'r': 5, 't': 40},\n",
       "               'paper_bgcolor': 'rgba(0,0,0,0)',\n",
       "               'plot_bgcolor': 'rgba(0,0,0,0)',\n",
       "               'showlegend': False,\n",
       "               'template': '...',\n",
       "               'title': {'font': {'size': 16}, 'text': 'Graph'},\n",
       "               'xaxis': {'showgrid': False, 'showticklabels': False, 'zeroline': False},\n",
       "               'yaxis': {'showgrid': False, 'showticklabels': False, 'zeroline': False}}\n",
       "})"
      ]
     },
     "execution_count": 27,
     "metadata": {},
     "output_type": "execute_result"
    }
   ],
   "source": [
    "import networkx as nx\n",
    "import plotly.graph_objects as go\n",
    "\n",
    "graph = nx.Graph()\n",
    "for character_tuple, count in character_edges.items():\n",
    "    graph.add_edge(character_tuple[0], character_tuple[1], weight=count)\n",
    "\n",
    "\n",
    "node_weights = [sum([d['weight'] for (u, v, d) in graph.edges(data=True) if u == node]) for node in graph.nodes()]\n",
    "total_weights = sum(node_weights)\n",
    "node_weights_normalized = (np.array(node_weights)/total_weights)*500\n",
    "pos = nx.spring_layout(graph, weight='weight', k=3)\n",
    "\n",
    "import igviz as ig\n",
    "\n",
    "ig.plot(graph,\n",
    "size_method=list(node_weights_normalized)\n",
    ")"
   ]
  },
  {
   "cell_type": "code",
   "execution_count": null,
   "metadata": {},
   "outputs": [
    {
     "data": {
      "image/png": "[encoded data removed]",
      "text/plain": [
       "<Figure size 800x550 with 1 Axes>"
      ]
     },
     "metadata": {},
     "output_type": "display_data"
    }
   ],
   "source": [
    "import networkx as nx\n",
    "\n",
    "graph = nx.Graph()\n",
    "for character_tuple, count in character_edges.items():\n",
    "    graph.add_edge(character_tuple[0], character_tuple[1], weight=count)\n",
    "pos = nx.spring_layout(graph, k=100, iterations=500)\n",
    "node_weights = [sum([d['weight'] for (u, v, d) in graph.edges(data=True) if u == node]) for node in graph.nodes()]\n",
    "total_weights = sum(node_weights)\n",
    "nx.draw(graph, pos, with_labels=True, node_size=[w/total_weights*20000 for w in node_weights], font_size=12,\n",
    "            edgelist=[(u, v) for (u, v, d) in graph.edges(data=True)],\n",
    "            width=[0.01*d['weight'] for (u, v, d) in graph.edges(data=True)])"
   ]
  }
 ],
 "metadata": {
  "kernelspec": {
   "display_name": "base",
   "language": "python",
   "name": "python3"
  },
  "language_info": {
   "codemirror_mode": {
    "name": "ipython",
    "version": 3
   },
   "file_extension": ".py",
   "mimetype": "text/x-python",
   "name": "python",
   "nbconvert_exporter": "python",
   "pygments_lexer": "ipython3",
   "version": "3.9.7"
  },
  "orig_nbformat": 4,
  "vscode": {
   "interpreter": {
    "hash": "d08bd1c3f8bce5cbee9b581e4183f55ee085546009e4ad69f297b57f92833616"
   }
  }
 },
 "nbformat": 4,
 "nbformat_minor": 2
}
