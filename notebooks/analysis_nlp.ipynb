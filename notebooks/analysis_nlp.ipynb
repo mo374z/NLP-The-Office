{
 "cells": [
  {
   "attachments": {},
   "cell_type": "markdown",
   "metadata": {},
   "source": [
    "# Analyis NLP\n",
    "That’s what the data said: An NLP Analysis of Character Relationships and Speaking Styles in the US TV-Show “The Office”"
   ]
  },
  {
   "cell_type": "code",
   "execution_count": null,
   "metadata": {},
   "outputs": [],
   "source": [
    "# display plots next to each other\n",
    "fig, (ax1, ax2) = plt.subplots(1, 2, figsize=(20, 10))\n",
    "\n",
    "# lines and words per character\n",
    "lines_per_character = df[\"speaker\"].value_counts()[:20]\n",
    "plot = sns.barplot(y=lines_per_character.index, x=lines_per_character,ax=ax1)\n",
    "\n",
    "df[\"words_in_line\"] = df[\"line_text\"].apply(lambda x: len(x.split(\" \")))\n",
    "words_per_character = df.groupby(\"speaker\").sum(numeric_only=True)[\"words_in_line\"].sort_values(ascending=False)[:20]\n",
    "plot2 = sns.barplot(y=words_per_character.index, x=words_per_character,ax=ax2)\n",
    "\n",
    "plot.set_title(\"Lines per character\")\n",
    "plot2.set_title(\"Words per character\")\n",
    "\n",
    "plt.show(fig)\n"
   ]
  },
  {
   "cell_type": "code",
   "execution_count": null,
   "metadata": {},
   "outputs": [],
   "source": [
    "# TODO: Document clustering/ Topic Modeling\n",
    "# TODO: Sentiment Analysis\n",
    "# TODO:  "
   ]
  }
 ],
 "metadata": {
  "kernelspec": {
   "display_name": "Python 3",
   "language": "python",
   "name": "python3"
  },
  "language_info": {
   "name": "python",
   "version": "3.10.10"
  },
  "orig_nbformat": 4,
  "vscode": {
   "interpreter": {
    "hash": "885d594eef47ba9d029fc86f8c38af7ec9523f1d4e741834c77e8fd404d0fae1"
   }
  }
 },
 "nbformat": 4,
 "nbformat_minor": 2
}
