{
  "cells": [
    {
      "attachments": {},
      "cell_type": "markdown",
      "metadata": {
        "id": "EKOTlwcmxmej"
      },
      "source": [
        "# Scene generation model\n",
        "\n",
        "\n"
      ]
    },
    {
      "attachments": {},
      "cell_type": "markdown",
      "metadata": {},
      "source": [
        "- pre-trained transformer based on the GPT-2 language model to generate new scenes from the TV show \"The Office.\"\n",
        "- data preparation by concatenating each scene into one row and keeping directorials\n",
        "- fine-tuneing with an AdamW optimizer on tokenized data"
      ]
    },
    {
      "cell_type": "markdown",
      "metadata": {
        "id": "Xf3Qw77SZGbS"
      },
      "source": [
        "# Setup"
      ]
    },
    {
      "cell_type": "code",
      "execution_count": 7,
      "metadata": {
        "colab": {
          "base_uri": "https://localhost:8080/"
        },
        "id": "JCCeyhuDHdOu",
        "outputId": "ecdfd48a-c8c5-43f8-d27b-07ba93c868e8"
      },
      "outputs": [
        {
          "name": "stderr",
          "output_type": "stream",
          "text": [
            "[nltk_data] Downloading package punkt to\n",
            "[nltk_data]     C:\\Users\\schla\\AppData\\Roaming\\nltk_data...\n",
            "[nltk_data]   Package punkt is already up-to-date!\n"
          ]
        },
        {
          "data": {
            "text/plain": [
              "True"
            ]
          },
          "execution_count": 7,
          "metadata": {},
          "output_type": "execute_result"
        }
      ],
      "source": [
        "import os\n",
        "import time\n",
        "import datetime\n",
        "\n",
        "\n",
        "import pandas as pd\n",
        "import seaborn as sns\n",
        "import numpy as np\n",
        "import random\n",
        "\n",
        "import matplotlib.pyplot as plt\n",
        "\n",
        "\n",
        "import torch\n",
        "from torch.utils.data import Dataset, DataLoader, random_split, RandomSampler, SequentialSampler\n",
        "torch.manual_seed(42)\n",
        "\n",
        "from transformers import GPT2LMHeadModel,  GPT2Tokenizer, GPT2Config, GPT2LMHeadModel\n",
        "from transformers import AdamW, get_linear_schedule_with_warmup\n",
        "\n",
        "import nltk\n",
        "nltk.download('punkt')"
      ]
    },
    {
      "attachments": {},
      "cell_type": "markdown",
      "metadata": {
        "id": "ZfdCML6Parvv"
      },
      "source": [
        "# Create Training Set"
      ]
    },
    {
      "cell_type": "code",
      "execution_count": 3,
      "metadata": {},
      "outputs": [],
      "source": [
        "import sys\n",
        "sys.path.append(\"..\")\n",
        "\n",
        "from preprocessing_nlp import preprocess, extract_features\n",
        "from utils import print_episode\n",
        "\n",
        "PATH = \"../data/\"\n",
        "FILE = \"the-office-lines_scripts.csv\""
      ]
    },
    {
      "cell_type": "code",
      "execution_count": 17,
      "metadata": {},
      "outputs": [],
      "source": [
        "df_raw = pd.read_csv(PATH+FILE, sep=\",\", index_col='id')\n",
        "df = preprocess(df_raw, concat_scenes=True)\n",
        "df_sea = df_raw.copy()\n",
        "df_sea[\"season_episode\"] = df_sea.apply(lambda x: f\"{x['season']}{'0' if x['episode']<10 else ''}{x['episode']}\", axis=1)\n",
        "df.dropna(inplace=True) "
      ]
    },
    {
      "cell_type": "code",
      "execution_count": 18,
      "metadata": {},
      "outputs": [
        {
          "data": {
            "text/html": [
              "<div>\n",
              "<style scoped>\n",
              "    .dataframe tbody tr th:only-of-type {\n",
              "        vertical-align: middle;\n",
              "    }\n",
              "\n",
              "    .dataframe tbody tr th {\n",
              "        vertical-align: top;\n",
              "    }\n",
              "\n",
              "    .dataframe thead th {\n",
              "        text-align: right;\n",
              "    }\n",
              "</style>\n",
              "<table border=\"1\" class=\"dataframe\">\n",
              "  <thead>\n",
              "    <tr style=\"text-align: right;\">\n",
              "      <th></th>\n",
              "      <th>season</th>\n",
              "      <th>episode</th>\n",
              "      <th>scene</th>\n",
              "      <th>line_text</th>\n",
              "      <th>season_episode</th>\n",
              "    </tr>\n",
              "  </thead>\n",
              "  <tbody>\n",
              "    <tr>\n",
              "      <th>0</th>\n",
              "      <td>1</td>\n",
              "      <td>1</td>\n",
              "      <td>1</td>\n",
              "      <td>[Michael]: All right Jim. Your quarterlies loo...</td>\n",
              "      <td>101</td>\n",
              "    </tr>\n",
              "    <tr>\n",
              "      <th>1</th>\n",
              "      <td>1</td>\n",
              "      <td>1</td>\n",
              "      <td>2</td>\n",
              "      <td>[Michael]: [on the phone] Yes, I'd like to spe...</td>\n",
              "      <td>101</td>\n",
              "    </tr>\n",
              "    <tr>\n",
              "      <th>2</th>\n",
              "      <td>1</td>\n",
              "      <td>1</td>\n",
              "      <td>3</td>\n",
              "      <td>[Michael]: I've, uh, I've been at Dunder Miffl...</td>\n",
              "      <td>101</td>\n",
              "    </tr>\n",
              "    <tr>\n",
              "      <th>3</th>\n",
              "      <td>1</td>\n",
              "      <td>1</td>\n",
              "      <td>4</td>\n",
              "      <td>[Michael]: People say I am the best boss. They...</td>\n",
              "      <td>101</td>\n",
              "    </tr>\n",
              "    <tr>\n",
              "      <th>4</th>\n",
              "      <td>1</td>\n",
              "      <td>1</td>\n",
              "      <td>5</td>\n",
              "      <td>[Dwight]: [singing] Shall I play for you? Pa r...</td>\n",
              "      <td>101</td>\n",
              "    </tr>\n",
              "    <tr>\n",
              "      <th>...</th>\n",
              "      <td>...</td>\n",
              "      <td>...</td>\n",
              "      <td>...</td>\n",
              "      <td>...</td>\n",
              "      <td>...</td>\n",
              "    </tr>\n",
              "    <tr>\n",
              "      <th>8844</th>\n",
              "      <td>9</td>\n",
              "      <td>23</td>\n",
              "      <td>112</td>\n",
              "      <td>[Creed]: It all seems so very arbitrary. I app...</td>\n",
              "      <td>923</td>\n",
              "    </tr>\n",
              "    <tr>\n",
              "      <th>8845</th>\n",
              "      <td>9</td>\n",
              "      <td>23</td>\n",
              "      <td>113</td>\n",
              "      <td>[Meredith]: I just feel lucky that I got a cha...</td>\n",
              "      <td>923</td>\n",
              "    </tr>\n",
              "    <tr>\n",
              "      <th>8846</th>\n",
              "      <td>9</td>\n",
              "      <td>23</td>\n",
              "      <td>114</td>\n",
              "      <td>[Phyllis]: I   m happy that this was all filme...</td>\n",
              "      <td>923</td>\n",
              "    </tr>\n",
              "    <tr>\n",
              "      <th>8847</th>\n",
              "      <td>9</td>\n",
              "      <td>23</td>\n",
              "      <td>115</td>\n",
              "      <td>[Jim]: I sold paper at this company for 12 yea...</td>\n",
              "      <td>923</td>\n",
              "    </tr>\n",
              "    <tr>\n",
              "      <th>8848</th>\n",
              "      <td>9</td>\n",
              "      <td>23</td>\n",
              "      <td>116</td>\n",
              "      <td>[Pam]: I thought it was weird when you picked ...</td>\n",
              "      <td>923</td>\n",
              "    </tr>\n",
              "  </tbody>\n",
              "</table>\n",
              "<p>8849 rows × 5 columns</p>\n",
              "</div>"
            ],
            "text/plain": [
              "      season  episode  scene  \\\n",
              "0          1        1      1   \n",
              "1          1        1      2   \n",
              "2          1        1      3   \n",
              "3          1        1      4   \n",
              "4          1        1      5   \n",
              "...      ...      ...    ...   \n",
              "8844       9       23    112   \n",
              "8845       9       23    113   \n",
              "8846       9       23    114   \n",
              "8847       9       23    115   \n",
              "8848       9       23    116   \n",
              "\n",
              "                                              line_text season_episode  \n",
              "0     [Michael]: All right Jim. Your quarterlies loo...            101  \n",
              "1     [Michael]: [on the phone] Yes, I'd like to spe...            101  \n",
              "2     [Michael]: I've, uh, I've been at Dunder Miffl...            101  \n",
              "3     [Michael]: People say I am the best boss. They...            101  \n",
              "4     [Dwight]: [singing] Shall I play for you? Pa r...            101  \n",
              "...                                                 ...            ...  \n",
              "8844  [Creed]: It all seems so very arbitrary. I app...            923  \n",
              "8845  [Meredith]: I just feel lucky that I got a cha...            923  \n",
              "8846  [Phyllis]: I   m happy that this was all filme...            923  \n",
              "8847  [Jim]: I sold paper at this company for 12 yea...            923  \n",
              "8848  [Pam]: I thought it was weird when you picked ...            923  \n",
              "\n",
              "[8849 rows x 5 columns]"
            ]
          },
          "execution_count": 18,
          "metadata": {},
          "output_type": "execute_result"
        }
      ],
      "source": [
        "df"
      ]
    },
    {
      "cell_type": "code",
      "execution_count": 19,
      "metadata": {
        "colab": {
          "base_uri": "https://localhost:8080/",
          "height": 337
        },
        "id": "cKsH2sU0OCQA",
        "outputId": "76b422fc-30c8-4135-aa8c-6aec6f0d7840"
      },
      "outputs": [
        {
          "data": {
            "text/plain": [
              "<seaborn.axisgrid.FacetGrid at 0x248aaa513d0>"
            ]
          },
          "execution_count": 19,
          "metadata": {},
          "output_type": "execute_result"
        },
        {
          "data": {
            "image/png": "[encoded data removed]",
            "text/plain": [
              "<Figure size 500x500 with 1 Axes>"
            ]
          },
          "metadata": {},
          "output_type": "display_data"
        }
      ],
      "source": [
        "doc_lengths = []\n",
        "\n",
        "for line in df['line_text']:\n",
        "    # get rough token count distribution\n",
        "    tokens = nltk.word_tokenize(line)\n",
        "    doc_lengths.append(len(tokens))\n",
        "\n",
        "doc_lengths = np.array(doc_lengths)\n",
        "\n",
        "sns.displot(doc_lengths)"
      ]
    },
    {
      "cell_type": "code",
      "execution_count": 20,
      "metadata": {
        "colab": {
          "base_uri": "https://localhost:8080/"
        },
        "id": "u6P6bTItJEIj",
        "outputId": "fc6ba587-2c7d-4ef0-997b-b1f4271117ae"
      },
      "outputs": [
        {
          "data": {
            "text/plain": [
              "0.0028251779862131315"
            ]
          },
          "execution_count": 20,
          "metadata": {},
          "output_type": "execute_result"
        }
      ],
      "source": [
        "# the max token length   \n",
        "len(doc_lengths[doc_lengths > 768])/len(doc_lengths)"
      ]
    },
    {
      "cell_type": "code",
      "execution_count": 21,
      "metadata": {
        "colab": {
          "base_uri": "https://localhost:8080/"
        },
        "id": "63t_69HjlwAj",
        "outputId": "1d3d907a-f8cc-4c7d-b200-2e63fdad096f"
      },
      "outputs": [
        {
          "data": {
            "text/plain": [
              "124.7820092665838"
            ]
          },
          "execution_count": 21,
          "metadata": {},
          "output_type": "execute_result"
        }
      ],
      "source": [
        "np.average(doc_lengths)"
      ]
    },
    {
      "cell_type": "markdown",
      "metadata": {
        "id": "cMml12FJGjPW"
      },
      "source": [
        "# GPT2 Tokenizer"
      ]
    },
    {
      "cell_type": "code",
      "execution_count": null,
      "metadata": {
        "colab": {
          "base_uri": "https://localhost:8080/"
        },
        "id": "Z474sSC6oe7A",
        "outputId": "a812cad5-cc12-480b-a28d-5b08bde704b4"
      },
      "outputs": [],
      "source": [
        "# Load the GPT tokenizer.\n",
        "tokenizer = GPT2Tokenizer.from_pretrained('gpt2', bos_token='<|startoftext|>', eos_token='<|endoftext|>', pad_token='<|pad|>') #gpt2-medium\n"
      ]
    },
    {
      "cell_type": "code",
      "execution_count": 23,
      "metadata": {
        "colab": {
          "base_uri": "https://localhost:8080/"
        },
        "id": "sh0XKuDvnryn",
        "outputId": "d0906c06-c46d-4a16-e6a1-1a43fd345cca"
      },
      "outputs": [
        {
          "name": "stdout",
          "output_type": "stream",
          "text": [
            "The max model length is 1024 for this model, although the actual embedding size for GPT small is 768\n",
            "The beginning of sequence token <|startoftext|> token has the id 50257\n",
            "The end of sequence token <|endoftext|> has the id 50256\n",
            "The padding token <|pad|> has the id 50258\n"
          ]
        }
      ],
      "source": [
        "print(\"The max model length is {} for this model, although the actual embedding size for GPT small is 768\".format(tokenizer.model_max_length))\n",
        "print(\"The beginning of sequence token {} token has the id {}\".format(tokenizer.convert_ids_to_tokens(tokenizer.bos_token_id), tokenizer.bos_token_id))\n",
        "print(\"The end of sequence token {} has the id {}\".format(tokenizer.convert_ids_to_tokens(tokenizer.eos_token_id), tokenizer.eos_token_id))\n",
        "print(\"The padding token {} has the id {}\".format(tokenizer.convert_ids_to_tokens(tokenizer.pad_token_id), tokenizer.pad_token_id))"
      ]
    },
    {
      "cell_type": "markdown",
      "metadata": {
        "id": "ex5O1eV-Pfct"
      },
      "source": [
        "# PyTorch Datasets & Dataloaders\n"
      ]
    },
    {
      "cell_type": "code",
      "execution_count": 24,
      "metadata": {
        "id": "scqrzmqhV__z"
      },
      "outputs": [],
      "source": [
        "batch_size = 5"
      ]
    },
    {
      "attachments": {},
      "cell_type": "markdown",
      "metadata": {
        "id": "lqGMee7Isfpx"
      },
      "source": [
        "- using the standard PyTorch approach of loading data in using a [dataset class](https://pytorch.org/tutorials/beginner/data_loading_tutorial.html).\n",
        "- passing in the tokenizer as an argument but normally I would  instantiate it within the class."
      ]
    },
    {
      "cell_type": "code",
      "execution_count": 25,
      "metadata": {
        "id": "U_XJVIetKN-h"
      },
      "outputs": [],
      "source": [
        "class GPT2Dataset(Dataset):\n",
        "\n",
        "  def __init__(self, txt_list, tokenizer, gpt2_type=\"gpt2\", max_length=512):\n",
        "\n",
        "    self.tokenizer = tokenizer\n",
        "    self.input_ids = []\n",
        "    self.attn_masks = []\n",
        "\n",
        "    for txt in txt_list:\n",
        "\n",
        "      encodings_dict = tokenizer('<|startoftext|>'+ txt + '<|endoftext|>', truncation=True, max_length=max_length, padding=\"max_length\")\n",
        "\n",
        "      self.input_ids.append(torch.tensor(encodings_dict['input_ids']))\n",
        "      self.attn_masks.append(torch.tensor(encodings_dict['attention_mask']))\n",
        "    \n",
        "  def __len__(self):\n",
        "    return len(self.input_ids)\n",
        "\n",
        "  def __getitem__(self, idx):\n",
        "    return self.input_ids[idx], self.attn_masks[idx] "
      ]
    },
    {
      "cell_type": "code",
      "execution_count": 27,
      "metadata": {
        "colab": {
          "base_uri": "https://localhost:8080/"
        },
        "id": "Xza_O1_rD7yh",
        "outputId": "b6aa0809-9d45-49fd-b92d-41594ab0127d"
      },
      "outputs": [
        {
          "name": "stdout",
          "output_type": "stream",
          "text": [
            "7,964 training samples\n",
            "  885 validation samples\n"
          ]
        }
      ],
      "source": [
        "dataset = GPT2Dataset(df['line_text'], tokenizer, max_length=512)\n",
        "\n",
        "# Split into training and validation sets\n",
        "train_size = int(0.9 * len(dataset))\n",
        "val_size = len(dataset) - train_size\n",
        "\n",
        "train_dataset, val_dataset = random_split(dataset, [train_size, val_size])\n",
        "\n",
        "print('{:>5,} training samples'.format(train_size))\n",
        "print('{:>5,} validation samples'.format(val_size))"
      ]
    },
    {
      "cell_type": "code",
      "execution_count": 28,
      "metadata": {
        "id": "x0WeP5PREUuy"
      },
      "outputs": [],
      "source": [
        "# Create the DataLoaders for our training and validation datasets.\n",
        "# We'll take training samples in random order. \n",
        "train_dataloader = DataLoader(\n",
        "            train_dataset,  # The training samples.\n",
        "            sampler = RandomSampler(train_dataset), # Select batches randomly\n",
        "            batch_size = batch_size # Trains with this batch size.\n",
        "        )\n",
        "\n",
        "# For validation the order doesn't matter, so we'll just read them sequentially.\n",
        "validation_dataloader = DataLoader(\n",
        "            val_dataset, # The validation samples.\n",
        "            sampler = SequentialSampler(val_dataset), # Pull out batches sequentially.\n",
        "            batch_size = batch_size # Evaluate with this batch size.\n",
        "        )"
      ]
    },
    {
      "cell_type": "code",
      "execution_count": 30,
      "metadata": {
        "id": "gFsCTp_mporB"
      },
      "outputs": [
        {
          "data": {
            "text/plain": [
              "<torch._C.Generator at 0x248afaaca50>"
            ]
          },
          "execution_count": 30,
          "metadata": {},
          "output_type": "execute_result"
        }
      ],
      "source": [
        "# I'm not really doing anything with the config buheret\n",
        "configuration = GPT2Config.from_pretrained('gpt2', output_hidden_states=False)\n",
        "\n",
        "# instantiate the model\n",
        "model = GPT2LMHeadModel.from_pretrained(\"gpt2\", config=configuration)\n",
        "model.resize_token_embeddings(len(tokenizer))\n",
        "device = torch.device(\"cpu\")\n",
        "\n",
        "seed_val = 42\n",
        "\n",
        "random.seed(seed_val)\n",
        "np.random.seed(seed_val)\n",
        "torch.manual_seed(seed_val)"
      ]
    },
    {
      "cell_type": "markdown",
      "metadata": {
        "id": "D6TKgyUzPIQc"
      },
      "source": [
        "# Finetune GPT2 Language Model"
      ]
    },
    {
      "cell_type": "code",
      "execution_count": 22,
      "metadata": {
        "id": "pBEVY2PYSTXJ"
      },
      "outputs": [],
      "source": [
        "epochs = 5\n",
        "learning_rate = 5e-4\n",
        "warmup_steps = 1e2\n",
        "epsilon = 1e-8\n",
        "sample_every = 500\n",
        "\n",
        "optimizer = AdamW(model.parameters(),\n",
        "                  lr = learning_rate,\n",
        "                  eps = epsilon\n",
        "                )"
      ]
    },
    {
      "cell_type": "code",
      "execution_count": 24,
      "metadata": {},
      "outputs": [
        {
          "data": {
            "text/plain": [
              "(50257, 50256, 50258)"
            ]
          },
          "execution_count": 24,
          "metadata": {},
          "output_type": "execute_result"
        }
      ],
      "source": [
        "tokenizer.bos_token_id, tokenizer.eos_token_id, tokenizer.pad_token_id"
      ]
    },
    {
      "cell_type": "code",
      "execution_count": 25,
      "metadata": {
        "id": "-p0upAhhRiIx"
      },
      "outputs": [],
      "source": [
        "total_steps = len(train_dataloader) * epochs\n",
        "\n",
        "# Create the learning rate scheduler.\n",
        "# This changes the learning rate as the training loop progresses\n",
        "scheduler = get_linear_schedule_with_warmup(optimizer, \n",
        "                                            num_warmup_steps = warmup_steps, \n",
        "                                            num_training_steps = total_steps)"
      ]
    },
    {
      "cell_type": "code",
      "execution_count": 26,
      "metadata": {
        "id": "gpt6tR83keZD"
      },
      "outputs": [],
      "source": [
        "def format_time(elapsed):\n",
        "    return str(datetime.timedelta(seconds=int(round((elapsed)))))"
      ]
    },
    {
      "cell_type": "code",
      "execution_count": 27,
      "metadata": {
        "colab": {
          "base_uri": "https://localhost:8080/"
        },
        "id": "vCPohrZ-CTWu",
        "outputId": "dec21857-0661-4977-90df-29e5ddc0df40"
      },
      "outputs": [
        {
          "name": "stdout",
          "output_type": "stream",
          "text": [
            "\n",
            "======== Epoch 1 / 5 ========\n",
            "Training...\n",
            "  Batch   500  of  1,593. Loss: 0.42338404059410095.   Elapsed: 0:02:26.\n",
            "0: [ Dwight ] : Whoa.\n",
            "  Batch 1,000  of  1,593. Loss: 0.4674864411354065.   Elapsed: 0:04:53.\n",
            "0: [ Dwight ] : Hey guys, everyone. [ Karen ] : What? [ Dwight ] : [ nervous ] [ Karen ] : Good, I good news. Yeah, okay. [ Dwight ] : Uh, I. [ Karen ] : I really disappointed. What I meant? [ Dwight ] : Oh, I think. [ Karen ] : Well, I think, I think, I feel like. [ Dwight ] : And, um,... um. That I thinking?\n",
            "  Batch 1,500  of  1,593. Loss: 0.6733189225196838.   Elapsed: 0:07:20.\n",
            "0: [ Michael ] : What time day? [ Ryan ] : I little bit late getting information. [ Michael ] : Good. It uh, know? Good, enough, let us go go, take care, okay? [ Ryan ] : Thank... [ Michael ] : [ laughs ] And... yeah, let us go, go. [ Ryan ] : Yeah, I really sorry. You know, I... I... I sorry I going. Okay. Oh, good.\n",
            "\n",
            "  Average training loss: 0.79\n",
            "  Training epoch took: 0:07:48\n",
            "Saving model...\n",
            "Running Validation...\n",
            "  Validation Loss: 0.63\n",
            "  Validation took: 0:00:17\n",
            "\n",
            "======== Epoch 2 / 5 ========\n",
            "Training...\n",
            "  Batch   500  of  1,593. Loss: 0.6478253602981567.   Elapsed: 0:02:26.\n",
            "0: [ Jim ] : [ Michael Jim Dwight, Michael Jim Dwight's new apartment, Dwight Dwight's wife Carol ] I think might nice, really big deal. [ Jim ] : No, going. You look cute little, come. [ Dwight ] : Thank, Jim. That good decision. Good. [ Jim ] : You told Pam would's wedding. But? [ Dwight ] : [ Pam ] Uh, yeah, I know, I mean Pam's big wedding. So good. [ Jim ] : You going love.\n",
            "  Batch 1,000  of  1,593. Loss: 0.5743259787559509.   Elapsed: 0:04:54.\n",
            "0: [ Ryan ] : We going set. So I think going make little play I guess. [ Kevin ] : Alright, guys going make move. [ Ryan ] : If I put little piece pepperoni mouth, I going kill... [ Kevin ] : No,. We going kill. [ Ryan ] : If let us move, [ Oscar ] : Come! [ Ryan ] : We move!\n",
            "  Batch 1,500  of  1,593. Loss: 0.7348850965499878.   Elapsed: 0:07:21.\n",
            "0: [ Andy ] : [ entering building ] Hello. My name Andy Bernard. [ Dwight ] : Hello. Dwight Schrute. [ Andy ] : Dwight Schrute. [ Dwight ] : [ approaching building ] Hello. [ Michael ] : Hi. I work. [ Andy ] : Oh, Michael. [ Michael ] : So... [ Andy ] : [ exhales ] [ Michael ] : Hello? [ Andy ] : [ whispers ] Hi... [ Michael ] : Hi... [ Andy ] : [ whispers ] Michael? [ Michael ] : [ whispers ] You [ whispers ] I... [ exhales ]\n",
            "\n",
            "  Average training loss: 0.61\n",
            "  Training epoch took: 0:07:49\n",
            "Saving model...\n",
            "Running Validation...\n",
            "  Validation Loss: 0.62\n",
            "  Validation took: 0:00:17\n",
            "\n",
            "======== Epoch 3 / 5 ========\n",
            "Training...\n",
            "  Batch   500  of  1,593. Loss: 0.21396328508853912.   Elapsed: 0:02:26.\n",
            "0: [ Pam ] : You said think could keep secrets, I never tell anyone. [ Dwight ] : [ whispering ] Do even know I would believe. [ Pam ] : But... I would know something. [ Dwight ] : Okay, Pam, I see way. Let us go. Just go. No,. We go.\n",
            "  Batch 1,000  of  1,593. Loss: 0.595951497554779.   Elapsed: 0:04:53.\n",
            "0: [ Michael ] : [ sitting Meredith desk talking Michael's phone ] Yeah, uh,? I see. [ Andy ] : Yeah. You guys, going like hang new phone. [ Andy ] : Oh, yeah, yeah. Oh God, really? [ Andy ] : Yeah. You ready? [ Michael ] : Yeah, I already got phone. Right? I got one. I already bought one. All right, I give one. That right. No. No. Here go. Here go. [ Andy ] : [ slams phone desk ] [ Michael ] : [ sitting Meredith desk ] We take look. [ Meredith ] : [ sighs ] Look, I go. This good.\n",
            "  Batch 1,500  of  1,593. Loss: 0.35677066445350647.   Elapsed: 0:07:21.\n",
            "0: [ Oscar ] : [ Pam's office ] What? [ Pam ] : Nothing. [ Oscar ] : The office really, really going like party planning committee. I mean, could... [ Pam ] : I know, Oscar. [ Oscar ] : Okay, good. See? [ Angela ] : [ laughs ] This whole thing made fun.\n",
            "\n",
            "  Average training loss: 0.55\n",
            "  Training epoch took: 0:07:49\n",
            "Saving model...\n",
            "Running Validation...\n",
            "  Validation Loss: 0.63\n",
            "  Validation took: 0:00:17\n",
            "\n",
            "======== Epoch 4 / 5 ========\n",
            "Training...\n",
            "  Batch   500  of  1,593. Loss: 0.39632683992385864.   Elapsed: 0:02:26.\n",
            "0: [ Andy ] : [ office ] Are ready? [ Jim ] : Mm-hmm. [ Andy ] : Oh, yeah. Listen, look, uh, want see office. [ Jim ] : Uh, yeah, I see. [ Andy ] : I could go work. [ Jim ] : Well, um, going really cool. Just,, uh,, I, might, I got go home. [ Andy ] : Well, actually, I got. Thanks. [ Jim ] : All right. So, get back... [ Andy ] : Okay. [ Jim ] : Great. Thanks. [ Andy ] : Thank much. [ Jim ] : Okay.\n",
            "  Batch 1,000  of  1,593. Loss: 0.3230334520339966.   Elapsed: 0:04:54.\n",
            "0: [ Jim ] : It looks like something interesting.\n",
            "  Batch 1,500  of  1,593. Loss: 0.5044325590133667.   Elapsed: 0:07:21.\n",
            "0: [ Robert ] : I know Bob, right? He works warehouse. And I love hanging around. So tell, huh? What I say? [ Jim ] : [ sighs ] What? [ Robert ] : Because I need really good sales rep. I need someone else I need sell I need someone else. [ Jim ] : [ looks Creed ] Well, let us get back, huh? I need sell... OK. OK. [ Robert ] : And.... [ Jim ] : You right? There time. So wait, right? [ Robert ] : [ sighs ] That real name. And real name.\n",
            "\n",
            "  Average training loss: 0.49\n",
            "  Training epoch took: 0:07:49\n",
            "Saving model...\n",
            "Running Validation...\n",
            "  Validation Loss: 0.66\n",
            "  Validation took: 0:00:17\n",
            "\n",
            "======== Epoch 5 / 5 ========\n",
            "Training...\n",
            "  Batch   500  of  1,593. Loss: 0.787115752696991.   Elapsed: 0:02:27.\n",
            "0: [ Angela ] : [ Oscar ] You know? I sorry. I going go talk. [ Oscar ] : [ laughs ] I know, I could go. [ Angela ] : [ grabs box back, opens back ] You. [ Oscar ] : [ scoffs ] [ Angela ] : Come. [ Oscar ] : [ smacks Angela hand arm ] Oh, God. No,. You.\n",
            "  Batch 1,000  of  1,593. Loss: 0.6201085448265076.   Elapsed: 0:04:54.\n",
            "0: [ Dwight ] : There nothing horizon except time. And time passed, time came, time came. And one day, God smiled upon us. And I smiled upon Him. All I see staring, staring away. I going laugh heartily. I going laugh heartily. I going laugh heartily, one day, I going laugh heartily.\n",
            "  Batch 1,500  of  1,593. Loss: 0.5700874328613281.   Elapsed: 0:07:21.\n",
            "0: [ Stanley ] : So, uh, going? [ Stanley ] : No. I need make decision. [ Oscar ] : Well... [ Stanley ] : Because know, I really want know, uh, I going to-oh. [ laughs ] That, know. [ Oscar ] : What joke? [ Stanley ] : Umm.... I... [ Oscar ] : It, I take, I going let go. [ Stanley ] : Are serious? [ Oscar ] : Are serious? [ Stanley ] : What, man? [ Phyllis ] : I thought coming. You leave. [ Stanley ] : Fine. [ Phyllis ] : Bye. [ Stanley ] : Bye. [ Jim ] : Hey, Ryan. [ Ryan ] : Hey. [ Jim ] : Good. [ Ryan ] : [ Jim takes picture Stanley's car ] Oh, hey!\n",
            "\n",
            "  Average training loss: 0.43\n",
            "  Training epoch took: 0:07:50\n",
            "Saving model...\n",
            "Running Validation...\n",
            "  Validation Loss: 0.69\n",
            "  Validation took: 0:00:17\n",
            "\n",
            "Training complete!\n",
            "Total training took 0:40:33 (h:mm:ss)\n"
          ]
        }
      ],
      "source": [
        "total_t0 = time.time()\n",
        "\n",
        "training_stats = []\n",
        "\n",
        "model = model.to(device)\n",
        "\n",
        "for epoch_i in range(0, epochs):\n",
        "\n",
        "    # ========================================\n",
        "    #               Training\n",
        "    # ========================================\n",
        "\n",
        "    print(\"\")\n",
        "    print('======== Epoch {:} / {:} ========'.format(epoch_i + 1, epochs))\n",
        "    print('Training...')\n",
        "\n",
        "    t0 = time.time()\n",
        "\n",
        "    total_train_loss = 0\n",
        "\n",
        "    model.train()\n",
        "\n",
        "    for step, batch in enumerate(train_dataloader):\n",
        "\n",
        "        b_input_ids = batch[0].to(device)\n",
        "        b_labels = batch[0].to(device)\n",
        "        b_masks = batch[1].to(device)\n",
        "\n",
        "        model.zero_grad()        \n",
        "\n",
        "        outputs = model(  b_input_ids,\n",
        "                          labels=b_labels, \n",
        "                          attention_mask = b_masks,\n",
        "                          token_type_ids=None\n",
        "                        )\n",
        "\n",
        "        loss = outputs[0]  \n",
        "\n",
        "        batch_loss = loss.item()\n",
        "        total_train_loss += batch_loss\n",
        "\n",
        "        # Get sample every x batches.\n",
        "        if step % sample_every == 0 and not step == 0:\n",
        "\n",
        "            elapsed = format_time(time.time() - t0)\n",
        "            print('  Batch {:>5,}  of  {:>5,}. Loss: {:>5,}.   Elapsed: {:}.'.format(step, len(train_dataloader), batch_loss, elapsed))\n",
        "\n",
        "            model.eval()\n",
        "\n",
        "            sample_outputs = model.generate(\n",
        "                                    bos_token_id=tokenizer.bos_token_id,\n",
        "                                    pad_token_id=tokenizer.pad_token_id,\n",
        "                                    eos_token_id=tokenizer.eos_token_id,\n",
        "                                    do_sample=True,   \n",
        "                                    top_k=50, \n",
        "                                    max_length = 200,\n",
        "                                    top_p=0.95, \n",
        "                                    num_return_sequences=1\n",
        "                                )\n",
        "            for i, sample_output in enumerate(sample_outputs):\n",
        "                  print(\"{}: {}\".format(i, tokenizer.decode(sample_output, skip_special_tokens=True)))\n",
        "            \n",
        "            model.train()\n",
        "\n",
        "        loss.backward()\n",
        "\n",
        "        optimizer.step()\n",
        "\n",
        "        scheduler.step()\n",
        "\n",
        "    # Calculate the average loss over all of the batches.\n",
        "    avg_train_loss = total_train_loss / len(train_dataloader)       \n",
        "    \n",
        "    # Measure how long this epoch took.\n",
        "    training_time = format_time(time.time() - t0)\n",
        "\n",
        "    print(\"\")\n",
        "    print(\"  Average training loss: {0:.2f}\".format(avg_train_loss))\n",
        "    print(\"  Training epoch took: {:}\".format(training_time))\n",
        "        \n",
        "    # ========================================\n",
        "    #               Validation\n",
        "    # ========================================\n",
        "\n",
        "    print(\"Saving model...\")\n",
        "\n",
        "    torch.save(model.state_dict(), f'model_epoch_{epoch_i}.pth')\n",
        "    print(\"Running Validation...\")\n",
        "\n",
        "    t0 = time.time()\n",
        "\n",
        "    model.eval()\n",
        "\n",
        "    total_eval_loss = 0\n",
        "    nb_eval_steps = 0\n",
        "\n",
        "    # Evaluate data for one epoch\n",
        "    for batch in validation_dataloader:\n",
        "        \n",
        "        b_input_ids = batch[0].to(device)\n",
        "        b_labels = batch[0].to(device)\n",
        "        b_masks = batch[1].to(device)\n",
        "        \n",
        "        with torch.no_grad():        \n",
        "\n",
        "            outputs  = model(b_input_ids, \n",
        "#                            token_type_ids=None, \n",
        "                             attention_mask = b_masks,\n",
        "                            labels=b_labels)\n",
        "          \n",
        "            loss = outputs[0]  \n",
        "            \n",
        "        batch_loss = loss.item()\n",
        "        total_eval_loss += batch_loss        \n",
        "\n",
        "    avg_val_loss = total_eval_loss / len(validation_dataloader)\n",
        "    \n",
        "    validation_time = format_time(time.time() - t0)    \n",
        "\n",
        "    print(\"  Validation Loss: {0:.2f}\".format(avg_val_loss))\n",
        "    print(\"  Validation took: {:}\".format(validation_time))\n",
        "\n",
        "    # Record all statistics from this epoch.\n",
        "    training_stats.append(\n",
        "        {\n",
        "            'epoch': epoch_i + 1,\n",
        "            'Training Loss': avg_train_loss,\n",
        "            'Valid. Loss': avg_val_loss,\n",
        "            'Training Time': training_time,\n",
        "            'Validation Time': validation_time\n",
        "        }\n",
        "    )\n",
        "\n",
        "print(\"\")\n",
        "print(\"Training complete!\")\n",
        "print(\"Total training took {:} (h:mm:ss)\".format(format_time(time.time()-total_t0)))"
      ]
    },
    {
      "cell_type": "code",
      "execution_count": 48,
      "metadata": {
        "id": "-9zhc87ljk35"
      },
      "outputs": [],
      "source": [
        "torch.save(model.state_dict(), 'models/model_scene_generation.pth')"
      ]
    },
    {
      "cell_type": "code",
      "execution_count": 29,
      "metadata": {
        "colab": {
          "base_uri": "https://localhost:8080/",
          "height": 427
        },
        "id": "68xreA9JAmG5",
        "outputId": "28452100-a93a-47e7-aee4-62abd6fa5c2d"
      },
      "outputs": [
        {
          "data": {
            "image/png": "[encoded data removed]",
            "text/plain": [
              "<Figure size 864x432 with 1 Axes>"
            ]
          },
          "metadata": {},
          "output_type": "display_data"
        }
      ],
      "source": [
        "df_stats = pd.DataFrame(data=training_stats)\n",
        "\n",
        "# Use the 'epoch' as the row index.\n",
        "df_stats = df_stats.set_index('epoch')\n",
        "\n",
        "sns.set(style='darkgrid')\n",
        "\n",
        "# Increase the plot size and font size.\n",
        "sns.set(font_scale=1.5)\n",
        "plt.rcParams[\"figure.figsize\"] = (12,6)\n",
        "\n",
        "# Plot the learning curve.\n",
        "plt.plot(df_stats['Training Loss'], 'b-o', label=\"Training\")\n",
        "plt.plot(df_stats['Valid. Loss'], 'g-o', label=\"Validation\")\n",
        "\n",
        "# Label the plot.\n",
        "plt.title(\"Training & Validation Loss\")\n",
        "plt.xlabel(\"Epoch\")\n",
        "plt.ylabel(\"Loss\")\n",
        "plt.legend()\n",
        "plt.xticks([1, 2, 3, 4])\n",
        "\n",
        "plt.show()"
      ]
    },
    {
      "cell_type": "markdown",
      "metadata": {
        "id": "GfjYoa6WmkN6"
      },
      "source": [
        "# Display Model Info"
      ]
    },
    {
      "cell_type": "code",
      "execution_count": 31,
      "metadata": {
        "colab": {
          "base_uri": "https://localhost:8080/"
        },
        "id": "8PIiVlDYCtSq",
        "outputId": "4a25ab95-7804-4d59-89e9-c503df68a885"
      },
      "outputs": [
        {
          "name": "stdout",
          "output_type": "stream",
          "text": [
            "The GPT-2 scene generation model has 148 different named parameters.\n",
            "\n",
            "==== Embedding Layer ====\n",
            "\n",
            "transformer.wte.weight                                  (50259, 768)\n",
            "transformer.wpe.weight                                   (1024, 768)\n",
            "\n",
            "==== First Transformer ====\n",
            "\n",
            "transformer.h.0.ln_1.weight                                   (768,)\n",
            "transformer.h.0.ln_1.bias                                     (768,)\n",
            "transformer.h.0.attn.c_attn.weight                       (768, 2304)\n",
            "transformer.h.0.attn.c_attn.bias                             (2304,)\n",
            "transformer.h.0.attn.c_proj.weight                        (768, 768)\n",
            "transformer.h.0.attn.c_proj.bias                              (768,)\n",
            "transformer.h.0.ln_2.weight                                   (768,)\n",
            "transformer.h.0.ln_2.bias                                     (768,)\n",
            "transformer.h.0.mlp.c_fc.weight                          (768, 3072)\n",
            "transformer.h.0.mlp.c_fc.bias                                (3072,)\n",
            "transformer.h.0.mlp.c_proj.weight                        (3072, 768)\n",
            "transformer.h.0.mlp.c_proj.bias                               (768,)\n",
            "\n",
            "==== Output Layer ====\n",
            "\n",
            "transformer.ln_f.weight                                       (768,)\n",
            "transformer.ln_f.bias                                         (768,)\n"
          ]
        }
      ],
      "source": [
        "# Get all of the model's parameters as a list of tuples.\n",
        "params = list(model.named_parameters())\n",
        "\n",
        "print('The GPT-2 scene generation model has {:} different named parameters.\\n'.format(len(params)))\n",
        "\n",
        "print('==== Embedding Layer ====\\n')\n",
        "\n",
        "for p in params[0:2]:\n",
        "    print(\"{:<55} {:>12}\".format(p[0], str(tuple(p[1].size()))))\n",
        "\n",
        "print('\\n==== First Transformer ====\\n')\n",
        "\n",
        "for p in params[2:14]:\n",
        "    print(\"{:<55} {:>12}\".format(p[0], str(tuple(p[1].size()))))\n",
        "\n",
        "print('\\n==== Output Layer ====\\n')\n",
        "\n",
        "for p in params[-2:]:\n",
        "    print(\"{:<55} {:>12}\".format(p[0], str(tuple(p[1].size()))))"
      ]
    },
    {
      "attachments": {},
      "cell_type": "markdown",
      "metadata": {
        "id": "q2079Qyn8Mt8"
      },
      "source": [
        "# Loading Fine-Tuned Model\n"
      ]
    },
    {
      "cell_type": "code",
      "execution_count": 49,
      "metadata": {},
      "outputs": [
        {
          "data": {
            "text/plain": [
              "<All keys matched successfully>"
            ]
          },
          "execution_count": 49,
          "metadata": {},
          "output_type": "execute_result"
        }
      ],
      "source": [
        "# load already trained models from file\n",
        "\n",
        "model.load_state_dict(torch.load('models/model_scene_generation.pth', map_location=torch.device('cpu')))"
      ]
    },
    {
      "cell_type": "markdown",
      "metadata": {
        "id": "ZLf6rbRglYhQ"
      },
      "source": [
        "# Generate Text"
      ]
    },
    {
      "cell_type": "code",
      "execution_count": 59,
      "metadata": {
        "colab": {
          "base_uri": "https://localhost:8080/"
        },
        "id": "v4XhewaV93-_",
        "outputId": "3d2db3b6-5af9-4606-a633-8ee702b2b628"
      },
      "outputs": [
        {
          "name": "stdout",
          "output_type": "stream",
          "text": [
            "Jim: I will quit. Michael: Don't quit! That's...  heresy. Get off my property before I go.\n",
            "\n",
            "\n",
            "Jim: So the monkey does a split and then the monkey just says 'Split the difference?' Angela: Monkey doesn't do a split! Kevin: Yeah! Angela: I hear it! Kevin: I hear it!\n",
            "\n",
            "\n",
            "Jim: And the 'Tight Ass' award goes to Angela.  Not only because she's a very good screamer, but because she's also a plain hearty guy.  And the reason we pick those three people is because we think that none of them would be a stand up guy, and none of them are going to be able to tell us what it is really like to be a stand up guy.  So we go with Toby.  Who stands up to Angela?  Toby\n",
            "\n",
            "\n",
            "Jim: Is that scented? Angela: No. I think it smells like cigarettes.\n",
            "\n",
            "\n",
            "Jim: Okay, so you're not going to reveal what you're doing to her, but if you did, then you're a big flan. I'm not going to make any decision until after you've had a great deal of fun. Hide: Diwali is a festival of lights. Why not? Because it's a very important holiday for the Hindus. But I don't want to throw my hat in a hat. I'm not Hindu, and you might think that I'm\n",
            "\n",
            "\n"
          ]
        }
      ],
      "source": [
        "model.eval()\n",
        "\n",
        "from IPython import display\n",
        "prompt = \"Jim:\"\n",
        "\n",
        "generated = torch.tensor(tokenizer.encode(prompt)).unsqueeze(0)\n",
        "generated = generated.to(device)\n",
        "\n",
        "sample_outputs = model.generate(\n",
        "                                generated, \n",
        "                                #bos_token_id=random.randint(1,30000),\n",
        "                                do_sample=True,   \n",
        "                                eos_token_id=tokenizer.eos_token_id,\n",
        "                                bos_token_id=tokenizer.bos_token_id,\n",
        "                                top_k=50, \n",
        "                                max_length = 100,\n",
        "                                top_p=0.999, \n",
        "                                num_return_sequences=5,\n",
        "                                mask_token_id=tokenizer.mask_token_id,\n",
        "                                pad_token_id=tokenizer.pad_token_id,\n",
        "                                temperature=0.7\n",
        "                                )\n",
        "\n",
        "for i, sample_output in enumerate(sample_outputs):\n",
        "  print(tokenizer.decode(sample_output, skip_special_tokens=True))\n",
        "  print(\"\\n\")\n"
      ]
    },
    {
      "attachments": {},
      "cell_type": "markdown",
      "metadata": {},
      "source": [
        "Generated scene:\n",
        "\n",
        "Promt: 'Michael: Thats it! I am back!'\n",
        "> Dwight: Ah, thank you! So long.<br>\n",
        "> Angela: Extension 128.<br>\n",
        "> Creed: Hiya Pumpkin.<br>\n",
        "> Angela: You doing great?<br>\n",
        "> Creed: Yeah. So, do you want to hear me sing in your sexy sexy sexy highness?<br>\n",
        "> Angela: No.<br>"
      ]
    },
    {
      "attachments": {},
      "cell_type": "markdown",
      "metadata": {},
      "source": [
        "Similar scene from the real show with the same characters"
      ]
    },
    {
      "cell_type": "code",
      "execution_count": 18,
      "metadata": {},
      "outputs": [
        {
          "name": "stdout",
          "output_type": "stream",
          "text": [
            "[Creed]: There's my girl. I noticed you handing out some shekels. How would one get on that train?\n",
            "[Angela]: That was for per diem, for Philadelphia.\n",
            "[Meredith]: That town smells like cheese steaks.\n",
            "[Angela]: That town is full of history!\n",
            "[Creed]: Andrea's the office bitch. You'll get used to her. [introducing himself] Creed.\n"
          ]
        }
      ],
      "source": [
        "print_episode(df_sea, '302', 9)"
      ]
    },
    {
      "attachments": {},
      "cell_type": "markdown",
      "metadata": {},
      "source": [
        "- model successfully imitates the speaking styles of different characters"
      ]
    },
    {
      "attachments": {},
      "cell_type": "markdown",
      "metadata": {},
      "source": [
        "Prompt: 'Michael: Let's get back to work.'\n",
        "> Michael: Let's get back to work.  Where are you? <br>\n",
        "> Jim: I'm here. <br>\n",
        "> Andy: Fine. <br>\n",
        "> Jim: I just need a second. <br>\n",
        "> Andy: That's gotta be between you and Pam. <br>\n",
        "> Jim: Okay, yeah. Andy: Hmm.  Alright! <br>\n",
        "> Jim: This is it. <br>\n",
        "> Pam: This is where we work.  This is where we'll be meeting.  What is your commute like? <br>\n",
        "> Jim: It's really good. <br>\n",
        "> Pam: Oh, your ears are so sweaty. <br>\n",
        "> Jim: Oh, my God. <br> \n",
        "\n",
        "Prompt: 'Jim:'\n",
        ">Jim: I don't think it even matters. <br>\n",
        ">Dwight: People died there, people died here. <br>\n",
        ">Jim: Oh... You keep saying the office is no better, but don't... <br>\n",
        ">Dwight: No it's better than the rest of the... <br>\n",
        ">Jim: I'm sorry. I... I'm really sorry. <br>\n",
        ">Dwight: Yeah, well, if it makes us feel better, don't be a jerk. This is a place where we can all die together. A place where we can all be happy. <br>\n",
        ">Jim: Yeah, right. <br>"
      ]
    }
  ],
  "metadata": {
    "accelerator": "GPU",
    "colab": {
      "provenance": []
    },
    "gpuClass": "standard",
    "kernelspec": {
      "display_name": "Python 3 (ipykernel)",
      "language": "python",
      "name": "python3"
    },
    "language_info": {
      "codemirror_mode": {
        "name": "ipython",
        "version": 3
      },
      "file_extension": ".py",
      "mimetype": "text/x-python",
      "name": "python",
      "nbconvert_exporter": "python",
      "pygments_lexer": "ipython3",
      "version": "3.9.7"
    }
  },
  "nbformat": 4,
  "nbformat_minor": 0
}
