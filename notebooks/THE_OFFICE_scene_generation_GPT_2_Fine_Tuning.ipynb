{
  "cells": [
    {
      "cell_type": "markdown",
      "metadata": {
        "id": "EKOTlwcmxmej"
      },
      "source": [
        "# GPT-2 Fine-Tuning Tutorial with PyTorch & Huggingface in Colab\n",
        "\n",
        "\n"
      ]
    },
    {
      "cell_type": "markdown",
      "metadata": {
        "id": "NKGBoVwuhM4H"
      },
      "source": [
        "This is a simplified script for fine-tuning GPT2 using Hugging Face's [Transformers library](https://huggingface.co/transformers/) and PyTorch.\n",
        "\n",
        "You should understand the basics of PyTorch and how a training loop works before getting started. [This official PyTorch tutorial](https://pytorch.org/tutorials/beginner/nn_tutorial.html) serves as an excellent introduction. Familiarity with the workings of GPT2 might be useful but isn't required. The code has been written for clarity and not re-use. I'd advise refactoring it for actual projects. I've liberally taken bits from [Chris McCormick's BERT fine-tuning tutorial](https://mccormickml.com/2019/07/22/BERT-fine-tuning/), [Ian Porter's GPT2 tutorial](https://snappishproductions.com/blog/2020/03/01/chapter-9.5-text-generation-with-gpt-2-and-only-pytorch.html.html) and the [Hugging Face Language model fine-tuning script](https://huggingface.co/transformers/v2.0.0/examples.html#language-model-fine-tuning) so full credit to them. Chris' code has pretty much provided the basis for this script - you should definitely check out his [blog](https://mccormickml.com/tutorials/).\n",
        "\n",
        "I should mention what the script doesn't cover:\n",
        "\n",
        "- Using the [nlp](https://huggingface.co/nlp/) library to load in the dataset and setting up the training workflow, which looks to streamline things rather nicely.\n",
        "- [Accumulated gradients](https://medium.com/huggingface/training-larger-batches-practical-tips-on-1-gpu-multi-gpu-distributed-setups-ec88c3e51255) - this gives larger effective batch sizes than Colab allows (GPT2 is a large model, and anything more than a batch size of 2 would be enough to get a CUDA out of memory error on Colab).\n",
        "- [Freezing layers](https://github.com/huggingface/transformers/issues/1431). This is the process of only changing the parameters in selected layers, made famous by the [ULMFit](https://arxiv.org/abs/1801.06146) process.\n",
        "- [Using 'past'](https://huggingface.co/transformers/quickstart.html#using-the-past) when generating text. This takes in the previous state when generating successive items of text. I didn't need it.\n",
        "- [Tensor packing](https://snappishproductions.com/blog/2020/03/01/chapter-9.5-text-generation-with-gpt-2-and-only-pytorch.html.html). This is a neat way of fitting in as much training data in each batch. \n",
        "- [Hyperparameter search](https://discuss.huggingface.co/t/using-hyperparameter-search-in-trainer/785/10). I settled quickly on values that seemed to produce decent values, without checking if they were optimal."
      ]
    },
    {
      "cell_type": "markdown",
      "metadata": {
        "id": "Xf3Qw77SZGbS"
      },
      "source": [
        "# Setup"
      ]
    },
    {
      "cell_type": "code",
      "execution_count": 1,
      "metadata": {
        "colab": {
          "base_uri": "https://localhost:8080/"
        },
        "id": "JCCeyhuDHdOu",
        "outputId": "ecdfd48a-c8c5-43f8-d27b-07ba93c868e8"
      },
      "outputs": [
        {
          "name": "stderr",
          "output_type": "stream",
          "text": [
            "[nltk_data] Downloading package punkt to /root/nltk_data...\n",
            "[nltk_data]   Package punkt is already up-to-date!\n"
          ]
        },
        {
          "data": {
            "text/plain": [
              "True"
            ]
          },
          "execution_count": 1,
          "metadata": {},
          "output_type": "execute_result"
        }
      ],
      "source": [
        "import os\n",
        "import time\n",
        "import datetime\n",
        "\n",
        "\n",
        "import pandas as pd\n",
        "import seaborn as sns\n",
        "import numpy as np\n",
        "import random\n",
        "\n",
        "import matplotlib.pyplot as plt\n",
        "\n",
        "\n",
        "import torch\n",
        "from torch.utils.data import Dataset, DataLoader, random_split, RandomSampler, SequentialSampler\n",
        "torch.manual_seed(42)\n",
        "\n",
        "from transformers import GPT2LMHeadModel,  GPT2Tokenizer, GPT2Config, GPT2LMHeadModel\n",
        "from transformers import AdamW, get_linear_schedule_with_warmup\n",
        "\n",
        "import nltk\n",
        "nltk.download('punkt')"
      ]
    },
    {
      "cell_type": "code",
      "execution_count": 2,
      "metadata": {
        "colab": {
          "base_uri": "https://localhost:8080/"
        },
        "id": "satxtOn9CzgR",
        "outputId": "d26ad102-7c5a-4897-d844-028fa636692c"
      },
      "outputs": [
        {
          "name": "stdout",
          "output_type": "stream",
          "text": [
            "GPU 0: NVIDIA GeForce RTX 2080 Ti (UUID: GPU-3121ccbe-3d4b-3ba9-ce07-af624d3ca998)\n",
            "GPU 1: NVIDIA GeForce RTX 2080 Ti (UUID: GPU-9807473d-3644-9912-cc3d-05880ab4ef36)\n",
            "GPU 2: NVIDIA GeForce RTX 2080 Ti (UUID: GPU-94db0646-211f-c99a-ea07-d9859dc5a87b)\n",
            "GPU 3: NVIDIA GeForce RTX 2080 Ti (UUID: GPU-f5267ef4-d399-295f-b58e-91baa2652af9)\n",
            "GPU 4: NVIDIA GeForce RTX 2080 Ti (UUID: GPU-66accfdf-33c3-3764-dae1-4c8efaefa2f0)\n",
            "GPU 5: NVIDIA GeForce RTX 2080 Ti (UUID: GPU-486ef60c-26e5-41c4-7810-29630050ae19)\n",
            "GPU 6: NVIDIA GeForce RTX 2080 Ti (UUID: GPU-602bcadd-6da5-b336-2e0c-ffabb97367a4)\n",
            "GPU 7: NVIDIA GeForce RTX 2080 Ti (UUID: GPU-02afb69a-63bc-02a2-a8d8-df52eb0a5226)\n"
          ]
        }
      ],
      "source": [
        "!nvidia-smi -L"
      ]
    },
    {
      "cell_type": "markdown",
      "metadata": {
        "id": "ZfdCML6Parvv"
      },
      "source": [
        "# Create Training Set\n",
        "\n",
        "The data used to finetune the language model is a set of around 1000 DJ biographies, with the aim of generating them in the same general format and style.\n",
        "\n",
        "This data isn't public so if you want to use this script, you'll have to source your own training set."
      ]
    },
    {
      "cell_type": "code",
      "execution_count": 3,
      "metadata": {},
      "outputs": [],
      "source": [
        "df = pd.read_csv('the-office-lines_scripts_preprocessed.csv')"
      ]
    },
    {
      "cell_type": "code",
      "execution_count": 4,
      "metadata": {
        "colab": {
          "base_uri": "https://localhost:8080/"
        },
        "id": "_U3m6wr3Ahzt",
        "outputId": "ddde3e3e-d741-40dc-be21-1b3e2dac1fb2"
      },
      "outputs": [
        {
          "data": {
            "text/plain": [
              "0       Michael: All right Jim. Your quarterlies look ...\n",
              "1       Michael: Yes, I'd like to speak to your office...\n",
              "2       Michael: I've, uh, I've been at Dunder Mifflin...\n",
              "3       Michael: People say I am the best boss. They g...\n",
              "4       Dwight: Shall I play for you? Pa rum pump um p...\n",
              "                              ...                        \n",
              "8837    Creed: I saw a friend today. It had been a whi...\n",
              "8839    Phyllis: Hey, Jim, remember flonkerton when yo...\n",
              "8840    Kevin: Oscar. Oscar.  I think I   m gay. Oscar...\n",
              "8841    Creed: And all the faces that I know have that...\n",
              "8844    Creed: It all seems so very arbitrary. I appli...\n",
              "Name: line_text, Length: 6719, dtype: object"
            ]
          },
          "execution_count": 4,
          "metadata": {},
          "output_type": "execute_result"
        }
      ],
      "source": [
        "df.dropna(inplace=True) #remove NA values\n",
        "bios = df.line_text.copy() #just use the main bio text in this example\n",
        "bios"
      ]
    },
    {
      "cell_type": "markdown",
      "metadata": {
        "id": "hQ1oK0kXaV5p"
      },
      "source": [
        "We need to get an idea of how long our training documents are.\n",
        "\n",
        "I'm not going to use the same tokenizer as the GPT2 one, which is a [byte pair encoding tokenizer](https://blog.floydhub.com/tokenization-nlp/). Instead, I'm using a simple one just to get a rough understanding."
      ]
    },
    {
      "cell_type": "code",
      "execution_count": 5,
      "metadata": {
        "colab": {
          "base_uri": "https://localhost:8080/",
          "height": 337
        },
        "id": "cKsH2sU0OCQA",
        "outputId": "76b422fc-30c8-4135-aa8c-6aec6f0d7840"
      },
      "outputs": [
        {
          "name": "stderr",
          "output_type": "stream",
          "text": [
            "/tmp/ipykernel_3422329/3284538386.py:12: UserWarning: \n",
            "\n",
            "`distplot` is a deprecated function and will be removed in seaborn v0.14.0.\n",
            "\n",
            "Please adapt your code to use either `displot` (a figure-level function with\n",
            "similar flexibility) or `histplot` (an axes-level function for histograms).\n",
            "\n",
            "For a guide to updating your code to use the new functions, please see\n",
            "https://gist.github.com/mwaskom/de44147ed2974457ad6372750bbe5751\n",
            "\n",
            "  sns.distplot(doc_lengths)\n"
          ]
        },
        {
          "data": {
            "text/plain": [
              "<Axes: ylabel='Density'>"
            ]
          },
          "execution_count": 5,
          "metadata": {},
          "output_type": "execute_result"
        },
        {
          "data": {
            "image/png": "[encoded data removed]",
            "text/plain": [
              "<Figure size 432x288 with 1 Axes>"
            ]
          },
          "metadata": {
            "needs_background": "light"
          },
          "output_type": "display_data"
        }
      ],
      "source": [
        "doc_lengths = []\n",
        "\n",
        "for bio in bios:\n",
        "\n",
        "    # get rough token count distribution\n",
        "    tokens = nltk.word_tokenize(bio)\n",
        "\n",
        "    doc_lengths.append(len(tokens))\n",
        "\n",
        "doc_lengths = np.array(doc_lengths)\n",
        "\n",
        "sns.distplot(doc_lengths)"
      ]
    },
    {
      "cell_type": "code",
      "execution_count": 6,
      "metadata": {
        "colab": {
          "base_uri": "https://localhost:8080/"
        },
        "id": "u6P6bTItJEIj",
        "outputId": "fc6ba587-2c7d-4ef0-997b-b1f4271117ae"
      },
      "outputs": [
        {
          "data": {
            "text/plain": [
              "0.0011906533710373567"
            ]
          },
          "execution_count": 6,
          "metadata": {},
          "output_type": "execute_result"
        }
      ],
      "source": [
        "# the max token length   \n",
        "len(doc_lengths[doc_lengths > 768])/len(doc_lengths)"
      ]
    },
    {
      "cell_type": "code",
      "execution_count": 7,
      "metadata": {
        "colab": {
          "base_uri": "https://localhost:8080/"
        },
        "id": "63t_69HjlwAj",
        "outputId": "1d3d907a-f8cc-4c7d-b200-2e63fdad096f"
      },
      "outputs": [
        {
          "data": {
            "text/plain": [
              "123.24899538621818"
            ]
          },
          "execution_count": 7,
          "metadata": {},
          "output_type": "execute_result"
        }
      ],
      "source": [
        "np.average(doc_lengths)"
      ]
    },
    {
      "cell_type": "markdown",
      "metadata": {
        "id": "cMml12FJGjPW"
      },
      "source": [
        "# GPT2 Tokenizer"
      ]
    },
    {
      "cell_type": "markdown",
      "metadata": {
        "id": "ANJhbBwdxN-b"
      },
      "source": [
        "Although the defaults take care of this,I thought I'd show that you can specify some of the special tokens. "
      ]
    },
    {
      "cell_type": "code",
      "execution_count": 8,
      "metadata": {
        "colab": {
          "base_uri": "https://localhost:8080/"
        },
        "id": "Z474sSC6oe7A",
        "outputId": "a812cad5-cc12-480b-a28d-5b08bde704b4"
      },
      "outputs": [
        {
          "data": {
            "application/json": {
              "ascii": false,
              "bar_format": null,
              "colour": null,
              "elapsed": 0.018193721771240234,
              "initial": 0,
              "n": 0,
              "ncols": null,
              "nrows": 24,
              "postfix": null,
              "prefix": "Downloading (…)olve/main/vocab.json",
              "rate": null,
              "total": 1042301,
              "unit": "B",
              "unit_divisor": 1000,
              "unit_scale": true
            },
            "application/vnd.jupyter.widget-view+json": {
              "model_id": "2be46e27d62e4cb2a72e4911601bc6c9",
              "version_major": 2,
              "version_minor": 0
            },
            "text/plain": [
              "Downloading (…)olve/main/vocab.json:   0%|          | 0.00/1.04M [00:00<?, ?B/s]"
            ]
          },
          "metadata": {},
          "output_type": "display_data"
        },
        {
          "data": {
            "application/json": {
              "ascii": false,
              "bar_format": null,
              "colour": null,
              "elapsed": 0.014014482498168945,
              "initial": 0,
              "n": 0,
              "ncols": null,
              "nrows": 24,
              "postfix": null,
              "prefix": "Downloading (…)olve/main/merges.txt",
              "rate": null,
              "total": 456318,
              "unit": "B",
              "unit_divisor": 1000,
              "unit_scale": true
            },
            "application/vnd.jupyter.widget-view+json": {
              "model_id": "74ae6a17ba85499a8de0edfd95986720",
              "version_major": 2,
              "version_minor": 0
            },
            "text/plain": [
              "Downloading (…)olve/main/merges.txt:   0%|          | 0.00/456k [00:00<?, ?B/s]"
            ]
          },
          "metadata": {},
          "output_type": "display_data"
        },
        {
          "data": {
            "application/json": {
              "ascii": false,
              "bar_format": null,
              "colour": null,
              "elapsed": 0.022997379302978516,
              "initial": 0,
              "n": 0,
              "ncols": null,
              "nrows": 24,
              "postfix": null,
              "prefix": "Downloading (…)lve/main/config.json",
              "rate": null,
              "total": 665,
              "unit": "B",
              "unit_divisor": 1000,
              "unit_scale": true
            },
            "application/vnd.jupyter.widget-view+json": {
              "model_id": "658f6b6ccb4e4a6ebe25dffe02dbcccc",
              "version_major": 2,
              "version_minor": 0
            },
            "text/plain": [
              "Downloading (…)lve/main/config.json:   0%|          | 0.00/665 [00:00<?, ?B/s]"
            ]
          },
          "metadata": {},
          "output_type": "display_data"
        },
        {
          "name": "stderr",
          "output_type": "stream",
          "text": [
            "Special tokens have been added in the vocabulary, make sure the associated word embeddings are fine-tuned or trained.\n"
          ]
        }
      ],
      "source": [
        "# Load the GPT tokenizer.\n",
        "tokenizer = GPT2Tokenizer.from_pretrained('gpt2', bos_token='<|startoftext|>', eos_token='<|endoftext|>', pad_token='<|pad|>') #gpt2-medium\n"
      ]
    },
    {
      "cell_type": "code",
      "execution_count": 9,
      "metadata": {
        "colab": {
          "base_uri": "https://localhost:8080/"
        },
        "id": "sh0XKuDvnryn",
        "outputId": "d0906c06-c46d-4a16-e6a1-1a43fd345cca"
      },
      "outputs": [
        {
          "name": "stdout",
          "output_type": "stream",
          "text": [
            "The max model length is 1024 for this model, although the actual embedding size for GPT small is 768\n",
            "The beginning of sequence token <|startoftext|> token has the id 50257\n",
            "The end of sequence token <|endoftext|> has the id 50256\n",
            "The padding token <|pad|> has the id 50258\n"
          ]
        }
      ],
      "source": [
        "print(\"The max model length is {} for this model, although the actual embedding size for GPT small is 768\".format(tokenizer.model_max_length))\n",
        "print(\"The beginning of sequence token {} token has the id {}\".format(tokenizer.convert_ids_to_tokens(tokenizer.bos_token_id), tokenizer.bos_token_id))\n",
        "print(\"The end of sequence token {} has the id {}\".format(tokenizer.convert_ids_to_tokens(tokenizer.eos_token_id), tokenizer.eos_token_id))\n",
        "print(\"The padding token {} has the id {}\".format(tokenizer.convert_ids_to_tokens(tokenizer.pad_token_id), tokenizer.pad_token_id))"
      ]
    },
    {
      "cell_type": "markdown",
      "metadata": {
        "id": "ex5O1eV-Pfct"
      },
      "source": [
        "# PyTorch Datasets & Dataloaders\n"
      ]
    },
    {
      "cell_type": "markdown",
      "metadata": {
        "id": "3lgZoOYkxZfx"
      },
      "source": [
        "GPT2 is a large model. Increasing the batch size above 2 has lead to out of memory problems. This can be mitigated by accumulating the gradients but that is out of scope here."
      ]
    },
    {
      "cell_type": "code",
      "execution_count": 10,
      "metadata": {
        "id": "scqrzmqhV__z"
      },
      "outputs": [],
      "source": [
        "batch_size = 5"
      ]
    },
    {
      "cell_type": "markdown",
      "metadata": {
        "id": "lqGMee7Isfpx"
      },
      "source": [
        "I'm using the standard PyTorch approach of loading data in using a [dataset class](https://pytorch.org/tutorials/beginner/data_loading_tutorial.html).\n",
        "\n",
        "I'm passing in the tokenizer as an argument but normally I would  instantiate it within the class."
      ]
    },
    {
      "cell_type": "code",
      "execution_count": 11,
      "metadata": {
        "id": "U_XJVIetKN-h"
      },
      "outputs": [],
      "source": [
        "class GPT2Dataset(Dataset):\n",
        "\n",
        "  def __init__(self, txt_list, tokenizer, gpt2_type=\"gpt2\", max_length=512):\n",
        "\n",
        "    self.tokenizer = tokenizer\n",
        "    self.input_ids = []\n",
        "    self.attn_masks = []\n",
        "\n",
        "    for txt in txt_list:\n",
        "\n",
        "      encodings_dict = tokenizer('<|startoftext|>'+ txt + '<|endoftext|>', truncation=True, max_length=max_length, padding=\"max_length\")\n",
        "\n",
        "      self.input_ids.append(torch.tensor(encodings_dict['input_ids']))\n",
        "      self.attn_masks.append(torch.tensor(encodings_dict['attention_mask']))\n",
        "    \n",
        "  def __len__(self):\n",
        "    return len(self.input_ids)\n",
        "\n",
        "  def __getitem__(self, idx):\n",
        "    return self.input_ids[idx], self.attn_masks[idx] "
      ]
    },
    {
      "cell_type": "markdown",
      "metadata": {
        "id": "89Z7aYUgpWrd"
      },
      "source": [
        "To understand how I've used the tokenizer, it's worth reading [the docs](https://huggingface.co/transformers/main_classes/tokenizer.html). I've wrapped each bio in the bos and eos tokens.\n",
        "\n",
        "Every tensor passed to the model should be the same length.\n",
        "\n",
        "If the bio is shorter than 768 tokens, it will be padded to a length of 768 using the padding token. In addition, an attention mask will be returned that needs to be passed to the model to tell it to ignore the padding tokens. \n",
        "\n",
        "If the bio is longer than 768 tokens, it will be truncated without the eos_token. This isn't a problem."
      ]
    },
    {
      "cell_type": "code",
      "execution_count": 12,
      "metadata": {
        "colab": {
          "base_uri": "https://localhost:8080/"
        },
        "id": "Xza_O1_rD7yh",
        "outputId": "b6aa0809-9d45-49fd-b92d-41594ab0127d"
      },
      "outputs": [
        {
          "name": "stdout",
          "output_type": "stream",
          "text": [
            "6,047 training samples\n",
            "  672 validation samples\n"
          ]
        }
      ],
      "source": [
        "dataset = GPT2Dataset(bios, tokenizer, max_length=512)\n",
        "\n",
        "# Split into training and validation sets\n",
        "train_size = int(0.9 * len(dataset))\n",
        "val_size = len(dataset) - train_size\n",
        "\n",
        "train_dataset, val_dataset = random_split(dataset, [train_size, val_size])\n",
        "\n",
        "print('{:>5,} training samples'.format(train_size))\n",
        "print('{:>5,} validation samples'.format(val_size))"
      ]
    },
    {
      "cell_type": "code",
      "execution_count": 13,
      "metadata": {
        "id": "x0WeP5PREUuy"
      },
      "outputs": [],
      "source": [
        "# Create the DataLoaders for our training and validation datasets.\n",
        "# We'll take training samples in random order. \n",
        "train_dataloader = DataLoader(\n",
        "            train_dataset,  # The training samples.\n",
        "            sampler = RandomSampler(train_dataset), # Select batches randomly\n",
        "            batch_size = batch_size # Trains with this batch size.\n",
        "        )\n",
        "\n",
        "# For validation the order doesn't matter, so we'll just read them sequentially.\n",
        "validation_dataloader = DataLoader(\n",
        "            val_dataset, # The validation samples.\n",
        "            sampler = SequentialSampler(val_dataset), # Pull out batches sequentially.\n",
        "            batch_size = batch_size # Evaluate with this batch size.\n",
        "        )"
      ]
    },
    {
      "cell_type": "markdown",
      "metadata": {
        "id": "D6TKgyUzPIQc"
      },
      "source": [
        "# Finetune GPT2 Language Model"
      ]
    },
    {
      "cell_type": "code",
      "execution_count": 14,
      "metadata": {
        "id": "gFsCTp_mporB"
      },
      "outputs": [
        {
          "data": {
            "application/json": {
              "ascii": false,
              "bar_format": null,
              "colour": null,
              "elapsed": 0.014440536499023438,
              "initial": 0,
              "n": 0,
              "ncols": null,
              "nrows": 24,
              "postfix": null,
              "prefix": "Downloading pytorch_model.bin",
              "rate": null,
              "total": 548118077,
              "unit": "B",
              "unit_divisor": 1000,
              "unit_scale": true
            },
            "application/vnd.jupyter.widget-view+json": {
              "model_id": "28c93739a26a4754996e8be504a1f7a0",
              "version_major": 2,
              "version_minor": 0
            },
            "text/plain": [
              "Downloading pytorch_model.bin:   0%|          | 0.00/548M [00:00<?, ?B/s]"
            ]
          },
          "metadata": {},
          "output_type": "display_data"
        },
        {
          "data": {
            "application/json": {
              "ascii": false,
              "bar_format": null,
              "colour": null,
              "elapsed": 0.013236284255981445,
              "initial": 0,
              "n": 0,
              "ncols": null,
              "nrows": 24,
              "postfix": null,
              "prefix": "Downloading (…)neration_config.json",
              "rate": null,
              "total": 124,
              "unit": "B",
              "unit_divisor": 1000,
              "unit_scale": true
            },
            "application/vnd.jupyter.widget-view+json": {
              "model_id": "395517e11cb8401fa23287215179f94e",
              "version_major": 2,
              "version_minor": 0
            },
            "text/plain": [
              "Downloading (…)neration_config.json:   0%|          | 0.00/124 [00:00<?, ?B/s]"
            ]
          },
          "metadata": {},
          "output_type": "display_data"
        }
      ],
      "source": [
        "# I'm not really doing anything with the config buheret\n",
        "configuration = GPT2Config.from_pretrained('gpt2', output_hidden_states=False)\n",
        "\n",
        "# instantiate the model\n",
        "model = GPT2LMHeadModel.from_pretrained(\"gpt2\", config=configuration)\n",
        "\n",
        "# this step is necessary because I've added some tokens (bos_token, etc) to the embeddings\n",
        "# otherwise the tokenizer and model tensors won't match up\n",
        "model.resize_token_embeddings(len(tokenizer))\n",
        "\n",
        "# Tell pytorch to run this model on the GPU.\n",
        "device = torch.device(\"cuda\")\n",
        "model.cuda()\n",
        "\n",
        "# Set the seed value all over the place to make this reproducible.\n",
        "seed_val = 42\n",
        "\n",
        "random.seed(seed_val)\n",
        "np.random.seed(seed_val)\n",
        "torch.manual_seed(seed_val)\n",
        "torch.cuda.manual_seed_all(seed_val)"
      ]
    },
    {
      "cell_type": "code",
      "execution_count": 15,
      "metadata": {
        "id": "pBEVY2PYSTXJ"
      },
      "outputs": [],
      "source": [
        "# some parameters I cooked up that work reasonably well\n",
        "\n",
        "epochs = 10\n",
        "learning_rate = 5e-4\n",
        "warmup_steps = 1e2\n",
        "epsilon = 1e-8\n",
        "\n",
        "# this produces sample output every 100 steps\n",
        "sample_every = 100"
      ]
    },
    {
      "cell_type": "code",
      "execution_count": 16,
      "metadata": {
        "colab": {
          "base_uri": "https://localhost:8080/"
        },
        "id": "GLs72DuMODJO",
        "outputId": "c83b38d5-55af-42bb-98a2-8a2fd6b5e5e9"
      },
      "outputs": [
        {
          "name": "stderr",
          "output_type": "stream",
          "text": [
            "/usr/local/lib/python3.8/dist-packages/transformers/optimization.py:306: FutureWarning: This implementation of AdamW is deprecated and will be removed in a future version. Use the PyTorch implementation torch.optim.AdamW instead, or set `no_deprecation_warning=True` to disable this warning\n",
            "  warnings.warn(\n"
          ]
        }
      ],
      "source": [
        "# Note: AdamW is a class from the huggingface library (as opposed to pytorch) \n",
        "optimizer = AdamW(model.parameters(),\n",
        "                  lr = learning_rate,\n",
        "                  eps = epsilon\n",
        "                )"
      ]
    },
    {
      "cell_type": "code",
      "execution_count": 17,
      "metadata": {
        "id": "-p0upAhhRiIx"
      },
      "outputs": [],
      "source": [
        "# Total number of training steps is [number of batches] x [number of epochs]. \n",
        "# (Note that this is not the same as the number of training samples).\n",
        "total_steps = len(train_dataloader) * epochs\n",
        "\n",
        "# Create the learning rate scheduler.\n",
        "# This changes the learning rate as the training loop progresses\n",
        "scheduler = get_linear_schedule_with_warmup(optimizer, \n",
        "                                            num_warmup_steps = warmup_steps, \n",
        "                                            num_training_steps = total_steps)"
      ]
    },
    {
      "cell_type": "code",
      "execution_count": 18,
      "metadata": {
        "id": "gpt6tR83keZD"
      },
      "outputs": [],
      "source": [
        "def format_time(elapsed):\n",
        "    return str(datetime.timedelta(seconds=int(round((elapsed)))))"
      ]
    },
    {
      "cell_type": "code",
      "execution_count": 19,
      "metadata": {
        "colab": {
          "base_uri": "https://localhost:8080/"
        },
        "id": "vCPohrZ-CTWu",
        "outputId": "dec21857-0661-4977-90df-29e5ddc0df40"
      },
      "outputs": [
        {
          "name": "stdout",
          "output_type": "stream",
          "text": [
            "\n",
            "======== Epoch 1 / 10 ========\n",
            "Training...\n"
          ]
        },
        {
          "name": "stderr",
          "output_type": "stream",
          "text": [
            "The attention mask and the pad token id were not set. As a consequence, you may observe unexpected behavior. Please pass your input's `attention_mask` to obtain reliable results.\n",
            "Setting `pad_token_id` to `eos_token_id`:50256 for open-end generation.\n"
          ]
        },
        {
          "name": "stdout",
          "output_type": "stream",
          "text": [
            "  Batch   100  of  1,210. Loss: 1.113068699836731.   Elapsed: 0:00:29.\n",
            "0:  bipartisanVow with Your Friends? Pam: Uh, I'm going to ask you to stop eating right now. Pam: Just let me just tell you why. Ryan: Okay? Right. Right. Ryan: Wait.\n"
          ]
        },
        {
          "name": "stderr",
          "output_type": "stream",
          "text": [
            "The attention mask and the pad token id were not set. As a consequence, you may observe unexpected behavior. Please pass your input's `attention_mask` to obtain reliable results.\n",
            "Setting `pad_token_id` to `eos_token_id`:50256 for open-end generation.\n"
          ]
        },
        {
          "name": "stdout",
          "output_type": "stream",
          "text": [
            "  Batch   200  of  1,210. Loss: 1.133315920829773.   Elapsed: 0:00:58.\n",
            "0:  increasingI am starting to think about taking this pill. I'm not stopping until I'm feeling better. I'm moving forward.\n"
          ]
        },
        {
          "name": "stderr",
          "output_type": "stream",
          "text": [
            "The attention mask and the pad token id were not set. As a consequence, you may observe unexpected behavior. Please pass your input's `attention_mask` to obtain reliable results.\n",
            "Setting `pad_token_id` to `eos_token_id`:50256 for open-end generation.\n"
          ]
        },
        {
          "name": "stdout",
          "output_type": "stream",
          "text": [
            "  Batch   300  of  1,210. Loss: 0.6766076683998108.   Elapsed: 0:01:28.\n",
            "0: dayPhyllis: What do you mean? Erin: Why does this seem like the thing to you? Phyllis: Do you think they're crazy? Erin: Is it actually your car?  Is it an emergency? Erin: No! Phyllis: What does it mean? Erin: It means... Phyllis: I said something about your car. Phyllis: Oh my God! I need some help. Erin:  It's terrible! Phyllis: What are you talking about? Erin:  I'm talking about your car.\n"
          ]
        },
        {
          "name": "stderr",
          "output_type": "stream",
          "text": [
            "The attention mask and the pad token id were not set. As a consequence, you may observe unexpected behavior. Please pass your input's `attention_mask` to obtain reliable results.\n",
            "Setting `pad_token_id` to `eos_token_id`:50256 for open-end generation.\n"
          ]
        },
        {
          "name": "stdout",
          "output_type": "stream",
          "text": [
            "  Batch   400  of  1,210. Loss: 1.0063295364379883.   Elapsed: 0:01:58.\n",
            "0:  HangPam: What is your number?  I am a bartender, but I don't have anyone with a real job.  I'm supposed to come down here to do this. Jim: Yeah? Pam: Jim, you're fired.   Yeah I am, too. Michael: Yeah.  This is bad luck. Pam: Right? Jim: Oh, this is so wrong.  That way I am not here in a month. Jim: Yeah, it's okay! Okay, okay.  You're not right! Pam: I'm sorry. Jim: Oh. Pam: Okay, fine.  Okay, cool.\n"
          ]
        },
        {
          "name": "stderr",
          "output_type": "stream",
          "text": [
            "The attention mask and the pad token id were not set. As a consequence, you may observe unexpected behavior. Please pass your input's `attention_mask` to obtain reliable results.\n",
            "Setting `pad_token_id` to `eos_token_id`:50256 for open-end generation.\n"
          ]
        },
        {
          "name": "stdout",
          "output_type": "stream",
          "text": [
            "  Batch   500  of  1,210. Loss: 1.074283480644226.   Elapsed: 0:02:29.\n",
            "0:  foodsPam: That's enough. Dwight: I love you. And I think you're gonna be very proud of you. Pam: Um, well, Dwight, the last thing I want to say to somebody is the fact that you have this chair and you know how to sit. Because when I put everything in it, it didn't seem that big.\n"
          ]
        },
        {
          "name": "stderr",
          "output_type": "stream",
          "text": [
            "The attention mask and the pad token id were not set. As a consequence, you may observe unexpected behavior. Please pass your input's `attention_mask` to obtain reliable results.\n",
            "Setting `pad_token_id` to `eos_token_id`:50256 for open-end generation.\n"
          ]
        },
        {
          "name": "stdout",
          "output_type": "stream",
          "text": [
            "  Batch   600  of  1,210. Loss: 0.6139993667602539.   Elapsed: 0:02:59.\n",
            "0:  trailPam: Hi! Michael: Ohh... I'm sorry, but I would like to take a little time off to see you at dinner.  Um... Pam: It's nice to see you again. Michael: Come on! Pam: Um, it's good to see you. Michael: All right. Pam: Uh, uh, thank you for coming to meet me. Michael: Oh, great.\n"
          ]
        },
        {
          "name": "stderr",
          "output_type": "stream",
          "text": [
            "The attention mask and the pad token id were not set. As a consequence, you may observe unexpected behavior. Please pass your input's `attention_mask` to obtain reliable results.\n",
            "Setting `pad_token_id` to `eos_token_id`:50256 for open-end generation.\n"
          ]
        },
        {
          "name": "stdout",
          "output_type": "stream",
          "text": [
            "  Batch   700  of  1,210. Loss: 0.6807364225387573.   Elapsed: 0:03:29.\n",
            "0: intendDwight: Thank you for calling me. Meredith: You're too slow. Dwight: Uh, um...  Oh my gosh, it was such a stupid day.  I'm going to use the money to help me out. Meredith: I didn't want that kind of money. Dwight: Yeah, you are correct. That is an example of our style of work. Meredith: So... what, uh... Dwight: How would you have to work on your own project? Meredith: When I work here... Dwight: Oh, you want to put your hand over the handle on the elevator. Meredith: No, that is completely inappropriate. Dwight: Oh no. Please. Meredith: So... what will you do after that? Dwight: I want to come to your office. Meredith: I want to... Dwight: You're right. Meredith: I... Dwight: You don't want to have to explain this to me. Meredith: Okay.  What you want to\n"
          ]
        },
        {
          "name": "stderr",
          "output_type": "stream",
          "text": [
            "The attention mask and the pad token id were not set. As a consequence, you may observe unexpected behavior. Please pass your input's `attention_mask` to obtain reliable results.\n",
            "Setting `pad_token_id` to `eos_token_id`:50256 for open-end generation.\n"
          ]
        },
        {
          "name": "stdout",
          "output_type": "stream",
          "text": [
            "  Batch   800  of  1,210. Loss: 0.8552736043930054.   Elapsed: 0:04:00.\n",
            "0:  surroundPhyllis: Hey, Michael. Jim: Hello Michael.  Hello, Michael. Michael: What do you see? That's okay, what are you doing? Phyllis: What about the dog? Michael: Well, Phyllis, I think it's fine. I think she is just fine. Phyllis: How about you? Michael: Okay, she's fine. It's fine. She'll be fine. Let's do it, OK? Phyllis: Let's... Michael: OK. Just let's move. We're doing it. Okay? No, that was just stupid. I didn't realize it. Phyllis: Oh, well, Michael, that's fine, I'll just make up my mind. You want to come in? Michael: No, no. Phyllis: OK, well, Michael. Well, I'll see you later. Michael: That's ok. I'll let you stay at home. If\n"
          ]
        },
        {
          "name": "stderr",
          "output_type": "stream",
          "text": [
            "The attention mask and the pad token id were not set. As a consequence, you may observe unexpected behavior. Please pass your input's `attention_mask` to obtain reliable results.\n",
            "Setting `pad_token_id` to `eos_token_id`:50256 for open-end generation.\n"
          ]
        },
        {
          "name": "stdout",
          "output_type": "stream",
          "text": [
            "  Batch   900  of  1,210. Loss: 0.7732449173927307.   Elapsed: 0:04:31.\n",
            "0:  reflexKaren: Hey buddy, let me get you some coffee. Andy: Thank you, man. This is not right. Michael: Yeah. I just wanted to say hi and see you... the right way, man. Thank you for your time.\n"
          ]
        },
        {
          "name": "stderr",
          "output_type": "stream",
          "text": [
            "The attention mask and the pad token id were not set. As a consequence, you may observe unexpected behavior. Please pass your input's `attention_mask` to obtain reliable results.\n",
            "Setting `pad_token_id` to `eos_token_id`:50256 for open-end generation.\n"
          ]
        },
        {
          "name": "stdout",
          "output_type": "stream",
          "text": [
            "  Batch 1,000  of  1,210. Loss: 0.3541034460067749.   Elapsed: 0:05:01.\n",
            "0:  displayPam: Who's up there? Jim: No. Pam: OK, um, what? Jim: What's up? Pam: What did I just tell you to tell Pam? Jim: Um, the guy from accounting. Pam: I bet it's Jim. Jim: Pam, you know what?  Do you see him as the boss? Pam: Well, I guess he's not the manager. Jim: Oh, well...  I think we can just forget about it for the time being. Pam: We'll just forget that. Jim: You know what? Pam: Let's just let it go. Jim: So, it's been a month. Phyllis: OK. Jim: OK, okay.  Okay.  Phyllis: OK. Pam: OK, I feel like I need to talk to you now, because you probably should just wait until the next day. Jim: Okay. Pam: OK. Jim: Okay.\n"
          ]
        },
        {
          "name": "stderr",
          "output_type": "stream",
          "text": [
            "The attention mask and the pad token id were not set. As a consequence, you may observe unexpected behavior. Please pass your input's `attention_mask` to obtain reliable results.\n",
            "Setting `pad_token_id` to `eos_token_id`:50256 for open-end generation.\n"
          ]
        },
        {
          "name": "stdout",
          "output_type": "stream",
          "text": [
            "  Batch 1,100  of  1,210. Loss: 1.1182875633239746.   Elapsed: 0:05:33.\n",
            "0:  pastorDwight: And if I can't find someone who doesn't work for Dunder Mifflin, I don't know if I can get somebody who can. Jim: Yeah, maybe we're only supposed to keep a close eye on each other, Jim. Dwight: That's a good idea. Jim: That's a good idea. Dwight: Really?\n"
          ]
        },
        {
          "name": "stderr",
          "output_type": "stream",
          "text": [
            "The attention mask and the pad token id were not set. As a consequence, you may observe unexpected behavior. Please pass your input's `attention_mask` to obtain reliable results.\n",
            "Setting `pad_token_id` to `eos_token_id`:50256 for open-end generation.\n"
          ]
        },
        {
          "name": "stdout",
          "output_type": "stream",
          "text": [
            "  Batch 1,200  of  1,210. Loss: 0.5446745157241821.   Elapsed: 0:06:03.\n",
            "0:  illicitJim: What about Angela? Dwight: I would like to give her a tour of the offices of Corporate. That would be great. Jim: Oh, uh, that would be great. It's very cool. Angela: I see what the hell is happening here.\n",
            "\n",
            "  Average training loss: 1.04\n",
            "  Training epoch took: 0:06:07\n",
            "\n",
            "Running Validation...\n",
            "  Validation Loss: 0.75\n",
            "  Validation took: 0:00:13\n",
            "\n",
            "======== Epoch 2 / 10 ========\n",
            "Training...\n"
          ]
        },
        {
          "name": "stderr",
          "output_type": "stream",
          "text": [
            "The attention mask and the pad token id were not set. As a consequence, you may observe unexpected behavior. Please pass your input's `attention_mask` to obtain reliable results.\n",
            "Setting `pad_token_id` to `eos_token_id`:50256 for open-end generation.\n"
          ]
        },
        {
          "name": "stdout",
          "output_type": "stream",
          "text": [
            "  Batch   100  of  1,210. Loss: 0.7499446272850037.   Elapsed: 0:00:30.\n",
            "0:  LiberationHannah: I don't have a job here. This is a family business, and if this company doesn't raise its own employee, then it will end up on the hook for the rest of us. Ryan: Yeah, I'm sure, but if they don't raise the employee by doing business with us, then we'll have to start somewhere else. Hannah: Sounds good. Ryan: Yeah, so what do we do? Hannah: I'm thinking of starting a website called The Hooters. Ryan: Yeah, that's fine. Right. It's not really what I'm talking about, in terms of monetizing the business, it's just an idea. Hannah: Really? Ryan: You're right. I'm not saying we won't give it a shot. It's not that bad, right? Hannah: Yeah, I think they'll. Ryan: Yeah. Yeah. Hannah: They did some great work!\n"
          ]
        },
        {
          "name": "stderr",
          "output_type": "stream",
          "text": [
            "The attention mask and the pad token id were not set. As a consequence, you may observe unexpected behavior. Please pass your input's `attention_mask` to obtain reliable results.\n",
            "Setting `pad_token_id` to `eos_token_id`:50256 for open-end generation.\n"
          ]
        },
        {
          "name": "stdout",
          "output_type": "stream",
          "text": [
            "  Batch   200  of  1,210. Loss: 0.7830462455749512.   Elapsed: 0:01:01.\n",
            "0:  NamStanley: I want to buy a car. Angela: That's the only thing that can make her feel comfortable.\n"
          ]
        },
        {
          "name": "stderr",
          "output_type": "stream",
          "text": [
            "The attention mask and the pad token id were not set. As a consequence, you may observe unexpected behavior. Please pass your input's `attention_mask` to obtain reliable results.\n",
            "Setting `pad_token_id` to `eos_token_id`:50256 for open-end generation.\n"
          ]
        },
        {
          "name": "stdout",
          "output_type": "stream",
          "text": [
            "  Batch   300  of  1,210. Loss: 1.040873408317566.   Elapsed: 0:01:30.\n",
            "0: IONDwight: Michael. Hello, your mom. I'm Jim Halpert. He works for the Eiffel Tower. All right. Jim, you don't understand. I'll just take this job. Dwight: Jim, what kind of company do you work for? Jim: How'd you know that? Dwight: I worked for Alpaca Paper Products and I was in charge of making paper cuts. Pam: Did you work for Acrobat or Ac paper company that you left? Jim: No. Pam: How long have you gone from that? Jim: About 30 years. I'll just take that job. Dwight: Oh. I'll be there. Pam: It's about the day you get your first job. Jim: That was, like, about twelve years ago. I will be there. We will do it. Dwight: Well, that's why I'm here. I'll come and tell you what I'm about. Pam: No, that\n"
          ]
        },
        {
          "name": "stderr",
          "output_type": "stream",
          "text": [
            "The attention mask and the pad token id were not set. As a consequence, you may observe unexpected behavior. Please pass your input's `attention_mask` to obtain reliable results.\n",
            "Setting `pad_token_id` to `eos_token_id`:50256 for open-end generation.\n"
          ]
        },
        {
          "name": "stdout",
          "output_type": "stream",
          "text": [
            "  Batch   400  of  1,210. Loss: 0.4524132311344147.   Elapsed: 0:02:02.\n",
            "0:  glimpseAndy: Do you ever forget that last time Jim had a big idea of how to make a pizza? Dwight: I don't know, he'd never have the pizza and he wouldn't have a delivery guy, I mean, I know, just like Jim had. Andy: What is he going to do about Jim? Dwight: I'm not going to... just, I'm not... I'm not going to... he's going to drive me to the bathroom to take his pizza... Jim: You said to take that! Andy: I will never... ...I am not going... Jim: OK, maybe we're off limits. Jim: Yeah. Andy: OK, maybe we're off limits.  Okay. Dwight: Yes, well let me try not to think anything into this. Andy: Okay.\n"
          ]
        },
        {
          "name": "stderr",
          "output_type": "stream",
          "text": [
            "The attention mask and the pad token id were not set. As a consequence, you may observe unexpected behavior. Please pass your input's `attention_mask` to obtain reliable results.\n",
            "Setting `pad_token_id` to `eos_token_id`:50256 for open-end generation.\n"
          ]
        },
        {
          "name": "stdout",
          "output_type": "stream",
          "text": [
            "  Batch   500  of  1,210. Loss: 0.5733826756477356.   Elapsed: 0:02:33.\n",
            "0:  LaureHolly: Thank you, Michael. Dwight: And this is Andy, he asked me to do an audition for that movie. He was looking into it now that he is not. Holly: No! It's not you. I was in the movie.\n"
          ]
        },
        {
          "name": "stderr",
          "output_type": "stream",
          "text": [
            "The attention mask and the pad token id were not set. As a consequence, you may observe unexpected behavior. Please pass your input's `attention_mask` to obtain reliable results.\n",
            "Setting `pad_token_id` to `eos_token_id`:50256 for open-end generation.\n"
          ]
        },
        {
          "name": "stdout",
          "output_type": "stream",
          "text": [
            "  Batch   600  of  1,210. Loss: 1.4203640222549438.   Elapsed: 0:03:03.\n",
            "0: ismJim: Wow. Pam: And it is very important that we get a picture. We should get a picture! Jim: OK. All right. Alright.\n"
          ]
        },
        {
          "name": "stderr",
          "output_type": "stream",
          "text": [
            "The attention mask and the pad token id were not set. As a consequence, you may observe unexpected behavior. Please pass your input's `attention_mask` to obtain reliable results.\n",
            "Setting `pad_token_id` to `eos_token_id`:50256 for open-end generation.\n"
          ]
        },
        {
          "name": "stdout",
          "output_type": "stream",
          "text": [
            "  Batch   700  of  1,210. Loss: 0.6766387224197388.   Elapsed: 0:03:32.\n",
            "0: ounAndy: Oh. Dwight: All right, it's alright. I'll be back later. Andy: Thanks. Dwight: No, don't. Andy: I'll be fine. All right. I'll be fine. Andy: You've never been this close to me. Dwight: All right. Here it is. Andy: You have an office. Okay. Dwight: You can have a place here. And that's where you live. Andy: Uh-huh. Oh, okay.\n"
          ]
        },
        {
          "name": "stderr",
          "output_type": "stream",
          "text": [
            "The attention mask and the pad token id were not set. As a consequence, you may observe unexpected behavior. Please pass your input's `attention_mask` to obtain reliable results.\n",
            "Setting `pad_token_id` to `eos_token_id`:50256 for open-end generation.\n"
          ]
        },
        {
          "name": "stdout",
          "output_type": "stream",
          "text": [
            "  Batch   800  of  1,210. Loss: 0.9964251518249512.   Elapsed: 0:04:03.\n",
            "0:  electionDwight: Jim, I really appreciate your kind of comments. Jim: You're right. Thanks. Dwight: Hey, Jim, would we meet in person in your office sometime? Jim: Yeah, yeah. Dwight: Let's meet in person in your office. Jim: Okay.\n"
          ]
        },
        {
          "name": "stderr",
          "output_type": "stream",
          "text": [
            "The attention mask and the pad token id were not set. As a consequence, you may observe unexpected behavior. Please pass your input's `attention_mask` to obtain reliable results.\n",
            "Setting `pad_token_id` to `eos_token_id`:50256 for open-end generation.\n"
          ]
        },
        {
          "name": "stdout",
          "output_type": "stream",
          "text": [
            "  Batch   900  of  1,210. Loss: 0.7787439823150635.   Elapsed: 0:04:33.\n",
            "0:  crazyGabe: Well, he's been getting a haircut! Now, if you don't want him, you can either throw off his costume or, you can pay him a flat rate. Or, you can pay him a full price at a price point that you can't undercut! Gabe: Well, the best way to do that, is to get rid of him. He has a haircut, so you give him a haircut. You can take this one for a while and you will be back with a smile and a body that's a little more professional. Gabe: Yeah, you know what? You wanna play? Gabe: I'm sure they are right on this one. Gabe: Wait, is that just to get revenge? Gabe: No. Gabe: Well, then he's out. Gabe: Well then he's out. Gabe: I'm the one who gave him that cut. Gabe: You know what? You're back. Gabe: Well, I'm just gonna\n"
          ]
        },
        {
          "name": "stderr",
          "output_type": "stream",
          "text": [
            "The attention mask and the pad token id were not set. As a consequence, you may observe unexpected behavior. Please pass your input's `attention_mask` to obtain reliable results.\n",
            "Setting `pad_token_id` to `eos_token_id`:50256 for open-end generation.\n"
          ]
        },
        {
          "name": "stdout",
          "output_type": "stream",
          "text": [
            "  Batch 1,000  of  1,210. Loss: 0.7101201415061951.   Elapsed: 0:05:04.\n",
            "0:  benchKevin: And the only thing that scares me is when my boss brings his daughter back to work after work... Michael: That's... Michael: We are, uh... We're, we're adults. Kevin: Oh my God, Michael, you are a scary man, Michael! Jim: It's... Michael: We are the adults. Kevin: Oh my God, Michael, you are scary man. And he just drove off with a woman. And he went after her too and he said that she was a whore... Michael: I didn't... I didn't kill her... Kevin: No! Michael: Well... God, you killed her too... Kevin: Okay, that's... God, God!\n"
          ]
        },
        {
          "name": "stderr",
          "output_type": "stream",
          "text": [
            "The attention mask and the pad token id were not set. As a consequence, you may observe unexpected behavior. Please pass your input's `attention_mask` to obtain reliable results.\n",
            "Setting `pad_token_id` to `eos_token_id`:50256 for open-end generation.\n"
          ]
        },
        {
          "name": "stdout",
          "output_type": "stream",
          "text": [
            "  Batch 1,100  of  1,210. Loss: 0.6013747453689575.   Elapsed: 0:05:35.\n",
            "0:  incorporatedOscar: This was an odd moment for me to have gone through. Jan: Did she think this was a bad idea? Oscar: No, I thought this was so good.  Well, I guess you've changed my mind all over the office. Jan: Really? Oscar: No.  No.  No, this is totally normal.  She just doesn't want to hear anything about it.  And if anything, she just wants to fire me.  That's really sweet.\n"
          ]
        },
        {
          "name": "stderr",
          "output_type": "stream",
          "text": [
            "The attention mask and the pad token id were not set. As a consequence, you may observe unexpected behavior. Please pass your input's `attention_mask` to obtain reliable results.\n",
            "Setting `pad_token_id` to `eos_token_id`:50256 for open-end generation.\n"
          ]
        },
        {
          "name": "stdout",
          "output_type": "stream",
          "text": [
            "  Batch 1,200  of  1,210. Loss: 0.8410443663597107.   Elapsed: 0:06:05.\n",
            "0: PeterDarryl: How about, Oscar? Oscar: What are you doing here?  You   re so dumb. Darryl: Yeah, I was.  It   s not my fault I   d been beaten at a reception because I   m not making any money.  So now I   d do the thing that you say when you don   t.\n",
            "\n",
            "  Average training loss: 0.74\n",
            "  Training epoch took: 0:06:09\n",
            "\n",
            "Running Validation...\n",
            "  Validation Loss: 0.75\n",
            "  Validation took: 0:00:13\n",
            "\n",
            "======== Epoch 3 / 10 ========\n",
            "Training...\n"
          ]
        },
        {
          "name": "stderr",
          "output_type": "stream",
          "text": [
            "The attention mask and the pad token id were not set. As a consequence, you may observe unexpected behavior. Please pass your input's `attention_mask` to obtain reliable results.\n",
            "Setting `pad_token_id` to `eos_token_id`:50256 for open-end generation.\n"
          ]
        },
        {
          "name": "stdout",
          "output_type": "stream",
          "text": [
            "  Batch   100  of  1,210. Loss: 0.7289700508117676.   Elapsed: 0:00:30.\n",
            "0: uringMichael: Well, it wasn't bad.  I feel like a professional at this stuff.  Well, I was actually kind of the bigger, harder to find one because I didn't think it was a great idea.  And then, I saw you were looking at me. Dwight: Did you see the face of the woman? Michael: Yes. Dwight: Michael, this might be your problem. Michael: This might be your problem. Dwight: Michael, we're the best. Michael: Yeah. Dwight: You are. Michael: You're right, but I think we need to be smarter about this than they are.  And the truth is, I have to put this whole office under your feet.\n"
          ]
        },
        {
          "name": "stderr",
          "output_type": "stream",
          "text": [
            "The attention mask and the pad token id were not set. As a consequence, you may observe unexpected behavior. Please pass your input's `attention_mask` to obtain reliable results.\n",
            "Setting `pad_token_id` to `eos_token_id`:50256 for open-end generation.\n"
          ]
        },
        {
          "name": "stdout",
          "output_type": "stream",
          "text": [
            "  Batch   200  of  1,210. Loss: 0.5006026029586792.   Elapsed: 0:01:00.\n",
            "0:  reproductiveAndy: Hey, I'm in charge of this thing. Dwight: OK Andy. Dwight: OK Andy:  Dwight: Let me talk to you for a sec. Where are you going? Oscar: I went to Nashua to see the movie Titanic. Andy: What's it about?  How long has it been in the public mind? Dwight: Three years.  Two years, Andy! Andy: That's a lot of time! Dwight: I bet it is! Andy: And I don't even know, who it is!\n"
          ]
        },
        {
          "name": "stderr",
          "output_type": "stream",
          "text": [
            "The attention mask and the pad token id were not set. As a consequence, you may observe unexpected behavior. Please pass your input's `attention_mask` to obtain reliable results.\n",
            "Setting `pad_token_id` to `eos_token_id`:50256 for open-end generation.\n"
          ]
        },
        {
          "name": "stdout",
          "output_type": "stream",
          "text": [
            "  Batch   300  of  1,210. Loss: 0.3759726285934448.   Elapsed: 0:01:31.\n",
            "0:  zoneJim: Hey Ryan. Ryan: I'm sorry about that.  Uh, what else could I have done to make this work? Jim: Oh, uh, uh-oh, I'm sorry. Ryan: I'm sorry, I'm sorry.  Because I know what you think. Jim: Mmmhmm. Ryan: Oh really? Jim: Mmmhmm. Ryan: Hey.\n"
          ]
        },
        {
          "name": "stderr",
          "output_type": "stream",
          "text": [
            "The attention mask and the pad token id were not set. As a consequence, you may observe unexpected behavior. Please pass your input's `attention_mask` to obtain reliable results.\n",
            "Setting `pad_token_id` to `eos_token_id`:50256 for open-end generation.\n"
          ]
        },
        {
          "name": "stdout",
          "output_type": "stream",
          "text": [
            "  Batch   400  of  1,210. Loss: 0.6215881705284119.   Elapsed: 0:02:01.\n",
            "0:  commitsAndy: Hey. Pam: Thanks. Andy: Just want to ask for... a few parameters of our meeting. 1. Do we still have time for the wedding?  And 2. How many people are there?  We're gonna have to give everybody a minute to fill out the papers.   If they're old enough to have been married, we're gonna need to re-arrange the papers and we're gonna have to re-arrange a cake. Pam: Um, the cake is not old enough to do that.   So, we're not doing cake. Andy: Wow. Pam: Okay. Andy: Thank you very much. Pam: Thanks. Andy: Thank you. Pam: Thank you for coming. Andy: I'm gonna ask you for a few parameters, and I will have a moment of your time.  Please tell me what we are, if you don't? Pam: I didn't have time for the wedding. Andy:\n"
          ]
        },
        {
          "name": "stderr",
          "output_type": "stream",
          "text": [
            "The attention mask and the pad token id were not set. As a consequence, you may observe unexpected behavior. Please pass your input's `attention_mask` to obtain reliable results.\n",
            "Setting `pad_token_id` to `eos_token_id`:50256 for open-end generation.\n"
          ]
        },
        {
          "name": "stdout",
          "output_type": "stream",
          "text": [
            "  Batch   500  of  1,210. Loss: 0.626865029335022.   Elapsed: 0:02:32.\n",
            "0:  ironyJim: We are going to need more information, but I'm gonna need a lot of numbers.  Just give me the numbers. Phyllis: Are you kidding me?! Michael: Oh my god, that's the numbers we were looking for.  How did you find those leads?  You want those leads, Phyllis? Jim: What did you find out?  You wanted to know why they   re so important to us? Michael: Did you hear them all the time? Jim: You didn   t hear them all the time. Michael: Why didn   t I hear them all the time?  We   ve been trying for years.  All that time, we failed to think about them, and we   re just going to find them.  Now, what we have in common is that they are important enough that we are worthy of a special place in our hearts. Jim: That is amazing.  And I think it\n"
          ]
        },
        {
          "name": "stderr",
          "output_type": "stream",
          "text": [
            "The attention mask and the pad token id were not set. As a consequence, you may observe unexpected behavior. Please pass your input's `attention_mask` to obtain reliable results.\n",
            "Setting `pad_token_id` to `eos_token_id`:50256 for open-end generation.\n"
          ]
        },
        {
          "name": "stdout",
          "output_type": "stream",
          "text": [
            "  Batch   600  of  1,210. Loss: 1.0283379554748535.   Elapsed: 0:03:03.\n",
            "0:  SahAndy: You know what? I don't know what to think.  Oh... Kevin: Uh... Andy: I don't know. I'm not stupid. I am not stupid.\n"
          ]
        },
        {
          "name": "stderr",
          "output_type": "stream",
          "text": [
            "The attention mask and the pad token id were not set. As a consequence, you may observe unexpected behavior. Please pass your input's `attention_mask` to obtain reliable results.\n",
            "Setting `pad_token_id` to `eos_token_id`:50256 for open-end generation.\n"
          ]
        },
        {
          "name": "stdout",
          "output_type": "stream",
          "text": [
            "  Batch   700  of  1,210. Loss: 0.5912936329841614.   Elapsed: 0:03:33.\n",
            "0:  BryanMichael: Why is my desk empty? Jim: Why is it empty? Dwight: I just need something to write. Michael: What? Dwight: The senator is making a trip down to Australia, and he's going on his way up there. He's sort of a long way off. Michael: Ok. He's way off? Dwight: He's only going to be coming a second time, he's going in the opposite direction of the senator. Michael: No, the senator is leaving tomorrow. He's going in the opposite direction. Dwight: What? You're getting this out of nowhere? Are you even listening to what my office is? Michael: Yes. Jim: What? Michael: I don't think the senator is coming back tomorrow, Dwight. He's coming up tomorrow.\n"
          ]
        },
        {
          "name": "stderr",
          "output_type": "stream",
          "text": [
            "The attention mask and the pad token id were not set. As a consequence, you may observe unexpected behavior. Please pass your input's `attention_mask` to obtain reliable results.\n",
            "Setting `pad_token_id` to `eos_token_id`:50256 for open-end generation.\n"
          ]
        },
        {
          "name": "stdout",
          "output_type": "stream",
          "text": [
            "  Batch   800  of  1,210. Loss: 0.5551645755767822.   Elapsed: 0:04:04.\n",
            "0:  spiritsErin: Why do you get so bad at your schedule, Michael? Michael: I know. I know. It's a business relationship, but not in this way. Erin: Did you get that call about your marriage? Michael: Well, I guess, uh, I guess I did. Because I know it wasn't right. I know how awful it's sounding. I know how it goes on your birthday? I'm not going to be able to tell the difference between it and her birthday. Michael: Because I can tell. So that was stupid. Erin: Well, there's going to be a ton of conversations about the birthdays this year. Michael: Well, there's going to be more. And you know what? I don't get to tell you this day until next year's special meeting. It's just that I am not going to. I can't. Because I haven't told you so far. I am going out early this year. I mean\n"
          ]
        },
        {
          "name": "stderr",
          "output_type": "stream",
          "text": [
            "The attention mask and the pad token id were not set. As a consequence, you may observe unexpected behavior. Please pass your input's `attention_mask` to obtain reliable results.\n",
            "Setting `pad_token_id` to `eos_token_id`:50256 for open-end generation.\n"
          ]
        },
        {
          "name": "stdout",
          "output_type": "stream",
          "text": [
            "  Batch   900  of  1,210. Loss: 0.5838726758956909.   Elapsed: 0:04:35.\n",
            "0:  seesKelly: Oh, I will make a statement right now. That wasn't some kind of speech. I wasn't trying to set you up like you said, and I didn't mean to set you up like you did. But I did make a statement and I did make a statement of what I stood for and I did make a statement of what I stood for. I'm not going to apologize for saying that. That's not the way I feel.\n"
          ]
        },
        {
          "name": "stderr",
          "output_type": "stream",
          "text": [
            "The attention mask and the pad token id were not set. As a consequence, you may observe unexpected behavior. Please pass your input's `attention_mask` to obtain reliable results.\n",
            "Setting `pad_token_id` to `eos_token_id`:50256 for open-end generation.\n"
          ]
        },
        {
          "name": "stdout",
          "output_type": "stream",
          "text": [
            "  Batch 1,000  of  1,210. Loss: 0.833151638507843.   Elapsed: 0:05:06.\n",
            "0:  hungryMichael: No, I'm not talking about my future here. No, I'm talking about the future of my company. It's not about my future. I'm talking about the future of your company. I'm talking about it right now.  Let's all do it.  Here we go.  Oh, look at that. Dwight: That's brilliant. Michael: Yes. Dwight: I can't see that there's two different points on that one, it's clear. Michael: There's a point to point- Dwight: We're back to work.  What have we reached? Michael: Good.\n"
          ]
        },
        {
          "name": "stderr",
          "output_type": "stream",
          "text": [
            "The attention mask and the pad token id were not set. As a consequence, you may observe unexpected behavior. Please pass your input's `attention_mask` to obtain reliable results.\n",
            "Setting `pad_token_id` to `eos_token_id`:50256 for open-end generation.\n"
          ]
        },
        {
          "name": "stdout",
          "output_type": "stream",
          "text": [
            "  Batch 1,100  of  1,210. Loss: 0.8856850266456604.   Elapsed: 0:05:36.\n",
            "0:  PTJim: Can I talk about everything? Pam: Yeah. Jim: Hey! Pam: I need a raise? Jim: Mmhmm. Pam: No, you really don't.  We're really unhappy. Jim: Oh, ok. I don't know. I think I have time to take a small test at home. Pam: Yeah. I just... I didn't want to do this. We're having an office party. Jim: Alright. Pam: Yeah, I know I've disappointed a lot of people in the past. I have not enjoyed going to the bathroom. Jim: I am not ready to do that. Pam: We could have a party, right? Jim: Yeah, we could have a party.\n"
          ]
        },
        {
          "name": "stderr",
          "output_type": "stream",
          "text": [
            "The attention mask and the pad token id were not set. As a consequence, you may observe unexpected behavior. Please pass your input's `attention_mask` to obtain reliable results.\n",
            "Setting `pad_token_id` to `eos_token_id`:50256 for open-end generation.\n"
          ]
        },
        {
          "name": "stdout",
          "output_type": "stream",
          "text": [
            "  Batch 1,200  of  1,210. Loss: 0.7744478583335876.   Elapsed: 0:06:07.\n",
            "0: üMichael: I just want to take everyone's email addresses. It'll take two or three days, because that's what I'm saying.  Well, you know what? We're in. We're not going down to the lake. We're not gonna do this thing any more!  OK.  No, we're not going down to the lake.  Nope. We're not gonna down to the lake.  Nope.  Nope. We're not leaving... No, we're not leaving. Michael: What? Why are you leaving?  No. No, I'm just looking for something to tell you I've never had before.  That... is the stupidest, stupidest thing I've ever seen. Dwight: I think that would be really, really stupid.  That's how stupid it is! Michael: There's nothing dumb about leaving.  I never thought of that.  No.\n",
            "\n",
            "  Average training loss: 0.68\n",
            "  Training epoch took: 0:06:11\n",
            "\n",
            "Running Validation...\n",
            "  Validation Loss: 0.77\n",
            "  Validation took: 0:00:13\n",
            "\n",
            "======== Epoch 4 / 10 ========\n",
            "Training...\n"
          ]
        },
        {
          "name": "stderr",
          "output_type": "stream",
          "text": [
            "The attention mask and the pad token id were not set. As a consequence, you may observe unexpected behavior. Please pass your input's `attention_mask` to obtain reliable results.\n",
            "Setting `pad_token_id` to `eos_token_id`:50256 for open-end generation.\n"
          ]
        },
        {
          "name": "stdout",
          "output_type": "stream",
          "text": [
            "  Batch   100  of  1,210. Loss: 0.9113249778747559.   Elapsed: 0:00:30.\n",
            "0: ruceAndy: You know, the new manager was supposed to be in charge of all the meetings, but I was in charge of all the sales staff. Dwight: Is this because you like being manager? Andy: No... It's just... I don't like being manager. Dwight: Well then your manager is the new manager, and so is the new VP, so why do you think I'm the new VP? Andy: I thought that was Dwight's, but he lost it because of that stupid HR guy in Tallahassee. Dwight: No, that was my stupid HR guy in Tallahassee? Andy: He was in charge of the telemarketing area? Dwight: But who? Andy: He was in charge of the telemarketing area? Dwight: But you couldn't blame him for something that he did? You could blame him for something that Dwight did? Andy: Well, it's not Dwight's fault, it's his fault because he's afraid\n"
          ]
        },
        {
          "name": "stderr",
          "output_type": "stream",
          "text": [
            "The attention mask and the pad token id were not set. As a consequence, you may observe unexpected behavior. Please pass your input's `attention_mask` to obtain reliable results.\n",
            "Setting `pad_token_id` to `eos_token_id`:50256 for open-end generation.\n"
          ]
        },
        {
          "name": "stdout",
          "output_type": "stream",
          "text": [
            "  Batch   200  of  1,210. Loss: 0.3186785876750946.   Elapsed: 0:01:01.\n",
            "0:  derivativesAndy: Yeah, who brought their own special snowflake? It's not like a snowflake, it's a regular snowflake.  But it's the most regular snowflake you've ever seen. Erin: That is wonderful.\n"
          ]
        },
        {
          "name": "stderr",
          "output_type": "stream",
          "text": [
            "The attention mask and the pad token id were not set. As a consequence, you may observe unexpected behavior. Please pass your input's `attention_mask` to obtain reliable results.\n",
            "Setting `pad_token_id` to `eos_token_id`:50256 for open-end generation.\n"
          ]
        },
        {
          "name": "stdout",
          "output_type": "stream",
          "text": [
            "  Batch   300  of  1,210. Loss: 0.6719455718994141.   Elapsed: 0:01:31.\n",
            "0: \u0019Jim: All right, I'm sorry to have your attention. We have been working really hard over the past few weeks. We've been together for 12 years. We've been friends for over 12 years, so it's not too long, right? Dwight: We've been dating for a year. Jim: Yeah. Dwight: We dated in the late 90's. We dated for the rest in March. Jim: Oh, really? Dwight: We dated for three years. Jim: Oh, right. Let's just... Dwight: So, we were together for a year? Jim: Yeah. Dwight: For?\n"
          ]
        },
        {
          "name": "stderr",
          "output_type": "stream",
          "text": [
            "The attention mask and the pad token id were not set. As a consequence, you may observe unexpected behavior. Please pass your input's `attention_mask` to obtain reliable results.\n",
            "Setting `pad_token_id` to `eos_token_id`:50256 for open-end generation.\n"
          ]
        },
        {
          "name": "stdout",
          "output_type": "stream",
          "text": [
            "  Batch   400  of  1,210. Loss: 0.9130550622940063.   Elapsed: 0:02:01.\n",
            "0:  rememberingPam: This guy was really nice to me and he is going to be joining us for a big party on Friday, right? He wants me to stay.  Oh, okay, well, he wants me too. He wanted me to do something so I was like, 'this is a gift I want you to give me a chance to go home, that I need to cushion my head. He's going to want me to lift this chair that I want you to sit on and I need to lift this chair that I need, like this chair that I like. And for this chair I need an extra chair, like a swing chair.\n"
          ]
        },
        {
          "name": "stderr",
          "output_type": "stream",
          "text": [
            "The attention mask and the pad token id were not set. As a consequence, you may observe unexpected behavior. Please pass your input's `attention_mask` to obtain reliable results.\n",
            "Setting `pad_token_id` to `eos_token_id`:50256 for open-end generation.\n"
          ]
        },
        {
          "name": "stdout",
          "output_type": "stream",
          "text": [
            "  Batch   500  of  1,210. Loss: 0.5411996841430664.   Elapsed: 0:02:32.\n",
            "0:  SourcesDwight: The guy in the bar is such a weird dude. Angela: I know. I was going to ask him why he's at my bar, but I was not. And now, I have to ask him why he's at my bar. Because there's a party in his warehouse. Jim: You know what? You have to follow protocol. Dwight: You know what? I am going to request that you step outside the building so you can spend the rest of the day with Holly. Jim: Thank you. Dwight: Because, you know what? If you're in the warehouse, I'm going to ask him something. I'm going to ask him what his favorite food is. Angela: I'll tell you what. I think Holly is a very tasty guy. Jim: It's his favorite restaurant.\n"
          ]
        },
        {
          "name": "stderr",
          "output_type": "stream",
          "text": [
            "The attention mask and the pad token id were not set. As a consequence, you may observe unexpected behavior. Please pass your input's `attention_mask` to obtain reliable results.\n",
            "Setting `pad_token_id` to `eos_token_id`:50256 for open-end generation.\n"
          ]
        },
        {
          "name": "stdout",
          "output_type": "stream",
          "text": [
            "  Batch   600  of  1,210. Loss: 0.8821602463722229.   Elapsed: 0:03:03.\n",
            "0: emsMichael: Well, Jan Levinson-Gould's been in Scranton since the mid- 1960s. And it was there that I learned what it is to love. Jan: Michael. Michael: Right here! Jan: Michael... Michael: Okay.\n"
          ]
        },
        {
          "name": "stderr",
          "output_type": "stream",
          "text": [
            "The attention mask and the pad token id were not set. As a consequence, you may observe unexpected behavior. Please pass your input's `attention_mask` to obtain reliable results.\n",
            "Setting `pad_token_id` to `eos_token_id`:50256 for open-end generation.\n"
          ]
        },
        {
          "name": "stdout",
          "output_type": "stream",
          "text": [
            "  Batch   700  of  1,210. Loss: 0.7493047118186951.   Elapsed: 0:03:33.\n",
            "0: tzJim: Hey. Pam: How about the weekend and the boat? Jim: What is that? Pam: Well, I thought it was a nice weekend and I actually did have to stay at my brother's cabin and have the surf and see the sunrise. Jim: Wow, you'll love it!\n"
          ]
        },
        {
          "name": "stderr",
          "output_type": "stream",
          "text": [
            "The attention mask and the pad token id were not set. As a consequence, you may observe unexpected behavior. Please pass your input's `attention_mask` to obtain reliable results.\n",
            "Setting `pad_token_id` to `eos_token_id`:50256 for open-end generation.\n"
          ]
        },
        {
          "name": "stdout",
          "output_type": "stream",
          "text": [
            "  Batch   800  of  1,210. Loss: 0.35518577694892883.   Elapsed: 0:04:03.\n",
            "0: maticMichael: My first three years as an entertainer. I don't know how I missed my first three years as a regional manager. Not anymore!\n"
          ]
        },
        {
          "name": "stderr",
          "output_type": "stream",
          "text": [
            "The attention mask and the pad token id were not set. As a consequence, you may observe unexpected behavior. Please pass your input's `attention_mask` to obtain reliable results.\n",
            "Setting `pad_token_id` to `eos_token_id`:50256 for open-end generation.\n"
          ]
        },
        {
          "name": "stdout",
          "output_type": "stream",
          "text": [
            "  Batch   900  of  1,210. Loss: 0.353895366191864.   Elapsed: 0:04:32.\n",
            "0:  syndAndy: Hey gang! You guys wanna talk to me? Jim: Sure. Andy: Not a question. You could ask the police how to find a missing piece of property. I don't even know how to judge a missing piece of property. Jim: Okay. I mean, how could I miss that? Andy: Well, the police know every trick in the book. Jim: Okay. Andy: And I mean, that's not really what I wanted to hear, but I guess it's easy enough for them to figure out who did it. So just watch this.  I'm going to take a turn. It will tell a story of a very unusual case of unusual behavior.  Excuse me.  What was the exact name? Jim: Um, Andy? Andy: I have one question to ask you. Jim: Um, I would say that your story is very interesting. Andy: Okay. I thought I would just bring it here for review, and I\n"
          ]
        },
        {
          "name": "stderr",
          "output_type": "stream",
          "text": [
            "The attention mask and the pad token id were not set. As a consequence, you may observe unexpected behavior. Please pass your input's `attention_mask` to obtain reliable results.\n",
            "Setting `pad_token_id` to `eos_token_id`:50256 for open-end generation.\n"
          ]
        },
        {
          "name": "stdout",
          "output_type": "stream",
          "text": [
            "  Batch 1,000  of  1,210. Loss: 0.5626264810562134.   Elapsed: 0:05:04.\n",
            "0:  gamMichael: I had two of these and I thought it would be more fun to get a drink at the bar next door because you know you're in a really fun mood, and I was in a really fun mood. Dwight: I mean you like to party, Michael. Michael: No, well...  This is fun, I don't think you're gonna find me desirable, but it sounds fun. Dwight: I totally agree. Michael: It's fun to party, Dwight. I like to party. Dwight: I don't have to do that anymore. Michael: Yes, but this is... your party. Dwight: What? Michael: Okay, I thought you'd want me to come, Dwight, because...  Hey! How are you? Dwight: I am good at the party. Michael: You know I don't always like a party, Dwight. Dwight: Michael, I just wanna know where you are.  I've been thinking I'm going to go out\n"
          ]
        },
        {
          "name": "stderr",
          "output_type": "stream",
          "text": [
            "The attention mask and the pad token id were not set. As a consequence, you may observe unexpected behavior. Please pass your input's `attention_mask` to obtain reliable results.\n",
            "Setting `pad_token_id` to `eos_token_id`:50256 for open-end generation.\n"
          ]
        },
        {
          "name": "stdout",
          "output_type": "stream",
          "text": [
            "  Batch 1,100  of  1,210. Loss: 0.43307989835739136.   Elapsed: 0:05:35.\n",
            "0:  injuryDwight: Hello, hello!\n"
          ]
        },
        {
          "name": "stderr",
          "output_type": "stream",
          "text": [
            "The attention mask and the pad token id were not set. As a consequence, you may observe unexpected behavior. Please pass your input's `attention_mask` to obtain reliable results.\n",
            "Setting `pad_token_id` to `eos_token_id`:50256 for open-end generation.\n"
          ]
        },
        {
          "name": "stdout",
          "output_type": "stream",
          "text": [
            "  Batch 1,200  of  1,210. Loss: 0.7490402460098267.   Elapsed: 0:06:05.\n",
            "0: azaJim: Oh, this is my Christmas card. Pam: Oh, my God. Jim: Yeah, actually, I had no idea, what this did to you. Pam: Oh, my God. Jim: I don't know. It seems like everyone here felt cared for you and that, that's weird for you to hear, but I can tell you, there's something going on with a lot of us. Pam: I am, um, but that was an odd couple of hours. Jim: Oh, I feel like I have to give you something. Pam: No, I have some good news. We're getting along, I think we're going all the way here. I think we're gonna... Jim: Okay, I'll see you later.\n",
            "\n",
            "  Average training loss: 0.62\n",
            "  Training epoch took: 0:06:09\n",
            "\n",
            "Running Validation...\n",
            "  Validation Loss: 0.80\n",
            "  Validation took: 0:00:13\n",
            "\n",
            "======== Epoch 5 / 10 ========\n",
            "Training...\n"
          ]
        },
        {
          "name": "stderr",
          "output_type": "stream",
          "text": [
            "The attention mask and the pad token id were not set. As a consequence, you may observe unexpected behavior. Please pass your input's `attention_mask` to obtain reliable results.\n",
            "Setting `pad_token_id` to `eos_token_id`:50256 for open-end generation.\n"
          ]
        },
        {
          "name": "stdout",
          "output_type": "stream",
          "text": [
            "  Batch   100  of  1,210. Loss: 0.46226227283477783.   Elapsed: 0:00:29.\n",
            "0:  membranePam: Hi, Kevin. Kevin: Hi. Pam: Hi. Kevin: I was just calling to tell you that a documentary about your company... Pam: It's called Ghostbusters. Kevin: Mmhmm. Pam:...and we don't know it at all. Kevin: Is it, uh, like, like a documentary about your company? Pam: It's not. It's really a business documentary, so you know what? Let's be honest, it's not a documentary. And this company made half a million in the last 15 years and that's a far cry from the scale of your giant biz expertise, but that's not what makes it good. Oscar: It's not. It's a business documentary. Jim: Really? Is it a documentary? Pam:...because a lot of people think Ghostbusters is a scary film, and they want it to go at the right time. And I'm not sure what that's going to be. Oscar\n"
          ]
        },
        {
          "name": "stderr",
          "output_type": "stream",
          "text": [
            "The attention mask and the pad token id were not set. As a consequence, you may observe unexpected behavior. Please pass your input's `attention_mask` to obtain reliable results.\n",
            "Setting `pad_token_id` to `eos_token_id`:50256 for open-end generation.\n"
          ]
        },
        {
          "name": "stdout",
          "output_type": "stream",
          "text": [
            "  Batch   200  of  1,210. Loss: 0.8702415227890015.   Elapsed: 0:01:01.\n",
            "0: ijingKaren: What?  No you didn't.  This is how you do things? Dwight: A few simple reminders.  Keep conversations light and your head will slide forward and your mouth will slide down. Karen: That sounds great. Dwight: Don't.  That sounds like you're making it too easy for me. Karen: A few simple reminders, like when to bring your kids to the nursery. Dwight: Don't fall in love and be with her. Karen: That sounds terrible. Dwight: Too hard. Karen: I understand, you're asking me to have to spend the night with her, right?  You're asking me to have a conversation with her when I come to a sperm bank. Dwight: Yes, I am. Karen: If it's not too hard for me to have a conversation with her, then I think we should call and ask her for a tissue. Dwight: Yes. Karen: If this was a scene that you were in\n"
          ]
        },
        {
          "name": "stderr",
          "output_type": "stream",
          "text": [
            "The attention mask and the pad token id were not set. As a consequence, you may observe unexpected behavior. Please pass your input's `attention_mask` to obtain reliable results.\n",
            "Setting `pad_token_id` to `eos_token_id`:50256 for open-end generation.\n"
          ]
        },
        {
          "name": "stdout",
          "output_type": "stream",
          "text": [
            "  Batch   300  of  1,210. Loss: 0.39728111028671265.   Elapsed: 0:01:32.\n",
            "0:  castAndy: It's been freezing out in here.\n"
          ]
        },
        {
          "name": "stderr",
          "output_type": "stream",
          "text": [
            "The attention mask and the pad token id were not set. As a consequence, you may observe unexpected behavior. Please pass your input's `attention_mask` to obtain reliable results.\n",
            "Setting `pad_token_id` to `eos_token_id`:50256 for open-end generation.\n"
          ]
        },
        {
          "name": "stdout",
          "output_type": "stream",
          "text": [
            "  Batch   400  of  1,210. Loss: 0.3557667136192322.   Elapsed: 0:02:01.\n",
            "0:  purchRobert: How do I create a new tab? Michael: You have to do this. You have to click on the Welcome to Scranton website, accept our offer, and then you will be served. Robert: You have to agree to this? Michael: Yes. I will send you a invoice.\n"
          ]
        },
        {
          "name": "stderr",
          "output_type": "stream",
          "text": [
            "The attention mask and the pad token id were not set. As a consequence, you may observe unexpected behavior. Please pass your input's `attention_mask` to obtain reliable results.\n",
            "Setting `pad_token_id` to `eos_token_id`:50256 for open-end generation.\n"
          ]
        },
        {
          "name": "stdout",
          "output_type": "stream",
          "text": [
            "  Batch   500  of  1,210. Loss: 0.6528254151344299.   Elapsed: 0:02:31.\n",
            "0:  shouldersJan: And you know what? I'm really happy you came along, and you guys are gonna let me know, okay? I think I can fit into your big, big pants. Andy: That's really sweet of you to bring some snacks in. Jan: Yeah.  I'm gonna be... Andy: You're kidding me.\n"
          ]
        },
        {
          "name": "stderr",
          "output_type": "stream",
          "text": [
            "The attention mask and the pad token id were not set. As a consequence, you may observe unexpected behavior. Please pass your input's `attention_mask` to obtain reliable results.\n",
            "Setting `pad_token_id` to `eos_token_id`:50256 for open-end generation.\n"
          ]
        },
        {
          "name": "stdout",
          "output_type": "stream",
          "text": [
            "  Batch   600  of  1,210. Loss: 0.3879435956478119.   Elapsed: 0:03:02.\n",
            "0:  builtAngela: It was beautiful day yesterday.  The flowers were very sweet, and the whole night with worms.  It was so beautiful.   I had to go with my mom.  I couldn't focus on the flowers.  I was in my room drinking all the wine that I had tonight.  You can do that. Angela: Okay.  You need to stay in my room for an hour and stay in my room.    Can we wait in your car for an hour?  Can I talk to you for an hour or I'll drive you to New York to have sex?\n"
          ]
        },
        {
          "name": "stderr",
          "output_type": "stream",
          "text": [
            "The attention mask and the pad token id were not set. As a consequence, you may observe unexpected behavior. Please pass your input's `attention_mask` to obtain reliable results.\n",
            "Setting `pad_token_id` to `eos_token_id`:50256 for open-end generation.\n"
          ]
        },
        {
          "name": "stdout",
          "output_type": "stream",
          "text": [
            "  Batch   700  of  1,210. Loss: 0.8497053384780884.   Elapsed: 0:03:32.\n",
            "0:  openlyMichael: Oh, please, Jim. Please. This meeting has never been, never will be the same as our first ever gay affair meeting. Jim: I am going to make a decision as to who I am going to choose. Michael: Well then I am going to tell... my mom. Jim: Oh, that's right. Michael: No, no, no. That's not very... Jim: Oh, no. Thank you, Michael. Michael: Oh, I want to tell you what I think of this meeting.  Um, the thing about Pam's confidence.  She said that I had a really strong back as a girl. Jim: She's right Jim.  As with Angela, and as great as I was at my age when I thought it would be ideal for us to meet, so... Michael: Okay. Jim: Okay. So Pam has a nice skin. Michael: Mmhmm. Jim: She's fine, too. Michael:\n"
          ]
        },
        {
          "name": "stderr",
          "output_type": "stream",
          "text": [
            "The attention mask and the pad token id were not set. As a consequence, you may observe unexpected behavior. Please pass your input's `attention_mask` to obtain reliable results.\n",
            "Setting `pad_token_id` to `eos_token_id`:50256 for open-end generation.\n"
          ]
        },
        {
          "name": "stdout",
          "output_type": "stream",
          "text": [
            "  Batch   800  of  1,210. Loss: 0.6109119057655334.   Elapsed: 0:04:03.\n",
            "0:  haltedJim: Well, we all said we were gonna see you through the tough times and I just said, I have a feeling, uh, we're gonna see... Pam: Yeah. It's pretty good. Jim: So there's a lot of pressure on him right now, right? Pam: Yeah. I can see him... Jim: Just... I mean, who's he gonna choose?\n"
          ]
        },
        {
          "name": "stderr",
          "output_type": "stream",
          "text": [
            "The attention mask and the pad token id were not set. As a consequence, you may observe unexpected behavior. Please pass your input's `attention_mask` to obtain reliable results.\n",
            "Setting `pad_token_id` to `eos_token_id`:50256 for open-end generation.\n"
          ]
        },
        {
          "name": "stdout",
          "output_type": "stream",
          "text": [
            "  Batch   900  of  1,210. Loss: 0.4880443811416626.   Elapsed: 0:04:33.\n",
            "0:  NikAndy: So why didn't you bring me, like, any of the shirts? Jim: I brought them. Andy: Good. I don't want to see them. Jim: I'm sure they're mine. Andy: They're mine. Jim: Okay...\n"
          ]
        },
        {
          "name": "stderr",
          "output_type": "stream",
          "text": [
            "The attention mask and the pad token id were not set. As a consequence, you may observe unexpected behavior. Please pass your input's `attention_mask` to obtain reliable results.\n",
            "Setting `pad_token_id` to `eos_token_id`:50256 for open-end generation.\n"
          ]
        },
        {
          "name": "stdout",
          "output_type": "stream",
          "text": [
            "  Batch 1,000  of  1,210. Loss: 0.6888228058815002.   Elapsed: 0:05:03.\n",
            "0:  tinMichael: Hi, Kevin. I'm Michael Scott. Kevin: Oh, hey, you too.\n"
          ]
        },
        {
          "name": "stderr",
          "output_type": "stream",
          "text": [
            "The attention mask and the pad token id were not set. As a consequence, you may observe unexpected behavior. Please pass your input's `attention_mask` to obtain reliable results.\n",
            "Setting `pad_token_id` to `eos_token_id`:50256 for open-end generation.\n"
          ]
        },
        {
          "name": "stdout",
          "output_type": "stream",
          "text": [
            "  Batch 1,100  of  1,210. Loss: 0.22195610404014587.   Elapsed: 0:05:33.\n",
            "0:  clinicalKelly: I've been in the bathroom a few times. Pam: Kelly, you're gonna be all gummy. Kelly: You guys do great, they're cool, they're so accommodating. Oscar: How many times have I told you that I didn't want to spend the day with you. Kelly: I just don't want to. Angela: Oh my gosh. How thoughtful. We're very lucky you're here, Kelly.  This is Kelly Kapoor and the Kelly Kapoor Experiment.\n"
          ]
        },
        {
          "name": "stderr",
          "output_type": "stream",
          "text": [
            "The attention mask and the pad token id were not set. As a consequence, you may observe unexpected behavior. Please pass your input's `attention_mask` to obtain reliable results.\n",
            "Setting `pad_token_id` to `eos_token_id`:50256 for open-end generation.\n"
          ]
        },
        {
          "name": "stdout",
          "output_type": "stream",
          "text": [
            "  Batch 1,200  of  1,210. Loss: 0.6384690403938293.   Elapsed: 0:06:04.\n",
            "0: lectionsKelly: I guess it was Michael. He told everyone all about it to us and that's all they did then.  Was it Pam? Pam: Oh, it was Jim? He said he felt pressured to come. Kelly: Oh, he had to and he always has. I mean, you're with him, right? But you're your own man, right? Like he's your boss? Pam: No, I don't think so. That's so great!\n",
            "\n",
            "  Average training loss: 0.56\n",
            "  Training epoch took: 0:06:07\n",
            "\n",
            "Running Validation...\n",
            "  Validation Loss: 0.84\n",
            "  Validation took: 0:00:13\n",
            "\n",
            "======== Epoch 6 / 10 ========\n",
            "Training...\n"
          ]
        },
        {
          "name": "stderr",
          "output_type": "stream",
          "text": [
            "The attention mask and the pad token id were not set. As a consequence, you may observe unexpected behavior. Please pass your input's `attention_mask` to obtain reliable results.\n",
            "Setting `pad_token_id` to `eos_token_id`:50256 for open-end generation.\n"
          ]
        },
        {
          "name": "stdout",
          "output_type": "stream",
          "text": [
            "  Batch   100  of  1,210. Loss: 0.35269075632095337.   Elapsed: 0:00:30.\n",
            "0: elsRyan: Okay, I'll see you at your new desk.\n"
          ]
        },
        {
          "name": "stderr",
          "output_type": "stream",
          "text": [
            "The attention mask and the pad token id were not set. As a consequence, you may observe unexpected behavior. Please pass your input's `attention_mask` to obtain reliable results.\n",
            "Setting `pad_token_id` to `eos_token_id`:50256 for open-end generation.\n"
          ]
        },
        {
          "name": "stdout",
          "output_type": "stream",
          "text": [
            "  Batch   200  of  1,210. Loss: 0.5100346207618713.   Elapsed: 0:00:59.\n",
            "0: labMichael: Hello? Pam: No thank you. Michael: What are you doing here? You thought we could drop in and have a few laughs? Well you ruined it.\n"
          ]
        },
        {
          "name": "stderr",
          "output_type": "stream",
          "text": [
            "The attention mask and the pad token id were not set. As a consequence, you may observe unexpected behavior. Please pass your input's `attention_mask` to obtain reliable results.\n",
            "Setting `pad_token_id` to `eos_token_id`:50256 for open-end generation.\n"
          ]
        },
        {
          "name": "stdout",
          "output_type": "stream",
          "text": [
            "  Batch   300  of  1,210. Loss: 0.26897886395454407.   Elapsed: 0:01:29.\n",
            "0:  tripleDavid Brent: Nicely done. Ryan: No, no. David Brent!  What's up? Ryan: Hi, David.  Yeah, uh, just wanted to say, listen up.  I've been meaning to ask you about the branch  meetings.  So, do you think that they're all good? Michael: I can't say.  Um, I think it's either my fault or some other. David Brent: What happened? Michael: I didn't think you had time to talk. David Brent: So, what happened? Michael: Well, um, we talked for about an hour.  And then he said that he'll talk to the branch manager, but he'll not stop. David Brent: That is not entirely accurate, though. Michael: Well, that is quite the opposite, actually.  And what I'm curious about is how things turned out between us.  Especially after Dwight went down?  And I couldn't wait to see\n"
          ]
        },
        {
          "name": "stderr",
          "output_type": "stream",
          "text": [
            "The attention mask and the pad token id were not set. As a consequence, you may observe unexpected behavior. Please pass your input's `attention_mask` to obtain reliable results.\n",
            "Setting `pad_token_id` to `eos_token_id`:50256 for open-end generation.\n"
          ]
        },
        {
          "name": "stdout",
          "output_type": "stream",
          "text": [
            "  Batch   400  of  1,210. Loss: 0.8558329939842224.   Elapsed: 0:02:00.\n",
            "0: 220Michael: Okay, oh no. Andy: What? Michael: Okay, Andy, why would you think I'm saying I'm saying you're saying you're saying you're doing laundry?  Well, Andy, it's not a violation of your contract, so I'm... I just thought that maybe they could take advantage of our situation so we could make it seem more like we'd be fine. Andy: Okay, I don't think they have to take advantage of your contract.  You're basically saying, that you're less of a man and a woman.  That's all they need to know.  And you should know better than anyone.  That you're sleeping with me, and that you're taking advantage of my sex life. Andy: That's a- Michael: We're both- Okay.  Do you think that we could take advantage of our other's work? Andy: No.  This is a contract.  You're both- You both\n"
          ]
        },
        {
          "name": "stderr",
          "output_type": "stream",
          "text": [
            "The attention mask and the pad token id were not set. As a consequence, you may observe unexpected behavior. Please pass your input's `attention_mask` to obtain reliable results.\n",
            "Setting `pad_token_id` to `eos_token_id`:50256 for open-end generation.\n"
          ]
        },
        {
          "name": "stdout",
          "output_type": "stream",
          "text": [
            "  Batch   500  of  1,210. Loss: 0.3527921140193939.   Elapsed: 0:02:31.\n",
            "0:  SeeJim: Okay, here's the bottom of the story.  I want to make a peace offering, and I want the most wonderful Christmas party you've ever been a life. I want you to come into my office and tell me that the best gifts you can give someone is a big mess.  You need to go in there, shut it down, and tell them, that you love them... and that maybe the best gift that they give you is a big mess, because you're not gonna want that.  Your gift is a big mess.  Your gift is a big mess, because you're not gonna want it.  Your gift is the biggest mess, because you're not gonna want it, so... Merry Christmas. Angela: Merry Christmas. Jim: Wait a second, I meant the word--- yes. Angela:...you can't take your nut off now.'\n"
          ]
        },
        {
          "name": "stderr",
          "output_type": "stream",
          "text": [
            "The attention mask and the pad token id were not set. As a consequence, you may observe unexpected behavior. Please pass your input's `attention_mask` to obtain reliable results.\n",
            "Setting `pad_token_id` to `eos_token_id`:50256 for open-end generation.\n"
          ]
        },
        {
          "name": "stdout",
          "output_type": "stream",
          "text": [
            "  Batch   600  of  1,210. Loss: 0.32505908608436584.   Elapsed: 0:03:02.\n",
            "0: @@Jim: Hey, Pam! You got one of these, huh? Pam: Uh... Yes. Jim: All right.\n"
          ]
        },
        {
          "name": "stderr",
          "output_type": "stream",
          "text": [
            "The attention mask and the pad token id were not set. As a consequence, you may observe unexpected behavior. Please pass your input's `attention_mask` to obtain reliable results.\n",
            "Setting `pad_token_id` to `eos_token_id`:50256 for open-end generation.\n"
          ]
        },
        {
          "name": "stdout",
          "output_type": "stream",
          "text": [
            "  Batch   700  of  1,210. Loss: 0.7205067873001099.   Elapsed: 0:03:32.\n",
            "0:  hostMichael: I don't know, we talked about it... and I know why.  Because I really think it is the right thing to do right now. Dwight: I didn't know that you were following me this way. Michael: I think that you should go. Dwight: You know what, I just can't risk saying it. Michael: I think we should go. Dwight: I'm not going to say it if I'm not going to. Michael: Why not? Dwight: Because what would I say to you if you were going to say it? Michael: I want to be your friend and I want to be your friend.  And if not you then fine, then fine.  Which is fine.  Fine, fine.  Fine.\n"
          ]
        },
        {
          "name": "stderr",
          "output_type": "stream",
          "text": [
            "The attention mask and the pad token id were not set. As a consequence, you may observe unexpected behavior. Please pass your input's `attention_mask` to obtain reliable results.\n",
            "Setting `pad_token_id` to `eos_token_id`:50256 for open-end generation.\n"
          ]
        },
        {
          "name": "stdout",
          "output_type": "stream",
          "text": [
            "  Batch   800  of  1,210. Loss: 0.7278776168823242.   Elapsed: 0:04:03.\n",
            "0: roleAngela: We have a lot to address today. I was wondering if we could do some inventory. And the inventory is... inventory. All: 'Jim Halpert!' Dwight: Oh, no, no, no, no, no. The very capable, decisive, well-hung out salesman.\n"
          ]
        },
        {
          "name": "stderr",
          "output_type": "stream",
          "text": [
            "The attention mask and the pad token id were not set. As a consequence, you may observe unexpected behavior. Please pass your input's `attention_mask` to obtain reliable results.\n",
            "Setting `pad_token_id` to `eos_token_id`:50256 for open-end generation.\n"
          ]
        },
        {
          "name": "stdout",
          "output_type": "stream",
          "text": [
            "  Batch   900  of  1,210. Loss: 0.7489862442016602.   Elapsed: 0:04:33.\n",
            "0: iacAndy: Hey. I have a Korean client in Scranton, Pennsylvania. Right? And, because of our beautiful, beautiful, young woman, Phyllis. Phyllis: My ex-boyfriend left the other night in an Escalade. Andy: Who? Why? why are you talking about yourself? Phyllis: What are you talking about? I'm saying we could be talking about someone else's feelings. Andy: Why are you talking about her? Phyllis: Because I want you back. Andy: Okay. Phyllis: What? I'm not coming back to Scranton to see Bob. Just... he's gone. And there's nothing he can do. Andy: I'm leaving my friend, to go to hell. I've already called Jo, and she's going to send me back, so...\n"
          ]
        },
        {
          "name": "stderr",
          "output_type": "stream",
          "text": [
            "The attention mask and the pad token id were not set. As a consequence, you may observe unexpected behavior. Please pass your input's `attention_mask` to obtain reliable results.\n",
            "Setting `pad_token_id` to `eos_token_id`:50256 for open-end generation.\n"
          ]
        },
        {
          "name": "stdout",
          "output_type": "stream",
          "text": [
            "  Batch 1,000  of  1,210. Loss: 0.2949524223804474.   Elapsed: 0:05:04.\n",
            "0:  LDPete: I just don't know, uh, what's-- Michael: Pam, you can imagine. Pam: No, no, I don't think that is happening.  I think it's going on a little bit. Pete: Oh, my God! Dwight's dead! That's horrible! Jim: What happened in there? Michael: No, I mean, nothing.  I don't know, what was, what, what was that? Dwight: It was, it was like, I don't know, like, something like, like, a chime or a whistle, or something, like a punch. Michael: I don't-- Dwight: No, it wasn't something like, something like that. Jim: It's just my ear's pinning. Michael: Oh, yeah? Dwight: Okay. Michael: Yeah. Dwight: Do you want to see how I was being crushed? Jim: No way. Dwight: I mean, what did I\n"
          ]
        },
        {
          "name": "stderr",
          "output_type": "stream",
          "text": [
            "The attention mask and the pad token id were not set. As a consequence, you may observe unexpected behavior. Please pass your input's `attention_mask` to obtain reliable results.\n",
            "Setting `pad_token_id` to `eos_token_id`:50256 for open-end generation.\n"
          ]
        },
        {
          "name": "stdout",
          "output_type": "stream",
          "text": [
            "  Batch 1,100  of  1,210. Loss: 0.7235743999481201.   Elapsed: 0:05:35.\n",
            "0:  ListenOscar:  Kevin: Come on Oscar, what are you doing? Oscar: \n"
          ]
        },
        {
          "name": "stderr",
          "output_type": "stream",
          "text": [
            "The attention mask and the pad token id were not set. As a consequence, you may observe unexpected behavior. Please pass your input's `attention_mask` to obtain reliable results.\n",
            "Setting `pad_token_id` to `eos_token_id`:50256 for open-end generation.\n"
          ]
        },
        {
          "name": "stdout",
          "output_type": "stream",
          "text": [
            "  Batch 1,200  of  1,210. Loss: 0.7036253809928894.   Elapsed: 0:06:04.\n",
            "0:  dyAndy: Oh hey everybody, is Michael okay? Erin: Nope. Andy: I don't want you to look at his face. You don't want him to look at me because we could just see the blood bags. Erin: No, he's a pernicious liar. He's like a puppet. Andy: Whoa! What do you mean? Erin: It said the doctor was removing the uterus, but he will probably come back to us after that. Andy: That makes sense, don't you think? But it's kinda scary, right?\n",
            "\n",
            "  Average training loss: 0.49\n",
            "  Training epoch took: 0:06:08\n",
            "\n",
            "Running Validation...\n",
            "  Validation Loss: 0.89\n",
            "  Validation took: 0:00:13\n",
            "\n",
            "======== Epoch 7 / 10 ========\n",
            "Training...\n"
          ]
        },
        {
          "name": "stderr",
          "output_type": "stream",
          "text": [
            "The attention mask and the pad token id were not set. As a consequence, you may observe unexpected behavior. Please pass your input's `attention_mask` to obtain reliable results.\n",
            "Setting `pad_token_id` to `eos_token_id`:50256 for open-end generation.\n"
          ]
        },
        {
          "name": "stdout",
          "output_type": "stream",
          "text": [
            "  Batch   100  of  1,210. Loss: 0.3083966076374054.   Elapsed: 0:00:30.\n",
            "0:  DomesticMichael: Hey. What   s up? What   s up? Pam: Don   t worry, he   s not here. I mean, I know he   s here. I just   I just want him to know I   m here first, I just hope he feels welcome and at home. Kevin: \n"
          ]
        },
        {
          "name": "stderr",
          "output_type": "stream",
          "text": [
            "The attention mask and the pad token id were not set. As a consequence, you may observe unexpected behavior. Please pass your input's `attention_mask` to obtain reliable results.\n",
            "Setting `pad_token_id` to `eos_token_id`:50256 for open-end generation.\n"
          ]
        },
        {
          "name": "stdout",
          "output_type": "stream",
          "text": [
            "  Batch   200  of  1,210. Loss: 0.5035646557807922.   Elapsed: 0:01:00.\n",
            "0:  beneficiariesJim: Pam, we really didn't get that close. Pam: We were still pretty close! Jim: So close. Pam: Yeah.  Oh, God!  Oh, my God! Jim:  Pam: Come here! Jim: Oh!  I missed you!  Come on in, you're really close! Pam: Oh, my God! Jim: Oh.  Oh, my God!\n"
          ]
        },
        {
          "name": "stderr",
          "output_type": "stream",
          "text": [
            "The attention mask and the pad token id were not set. As a consequence, you may observe unexpected behavior. Please pass your input's `attention_mask` to obtain reliable results.\n",
            "Setting `pad_token_id` to `eos_token_id`:50256 for open-end generation.\n"
          ]
        },
        {
          "name": "stdout",
          "output_type": "stream",
          "text": [
            "  Batch   300  of  1,210. Loss: 0.30914929509162903.   Elapsed: 0:01:30.\n",
            "0:  TitleJan: I was just here to do my Phallus investigation. Dwight: Wait. Jan: You sure? Dwight: Yep. Jan: So I just wanted to make sure Michael's career is destroyed. The fallout? Is that clear enough for you? Dwight: You know what? It's not. I want us to get to clean this up. Michael: Clean it up? Dwight: That's my Phallus name. Michael: What kind of clean slate is that? Dwight: It's a business slate. Michael: Okay.  I think it's showtime. Dwight: Let's start cleaning this up! It's starting!\n"
          ]
        },
        {
          "name": "stderr",
          "output_type": "stream",
          "text": [
            "The attention mask and the pad token id were not set. As a consequence, you may observe unexpected behavior. Please pass your input's `attention_mask` to obtain reliable results.\n",
            "Setting `pad_token_id` to `eos_token_id`:50256 for open-end generation.\n"
          ]
        },
        {
          "name": "stdout",
          "output_type": "stream",
          "text": [
            "  Batch   400  of  1,210. Loss: 0.4818296730518341.   Elapsed: 0:02:01.\n",
            "0:  μMichael: Pam, how was your interview? Pam: Um, I had, uh, been thinking about what people were saying, and how it could be kind of biased against them. I was hoping to maybe send them an email that would. And then I sent them one, and they hate it. I guess it's just more biased, actually.\n"
          ]
        },
        {
          "name": "stderr",
          "output_type": "stream",
          "text": [
            "The attention mask and the pad token id were not set. As a consequence, you may observe unexpected behavior. Please pass your input's `attention_mask` to obtain reliable results.\n",
            "Setting `pad_token_id` to `eos_token_id`:50256 for open-end generation.\n"
          ]
        },
        {
          "name": "stdout",
          "output_type": "stream",
          "text": [
            "  Batch   500  of  1,210. Loss: 0.2527006268501282.   Elapsed: 0:02:31.\n",
            "0:  sellingDwight: Where were you last night? Michael: I was in the parking lot in the blue car. I was so tired. We had only been in the parking lot the whole time. I had just gone to the bathroom and I found this condom. Dwight: No, that's really safe. You know what? I shouldn't have been late. Michael: Mmm-hmm. Dwight: I'm gonna need you to give it to me. Michael: Aha-ha-ha-ha. Dwight: And now we're in the middle of a conversation and you're...\n"
          ]
        },
        {
          "name": "stderr",
          "output_type": "stream",
          "text": [
            "The attention mask and the pad token id were not set. As a consequence, you may observe unexpected behavior. Please pass your input's `attention_mask` to obtain reliable results.\n",
            "Setting `pad_token_id` to `eos_token_id`:50256 for open-end generation.\n"
          ]
        },
        {
          "name": "stdout",
          "output_type": "stream",
          "text": [
            "  Batch   600  of  1,210. Loss: 0.27973634004592896.   Elapsed: 0:03:02.\n",
            "0:  migrantJim: There are 4 new deadly weapons in the annex. Dwight: No. No, no, no, no. No. No, no. No. That is where they said they would find the first sickly. 'Cause of the twins. Dwight: Yes, that's true. I did not say that. That doesn't make any sense. 'Cause that's... nope, not true. Toby: Do you want me to count to three? 'Cause I'm counting to three. Dwight: Yes, count to three. Toby: No. Nellie: Dwight, you've obviously had a very truncated day, Toby. So, unless you count to three, then Toby will be arriving at 4:00. Dwight: Okay, well done. Toby: Excellent. Dwight: Good job. Toby: Excellent. Dwight: Good job. Dwight: Very nicely done. Nellie: Very nicely done.\n"
          ]
        },
        {
          "name": "stderr",
          "output_type": "stream",
          "text": [
            "The attention mask and the pad token id were not set. As a consequence, you may observe unexpected behavior. Please pass your input's `attention_mask` to obtain reliable results.\n",
            "Setting `pad_token_id` to `eos_token_id`:50256 for open-end generation.\n"
          ]
        },
        {
          "name": "stdout",
          "output_type": "stream",
          "text": [
            "  Batch   700  of  1,210. Loss: 0.5024603009223938.   Elapsed: 0:03:33.\n",
            "0: ivelyAndy: I'm the victim, and I'm extremely proud of you. I got the best out of your office, and I gave you my gym membership. I literally begged you to keep it down.  I'm going to pull this off.\n"
          ]
        },
        {
          "name": "stderr",
          "output_type": "stream",
          "text": [
            "The attention mask and the pad token id were not set. As a consequence, you may observe unexpected behavior. Please pass your input's `attention_mask` to obtain reliable results.\n",
            "Setting `pad_token_id` to `eos_token_id`:50256 for open-end generation.\n"
          ]
        },
        {
          "name": "stdout",
          "output_type": "stream",
          "text": [
            "  Batch   800  of  1,210. Loss: 0.44742515683174133.   Elapsed: 0:04:03.\n",
            "0:  orderOscar: Are we going to the matinee? The senator will always have the upper hand.\n"
          ]
        },
        {
          "name": "stderr",
          "output_type": "stream",
          "text": [
            "The attention mask and the pad token id were not set. As a consequence, you may observe unexpected behavior. Please pass your input's `attention_mask` to obtain reliable results.\n",
            "Setting `pad_token_id` to `eos_token_id`:50256 for open-end generation.\n"
          ]
        },
        {
          "name": "stdout",
          "output_type": "stream",
          "text": [
            "  Batch   900  of  1,210. Loss: 0.6327702403068542.   Elapsed: 0:04:33.\n",
            "0:  VPNPam: Okay, everyone, read the memo. Everyone:  Pam: What? What? How? No. This is obvious. Everyone:  Pam: Okay, I   m taking it a little easy. Everyone:  Pam: But what? Everyone:  Pam: I   m not taking it a little easy. So just, uh, just say what you   m saying to me and I   ll do it right back. Jim: Pam, stop. Don   t run away. Pam: No! Just run away! Jim: Nope. No, I hate this! Too bad! You don   t have to run away. All right,      I   m giving up. Everyone:  Jim: Okay, okay. Pam: But you will run away. Jim: We   re talking about running away. Everybody:  Pam: We   re talking about running away, right? Jim:\n"
          ]
        },
        {
          "name": "stderr",
          "output_type": "stream",
          "text": [
            "The attention mask and the pad token id were not set. As a consequence, you may observe unexpected behavior. Please pass your input's `attention_mask` to obtain reliable results.\n",
            "Setting `pad_token_id` to `eos_token_id`:50256 for open-end generation.\n"
          ]
        },
        {
          "name": "stdout",
          "output_type": "stream",
          "text": [
            "  Batch 1,000  of  1,210. Loss: 0.23796305060386658.   Elapsed: 0:05:04.\n",
            "0:  explanationMichael: Pam-elama!  Hey.  Hey, look who just woke up in the city 'cause I'm their boss? I just met that guy!  I'm so glad he's here.  It was a setup.  The guy told me that everybody's looking for a new boss.\n"
          ]
        },
        {
          "name": "stderr",
          "output_type": "stream",
          "text": [
            "The attention mask and the pad token id were not set. As a consequence, you may observe unexpected behavior. Please pass your input's `attention_mask` to obtain reliable results.\n",
            "Setting `pad_token_id` to `eos_token_id`:50256 for open-end generation.\n"
          ]
        },
        {
          "name": "stdout",
          "output_type": "stream",
          "text": [
            "  Batch 1,100  of  1,210. Loss: 0.42507630586624146.   Elapsed: 0:05:34.\n",
            "0:  BachAndy: We got a little bit of a Shining vibe going into this one. It wasn't karaoke, but I hear it's coming from the heart. So I grab a few pieces of bamboo from my desk and we play the song of my favorite salesman from last year. Nana: I do enjoy hearing that. Andy: Yeah, I do. Yeah.\n"
          ]
        },
        {
          "name": "stderr",
          "output_type": "stream",
          "text": [
            "The attention mask and the pad token id were not set. As a consequence, you may observe unexpected behavior. Please pass your input's `attention_mask` to obtain reliable results.\n",
            "Setting `pad_token_id` to `eos_token_id`:50256 for open-end generation.\n"
          ]
        },
        {
          "name": "stdout",
          "output_type": "stream",
          "text": [
            "  Batch 1,200  of  1,210. Loss: 0.3994000554084778.   Elapsed: 0:06:05.\n",
            "0:  folderAndy: Hey, Erin! Erin: Sorry Andy! Andy: We had no idea. Erin: Oh, really? Did you say, 'Andy and Erin are f***ing married.' Andy: No, I finished all of it. Erin: I'm sorry. Andy and Erin are f***ing married! Erin: I don't care! Andy: Look, look at you, you can say it. You can say it, I just, you know, keep it real.\n",
            "\n",
            "  Average training loss: 0.43\n",
            "  Training epoch took: 0:06:09\n",
            "\n",
            "Running Validation...\n",
            "  Validation Loss: 0.95\n",
            "  Validation took: 0:00:13\n",
            "\n",
            "======== Epoch 8 / 10 ========\n",
            "Training...\n"
          ]
        },
        {
          "name": "stderr",
          "output_type": "stream",
          "text": [
            "The attention mask and the pad token id were not set. As a consequence, you may observe unexpected behavior. Please pass your input's `attention_mask` to obtain reliable results.\n",
            "Setting `pad_token_id` to `eos_token_id`:50256 for open-end generation.\n"
          ]
        },
        {
          "name": "stdout",
          "output_type": "stream",
          "text": [
            "  Batch   100  of  1,210. Loss: 0.3740880787372589.   Elapsed: 0:00:30.\n",
            "0:  buildingDwight: Michael, this is Dragon. Michael: Hi. Uh, sorry, uh, this is Dragon. Dwight: Really? Michael: Yes. Dwight: I thought you might want to tell me about what's going on with Nellie Bertram. Michael: Really? Did I say that? Yes. Yeah. I did, and I am enormously idiot. You might want to tell me about it too.\n"
          ]
        },
        {
          "name": "stderr",
          "output_type": "stream",
          "text": [
            "The attention mask and the pad token id were not set. As a consequence, you may observe unexpected behavior. Please pass your input's `attention_mask` to obtain reliable results.\n",
            "Setting `pad_token_id` to `eos_token_id`:50256 for open-end generation.\n"
          ]
        },
        {
          "name": "stdout",
          "output_type": "stream",
          "text": [
            "  Batch   200  of  1,210. Loss: 0.3810020387172699.   Elapsed: 0:01:00.\n",
            "0:  BabylonPam: What the  is this about dismissing the ad people? Michael: They did it. Pam: They did it.  How do I put this delicately? Michael: Well, Pam, it   s very good, but I don   t think they   ve earned this.  Frankly, I am a rational consumer. Pam: Okay.  I will take this. Michael: They   re bad. Pam: Michael, this is ridiculous, and this is the thing that I hate to see in this place. Michael: Well, okay, it   s good.  But this is so awful. Pam: Thank you.\n"
          ]
        },
        {
          "name": "stderr",
          "output_type": "stream",
          "text": [
            "The attention mask and the pad token id were not set. As a consequence, you may observe unexpected behavior. Please pass your input's `attention_mask` to obtain reliable results.\n",
            "Setting `pad_token_id` to `eos_token_id`:50256 for open-end generation.\n"
          ]
        },
        {
          "name": "stdout",
          "output_type": "stream",
          "text": [
            "  Batch   300  of  1,210. Loss: 0.32089531421661377.   Elapsed: 0:01:31.\n",
            "0: perialAndy: Did somebody say 'baby back ribs'? It's a baby, so you're not born with a baby inside of it. Darryl: That's not exactly Andy. Andy: It is, it is. Angela: You are a liar. Darryl: No, I meant that I meant that I meant that I meant that I meant a baby inside of me. Angela: Ohhhh. Andy: I'm gonna count to 3. Angela: Yeah.\n"
          ]
        },
        {
          "name": "stderr",
          "output_type": "stream",
          "text": [
            "The attention mask and the pad token id were not set. As a consequence, you may observe unexpected behavior. Please pass your input's `attention_mask` to obtain reliable results.\n",
            "Setting `pad_token_id` to `eos_token_id`:50256 for open-end generation.\n"
          ]
        },
        {
          "name": "stdout",
          "output_type": "stream",
          "text": [
            "  Batch   400  of  1,210. Loss: 0.3106366693973541.   Elapsed: 0:02:01.\n",
            "0:  rentsDwight: Let's get our shower on. Let's get some shower on. What? Dwight: Oh.  I forgot my shower. I've lost it. I lost the shower.  Okay.\n"
          ]
        },
        {
          "name": "stderr",
          "output_type": "stream",
          "text": [
            "The attention mask and the pad token id were not set. As a consequence, you may observe unexpected behavior. Please pass your input's `attention_mask` to obtain reliable results.\n",
            "Setting `pad_token_id` to `eos_token_id`:50256 for open-end generation.\n"
          ]
        },
        {
          "name": "stdout",
          "output_type": "stream",
          "text": [
            "  Batch   500  of  1,210. Loss: 0.16301672160625458.   Elapsed: 0:02:31.\n",
            "0:  RegJim: So, it was pretty clear that we were under no circumstances, let alone, ever, ever, ever talk about this. Pam: No it wasn't.  It wasn't.  It wasn't, wasn't. Jim: I know, I know.  I am. Pam: Really? Jim: Yes. Pam: I think you mean business related. Jim: Oh, hi, how are you? Pam: Hi.  Can I see you talking to Jan?\n"
          ]
        },
        {
          "name": "stderr",
          "output_type": "stream",
          "text": [
            "The attention mask and the pad token id were not set. As a consequence, you may observe unexpected behavior. Please pass your input's `attention_mask` to obtain reliable results.\n",
            "Setting `pad_token_id` to `eos_token_id`:50256 for open-end generation.\n"
          ]
        },
        {
          "name": "stdout",
          "output_type": "stream",
          "text": [
            "  Batch   600  of  1,210. Loss: 0.3218035399913788.   Elapsed: 0:03:02.\n",
            "0: olasMichael: Wow, I have never met anyone like that. Angela: I just met him when I was giving him the tour. Pam: Yes, of course, in our regular spot, he was the nice little guy and the tall, sweet, lawlady boy would have dressed up as somebody awful. Michael: Ok, so you met someone like that? Angela: I did. Michael: You didn't? Angela: No. Michael: Oh... wow, you met somebody like that in the office. Angela: I can't believe he did that.  He was very nice. Michael: How do you know that, right? Pam: I just asked Kevin and they said yes, so... Michael: Who?  Who, Karen? Karen: Oh, she. Michael: Come in.\n"
          ]
        },
        {
          "name": "stderr",
          "output_type": "stream",
          "text": [
            "The attention mask and the pad token id were not set. As a consequence, you may observe unexpected behavior. Please pass your input's `attention_mask` to obtain reliable results.\n",
            "Setting `pad_token_id` to `eos_token_id`:50256 for open-end generation.\n"
          ]
        },
        {
          "name": "stdout",
          "output_type": "stream",
          "text": [
            "  Batch   700  of  1,210. Loss: 0.3796946406364441.   Elapsed: 0:03:33.\n",
            "0:  responsesJim: Can you stop talking to her? Pam: What's going on? Jim: She's upset, she's always like that. Pam: Maybe a little bit, I don't know. Jim: Okay.\n"
          ]
        },
        {
          "name": "stderr",
          "output_type": "stream",
          "text": [
            "The attention mask and the pad token id were not set. As a consequence, you may observe unexpected behavior. Please pass your input's `attention_mask` to obtain reliable results.\n",
            "Setting `pad_token_id` to `eos_token_id`:50256 for open-end generation.\n"
          ]
        },
        {
          "name": "stdout",
          "output_type": "stream",
          "text": [
            "  Batch   800  of  1,210. Loss: 0.5661346316337585.   Elapsed: 0:04:03.\n",
            "0:  attendanceDwight: I'm gonna count down from five and you know what? I'm gonna count down from four and you know what? You're not gonna be able to hear me through the glass, okay? It's going to be ok.  Five, four, three, two, one... Michael: I'm counting down from five! Dwight:...I'm not going to count down from four! Michael: Yes you are. Dwight: No. Michael: Yes. Dwight: No. Michael: Yes. Dwight: No. Michael: Yes. Dwight: No. Michael: Yes. Dwight: I am closing a sales call with you. Michael: Alright.\n"
          ]
        },
        {
          "name": "stderr",
          "output_type": "stream",
          "text": [
            "The attention mask and the pad token id were not set. As a consequence, you may observe unexpected behavior. Please pass your input's `attention_mask` to obtain reliable results.\n",
            "Setting `pad_token_id` to `eos_token_id`:50256 for open-end generation.\n"
          ]
        },
        {
          "name": "stdout",
          "output_type": "stream",
          "text": [
            "  Batch   900  of  1,210. Loss: 0.20698653161525726.   Elapsed: 0:04:34.\n",
            "0:  rigidDarryl: Well, it   s true, I   ve been talking with a lot of different girls. Oscar: They   re all good. Ryan: Me too. Darryl: Hey, how are you, Oscar? Oscar: Oh, no, no, no, no. Roy: Oh, God, Roy. I want to say, you are so immature and little. Darryl: I hope so. That   s the thing. Life   s a    S     thing. Roy: Life is a   S   thing.\n"
          ]
        },
        {
          "name": "stderr",
          "output_type": "stream",
          "text": [
            "The attention mask and the pad token id were not set. As a consequence, you may observe unexpected behavior. Please pass your input's `attention_mask` to obtain reliable results.\n",
            "Setting `pad_token_id` to `eos_token_id`:50256 for open-end generation.\n"
          ]
        },
        {
          "name": "stdout",
          "output_type": "stream",
          "text": [
            "  Batch 1,000  of  1,210. Loss: 0.24606508016586304.   Elapsed: 0:05:04.\n",
            "0: groAndy: So I thought we should take a day off. We'll go to places like museums, historical monuments, elementary schools... Nellie: You will notice I have the whitewashed Buffalo Bill. Andy: Oh, damn it! Nellie: Oh, my God! Andy: The Buffalo Bill! Nellie: Oh, what a day we have! Andy: Well, I thought we could cover it with a story about the day the Bill died, but then that day went by so quickly I felt like I'd missed my turn. I came back to say 'No way!'. Well what if we did a story about the day the Bill died? Nellie: I have a feeling about that.\n"
          ]
        },
        {
          "name": "stderr",
          "output_type": "stream",
          "text": [
            "The attention mask and the pad token id were not set. As a consequence, you may observe unexpected behavior. Please pass your input's `attention_mask` to obtain reliable results.\n",
            "Setting `pad_token_id` to `eos_token_id`:50256 for open-end generation.\n"
          ]
        },
        {
          "name": "stdout",
          "output_type": "stream",
          "text": [
            "  Batch 1,100  of  1,210. Loss: 0.2313631772994995.   Elapsed: 0:05:35.\n",
            "0:  GreAndy: I'm in, like a rock opera, and I'm the hero. And the hero lives in this dystopian future and he flies around in a spaceship that's shaped like a treble clef. And he has to sing, but only the guy who's really the hero can sing. And if the music doesn't support that, he has to fight a war for it, and I have to pick a new hero and I'm the hero. And I'm the hero, and you're the hero. Right?\n"
          ]
        },
        {
          "name": "stderr",
          "output_type": "stream",
          "text": [
            "The attention mask and the pad token id were not set. As a consequence, you may observe unexpected behavior. Please pass your input's `attention_mask` to obtain reliable results.\n",
            "Setting `pad_token_id` to `eos_token_id`:50256 for open-end generation.\n"
          ]
        },
        {
          "name": "stdout",
          "output_type": "stream",
          "text": [
            "  Batch 1,200  of  1,210. Loss: 0.2678844928741455.   Elapsed: 0:06:06.\n",
            "0: uraDarryl: I was watching The Wire recently.  It   s all about murder.\n",
            "\n",
            "  Average training loss: 0.36\n",
            "  Training epoch took: 0:06:08\n",
            "\n",
            "Running Validation...\n",
            "  Validation Loss: 1.01\n",
            "  Validation took: 0:00:13\n",
            "\n",
            "======== Epoch 9 / 10 ========\n",
            "Training...\n"
          ]
        },
        {
          "name": "stderr",
          "output_type": "stream",
          "text": [
            "The attention mask and the pad token id were not set. As a consequence, you may observe unexpected behavior. Please pass your input's `attention_mask` to obtain reliable results.\n",
            "Setting `pad_token_id` to `eos_token_id`:50256 for open-end generation.\n"
          ]
        },
        {
          "name": "stdout",
          "output_type": "stream",
          "text": [
            "  Batch   100  of  1,210. Loss: 0.36478549242019653.   Elapsed: 0:00:30.\n",
            "0:  2020Jim: You down with that? Pam: That's the last of it.\n"
          ]
        },
        {
          "name": "stderr",
          "output_type": "stream",
          "text": [
            "The attention mask and the pad token id were not set. As a consequence, you may observe unexpected behavior. Please pass your input's `attention_mask` to obtain reliable results.\n",
            "Setting `pad_token_id` to `eos_token_id`:50256 for open-end generation.\n"
          ]
        },
        {
          "name": "stdout",
          "output_type": "stream",
          "text": [
            "  Batch   200  of  1,210. Loss: 0.3540381193161011.   Elapsed: 0:00:59.\n",
            "0:  chargingAndy: So... the cast is coming together in the name of Christmas. I'm gonna ask each of you to imagine a day that you did not work hard, in a day that you didn't have a good job. What color is Erin's eyes? Blood Girl: Hazel. Andy: How are her eyes? Blood Girl: Hazel. Andy: That's how it looks. Blood Girl: Mm-hmm. Andy: That is so great about Christmas. I'm actually going to ask each of you to one of those color words, to name it a color. Erin: Hazel. Andy: Huh? Blood Girl: She's dead. Andy: Huh, that's a lot of words. How are her eyes? Blood Girl: Uh, yeah. Andy: They're so light. Erin: Okay.\n"
          ]
        },
        {
          "name": "stderr",
          "output_type": "stream",
          "text": [
            "The attention mask and the pad token id were not set. As a consequence, you may observe unexpected behavior. Please pass your input's `attention_mask` to obtain reliable results.\n",
            "Setting `pad_token_id` to `eos_token_id`:50256 for open-end generation.\n"
          ]
        },
        {
          "name": "stdout",
          "output_type": "stream",
          "text": [
            "  Batch   300  of  1,210. Loss: 0.3707254230976105.   Elapsed: 0:01:30.\n",
            "0:  SarStanley: What's the hold? Stanley: Here you go! Dwight: Stanley! Come on! Get up! Get up! Get up! Stanley! Stanley: You okay? Andy: Hey, uh, I just wanted to say thanks again for all of the help with the investigation. Stanley: Thank you. You're welcome. Andy: You've been so nice! Stanley: Yeah.\n"
          ]
        },
        {
          "name": "stderr",
          "output_type": "stream",
          "text": [
            "The attention mask and the pad token id were not set. As a consequence, you may observe unexpected behavior. Please pass your input's `attention_mask` to obtain reliable results.\n",
            "Setting `pad_token_id` to `eos_token_id`:50256 for open-end generation.\n"
          ]
        },
        {
          "name": "stdout",
          "output_type": "stream",
          "text": [
            "  Batch   400  of  1,210. Loss: 0.18401506543159485.   Elapsed: 0:02:00.\n",
            "0:  JasAndy: I feel like a gremlin! Pam: Yeah. Andy: I feel like a prankster meeting someone. What did you think of this place? Kevin: Cool. Phyllis: What kinda place are you going to go? Stanley: I don't know, like at a party. Phyllis: What are you going to do?\n"
          ]
        },
        {
          "name": "stderr",
          "output_type": "stream",
          "text": [
            "The attention mask and the pad token id were not set. As a consequence, you may observe unexpected behavior. Please pass your input's `attention_mask` to obtain reliable results.\n",
            "Setting `pad_token_id` to `eos_token_id`:50256 for open-end generation.\n"
          ]
        },
        {
          "name": "stdout",
          "output_type": "stream",
          "text": [
            "  Batch   500  of  1,210. Loss: 0.3106345534324646.   Elapsed: 0:02:30.\n",
            "0:  permitPhyllis: The office is literally powered by thai food. Stanley: I bet it   s steam from the exploding moon.\n"
          ]
        },
        {
          "name": "stderr",
          "output_type": "stream",
          "text": [
            "The attention mask and the pad token id were not set. As a consequence, you may observe unexpected behavior. Please pass your input's `attention_mask` to obtain reliable results.\n",
            "Setting `pad_token_id` to `eos_token_id`:50256 for open-end generation.\n"
          ]
        },
        {
          "name": "stdout",
          "output_type": "stream",
          "text": [
            "  Batch   600  of  1,210. Loss: 0.2750902473926544.   Elapsed: 0:03:00.\n",
            "0:  AdministratorDwight: Oh, this party is wretched. Jim: Really? 'Cause there's always a chance. Dwight: Yeah. The food is gross. You can't even find enough food for a party of this size. Toby: Oh. Is this 'cause you work here, or... Jim: No. Toby: No. Dwight: Toby. Toby: Oh. Hey, what are you doing here? Jim: Oh, nothing. Dwight: That's ok. Let me just show you.  'Seasonal affect. A particular branch of Washington University.' Jim: Wait. You mean you're from Des Moines? Or is that 'cause of the snow? Dwight: No. No, they're actually at the buffalo club. You were there. Jim: No. Dwight: Next time you're there say 'Hey, what's going on?' They'll know you're from Des Moines. They'll know you're from there. That's all I know. Can I\n"
          ]
        },
        {
          "name": "stderr",
          "output_type": "stream",
          "text": [
            "The attention mask and the pad token id were not set. As a consequence, you may observe unexpected behavior. Please pass your input's `attention_mask` to obtain reliable results.\n",
            "Setting `pad_token_id` to `eos_token_id`:50256 for open-end generation.\n"
          ]
        },
        {
          "name": "stdout",
          "output_type": "stream",
          "text": [
            "  Batch   700  of  1,210. Loss: 0.20501799881458282.   Elapsed: 0:03:31.\n",
            "0:  EVENTSJim: How did you propose? Dwight: It was a prank on Pam, but she really nailed it.  Pam, could you come up here for a minute? I really need to talk to you in private. Jim: Oh, nice.  Now that you're here, let me just transfer you to Scranton. Dwight: I do not transfer.  Transfer. Jim: Ok, so, well, I've heard that one time before, when you recommended me to head up the branch. Dwight: Oh, that's what I thought.  Anyway, I was in your deal, so...\n"
          ]
        },
        {
          "name": "stderr",
          "output_type": "stream",
          "text": [
            "The attention mask and the pad token id were not set. As a consequence, you may observe unexpected behavior. Please pass your input's `attention_mask` to obtain reliable results.\n",
            "Setting `pad_token_id` to `eos_token_id`:50256 for open-end generation.\n"
          ]
        },
        {
          "name": "stdout",
          "output_type": "stream",
          "text": [
            "  Batch   800  of  1,210. Loss: 0.19128349423408508.   Elapsed: 0:04:02.\n",
            "0:  MentalJim: And I think that's gonna help. Is it possible that it is? Pam: What's it say? Jim: Uh, I think it   s on. So maybe it is. Pam: It says    action.\n"
          ]
        },
        {
          "name": "stderr",
          "output_type": "stream",
          "text": [
            "The attention mask and the pad token id were not set. As a consequence, you may observe unexpected behavior. Please pass your input's `attention_mask` to obtain reliable results.\n",
            "Setting `pad_token_id` to `eos_token_id`:50256 for open-end generation.\n"
          ]
        },
        {
          "name": "stdout",
          "output_type": "stream",
          "text": [
            "  Batch   900  of  1,210. Loss: 0.2659086585044861.   Elapsed: 0:04:32.\n",
            "0: idsKevin: So, you know Stacy, right? Creed: Right. Kevin: You two are great together. Creed: What's wrong with you?  Hey, hey, hey.\n"
          ]
        },
        {
          "name": "stderr",
          "output_type": "stream",
          "text": [
            "The attention mask and the pad token id were not set. As a consequence, you may observe unexpected behavior. Please pass your input's `attention_mask` to obtain reliable results.\n",
            "Setting `pad_token_id` to `eos_token_id`:50256 for open-end generation.\n"
          ]
        },
        {
          "name": "stdout",
          "output_type": "stream",
          "text": [
            "  Batch 1,000  of  1,210. Loss: 0.4105363190174103.   Elapsed: 0:05:01.\n",
            "0: ceansDwight: You cannot lie to me and hope for the right things. Well, I hope for the best.\n"
          ]
        },
        {
          "name": "stderr",
          "output_type": "stream",
          "text": [
            "The attention mask and the pad token id were not set. As a consequence, you may observe unexpected behavior. Please pass your input's `attention_mask` to obtain reliable results.\n",
            "Setting `pad_token_id` to `eos_token_id`:50256 for open-end generation.\n"
          ]
        },
        {
          "name": "stdout",
          "output_type": "stream",
          "text": [
            "  Batch 1,100  of  1,210. Loss: 0.24558021128177643.   Elapsed: 0:05:31.\n",
            "0:  geneticallyJim: All right. See you later. Dwight: You want to talk to me about something? Jim: No, no. Please do not. Dwight: You're too shy.\n"
          ]
        },
        {
          "name": "stderr",
          "output_type": "stream",
          "text": [
            "The attention mask and the pad token id were not set. As a consequence, you may observe unexpected behavior. Please pass your input's `attention_mask` to obtain reliable results.\n",
            "Setting `pad_token_id` to `eos_token_id`:50256 for open-end generation.\n"
          ]
        },
        {
          "name": "stdout",
          "output_type": "stream",
          "text": [
            "  Batch 1,200  of  1,210. Loss: 0.25152158737182617.   Elapsed: 0:06:01.\n",
            "0:  advicePam: Oh! You haven't seen this? Jim: Not from Karen. Pam: No, that's the thing. I'm on a call. Jim: Um... I'm on a call. What? Why not? Pam: You have this new phone. Jim: New phone. Pam: Yes, it's in the same exact way it was when you told me the news. Jim: Okay. Pam: But I didn't tell you the news. Jim: Nope. Pam: I didn't. Jim: I said... 'Hey, have you seen my cell phone device??' 'Yup, it's like an i-Pod only you will be able to play music.' 'Yup, it's like an i-Pod only you will be able to play music.' 'Yup, it's like an i-Pod only you will be able to play music.' Pam: I didn't... Jim: Pam... I didn't know that it existed\n",
            "\n",
            "  Average training loss: 0.30\n",
            "  Training epoch took: 0:06:05\n",
            "\n",
            "Running Validation...\n",
            "  Validation Loss: 1.07\n",
            "  Validation took: 0:00:13\n",
            "\n",
            "======== Epoch 10 / 10 ========\n",
            "Training...\n"
          ]
        },
        {
          "name": "stderr",
          "output_type": "stream",
          "text": [
            "The attention mask and the pad token id were not set. As a consequence, you may observe unexpected behavior. Please pass your input's `attention_mask` to obtain reliable results.\n",
            "Setting `pad_token_id` to `eos_token_id`:50256 for open-end generation.\n"
          ]
        },
        {
          "name": "stdout",
          "output_type": "stream",
          "text": [
            "  Batch   100  of  1,210. Loss: 0.17657196521759033.   Elapsed: 0:00:30.\n",
            "0:  incompletePhyllis: Hey guys. Jim: Hey, you're back. Phyllis: Yeah, yeah I'm really hungry. Jim: Why don't you just eat something? You know, like candy, or something. Phyllis: Why don't you just eat something? Jim: Hey, you guys, have you given any of them your meds? Pam: Hey, are you taking off early? Jim: No, I actually meditated.\n"
          ]
        },
        {
          "name": "stderr",
          "output_type": "stream",
          "text": [
            "The attention mask and the pad token id were not set. As a consequence, you may observe unexpected behavior. Please pass your input's `attention_mask` to obtain reliable results.\n",
            "Setting `pad_token_id` to `eos_token_id`:50256 for open-end generation.\n"
          ]
        },
        {
          "name": "stdout",
          "output_type": "stream",
          "text": [
            "  Batch   200  of  1,210. Loss: 0.21660271286964417.   Elapsed: 0:01:00.\n",
            "0: commentOscar: Hey guys. Cathy: Hi, Oscar. Oscar: All right, Cathy. Cathy: I wanted to introduce you to Ryan, the new face of corporate. Ryan: Oh, uh, I don't know, uh, from corporate. Cathy: What does 'we' have to look like to be our new boss? Ryan: Well, we have to make some good choices, okay? We can pay him to leave, or we can pay him to come back to us with dignity and honor. I don't care if any of us like to leave, I just don't think we need to make any changes. Erin:  Ryan: That's true, of course. We could just have him pick a card just for us. Cathy: Oh, great. Oscar: Okay, uh, does anyone need to take notes on these changes? Kevin: Wow, like, every single day. Erin: Wow, Ryan gets to go home and clean up after Erin.\n"
          ]
        },
        {
          "name": "stderr",
          "output_type": "stream",
          "text": [
            "The attention mask and the pad token id were not set. As a consequence, you may observe unexpected behavior. Please pass your input's `attention_mask` to obtain reliable results.\n",
            "Setting `pad_token_id` to `eos_token_id`:50256 for open-end generation.\n"
          ]
        },
        {
          "name": "stdout",
          "output_type": "stream",
          "text": [
            "  Batch   300  of  1,210. Loss: 0.18221217393875122.   Elapsed: 0:01:31.\n",
            "0:  pilotAndy: Hey! Erin: Andy, I think it would be really cool if I could go outside and talk to you about something. Andy: No, really not. Because I just feel like we could really get off the pot. Erin: I love you. You're the best! Andy: Thank you.\n"
          ]
        },
        {
          "name": "stderr",
          "output_type": "stream",
          "text": [
            "The attention mask and the pad token id were not set. As a consequence, you may observe unexpected behavior. Please pass your input's `attention_mask` to obtain reliable results.\n",
            "Setting `pad_token_id` to `eos_token_id`:50256 for open-end generation.\n"
          ]
        },
        {
          "name": "stdout",
          "output_type": "stream",
          "text": [
            "  Batch   400  of  1,210. Loss: 0.1681661754846573.   Elapsed: 0:02:01.\n",
            "0: gersPhyllis: I was thinking... Bob Vance: Who? Pam: Bob Vance, Vance Refrigeration. Bob Vance: I know, I know.  I know. Pam: Is there a Bob Vance: Who? Phyllis: Bob Vance, Vance Refrigeration.\n"
          ]
        },
        {
          "name": "stderr",
          "output_type": "stream",
          "text": [
            "The attention mask and the pad token id were not set. As a consequence, you may observe unexpected behavior. Please pass your input's `attention_mask` to obtain reliable results.\n",
            "Setting `pad_token_id` to `eos_token_id`:50256 for open-end generation.\n"
          ]
        },
        {
          "name": "stdout",
          "output_type": "stream",
          "text": [
            "  Batch   500  of  1,210. Loss: 0.2844600975513458.   Elapsed: 0:02:31.\n",
            "0:  mutationRobert: Hey. I missed you. Nellie: Oh, here you go. Smith, these are my keys. Take 'em. Push 'em. Stanley: Here you go. Nellie: Oh. Stanley:  Nellie: It appears you need to speak to Nellie, the office will be here at 9 A.M. today. Push 'em. Stanley: Yes! Nellie: Whoo!\n"
          ]
        },
        {
          "name": "stderr",
          "output_type": "stream",
          "text": [
            "The attention mask and the pad token id were not set. As a consequence, you may observe unexpected behavior. Please pass your input's `attention_mask` to obtain reliable results.\n",
            "Setting `pad_token_id` to `eos_token_id`:50256 for open-end generation.\n"
          ]
        },
        {
          "name": "stdout",
          "output_type": "stream",
          "text": [
            "  Batch   600  of  1,210. Loss: 0.2258647382259369.   Elapsed: 0:03:02.\n",
            "0:  DriverAndy: Hey. Jim: Hey. Andy: Just trying to catch you guys... Jim: Not enough though, what's that? Oh. I got a Woody. So you just want me to be with you guys instead of Andy and Phyllis? Andy: Wha? That's not a good idea. Phyllis: No it's not, it's better than this. Andy: T-No. I mean I promise I'll be there.  Hey-oh! Hey! What are you guys doing here? We're going to go buy a Chrysler tomorrow night. We're going to go caroling in the rain. And you're going to go to a good time. And you're going to get high and it's going to be awesome. And I know you have my information so... Andy: Well I guess we'll just take him for a short break. Jim: Well, you know I know everything about this guy right? I mean, it's\n"
          ]
        },
        {
          "name": "stderr",
          "output_type": "stream",
          "text": [
            "The attention mask and the pad token id were not set. As a consequence, you may observe unexpected behavior. Please pass your input's `attention_mask` to obtain reliable results.\n",
            "Setting `pad_token_id` to `eos_token_id`:50256 for open-end generation.\n"
          ]
        },
        {
          "name": "stdout",
          "output_type": "stream",
          "text": [
            "  Batch   700  of  1,210. Loss: 0.4212130904197693.   Elapsed: 0:03:33.\n",
            "0: itiAngela: There he is. Dwight: Thank you. Angela: Where are you going? Dwight: You haven   t told anyone here about the trip yet. Angela: Well, I was hoping to but it   s a surprise. Dwight: Monkey  s on a catamaran. Angela: Maybe.\n"
          ]
        },
        {
          "name": "stderr",
          "output_type": "stream",
          "text": [
            "The attention mask and the pad token id were not set. As a consequence, you may observe unexpected behavior. Please pass your input's `attention_mask` to obtain reliable results.\n",
            "Setting `pad_token_id` to `eos_token_id`:50256 for open-end generation.\n"
          ]
        },
        {
          "name": "stdout",
          "output_type": "stream",
          "text": [
            "  Batch   800  of  1,210. Loss: 0.48561906814575195.   Elapsed: 0:04:03.\n",
            "0: fffHannah: I'd like to invite you all to come away with me. Erin: Oh! Ryan! Ryan: Hey, um, it's freezing out here. Erin: Oh, yeah, thanks. Ryan: I'll get it in the car.\n"
          ]
        },
        {
          "name": "stderr",
          "output_type": "stream",
          "text": [
            "The attention mask and the pad token id were not set. As a consequence, you may observe unexpected behavior. Please pass your input's `attention_mask` to obtain reliable results.\n",
            "Setting `pad_token_id` to `eos_token_id`:50256 for open-end generation.\n"
          ]
        },
        {
          "name": "stdout",
          "output_type": "stream",
          "text": [
            "  Batch   900  of  1,210. Loss: 0.38162368535995483.   Elapsed: 0:04:33.\n",
            "0: riminationMichael: What you doing in your free time? Pam: I just checking out my present. Michael: You know what?  I'm thinking, you know, just throw it on the table and then we'll break it up. Jim: Yeah, I don't know what you're gonna do.  I mean, you know this is a first for me. Michael: Yeah, no, no, no, no.  Come on.  We have a lot to learn from each other. Jim: Course we'll break up. Michael: You think that's a good idea? Jim: Yeah, I think that's a good idea. Michael: Excellent. Pam: Hey!  What did you say about this bonus? Jim: I... I'm not gonna make this... Michael: Say it. Pam: What? Jim: Nothing, just doing my work.  All I had to do was think about it. Michael: OK.\n"
          ]
        },
        {
          "name": "stderr",
          "output_type": "stream",
          "text": [
            "The attention mask and the pad token id were not set. As a consequence, you may observe unexpected behavior. Please pass your input's `attention_mask` to obtain reliable results.\n",
            "Setting `pad_token_id` to `eos_token_id`:50256 for open-end generation.\n"
          ]
        },
        {
          "name": "stdout",
          "output_type": "stream",
          "text": [
            "  Batch 1,000  of  1,210. Loss: 0.19675612449645996.   Elapsed: 0:05:04.\n",
            "0: aqueMichael: Who is ready for dinner? Anyone? Pam: I bet he brought some balloons. Michael: Do you think he brought balloons? Anyone? Dwight: Me, too. Michael: On more week. Ready? Pam: Yeah. I am so ready. Michael: Ready? Come on. Let's do this! Come on, come on. Dwight: Michael. Michael: Ready? We can do this. Dwight: Michael, wait! Michael: No, we can't do this. Dwight: Go, go, go, go. Michael: Go, go, go! Dwight: Ready? Michael: Go, go, go! Dwight: Ready?\n"
          ]
        },
        {
          "name": "stderr",
          "output_type": "stream",
          "text": [
            "The attention mask and the pad token id were not set. As a consequence, you may observe unexpected behavior. Please pass your input's `attention_mask` to obtain reliable results.\n",
            "Setting `pad_token_id` to `eos_token_id`:50256 for open-end generation.\n"
          ]
        },
        {
          "name": "stdout",
          "output_type": "stream",
          "text": [
            "  Batch 1,100  of  1,210. Loss: 0.34249240159988403.   Elapsed: 0:05:35.\n",
            "0: leePam: This isn't funny. Jim: It's totally unrealistic. Pam: What are you talking about? Jim: Nothing, I just think you look terrible at your job.\n"
          ]
        },
        {
          "name": "stderr",
          "output_type": "stream",
          "text": [
            "The attention mask and the pad token id were not set. As a consequence, you may observe unexpected behavior. Please pass your input's `attention_mask` to obtain reliable results.\n",
            "Setting `pad_token_id` to `eos_token_id`:50256 for open-end generation.\n"
          ]
        },
        {
          "name": "stdout",
          "output_type": "stream",
          "text": [
            "  Batch 1,200  of  1,210. Loss: 0.20668895542621613.   Elapsed: 0:06:05.\n",
            "0:  AlzheimerMichael: Okay, Dwight. You don't know anything about this, other than that I am an idiot, so let's just go. Dwight: Fine. I will grant you one wish. That is that I will grant you two wishes. I will make you an attaboy and love you, and maybe I will make you a copycat.  And maybe I will make you a copy of the Friday Fly.  Let's go.\n",
            "\n",
            "  Average training loss: 0.26\n",
            "  Training epoch took: 0:06:08\n",
            "\n",
            "Running Validation...\n",
            "  Validation Loss: 1.11\n",
            "  Validation took: 0:00:13\n",
            "\n",
            "Training complete!\n",
            "Total training took 1:03:27 (h:mm:ss)\n"
          ]
        }
      ],
      "source": [
        "total_t0 = time.time()\n",
        "\n",
        "training_stats = []\n",
        "\n",
        "model = model.to(device)\n",
        "\n",
        "for epoch_i in range(0, epochs):\n",
        "\n",
        "    # ========================================\n",
        "    #               Training\n",
        "    # ========================================\n",
        "\n",
        "    print(\"\")\n",
        "    print('======== Epoch {:} / {:} ========'.format(epoch_i + 1, epochs))\n",
        "    print('Training...')\n",
        "\n",
        "    t0 = time.time()\n",
        "\n",
        "    total_train_loss = 0\n",
        "\n",
        "    model.train()\n",
        "\n",
        "    for step, batch in enumerate(train_dataloader):\n",
        "\n",
        "        b_input_ids = batch[0].to(device)\n",
        "        b_labels = batch[0].to(device)\n",
        "        b_masks = batch[1].to(device)\n",
        "\n",
        "        model.zero_grad()        \n",
        "\n",
        "        outputs = model(  b_input_ids,\n",
        "                          labels=b_labels, \n",
        "                          attention_mask = b_masks,\n",
        "                          token_type_ids=None\n",
        "                        )\n",
        "\n",
        "        loss = outputs[0]  \n",
        "\n",
        "        batch_loss = loss.item()\n",
        "        total_train_loss += batch_loss\n",
        "\n",
        "        # Get sample every x batches.\n",
        "        if step % sample_every == 0 and not step == 0:\n",
        "\n",
        "            elapsed = format_time(time.time() - t0)\n",
        "            print('  Batch {:>5,}  of  {:>5,}. Loss: {:>5,}.   Elapsed: {:}.'.format(step, len(train_dataloader), batch_loss, elapsed))\n",
        "\n",
        "            model.eval()\n",
        "\n",
        "            sample_outputs = model.generate(\n",
        "                                    bos_token_id=random.randint(1,30000),\n",
        "                                    do_sample=True,   \n",
        "                                    top_k=50, \n",
        "                                    max_length = 200,\n",
        "                                    top_p=0.95, \n",
        "                                    num_return_sequences=1\n",
        "                                )\n",
        "            for i, sample_output in enumerate(sample_outputs):\n",
        "                  print(\"{}: {}\".format(i, tokenizer.decode(sample_output, skip_special_tokens=True)))\n",
        "            \n",
        "            model.train()\n",
        "\n",
        "        loss.backward()\n",
        "\n",
        "        optimizer.step()\n",
        "\n",
        "        scheduler.step()\n",
        "\n",
        "    # Calculate the average loss over all of the batches.\n",
        "    avg_train_loss = total_train_loss / len(train_dataloader)       \n",
        "    \n",
        "    # Measure how long this epoch took.\n",
        "    training_time = format_time(time.time() - t0)\n",
        "\n",
        "    print(\"\")\n",
        "    print(\"  Average training loss: {0:.2f}\".format(avg_train_loss))\n",
        "    print(\"  Training epoch took: {:}\".format(training_time))\n",
        "        \n",
        "    # ========================================\n",
        "    #               Validation\n",
        "    # ========================================\n",
        "\n",
        "    print(\"\")\n",
        "    print(\"Running Validation...\")\n",
        "\n",
        "    t0 = time.time()\n",
        "\n",
        "    model.eval()\n",
        "\n",
        "    total_eval_loss = 0\n",
        "    nb_eval_steps = 0\n",
        "\n",
        "    # Evaluate data for one epoch\n",
        "    for batch in validation_dataloader:\n",
        "        \n",
        "        b_input_ids = batch[0].to(device)\n",
        "        b_labels = batch[0].to(device)\n",
        "        b_masks = batch[1].to(device)\n",
        "        \n",
        "        with torch.no_grad():        \n",
        "\n",
        "            outputs  = model(b_input_ids, \n",
        "#                            token_type_ids=None, \n",
        "                             attention_mask = b_masks,\n",
        "                            labels=b_labels)\n",
        "          \n",
        "            loss = outputs[0]  \n",
        "            \n",
        "        batch_loss = loss.item()\n",
        "        total_eval_loss += batch_loss        \n",
        "\n",
        "    avg_val_loss = total_eval_loss / len(validation_dataloader)\n",
        "    \n",
        "    validation_time = format_time(time.time() - t0)    \n",
        "\n",
        "    print(\"  Validation Loss: {0:.2f}\".format(avg_val_loss))\n",
        "    print(\"  Validation took: {:}\".format(validation_time))\n",
        "\n",
        "    # Record all statistics from this epoch.\n",
        "    training_stats.append(\n",
        "        {\n",
        "            'epoch': epoch_i + 1,\n",
        "            'Training Loss': avg_train_loss,\n",
        "            'Valid. Loss': avg_val_loss,\n",
        "            'Training Time': training_time,\n",
        "            'Validation Time': validation_time\n",
        "        }\n",
        "    )\n",
        "\n",
        "print(\"\")\n",
        "print(\"Training complete!\")\n",
        "print(\"Total training took {:} (h:mm:ss)\".format(format_time(time.time()-total_t0)))"
      ]
    },
    {
      "cell_type": "markdown",
      "metadata": {
        "id": "VQTvJ1vRP7u4"
      },
      "source": [
        "Let's view the summary of the training process."
      ]
    },
    {
      "cell_type": "code",
      "execution_count": 21,
      "metadata": {
        "colab": {
          "base_uri": "https://localhost:8080/",
          "height": 144
        },
        "id": "6O_NbXFGMukX",
        "outputId": "8cd1b38b-f419-4694-a154-01298a9ae53d"
      },
      "outputs": [
        {
          "data": {
            "text/html": [
              "<div>\n",
              "<style scoped>\n",
              "    .dataframe tbody tr th:only-of-type {\n",
              "        vertical-align: middle;\n",
              "    }\n",
              "\n",
              "    .dataframe tbody tr th {\n",
              "        vertical-align: top;\n",
              "    }\n",
              "\n",
              "    .dataframe thead th {\n",
              "        text-align: right;\n",
              "    }\n",
              "</style>\n",
              "<table border=\"1\" class=\"dataframe\">\n",
              "  <thead>\n",
              "    <tr style=\"text-align: right;\">\n",
              "      <th></th>\n",
              "      <th>Training Loss</th>\n",
              "      <th>Valid. Loss</th>\n",
              "      <th>Training Time</th>\n",
              "      <th>Validation Time</th>\n",
              "    </tr>\n",
              "    <tr>\n",
              "      <th>epoch</th>\n",
              "      <th></th>\n",
              "      <th></th>\n",
              "      <th></th>\n",
              "      <th></th>\n",
              "    </tr>\n",
              "  </thead>\n",
              "  <tbody>\n",
              "    <tr>\n",
              "      <th>1</th>\n",
              "      <td>1.037458</td>\n",
              "      <td>0.749826</td>\n",
              "      <td>0:06:07</td>\n",
              "      <td>0:00:13</td>\n",
              "    </tr>\n",
              "    <tr>\n",
              "      <th>2</th>\n",
              "      <td>0.743262</td>\n",
              "      <td>0.754017</td>\n",
              "      <td>0:06:09</td>\n",
              "      <td>0:00:13</td>\n",
              "    </tr>\n",
              "    <tr>\n",
              "      <th>3</th>\n",
              "      <td>0.681466</td>\n",
              "      <td>0.770903</td>\n",
              "      <td>0:06:11</td>\n",
              "      <td>0:00:13</td>\n",
              "    </tr>\n",
              "    <tr>\n",
              "      <th>4</th>\n",
              "      <td>0.621123</td>\n",
              "      <td>0.795719</td>\n",
              "      <td>0:06:09</td>\n",
              "      <td>0:00:13</td>\n",
              "    </tr>\n",
              "    <tr>\n",
              "      <th>5</th>\n",
              "      <td>0.559227</td>\n",
              "      <td>0.839980</td>\n",
              "      <td>0:06:07</td>\n",
              "      <td>0:00:13</td>\n",
              "    </tr>\n",
              "    <tr>\n",
              "      <th>6</th>\n",
              "      <td>0.492878</td>\n",
              "      <td>0.893528</td>\n",
              "      <td>0:06:08</td>\n",
              "      <td>0:00:13</td>\n",
              "    </tr>\n",
              "    <tr>\n",
              "      <th>7</th>\n",
              "      <td>0.425741</td>\n",
              "      <td>0.951451</td>\n",
              "      <td>0:06:09</td>\n",
              "      <td>0:00:13</td>\n",
              "    </tr>\n",
              "    <tr>\n",
              "      <th>8</th>\n",
              "      <td>0.360312</td>\n",
              "      <td>1.013598</td>\n",
              "      <td>0:06:08</td>\n",
              "      <td>0:00:13</td>\n",
              "    </tr>\n",
              "    <tr>\n",
              "      <th>9</th>\n",
              "      <td>0.304607</td>\n",
              "      <td>1.069104</td>\n",
              "      <td>0:06:05</td>\n",
              "      <td>0:00:13</td>\n",
              "    </tr>\n",
              "    <tr>\n",
              "      <th>10</th>\n",
              "      <td>0.262333</td>\n",
              "      <td>1.109084</td>\n",
              "      <td>0:06:08</td>\n",
              "      <td>0:00:13</td>\n",
              "    </tr>\n",
              "  </tbody>\n",
              "</table>\n",
              "</div>"
            ],
            "text/plain": [
              "       Training Loss  Valid. Loss Training Time Validation Time\n",
              "epoch                                                          \n",
              "1           1.037458     0.749826       0:06:07         0:00:13\n",
              "2           0.743262     0.754017       0:06:09         0:00:13\n",
              "3           0.681466     0.770903       0:06:11         0:00:13\n",
              "4           0.621123     0.795719       0:06:09         0:00:13\n",
              "5           0.559227     0.839980       0:06:07         0:00:13\n",
              "6           0.492878     0.893528       0:06:08         0:00:13\n",
              "7           0.425741     0.951451       0:06:09         0:00:13\n",
              "8           0.360312     1.013598       0:06:08         0:00:13\n",
              "9           0.304607     1.069104       0:06:05         0:00:13\n",
              "10          0.262333     1.109084       0:06:08         0:00:13"
            ]
          },
          "execution_count": 21,
          "metadata": {},
          "output_type": "execute_result"
        }
      ],
      "source": [
        "# Display floats with two decimal places.\n",
        "#pd.set_option('precision', 2)\n",
        "\n",
        "# Create a DataFrame from our training statistics.\n",
        "df_stats = pd.DataFrame(data=training_stats)\n",
        "\n",
        "# Use the 'epoch' as the row index.\n",
        "df_stats = df_stats.set_index('epoch')\n",
        "\n",
        "# A hack to force the column headers to wrap.\n",
        "#df = df.style.set_table_styles([dict(selector=\"th\",props=[('max-width', '70px')])])\n",
        "\n",
        "# Display the table.\n",
        "df_stats"
      ]
    },
    {
      "cell_type": "code",
      "execution_count": 22,
      "metadata": {
        "colab": {
          "base_uri": "https://localhost:8080/",
          "height": 427
        },
        "id": "68xreA9JAmG5",
        "outputId": "28452100-a93a-47e7-aee4-62abd6fa5c2d"
      },
      "outputs": [
        {
          "data": {
            "image/png": "[encoded data removed]",
            "text/plain": [
              "<Figure size 864x432 with 1 Axes>"
            ]
          },
          "metadata": {},
          "output_type": "display_data"
        }
      ],
      "source": [
        "# Use plot styling from seaborn.\n",
        "sns.set(style='darkgrid')\n",
        "\n",
        "# Increase the plot size and font size.\n",
        "sns.set(font_scale=1.5)\n",
        "plt.rcParams[\"figure.figsize\"] = (12,6)\n",
        "\n",
        "# Plot the learning curve.\n",
        "plt.plot(df_stats['Training Loss'], 'b-o', label=\"Training\")\n",
        "plt.plot(df_stats['Valid. Loss'], 'g-o', label=\"Validation\")\n",
        "\n",
        "# Label the plot.\n",
        "plt.title(\"Training & Validation Loss\")\n",
        "plt.xlabel(\"Epoch\")\n",
        "plt.ylabel(\"Loss\")\n",
        "plt.legend()\n",
        "plt.xticks([1, 2, 3, 4])\n",
        "\n",
        "plt.show()"
      ]
    },
    {
      "cell_type": "markdown",
      "metadata": {
        "id": "GfjYoa6WmkN6"
      },
      "source": [
        "# Display Model Info"
      ]
    },
    {
      "cell_type": "code",
      "execution_count": 23,
      "metadata": {
        "colab": {
          "base_uri": "https://localhost:8080/"
        },
        "id": "8PIiVlDYCtSq",
        "outputId": "4a25ab95-7804-4d59-89e9-c503df68a885"
      },
      "outputs": [
        {
          "name": "stdout",
          "output_type": "stream",
          "text": [
            "The GPT-2 model has 148 different named parameters.\n",
            "\n",
            "==== Embedding Layer ====\n",
            "\n",
            "transformer.wte.weight                                  (50259, 768)\n",
            "transformer.wpe.weight                                   (1024, 768)\n",
            "\n",
            "==== First Transformer ====\n",
            "\n",
            "transformer.h.0.ln_1.weight                                   (768,)\n",
            "transformer.h.0.ln_1.bias                                     (768,)\n",
            "transformer.h.0.attn.c_attn.weight                       (768, 2304)\n",
            "transformer.h.0.attn.c_attn.bias                             (2304,)\n",
            "transformer.h.0.attn.c_proj.weight                        (768, 768)\n",
            "transformer.h.0.attn.c_proj.bias                              (768,)\n",
            "transformer.h.0.ln_2.weight                                   (768,)\n",
            "transformer.h.0.ln_2.bias                                     (768,)\n",
            "transformer.h.0.mlp.c_fc.weight                          (768, 3072)\n",
            "transformer.h.0.mlp.c_fc.bias                                (3072,)\n",
            "transformer.h.0.mlp.c_proj.weight                        (3072, 768)\n",
            "transformer.h.0.mlp.c_proj.bias                               (768,)\n",
            "\n",
            "==== Output Layer ====\n",
            "\n",
            "transformer.ln_f.weight                                       (768,)\n",
            "transformer.ln_f.bias                                         (768,)\n"
          ]
        }
      ],
      "source": [
        "# Get all of the model's parameters as a list of tuples.\n",
        "params = list(model.named_parameters())\n",
        "\n",
        "print('The GPT-2 model has {:} different named parameters.\\n'.format(len(params)))\n",
        "\n",
        "print('==== Embedding Layer ====\\n')\n",
        "\n",
        "for p in params[0:2]:\n",
        "    print(\"{:<55} {:>12}\".format(p[0], str(tuple(p[1].size()))))\n",
        "\n",
        "print('\\n==== First Transformer ====\\n')\n",
        "\n",
        "for p in params[2:14]:\n",
        "    print(\"{:<55} {:>12}\".format(p[0], str(tuple(p[1].size()))))\n",
        "\n",
        "print('\\n==== Output Layer ====\\n')\n",
        "\n",
        "for p in params[-2:]:\n",
        "    print(\"{:<55} {:>12}\".format(p[0], str(tuple(p[1].size()))))"
      ]
    },
    {
      "cell_type": "markdown",
      "metadata": {
        "id": "q2079Qyn8Mt8"
      },
      "source": [
        "# Saving & Loading Fine-Tuned Model\n"
      ]
    },
    {
      "cell_type": "code",
      "execution_count": 24,
      "metadata": {
        "colab": {
          "base_uri": "https://localhost:8080/",
          "height": 218
        },
        "id": "6ulTWaOr8QNY",
        "outputId": "88b0b93e-3024-42ab-d9a9-38324f69d704"
      },
      "outputs": [
        {
          "name": "stdout",
          "output_type": "stream",
          "text": [
            "Saving model to ./model_save/\n"
          ]
        },
        {
          "data": {
            "text/plain": [
              "('./model_save/tokenizer_config.json',\n",
              " './model_save/special_tokens_map.json',\n",
              " './model_save/vocab.json',\n",
              " './model_save/merges.txt',\n",
              " './model_save/added_tokens.json')"
            ]
          },
          "execution_count": 24,
          "metadata": {},
          "output_type": "execute_result"
        }
      ],
      "source": [
        "# Saving best-practices: if you use defaults names for the model, you can reload it using from_pretrained()\n",
        "\n",
        "output_dir = './model_save/'\n",
        "\n",
        "# Create output directory if needed\n",
        "if not os.path.exists(output_dir):\n",
        "    os.makedirs(output_dir)\n",
        "\n",
        "print(\"Saving model to %s\" % output_dir)\n",
        "\n",
        "# Save a trained model, configuration and tokenizer using `save_pretrained()`.\n",
        "# They can then be reloaded using `from_pretrained()`\n",
        "model_to_save = model.module if hasattr(model, 'module') else model  # Take care of distributed/parallel training\n",
        "model_to_save.save_pretrained(output_dir)\n",
        "tokenizer.save_pretrained(output_dir)\n",
        "\n",
        "# Good practice: save your training arguments together with the trained model\n",
        "#torch.save(args, os.path.join(output_dir, 'training_args.bin'))\n"
      ]
    },
    {
      "cell_type": "code",
      "execution_count": 57,
      "metadata": {
        "colab": {
          "base_uri": "https://localhost:8080/"
        },
        "id": "cVBbURBRix8j",
        "outputId": "4193d81b-4307-41f3-aa18-cb96c4c4d6b6"
      },
      "outputs": [
        {
          "name": "stdout",
          "output_type": "stream",
          "text": [
            "/bin/bash: whereami: command not found\n"
          ]
        }
      ],
      "source": [
        "!whereami"
      ]
    },
    {
      "cell_type": "code",
      "execution_count": 49,
      "metadata": {
        "colab": {
          "base_uri": "https://localhost:8080/"
        },
        "id": "mqMzI3VTCZo5",
        "outputId": "f2221dcf-c620-4f0d-ee02-53a2daca3172"
      },
      "outputs": [
        {
          "name": "stdout",
          "output_type": "stream",
          "text": [
            "total 499888K\n",
            "-rw-r--r-- 1 root root      1K Mar  9 17:59 added_tokens.json\n",
            "-rw-r--r-- 1 root root      1K Mar  9 17:59 config.json\n",
            "-rw-r--r-- 1 root root      1K Mar  9 17:59 generation_config.json\n",
            "-rw-r--r-- 1 root root    446K Mar  9 17:59 merges.txt\n",
            "-rw-r--r-- 1 root root 498442K Mar  9 17:59 pytorch_model.bin\n",
            "-rw-r--r-- 1 root root      1K Mar  9 17:59 special_tokens_map.json\n",
            "-rw-r--r-- 1 root root      1K Mar  9 17:59 tokenizer_config.json\n",
            "-rw-r--r-- 1 root root    976K Mar  9 17:59 vocab.json\n"
          ]
        }
      ],
      "source": [
        "!ls -l --block-size=K ./model_save/"
      ]
    },
    {
      "cell_type": "code",
      "execution_count": 50,
      "metadata": {
        "colab": {
          "base_uri": "https://localhost:8080/"
        },
        "id": "-WUFUIQ8Cu8D",
        "outputId": "b7cde7b1-e7b5-48d2-d946-8af7af5e0a1a"
      },
      "outputs": [
        {
          "name": "stdout",
          "output_type": "stream",
          "text": [
            "-rw-r--r-- 1 root root 487M Mar  9 17:59 ./model_save/pytorch_model.bin\n"
          ]
        }
      ],
      "source": [
        "!ls -l --block-size=M ./model_save/pytorch_model.bin"
      ]
    },
    {
      "cell_type": "code",
      "execution_count": 51,
      "metadata": {
        "colab": {
          "base_uri": "https://localhost:8080/"
        },
        "id": "NxlZsafTC-V5",
        "outputId": "983d69c3-8186-42e1-8271-eaed896937d1"
      },
      "outputs": [
        {
          "name": "stdout",
          "output_type": "stream",
          "text": [
            "cp: missing destination file operand after './model_save/'\n",
            "Try 'cp --help' for more information.\n"
          ]
        }
      ],
      "source": [
        "# Copy the model files to a directory in your Google Drive.\n",
        "!cp -r ./model_save/ $data_dir\n",
        "\n",
        "# # Load a trained model and vocabulary that you have fine-tuned\n",
        "#model = GPT2LMHeadModel.from_pretrained(output_dir)\n",
        "#tokenizer = GPT2Tokenizer.from_pretrained(output_dir)\n",
        "#model.to(device)"
      ]
    },
    {
      "cell_type": "code",
      "execution_count": 25,
      "metadata": {
        "id": "-9zhc87ljk35"
      },
      "outputs": [],
      "source": [
        "torch.save(model.state_dict(), 'model.pth')"
      ]
    },
    {
      "cell_type": "markdown",
      "metadata": {
        "id": "ZLf6rbRglYhQ"
      },
      "source": [
        "# Generate Text"
      ]
    },
    {
      "cell_type": "code",
      "execution_count": 26,
      "metadata": {
        "colab": {
          "base_uri": "https://localhost:8080/"
        },
        "id": "v4XhewaV93-_",
        "outputId": "3d2db3b6-5af9-4606-a633-8ee702b2b628"
      },
      "outputs": [
        {
          "name": "stderr",
          "output_type": "stream",
          "text": [
            "The attention mask and the pad token id were not set. As a consequence, you may observe unexpected behavior. Please pass your input's `attention_mask` to obtain reliable results.\n",
            "Setting `pad_token_id` to `eos_token_id`:50256 for open-end generation.\n"
          ]
        },
        {
          "name": "stdout",
          "output_type": "stream",
          "text": [
            "tensor([[50257, 13256,    25]], device='cuda:0')\n",
            "0: Michael: Ok, let's put it this way.  A company can describe their internship as 'full of exciting experiences,' but in fact, what they're not telling you is that they only had one.  There's a lot more.  'A funhouse at night.  Offers high caliber acting.'  It's not hard to find an intern.  And that's a wave of yours.  Now, what, if I were you, who would write the internship, and I took it in another place, and I had to literally read the transcripts, or I would e-mail you e-mail you, and you would not understand what I was doing.\n",
            "\n",
            "\n",
            "1: Michael: Okay... oh, a... Holly: Oh, here he is. Michael: Here he is. This is his desk. He just loves his desk. Holly: I know. For who it is really, really, nice. Michael: It is his desk. Holly: I really think he would love that. Michael: Is he good at sales? Is he the best salesman I've ever seen? 'I say, I say, I say, I'll sit at your desk. Michael Scott Paper Company.' Holly: That is so sweet... Michael: Yeah! That's good.\n",
            "\n",
            "\n",
            "2: Michael: Why is everybody locked in the conference room?  As the boss? Dwight: That   s ridiculous. Michael: No, no, no, no, no.  Yes, it   s ridiculous, because you are the boss. Dwight: That   s not true. Michael: Well, then, why is everyone wearing their cell phones?  Is anyone   in the bathroom? Pam: In the kitchen? Michael: Yes, and if they had gotten high they would have gotten so caught in the glare.  That would have been a great night for us.  Being the boss is also a laughing matter. Stanley: That   s not true. Pam: Yes it is. Michael: Yes it is, because you are the boss and all those who work in the warehouse are unprofessional.  The only reason that you are unprofessional is because you have been making us manager for such a long ti-- Ryan: A few years ago when you were the manager you did an incredible job. Michael: A few years ago when you were taking our clients out to lunch at the urinals and then when you changed your mind and you were the boss you did an amazing job.  I just thought that maybe by doing something a little bit different I could get my foot in the door.  I just sorta had a little bit of a problem with the new manager and I-- Dwight: He   s right.  He is right.  The only reason that you are the boss is because you have been making us manager for such a long ti-- Michael: Do you understand what you   re saying? Phyllis: You have been in the office for a long ti-- Michael: What? Phyllis: I just-- Michael: Do you think that anyone has had a chance to do something a little bit different? Pam: Hmm. Michael: Any chance at all to change our-- Jim: Yes.\n",
            "\n",
            "\n"
          ]
        }
      ],
      "source": [
        "model.eval()\n",
        "\n",
        "prompt = \"<|startoftext|>Michael:\"\n",
        "\n",
        "generated = torch.tensor(tokenizer.encode(prompt)).unsqueeze(0)\n",
        "generated = generated.to(device)\n",
        "\n",
        "print(generated)\n",
        "\n",
        "sample_outputs = model.generate(\n",
        "                                generated, \n",
        "                                #bos_token_id=random.randint(1,30000),\n",
        "                                do_sample=True,   \n",
        "                                top_k=50, \n",
        "                                max_length = 500,\n",
        "                                top_p=0.95, \n",
        "                                num_return_sequences=3\n",
        "                                )\n",
        "\n",
        "for i, sample_output in enumerate(sample_outputs):\n",
        "  print(\"{}: {}\\n\\n\".format(i, tokenizer.decode(sample_output, skip_special_tokens=True)))"
      ]
    },
    {
      "cell_type": "markdown",
      "metadata": {
        "id": "t4LrX5H-0nAU"
      },
      "source": [
        "These aren't bad at all!\n"
      ]
    }
  ],
  "metadata": {
    "accelerator": "GPU",
    "colab": {
      "provenance": []
    },
    "gpuClass": "standard",
    "kernelspec": {
      "display_name": "Python 3 (ipykernel)",
      "language": "python",
      "name": "python3"
    },
    "language_info": {
      "codemirror_mode": {
        "name": "ipython",
        "version": 3
      },
      "file_extension": ".py",
      "mimetype": "text/x-python",
      "name": "python",
      "nbconvert_exporter": "python",
      "pygments_lexer": "ipython3",
      "version": "3.8.10"
    }
  },
  "nbformat": 4,
  "nbformat_minor": 0
}
