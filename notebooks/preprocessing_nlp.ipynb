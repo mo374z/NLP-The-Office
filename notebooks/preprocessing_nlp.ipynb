{
 "cells": [
  {
   "attachments": {},
   "cell_type": "markdown",
   "metadata": {},
   "source": [
    "# Preprocessing - \"The Office\" dataset\n",
    "This notebook aims to provide parameterizable functions to preprocess the \"The Office\" dataset for further NLP analysis. "
   ]
  },
  {
   "cell_type": "code",
   "execution_count": 2,
   "metadata": {},
   "outputs": [],
   "source": [
    "import numpy as np\n",
    "import pandas as pd\n",
    "\n",
    "import nltk\n",
    "from nltk.corpus import stopwords\n",
    "from nltk.tokenize import word_tokenize\n",
    "from nltk.stem.porter import PorterStemmer\n",
    "from nltk.stem import WordNetLemmatizer\n",
    "\n",
    "from sklearn.feature_extraction.text import CountVectorizer\n",
    "from sklearn.feature_extraction.text import TfidfVectorizer\n",
    "from sklearn.feature_extraction.text import HashingVectorizer\n",
    "\n",
    "\n",
    "PATH = \"../data/\"\n",
    "FILE = \"unmod_the-office-lines - scripts.csv\""
   ]
  },
  {
   "cell_type": "code",
   "execution_count": 3,
   "metadata": {},
   "outputs": [],
   "source": [
    "df = pd.read_csv(PATH+FILE, sep=\",\", index_col=\"id\")"
   ]
  },
  {
   "cell_type": "code",
   "execution_count": 4,
   "metadata": {},
   "outputs": [],
   "source": [
    "def extract_directorals(df):\n",
    "    # extract text from line_text in square brackets, put it in new column called \"directionals\", multiple square brackets will be extracted as a list\n",
    "    df[\"directionals\"] = df[\"line_text\"].str.extractall(r\"\\[(.*?)\\]\").unstack().apply(lambda x: \", \".join(x.dropna()), axis=1)\n",
    "    # delete the extracted text from line_text\n",
    "    df[\"line_text\"] = df[\"line_text\"].str.replace(r\"\\[(.*?)\\]\", \"\", regex=True).str.strip()\n",
    "    return df\n"
   ]
  },
  {
   "cell_type": "code",
   "execution_count": 5,
   "metadata": {},
   "outputs": [],
   "source": [
    "# bare string preprocessing\n",
    "def remove_punctuation(df):\n",
    "    return df[\"line_text\"].str.replace(r\"[^\\w\\s]\", \"\", regex=True)\n",
    "\n",
    "def normalize(df):\n",
    "    return df[\"line_text\"].apply(lambda x: x.lower())\n",
    "\n",
    "def segmentation(df):\n",
    "    return df[\"line_text\"].apply(lambda x: x.split(\" \"))"
   ]
  },
  {
   "cell_type": "code",
   "execution_count": 35,
   "metadata": {},
   "outputs": [],
   "source": [
    "# tokenization\n",
    "def tokenize(df):\n",
    "    return df[\"line_text\"].apply(lambda x: word_tokenize(x))\n",
    "\n",
    "def lemmatize(df):\n",
    "    wordnet_lemmatizer = WordNetLemmatizer()\n",
    "    # is working, but not very good results because of the simple speech of the characters\n",
    "    return df[\"line_text\"].apply(lambda x: \" \".join([wordnet_lemmatizer.lemmatize(word) for word in word_tokenize(x)]))\n",
    "\n",
    "def stem(df):\n",
    "    porter_stemmer = PorterStemmer()\n",
    "    return df[\"line_text\"].apply(lambda x: \" \".join([porter_stemmer.stem(word) for word in word_tokenize(x)]))\n",
    "\n",
    "def remove_stopwords(df):\n",
    "    stop_words = set(stopwords.words('english'))\n",
    "    return df[\"line_text\"].apply(lambda x: \" \".join([word for word in word_tokenize(x) if word not in stop_words]))\n",
    "\n",
    "# tagging\n",
    "def pos_tag(df):\n",
    "    return df[\"line_text\"].apply(lambda x: nltk.pos_tag(word_tokenize(x)))"
   ]
  },
  {
   "cell_type": "code",
   "execution_count": 7,
   "metadata": {},
   "outputs": [],
   "source": [
    "# feature extraction\n",
    "def extract_features(df, vectorizer):\n",
    "    if vectorizer == \"count\":\n",
    "        vectorizer = CountVectorizer() \n",
    "    elif vectorizer == \"tfidf\":\n",
    "        vectorizer = TfidfVectorizer()\n",
    "    elif vectorizer == \"hashing\":\n",
    "        vectorizer = HashingVectorizer()\n",
    "\n",
    "    result = vectorizer.fit_transform(df[\"line_text\"])\n",
    "    return result\n",
    "    "
   ]
  },
  {
   "cell_type": "code",
   "execution_count": null,
   "metadata": {},
   "outputs": [],
   "source": [
    "# TODO: make a function that sums all functions up and makes parametrized preprocessing easier\n",
    "# TODO: implement pipeline for preprocessing\n",
    "\n",
    "# ideas of possible preprocessing steps: https://medium.com/analytics-vidhya/nlp-preprocessing-pipeline-what-when-why-2fc808899d1f"
   ]
  },
  {
   "cell_type": "code",
   "execution_count": null,
   "metadata": {},
   "outputs": [],
   "source": [
    "# preprocessing\n",
    "df = extract_directorals(df)\n",
    "df[\"line_text\"] = remove_punctuation(df)\n",
    "df[\"line_text\"] = remove_stopwords(df)\n",
    "\n",
    "df[\"line_text\"] = lemmatize(df)\n",
    "\n",
    "# feature extraction\n",
    "feature_df = extract_features(df, \"count\")"
   ]
  },
  {
   "cell_type": "code",
   "execution_count": null,
   "metadata": {},
   "outputs": [],
   "source": [
    "# save the preprocessed data\n",
    "df.to_csv(PATH+\"preprocessed_\"+FILE, sep=\",\", index=True)\n",
    "feature_df.to_csv(PATH+\"feature_\"+FILE, sep=\",\", index=True)"
   ]
  }
 ],
 "metadata": {
  "kernelspec": {
   "display_name": "base",
   "language": "python",
   "name": "python3"
  },
  "language_info": {
   "codemirror_mode": {
    "name": "ipython",
    "version": 3
   },
   "file_extension": ".py",
   "mimetype": "text/x-python",
   "name": "python",
   "nbconvert_exporter": "python",
   "pygments_lexer": "ipython3",
   "version": "3.9.7"
  },
  "orig_nbformat": 4,
  "vscode": {
   "interpreter": {
    "hash": "d08bd1c3f8bce5cbee9b581e4183f55ee085546009e4ad69f297b57f92833616"
   }
  }
 },
 "nbformat": 4,
 "nbformat_minor": 2
}
