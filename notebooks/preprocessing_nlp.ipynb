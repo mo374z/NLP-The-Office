{
 "cells": [
  {
   "attachments": {},
   "cell_type": "markdown",
   "metadata": {},
   "source": [
    "# Preprocessing - \"The Office\" dataset\n",
    "This notebook aims to provide parameterizable functions to preprocess the \"The Office\" dataset for further NLP analysis. "
   ]
  },
  {
   "cell_type": "code",
   "execution_count": 1,
   "metadata": {},
   "outputs": [],
   "source": [
    "import pandas as pd\n",
    "\n",
    "PATH = \"../data/\"\n",
    "FILE = \"the-office-lines_scripts.csv\""
   ]
  },
  {
   "cell_type": "code",
   "execution_count": 2,
   "metadata": {},
   "outputs": [],
   "source": [
    "df = pd.read_csv(PATH+FILE, sep=\",\", index_col=\"id\")"
   ]
  },
  {
   "cell_type": "code",
   "execution_count": 3,
   "metadata": {},
   "outputs": [],
   "source": [
    "# Parameters\n",
    "param_dict = {\n",
    "    \"concat_scenes\": True,\n",
    "    \"extract_direc\": True, \n",
    "    \"remove_punct\": True, \n",
    "    \"rmv_stopwords\": True,\n",
    "    \"lwr\": True, \n",
    "    \n",
    "    \"exp_contractions\": True,\n",
    "    \"conversion\": \"tokenize\",\n",
    "    \"tokenizer\": (\"TreeBankWord\", True)\n",
    "}\n"
   ]
  },
  {
   "cell_type": "code",
   "execution_count": 4,
   "metadata": {},
   "outputs": [
    {
     "data": {
      "text/html": [
       "<div>\n",
       "<style scoped>\n",
       "    .dataframe tbody tr th:only-of-type {\n",
       "        vertical-align: middle;\n",
       "    }\n",
       "\n",
       "    .dataframe tbody tr th {\n",
       "        vertical-align: top;\n",
       "    }\n",
       "\n",
       "    .dataframe thead th {\n",
       "        text-align: right;\n",
       "    }\n",
       "</style>\n",
       "<table border=\"1\" class=\"dataframe\">\n",
       "  <thead>\n",
       "    <tr style=\"text-align: right;\">\n",
       "      <th></th>\n",
       "      <th>season</th>\n",
       "      <th>episode</th>\n",
       "      <th>scene</th>\n",
       "      <th>line_text</th>\n",
       "      <th>directionals</th>\n",
       "    </tr>\n",
       "  </thead>\n",
       "  <tbody>\n",
       "    <tr>\n",
       "      <th>0</th>\n",
       "      <td>1</td>\n",
       "      <td>1</td>\n",
       "      <td>1</td>\n",
       "      <td>[right, jim, quarterlies, look, good, things, library, oh, told, could, not, close, you, have, come, master, guidance, you, are, saying, grasshopper, actually, called, yeah, right, well, let, show, done]</td>\n",
       "      <td>NaN</td>\n",
       "    </tr>\n",
       "    <tr>\n",
       "      <th>1</th>\n",
       "      <td>1</td>\n",
       "      <td>1</td>\n",
       "      <td>2</td>\n",
       "      <td>[yes, id, like, speak, office, manager, please, yes, hello, michael_scott, regional_manager, dunder_mifflin, paper, products, wanted, talk, manageramanger, right, done, deal, thank, much, sir, you, are, gentleman, scholar, oh, i, am, sorry, ok, i, am, sorry, mistake, woman, talking, low, voice, probably, smoker, that, is, way, done]</td>\n",
       "      <td>on the phone, quick cut scene, hangs up, Clears throat</td>\n",
       "    </tr>\n",
       "    <tr>\n",
       "      <th>2</th>\n",
       "      <td>1</td>\n",
       "      <td>1</td>\n",
       "      <td>3</td>\n",
       "      <td>[i, have, uh, i, have, dunder_mifflin, 12, years, last, four, regional_manager, want, come, see, entire, floor, kingdom, far, eye, see, receptionist, pam, pam, pampam, pam_beesly, pam, us, forever, right, pam, well, do, not, know, think, she, is, cute, seen, couple, years, ago, messages, uh, yeah, fax, oh, pam, corporate, many, times, told, there, is, special, filing, cabinet, things, corporate, have, not, told, called, wastepaper, basket, look, look, face]</td>\n",
       "      <td>growls</td>\n",
       "    </tr>\n",
       "    <tr>\n",
       "      <th>3</th>\n",
       "      <td>1</td>\n",
       "      <td>1</td>\n",
       "      <td>4</td>\n",
       "      <td>[people, say, best, boss, go, god, we, have, never, worked, place, like, you, are, hilarious, get, best, us, think, pretty, much, sums, found, spencer, gifts]</td>\n",
       "      <td>shows the camera his WORLD'S BEST BOSS mug</td>\n",
       "    </tr>\n",
       "    <tr>\n",
       "      <th>4</th>\n",
       "      <td>1</td>\n",
       "      <td>1</td>\n",
       "      <td>5</td>\n",
       "      <td>[shall, play, pa, rum, pump, um, pum, gifts, pa, rum, pump, um, pum]</td>\n",
       "      <td>singing, Imitates heavy drumming, Imitates heavy drumming</td>\n",
       "    </tr>\n",
       "    <tr>\n",
       "      <th>...</th>\n",
       "      <td>...</td>\n",
       "      <td>...</td>\n",
       "      <td>...</td>\n",
       "      <td>...</td>\n",
       "      <td>...</td>\n",
       "    </tr>\n",
       "    <tr>\n",
       "      <th>8844</th>\n",
       "      <td>9</td>\n",
       "      <td>23</td>\n",
       "      <td>112</td>\n",
       "      <td>[seems, arbitrary, applied, job, company, hiring, took, desk, back, empty, matter, get, end, human, beings, miraculous, gift, make, place, home, let]</td>\n",
       "      <td>chuckles, standing with two cops</td>\n",
       "    </tr>\n",
       "    <tr>\n",
       "      <th>8845</th>\n",
       "      <td>9</td>\n",
       "      <td>23</td>\n",
       "      <td>113</td>\n",
       "      <td>[feel, lucky, got, chance, share, crummy, story, anyone, thinks, one, take, dump, paper, shredder, alone, sister, let, get, beer, sometime]</td>\n",
       "      <td>NaN</td>\n",
       "    </tr>\n",
       "    <tr>\n",
       "      <th>8846</th>\n",
       "      <td>9</td>\n",
       "      <td>23</td>\n",
       "      <td>114</td>\n",
       "      <td>[happy, filmed, remember, everyone, worked, paper, company, years, never, wrote, anything]</td>\n",
       "      <td>NaN</td>\n",
       "    </tr>\n",
       "    <tr>\n",
       "      <th>8847</th>\n",
       "      <td>9</td>\n",
       "      <td>23</td>\n",
       "      <td>115</td>\n",
       "      <td>[sold, paper, company, 12, years, job, speak, clients, phone, quantities, types, copier, paper, even, love, every, minute, everything, owe, job, stupid, wonderful, boring, amazing, job]</td>\n",
       "      <td>NaN</td>\n",
       "    </tr>\n",
       "    <tr>\n",
       "      <th>8848</th>\n",
       "      <td>9</td>\n",
       "      <td>23</td>\n",
       "      <td>116</td>\n",
       "      <td>[thought, weird, picked, us, make, documentary, think, ordinary, paper, company, like, dunder_mifflin, great, subject, documentary, lot, beauty, ordinary, things, kind, point]</td>\n",
       "      <td>NaN</td>\n",
       "    </tr>\n",
       "  </tbody>\n",
       "</table>\n",
       "<p>8849 rows × 5 columns</p>\n",
       "</div>"
      ],
      "text/plain": [
       "      season  episode  scene  \\\n",
       "0          1        1      1   \n",
       "1          1        1      2   \n",
       "2          1        1      3   \n",
       "3          1        1      4   \n",
       "4          1        1      5   \n",
       "...      ...      ...    ...   \n",
       "8844       9       23    112   \n",
       "8845       9       23    113   \n",
       "8846       9       23    114   \n",
       "8847       9       23    115   \n",
       "8848       9       23    116   \n",
       "\n",
       "                                                                                                                                                                                                                                                                                                                                                                                                                                                                          line_text  \\\n",
       "0                                                                                                                                                                                                                                                                       [right, jim, quarterlies, look, good, things, library, oh, told, could, not, close, you, have, come, master, guidance, you, are, saying, grasshopper, actually, called, yeah, right, well, let, show, done]   \n",
       "1                                                                                                                                    [yes, id, like, speak, office, manager, please, yes, hello, michael_scott, regional_manager, dunder_mifflin, paper, products, wanted, talk, manageramanger, right, done, deal, thank, much, sir, you, are, gentleman, scholar, oh, i, am, sorry, ok, i, am, sorry, mistake, woman, talking, low, voice, probably, smoker, that, is, way, done]   \n",
       "2     [i, have, uh, i, have, dunder_mifflin, 12, years, last, four, regional_manager, want, come, see, entire, floor, kingdom, far, eye, see, receptionist, pam, pam, pampam, pam_beesly, pam, us, forever, right, pam, well, do, not, know, think, she, is, cute, seen, couple, years, ago, messages, uh, yeah, fax, oh, pam, corporate, many, times, told, there, is, special, filing, cabinet, things, corporate, have, not, told, called, wastepaper, basket, look, look, face]   \n",
       "3                                                                                                                                                                                                                                                                                                                    [people, say, best, boss, go, god, we, have, never, worked, place, like, you, are, hilarious, get, best, us, think, pretty, much, sums, found, spencer, gifts]   \n",
       "4                                                                                                                                                                                                                                                                                                                                                                                                              [shall, play, pa, rum, pump, um, pum, gifts, pa, rum, pump, um, pum]   \n",
       "...                                                                                                                                                                                                                                                                                                                                                                                                                                                                             ...   \n",
       "8844                                                                                                                                                                                                                                                                                                                          [seems, arbitrary, applied, job, company, hiring, took, desk, back, empty, matter, get, end, human, beings, miraculous, gift, make, place, home, let]   \n",
       "8845                                                                                                                                                                                                                                                                                                                                    [feel, lucky, got, chance, share, crummy, story, anyone, thinks, one, take, dump, paper, shredder, alone, sister, let, get, beer, sometime]   \n",
       "8846                                                                                                                                                                                                                                                                                                                                                                                     [happy, filmed, remember, everyone, worked, paper, company, years, never, wrote, anything]   \n",
       "8847                                                                                                                                                                                                                                                                                      [sold, paper, company, 12, years, job, speak, clients, phone, quantities, types, copier, paper, even, love, every, minute, everything, owe, job, stupid, wonderful, boring, amazing, job]   \n",
       "8848                                                                                                                                                                                                                                                                                                [thought, weird, picked, us, make, documentary, think, ordinary, paper, company, like, dunder_mifflin, great, subject, documentary, lot, beauty, ordinary, things, kind, point]   \n",
       "\n",
       "                                                   directionals  \n",
       "0                                                           NaN  \n",
       "1        on the phone, quick cut scene, hangs up, Clears throat  \n",
       "2                                                        growls  \n",
       "3                    shows the camera his WORLD'S BEST BOSS mug  \n",
       "4     singing, Imitates heavy drumming, Imitates heavy drumming  \n",
       "...                                                         ...  \n",
       "8844                           chuckles, standing with two cops  \n",
       "8845                                                        NaN  \n",
       "8846                                                        NaN  \n",
       "8847                                                        NaN  \n",
       "8848                                                        NaN  \n",
       "\n",
       "[8849 rows x 5 columns]"
      ]
     },
     "execution_count": 4,
     "metadata": {},
     "output_type": "execute_result"
    }
   ],
   "source": [
    "from preprocessing_nlp import preprocess\n",
    "\n",
    "preprocessed_df = preprocess(df, **param_dict)\n",
    "\n",
    "pd.set_option(\"display.max_colwidth\", None)\n",
    "preprocessed_df"
   ]
  },
  {
   "cell_type": "code",
   "execution_count": 5,
   "metadata": {},
   "outputs": [
    {
     "data": {
      "text/plain": [
       "(59911, 20866)"
      ]
     },
     "execution_count": 5,
     "metadata": {},
     "output_type": "execute_result"
    }
   ],
   "source": [
    "from preprocessing_nlp import extract_features\n",
    "# feature extraction\n",
    "param_dict = {\n",
    "    \"concat_scenes\": False,\n",
    "    \"extract_direc\": False, \n",
    "    \"remove_punct\": True, \n",
    "    \"rmv_stopwords\": False,\n",
    "    \"lwr\": True, \n",
    "    \"exp_contractions\": True,\n",
    "    \"conversion\": \"lemmmatize\"\n",
    "}\n",
    "test = preprocess(df, **param_dict)\n",
    "feature_df = extract_features(df, \"count\")\n",
    "feature_df.shape"
   ]
  },
  {
   "cell_type": "code",
   "execution_count": 6,
   "metadata": {},
   "outputs": [],
   "source": [
    "# save the preprocessed data\n",
    "# df.to_csv(PATH+\"preprocessed_\"+FILE, sep=\",\", index=True)\n",
    "# feature_df.to_csv(PATH+\"feature_\"+FILE, sep=\",\", index=True)"
   ]
  }
 ],
 "metadata": {
  "kernelspec": {
   "display_name": "Python 3",
   "language": "python",
   "name": "python3"
  },
  "language_info": {
   "codemirror_mode": {
    "name": "ipython",
    "version": 3
   },
   "file_extension": ".py",
   "mimetype": "text/x-python",
   "name": "python",
   "nbconvert_exporter": "python",
   "pygments_lexer": "ipython3",
   "version": "3.10.10"
  },
  "orig_nbformat": 4,
  "vscode": {
   "interpreter": {
    "hash": "885d594eef47ba9d029fc86f8c38af7ec9523f1d4e741834c77e8fd404d0fae1"
   }
  }
 },
 "nbformat": 4,
 "nbformat_minor": 2
}
