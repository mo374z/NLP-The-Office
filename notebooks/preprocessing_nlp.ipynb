{
 "cells": [
  {
   "attachments": {},
   "cell_type": "markdown",
   "metadata": {},
   "source": [
    "# Preprocessing - \"The Office\" dataset\n",
    "This notebook aims to provide parameterizable functions to preprocess the \"The Office\" dataset for further NLP analysis. "
   ]
  },
  {
   "cell_type": "code",
   "execution_count": 1,
   "metadata": {},
   "outputs": [],
   "source": [
    "import pandas as pd\n",
    "\n",
    "PATH = \"../data/\"\n",
    "FILE = \"the-office-lines_scripts.csv\""
   ]
  },
  {
   "cell_type": "code",
   "execution_count": 2,
   "metadata": {},
   "outputs": [],
   "source": [
    "df = pd.read_csv(PATH+FILE, sep=\",\", index_col=\"id\")"
   ]
  },
  {
   "cell_type": "code",
   "execution_count": 3,
   "metadata": {},
   "outputs": [],
   "source": [
    "# Parameters\n",
    "param_dict = {\n",
    "    \"concat_scenes\": True,\n",
    "    \"extract_direc\": False, \n",
    "    \"rmv_stopwords\": True,\n",
    "    \n",
    "    \"exp_contractions\": True,\n",
    "    \"tokenizer\": (\"TreeBankWord\", True)\n",
    "}\n"
   ]
  },
  {
   "cell_type": "code",
   "execution_count": 4,
   "metadata": {},
   "outputs": [
    {
     "data": {
      "text/html": [
       "<div>\n",
       "<style scoped>\n",
       "    .dataframe tbody tr th:only-of-type {\n",
       "        vertical-align: middle;\n",
       "    }\n",
       "\n",
       "    .dataframe tbody tr th {\n",
       "        vertical-align: top;\n",
       "    }\n",
       "\n",
       "    .dataframe thead th {\n",
       "        text-align: right;\n",
       "    }\n",
       "</style>\n",
       "<table border=\"1\" class=\"dataframe\">\n",
       "  <thead>\n",
       "    <tr style=\"text-align: right;\">\n",
       "      <th></th>\n",
       "      <th>season</th>\n",
       "      <th>episode</th>\n",
       "      <th>scene</th>\n",
       "      <th>line_text</th>\n",
       "      <th>season_episode</th>\n",
       "    </tr>\n",
       "  </thead>\n",
       "  <tbody>\n",
       "    <tr>\n",
       "      <th>0</th>\n",
       "      <td>1</td>\n",
       "      <td>1</td>\n",
       "      <td>1</td>\n",
       "      <td>[ Michael ] : All right Jim . Your quarterlies look good . How things library ? [ Jim ] : Oh , I told . I could close . So ... [ Michael ] : So come master guidance ? Is saying , grasshopper ? [ Jim ] : Actually , called , yeah . [ Michael ] : All right . Well , let show done .</td>\n",
       "      <td>101</td>\n",
       "    </tr>\n",
       "    <tr>\n",
       "      <th>1</th>\n",
       "      <td>1</td>\n",
       "      <td>1</td>\n",
       "      <td>2</td>\n",
       "      <td>[ Michael ] : [ phone ] Yes , I would like speak office manager , please . Yes , hello . This Michael Scott . I Regional Manager Dunder Mifflin Paper Products . Just wanted talk manager-a-manger . [ quick cut scene ] All right . Done deal . Thank much , sir . You gentleman scholar . Oh , I sorry . OK . I sorry . My mistake . [ hangs ] That woman I talking , ... She low voice . Probably smoker , ... [ Clears throat ] So way done .</td>\n",
       "      <td>101</td>\n",
       "    </tr>\n",
       "    <tr>\n",
       "      <th>2</th>\n",
       "      <td>1</td>\n",
       "      <td>1</td>\n",
       "      <td>3</td>\n",
       "      <td>[ Michael ] : I , uh , I Dunder Mifflin 12 years , last four Regional Manager . If want come ... See entire floor . So kingdom , far eye see . This receptionist , Pam . Pam ! Pam-Pam ! Pam Beesly . Pam us ... forever . Right , Pam ? [ Pam ] : Well . I know . [ Michael ] : If think cute , seen couple years ago . [ growls ] [ Pam ] : What ? [ Michael ] : Any messages ? [ Pam ] : Uh , yeah . Just fax . [ Michael ] : Oh ! Pam , Corporate . How many times I told ? There special filing cabinet things corporate . [ Pam ] : You told . [ Michael ] : It called wastepaper basket ! Look ! Look face .</td>\n",
       "      <td>101</td>\n",
       "    </tr>\n",
       "    <tr>\n",
       "      <th>3</th>\n",
       "      <td>1</td>\n",
       "      <td>1</td>\n",
       "      <td>4</td>\n",
       "      <td>[ Michael ] : People say I best boss . They go , 'God never worked place like . You hilarious . ' 'And get best us . ' [ shows camera WORLD 'S BEST BOSS mug ] I think pretty much sums . I found Spencer Gifts .</td>\n",
       "      <td>101</td>\n",
       "    </tr>\n",
       "    <tr>\n",
       "      <th>4</th>\n",
       "      <td>1</td>\n",
       "      <td>1</td>\n",
       "      <td>5</td>\n",
       "      <td>[ Dwight ] : [ singing ] Shall I play ? Pa rum pump um pum [ Imitates heavy drumming ] I gifts . Pa rum pump um pum [ Imitates heavy drumming ]</td>\n",
       "      <td>101</td>\n",
       "    </tr>\n",
       "    <tr>\n",
       "      <th>...</th>\n",
       "      <td>...</td>\n",
       "      <td>...</td>\n",
       "      <td>...</td>\n",
       "      <td>...</td>\n",
       "      <td>...</td>\n",
       "    </tr>\n",
       "    <tr>\n",
       "      <th>8844</th>\n",
       "      <td>9</td>\n",
       "      <td>23</td>\n",
       "      <td>112</td>\n",
       "      <td>[ Creed ] : It seems arbitrary . I applied job company hiring . I took desk back empty . But [ chuckles ] matter get end , human beings miraculous gift make place home . [ standing two cops ] Let .</td>\n",
       "      <td>923</td>\n",
       "    </tr>\n",
       "    <tr>\n",
       "      <th>8845</th>\n",
       "      <td>9</td>\n",
       "      <td>23</td>\n",
       "      <td>113</td>\n",
       "      <td>[ Meredith ] : I feel lucky I got chance share crummy story anyone thinks one take dump paper shredder . You alone sister . Let get beer sometime .</td>\n",
       "      <td>923</td>\n",
       "    </tr>\n",
       "    <tr>\n",
       "      <th>8846</th>\n",
       "      <td>9</td>\n",
       "      <td>23</td>\n",
       "      <td>114</td>\n",
       "      <td>[ Phyllis ] : I happy filmed I remember everyone . I worked paper company years I never wrote anything .</td>\n",
       "      <td>923</td>\n",
       "    </tr>\n",
       "    <tr>\n",
       "      <th>8847</th>\n",
       "      <td>9</td>\n",
       "      <td>23</td>\n",
       "      <td>115</td>\n",
       "      <td>[ Jim ] : I sold paper company 12 years . My job speak clients phone quantities types copier paper . Even I love every minute , everything I , I owe job . This stupid wonderful boring amazing job .</td>\n",
       "      <td>923</td>\n",
       "    </tr>\n",
       "    <tr>\n",
       "      <th>8848</th>\n",
       "      <td>9</td>\n",
       "      <td>23</td>\n",
       "      <td>116</td>\n",
       "      <td>[ Pam ] : I thought weird picked us make documentary . But I think ordinary paper company like Dunder Mifflin great subject documentary . There lot beauty ordinary things . Isn kind point ?</td>\n",
       "      <td>923</td>\n",
       "    </tr>\n",
       "  </tbody>\n",
       "</table>\n",
       "<p>8849 rows × 5 columns</p>\n",
       "</div>"
      ],
      "text/plain": [
       "      season  episode  scene  \\\n",
       "0          1        1      1   \n",
       "1          1        1      2   \n",
       "2          1        1      3   \n",
       "3          1        1      4   \n",
       "4          1        1      5   \n",
       "...      ...      ...    ...   \n",
       "8844       9       23    112   \n",
       "8845       9       23    113   \n",
       "8846       9       23    114   \n",
       "8847       9       23    115   \n",
       "8848       9       23    116   \n",
       "\n",
       "                                                                                                                                                                                                                                                                                                                                                                                                                                                                                                                                                                                                                line_text  \\\n",
       "0                                                                                                                                                                                                                                                                                                                                  [ Michael ] : All right Jim . Your quarterlies look good . How things library ? [ Jim ] : Oh , I told . I could close . So ... [ Michael ] : So come master guidance ? Is saying , grasshopper ? [ Jim ] : Actually , called , yeah . [ Michael ] : All right . Well , let show done .   \n",
       "1                                                                                                                                                                       [ Michael ] : [ phone ] Yes , I would like speak office manager , please . Yes , hello . This Michael Scott . I Regional Manager Dunder Mifflin Paper Products . Just wanted talk manager-a-manger . [ quick cut scene ] All right . Done deal . Thank much , sir . You gentleman scholar . Oh , I sorry . OK . I sorry . My mistake . [ hangs ] That woman I talking , ... She low voice . Probably smoker , ... [ Clears throat ] So way done .   \n",
       "2     [ Michael ] : I , uh , I Dunder Mifflin 12 years , last four Regional Manager . If want come ... See entire floor . So kingdom , far eye see . This receptionist , Pam . Pam ! Pam-Pam ! Pam Beesly . Pam us ... forever . Right , Pam ? [ Pam ] : Well . I know . [ Michael ] : If think cute , seen couple years ago . [ growls ] [ Pam ] : What ? [ Michael ] : Any messages ? [ Pam ] : Uh , yeah . Just fax . [ Michael ] : Oh ! Pam , Corporate . How many times I told ? There special filing cabinet things corporate . [ Pam ] : You told . [ Michael ] : It called wastepaper basket ! Look ! Look face .   \n",
       "3                                                                                                                                                                                                                                                                                                                                                                                                       [ Michael ] : People say I best boss . They go , 'God never worked place like . You hilarious . ' 'And get best us . ' [ shows camera WORLD 'S BEST BOSS mug ] I think pretty much sums . I found Spencer Gifts .   \n",
       "4                                                                                                                                                                                                                                                                                                                                                                                                                                                                         [ Dwight ] : [ singing ] Shall I play ? Pa rum pump um pum [ Imitates heavy drumming ] I gifts . Pa rum pump um pum [ Imitates heavy drumming ]   \n",
       "...                                                                                                                                                                                                                                                                                                                                                                                                                                                                                                                                                                                                                   ...   \n",
       "8844                                                                                                                                                                                                                                                                                                                                                                                                                [ Creed ] : It seems arbitrary . I applied job company hiring . I took desk back empty . But [ chuckles ] matter get end , human beings miraculous gift make place home . [ standing two cops ] Let .   \n",
       "8845                                                                                                                                                                                                                                                                                                                                                                                                                                                                  [ Meredith ] : I feel lucky I got chance share crummy story anyone thinks one take dump paper shredder . You alone sister . Let get beer sometime .   \n",
       "8846                                                                                                                                                                                                                                                                                                                                                                                                                                                                                                             [ Phyllis ] : I happy filmed I remember everyone . I worked paper company years I never wrote anything .   \n",
       "8847                                                                                                                                                                                                                                                                                                                                                                                                                [ Jim ] : I sold paper company 12 years . My job speak clients phone quantities types copier paper . Even I love every minute , everything I , I owe job . This stupid wonderful boring amazing job .   \n",
       "8848                                                                                                                                                                                                                                                                                                                                                                                                                        [ Pam ] : I thought weird picked us make documentary . But I think ordinary paper company like Dunder Mifflin great subject documentary . There lot beauty ordinary things . Isn kind point ?   \n",
       "\n",
       "     season_episode  \n",
       "0               101  \n",
       "1               101  \n",
       "2               101  \n",
       "3               101  \n",
       "4               101  \n",
       "...             ...  \n",
       "8844            923  \n",
       "8845            923  \n",
       "8846            923  \n",
       "8847            923  \n",
       "8848            923  \n",
       "\n",
       "[8849 rows x 5 columns]"
      ]
     },
     "execution_count": 4,
     "metadata": {},
     "output_type": "execute_result"
    }
   ],
   "source": [
    "from preprocessing_nlp import preprocess\n",
    "\n",
    "preprocessed_df = preprocess(df, **param_dict)\n",
    "\n",
    "pd.set_option(\"display.max_colwidth\", None)\n",
    "preprocessed_df"
   ]
  },
  {
   "cell_type": "code",
   "execution_count": 7,
   "metadata": {},
   "outputs": [],
   "source": [
    "# save preprocessed data\n",
    "preprocessed_df.to_csv(PATH+\"preprocessed_for_modeling_\"+FILE, sep=\";\")"
   ]
  },
  {
   "cell_type": "code",
   "execution_count": 5,
   "metadata": {},
   "outputs": [
    {
     "data": {
      "text/plain": [
       "(59911, 20866)"
      ]
     },
     "execution_count": 5,
     "metadata": {},
     "output_type": "execute_result"
    }
   ],
   "source": [
    "from preprocessing_nlp import extract_features\n",
    "# feature extraction\n",
    "param_dict = {\n",
    "    \"concat_scenes\": False,\n",
    "    \"extract_direc\": False, \n",
    "    \"remove_punct\": True, \n",
    "    \"rmv_stopwords\": False,\n",
    "    \"lwr\": True, \n",
    "    \"exp_contractions\": True,\n",
    "    \"conversion\": \"lemmmatize\"\n",
    "}\n",
    "test = preprocess(df, **param_dict)\n",
    "feature_df = extract_features(df, \"count\")\n",
    "feature_df.shape"
   ]
  },
  {
   "cell_type": "code",
   "execution_count": 6,
   "metadata": {},
   "outputs": [],
   "source": [
    "# save the preprocessed data\n",
    "# df.to_csv(PATH+\"preprocessed_\"+FILE, sep=\",\", index=True)\n",
    "# feature_df.to_csv(PATH+\"feature_\"+FILE, sep=\",\", index=True)"
   ]
  }
 ],
 "metadata": {
  "kernelspec": {
   "display_name": "Python 3",
   "language": "python",
   "name": "python3"
  },
  "language_info": {
   "codemirror_mode": {
    "name": "ipython",
    "version": 3
   },
   "file_extension": ".py",
   "mimetype": "text/x-python",
   "name": "python",
   "nbconvert_exporter": "python",
   "pygments_lexer": "ipython3",
   "version": "3.9.7"
  },
  "orig_nbformat": 4,
  "vscode": {
   "interpreter": {
    "hash": "885d594eef47ba9d029fc86f8c38af7ec9523f1d4e741834c77e8fd404d0fae1"
   }
  }
 },
 "nbformat": 4,
 "nbformat_minor": 2
}
